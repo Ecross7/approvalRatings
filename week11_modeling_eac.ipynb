{
  "nbformat": 4,
  "nbformat_minor": 0,
  "metadata": {
    "colab": {
      "provenance": [],
      "collapsed_sections": [
        "hW5ZeCETSqok",
        "Sy-c4te_GjOw",
        "BDWadmXxaq5E",
        "QpA23GySatSp",
        "-uyEERu0U2zM",
        "QP9Pb6dmg0Oi",
        "o9O2ebW8S_1f",
        "aRZEmI6seM11",
        "coDVVNZc70Ja",
        "-mJDaMce5SIA",
        "ymiYeNRuTDlT"
      ]
    },
    "kernelspec": {
      "name": "python3",
      "display_name": "Python 3"
    },
    "language_info": {
      "name": "python"
    }
  },
  "cells": [
    {
      "cell_type": "markdown",
      "source": [
        "# DATA606 Week 8 & 9 & 10 - Modeling\n",
        "Team 2 UMBC Spring 2024"
      ],
      "metadata": {
        "id": "5ygQCC2HGjvw"
      }
    },
    {
      "cell_type": "code",
      "source": [
        "from google.colab import drive\n",
        "drive.mount('/content/drive')"
      ],
      "metadata": {
        "colab": {
          "base_uri": "https://localhost:8080/"
        },
        "id": "AbfLxkwCR3i6",
        "outputId": "c6906e08-ed7b-48c8-bd28-1ff2f16a4228"
      },
      "execution_count": null,
      "outputs": [
        {
          "output_type": "stream",
          "name": "stdout",
          "text": [
            "Drive already mounted at /content/drive; to attempt to forcibly remount, call drive.mount(\"/content/drive\", force_remount=True).\n"
          ]
        }
      ]
    },
    {
      "cell_type": "markdown",
      "source": [
        "### File imports"
      ],
      "metadata": {
        "id": "4IL9FgtsSHiv"
      }
    },
    {
      "cell_type": "code",
      "source": [
        "import pandas as pd\n",
        "import numpy as np\n",
        "from matplotlib import pyplot as plt\n",
        "\n",
        "from sklearn.compose import ColumnTransformer\n",
        "from sklearn.preprocessing import StandardScaler\n",
        "from sklearn.preprocessing import OneHotEncoder, LabelEncoder\n",
        "from sklearn.metrics import mean_squared_error, mean_absolute_error, r2_score\n",
        "from sklearn.pipeline import Pipeline\n",
        "from sklearn.model_selection import GridSearchCV\n",
        "from sklearn import set_config\n",
        "\n",
        "import xgboost as xgb\n",
        "import scipy.stats as stats\n",
        "\n",
        "#visuals\n",
        "import matplotlib.pyplot as plt\n",
        "import seaborn as sns\n",
        "from matplotlib import rcParams\n",
        "\n",
        "\n",
        "#model selection tools\n",
        "from sklearn.ensemble import VotingRegressor\n",
        "from sklearn.model_selection import RepeatedKFold\n",
        "from sklearn.model_selection import train_test_split\n",
        "from sklearn.model_selection import cross_val_predict, cross_val_score\n",
        "from sklearn.model_selection import KFold\n",
        "\n",
        "\n",
        "#models\n",
        "from sklearn.model_selection import train_test_split\n",
        "from sklearn.model_selection import cross_val_score\n",
        "from sklearn.cluster import KMeans\n",
        "from sklearn.cluster import AgglomerativeClustering\n",
        "from sklearn.tree import DecisionTreeRegressor\n",
        "from sklearn.linear_model import LinearRegression\n",
        "from sklearn.neighbors import KNeighborsRegressor\n",
        "from sklearn.ensemble import RandomForestRegressor\n",
        "from sklearn.svm import SVR\n",
        "from sklearn.linear_model import Ridge\n",
        "\n",
        "\n",
        "import warnings\n",
        "warnings.filterwarnings(action='ignore')"
      ],
      "metadata": {
        "id": "X44VWWCxBtpG"
      },
      "execution_count": null,
      "outputs": []
    },
    {
      "cell_type": "markdown",
      "source": [
        "## Data Transformation"
      ],
      "metadata": {
        "id": "hW5ZeCETSqok"
      }
    },
    {
      "cell_type": "markdown",
      "source": [
        "### Senator Approval Ratings and Demographic Data"
      ],
      "metadata": {
        "id": "G_E183t8SyA2"
      }
    },
    {
      "cell_type": "code",
      "execution_count": null,
      "metadata": {
        "id": "M6B_O6IoGgPL"
      },
      "outputs": [],
      "source": [
        "df = pd.read_csv('/content/drive/MyDrive/UMBC Fall 2023/DATA606 - Capstone/senator data/merged.csv',parse_dates=['birthday','start_date','end_date'])"
      ]
    },
    {
      "cell_type": "code",
      "source": [
        "df = df.rename(columns={'Emotion (Majority)': 'emotion_majority', 'Race (Majority)': 'race_majority', 'Valence (Mean)': 'valence_mean'})"
      ],
      "metadata": {
        "id": "wOls9WugZ6de"
      },
      "execution_count": null,
      "outputs": []
    },
    {
      "cell_type": "code",
      "source": [
        "df.dtypes"
      ],
      "metadata": {
        "colab": {
          "base_uri": "https://localhost:8080/"
        },
        "id": "W8RAH21IZUVG",
        "outputId": "90c5723d-7a98-466f-8a89-9cdab20f1636"
      },
      "execution_count": null,
      "outputs": [
        {
          "output_type": "execute_result",
          "data": {
            "text/plain": [
              "full_name                   object\n",
              "pct                        float64\n",
              "birthday            datetime64[ns]\n",
              "gender                      object\n",
              "party                       object\n",
              "senate_class               float64\n",
              "stage                       object\n",
              "cycle                        int64\n",
              "start_date          datetime64[ns]\n",
              "end_date            datetime64[ns]\n",
              "age                          int64\n",
              "emotion_majority            object\n",
              "race_majority               object\n",
              "valence_mean               float64\n",
              "dtype: object"
            ]
          },
          "metadata": {},
          "execution_count": 5
        }
      ]
    },
    {
      "cell_type": "code",
      "source": [
        "df"
      ],
      "metadata": {
        "id": "pOQlGdy4Gjl6",
        "colab": {
          "base_uri": "https://localhost:8080/",
          "height": 617
        },
        "outputId": "dd5c1859-e2fd-4b0e-908c-77fd267c38be"
      },
      "execution_count": null,
      "outputs": [
        {
          "output_type": "execute_result",
          "data": {
            "text/plain": [
              "             full_name   pct   birthday gender       party  senate_class  \\\n",
              "0        amy klobuchar  54.0 1960-05-25      F    Democrat           1.0   \n",
              "1        amy klobuchar  55.0 1960-05-25      F    Democrat           1.0   \n",
              "2        amy klobuchar  53.0 1960-05-25      F    Democrat           1.0   \n",
              "3        amy klobuchar  57.0 1960-05-25      F    Democrat           1.0   \n",
              "4        amy klobuchar  56.0 1960-05-25      F    Democrat           1.0   \n",
              "...                ...   ...        ...    ...         ...           ...   \n",
              "3030  tommy tuberville  50.0 1954-09-18      M  Republican           2.0   \n",
              "3031  tommy tuberville  47.0 1954-09-18      M  Republican           2.0   \n",
              "3032  tommy tuberville  49.7 1954-09-18      M  Republican           2.0   \n",
              "3033  tommy tuberville  55.0 1954-09-18      M  Republican           2.0   \n",
              "3034  tommy tuberville  54.0 1954-09-18      M  Republican           2.0   \n",
              "\n",
              "        stage  cycle start_date   end_date  age emotion_majority  \\\n",
              "0     general   2018 2018-10-15 2018-10-30   64            happy   \n",
              "1     general   2018 2018-11-02 2018-11-04   64            happy   \n",
              "2     general   2018 2018-11-01 2018-11-03   64            happy   \n",
              "3     general   2018 2018-10-29 2018-10-31   64            happy   \n",
              "4     general   2018 2018-10-15 2018-10-17   64            happy   \n",
              "...       ...    ...        ...        ...  ...              ...   \n",
              "3030  general   2020 2020-06-29 2020-07-02   70          neutral   \n",
              "3031  general   2020 2020-06-18 2020-06-22   70          neutral   \n",
              "3032  general   2020 2020-06-13 2020-06-16   70          neutral   \n",
              "3033  general   2020 2020-10-11 2020-10-14   70          neutral   \n",
              "3034  general   2020 2020-09-30 2020-10-03   70          neutral   \n",
              "\n",
              "     race_majority  valence_mean  \n",
              "0            white      26.80534  \n",
              "1            white      26.80534  \n",
              "2            white      26.80534  \n",
              "3            white      26.80534  \n",
              "4            white      26.80534  \n",
              "...            ...           ...  \n",
              "3030         white     -49.08704  \n",
              "3031         white     -49.08704  \n",
              "3032         white     -49.08704  \n",
              "3033         white     -49.08704  \n",
              "3034         white     -49.08704  \n",
              "\n",
              "[3035 rows x 14 columns]"
            ],
            "text/html": [
              "\n",
              "  <div id=\"df-f1093844-bbe3-4d2a-a19e-320e64258712\" class=\"colab-df-container\">\n",
              "    <div>\n",
              "<style scoped>\n",
              "    .dataframe tbody tr th:only-of-type {\n",
              "        vertical-align: middle;\n",
              "    }\n",
              "\n",
              "    .dataframe tbody tr th {\n",
              "        vertical-align: top;\n",
              "    }\n",
              "\n",
              "    .dataframe thead th {\n",
              "        text-align: right;\n",
              "    }\n",
              "</style>\n",
              "<table border=\"1\" class=\"dataframe\">\n",
              "  <thead>\n",
              "    <tr style=\"text-align: right;\">\n",
              "      <th></th>\n",
              "      <th>full_name</th>\n",
              "      <th>pct</th>\n",
              "      <th>birthday</th>\n",
              "      <th>gender</th>\n",
              "      <th>party</th>\n",
              "      <th>senate_class</th>\n",
              "      <th>stage</th>\n",
              "      <th>cycle</th>\n",
              "      <th>start_date</th>\n",
              "      <th>end_date</th>\n",
              "      <th>age</th>\n",
              "      <th>emotion_majority</th>\n",
              "      <th>race_majority</th>\n",
              "      <th>valence_mean</th>\n",
              "    </tr>\n",
              "  </thead>\n",
              "  <tbody>\n",
              "    <tr>\n",
              "      <th>0</th>\n",
              "      <td>amy klobuchar</td>\n",
              "      <td>54.0</td>\n",
              "      <td>1960-05-25</td>\n",
              "      <td>F</td>\n",
              "      <td>Democrat</td>\n",
              "      <td>1.0</td>\n",
              "      <td>general</td>\n",
              "      <td>2018</td>\n",
              "      <td>2018-10-15</td>\n",
              "      <td>2018-10-30</td>\n",
              "      <td>64</td>\n",
              "      <td>happy</td>\n",
              "      <td>white</td>\n",
              "      <td>26.80534</td>\n",
              "    </tr>\n",
              "    <tr>\n",
              "      <th>1</th>\n",
              "      <td>amy klobuchar</td>\n",
              "      <td>55.0</td>\n",
              "      <td>1960-05-25</td>\n",
              "      <td>F</td>\n",
              "      <td>Democrat</td>\n",
              "      <td>1.0</td>\n",
              "      <td>general</td>\n",
              "      <td>2018</td>\n",
              "      <td>2018-11-02</td>\n",
              "      <td>2018-11-04</td>\n",
              "      <td>64</td>\n",
              "      <td>happy</td>\n",
              "      <td>white</td>\n",
              "      <td>26.80534</td>\n",
              "    </tr>\n",
              "    <tr>\n",
              "      <th>2</th>\n",
              "      <td>amy klobuchar</td>\n",
              "      <td>53.0</td>\n",
              "      <td>1960-05-25</td>\n",
              "      <td>F</td>\n",
              "      <td>Democrat</td>\n",
              "      <td>1.0</td>\n",
              "      <td>general</td>\n",
              "      <td>2018</td>\n",
              "      <td>2018-11-01</td>\n",
              "      <td>2018-11-03</td>\n",
              "      <td>64</td>\n",
              "      <td>happy</td>\n",
              "      <td>white</td>\n",
              "      <td>26.80534</td>\n",
              "    </tr>\n",
              "    <tr>\n",
              "      <th>3</th>\n",
              "      <td>amy klobuchar</td>\n",
              "      <td>57.0</td>\n",
              "      <td>1960-05-25</td>\n",
              "      <td>F</td>\n",
              "      <td>Democrat</td>\n",
              "      <td>1.0</td>\n",
              "      <td>general</td>\n",
              "      <td>2018</td>\n",
              "      <td>2018-10-29</td>\n",
              "      <td>2018-10-31</td>\n",
              "      <td>64</td>\n",
              "      <td>happy</td>\n",
              "      <td>white</td>\n",
              "      <td>26.80534</td>\n",
              "    </tr>\n",
              "    <tr>\n",
              "      <th>4</th>\n",
              "      <td>amy klobuchar</td>\n",
              "      <td>56.0</td>\n",
              "      <td>1960-05-25</td>\n",
              "      <td>F</td>\n",
              "      <td>Democrat</td>\n",
              "      <td>1.0</td>\n",
              "      <td>general</td>\n",
              "      <td>2018</td>\n",
              "      <td>2018-10-15</td>\n",
              "      <td>2018-10-17</td>\n",
              "      <td>64</td>\n",
              "      <td>happy</td>\n",
              "      <td>white</td>\n",
              "      <td>26.80534</td>\n",
              "    </tr>\n",
              "    <tr>\n",
              "      <th>...</th>\n",
              "      <td>...</td>\n",
              "      <td>...</td>\n",
              "      <td>...</td>\n",
              "      <td>...</td>\n",
              "      <td>...</td>\n",
              "      <td>...</td>\n",
              "      <td>...</td>\n",
              "      <td>...</td>\n",
              "      <td>...</td>\n",
              "      <td>...</td>\n",
              "      <td>...</td>\n",
              "      <td>...</td>\n",
              "      <td>...</td>\n",
              "      <td>...</td>\n",
              "    </tr>\n",
              "    <tr>\n",
              "      <th>3030</th>\n",
              "      <td>tommy tuberville</td>\n",
              "      <td>50.0</td>\n",
              "      <td>1954-09-18</td>\n",
              "      <td>M</td>\n",
              "      <td>Republican</td>\n",
              "      <td>2.0</td>\n",
              "      <td>general</td>\n",
              "      <td>2020</td>\n",
              "      <td>2020-06-29</td>\n",
              "      <td>2020-07-02</td>\n",
              "      <td>70</td>\n",
              "      <td>neutral</td>\n",
              "      <td>white</td>\n",
              "      <td>-49.08704</td>\n",
              "    </tr>\n",
              "    <tr>\n",
              "      <th>3031</th>\n",
              "      <td>tommy tuberville</td>\n",
              "      <td>47.0</td>\n",
              "      <td>1954-09-18</td>\n",
              "      <td>M</td>\n",
              "      <td>Republican</td>\n",
              "      <td>2.0</td>\n",
              "      <td>general</td>\n",
              "      <td>2020</td>\n",
              "      <td>2020-06-18</td>\n",
              "      <td>2020-06-22</td>\n",
              "      <td>70</td>\n",
              "      <td>neutral</td>\n",
              "      <td>white</td>\n",
              "      <td>-49.08704</td>\n",
              "    </tr>\n",
              "    <tr>\n",
              "      <th>3032</th>\n",
              "      <td>tommy tuberville</td>\n",
              "      <td>49.7</td>\n",
              "      <td>1954-09-18</td>\n",
              "      <td>M</td>\n",
              "      <td>Republican</td>\n",
              "      <td>2.0</td>\n",
              "      <td>general</td>\n",
              "      <td>2020</td>\n",
              "      <td>2020-06-13</td>\n",
              "      <td>2020-06-16</td>\n",
              "      <td>70</td>\n",
              "      <td>neutral</td>\n",
              "      <td>white</td>\n",
              "      <td>-49.08704</td>\n",
              "    </tr>\n",
              "    <tr>\n",
              "      <th>3033</th>\n",
              "      <td>tommy tuberville</td>\n",
              "      <td>55.0</td>\n",
              "      <td>1954-09-18</td>\n",
              "      <td>M</td>\n",
              "      <td>Republican</td>\n",
              "      <td>2.0</td>\n",
              "      <td>general</td>\n",
              "      <td>2020</td>\n",
              "      <td>2020-10-11</td>\n",
              "      <td>2020-10-14</td>\n",
              "      <td>70</td>\n",
              "      <td>neutral</td>\n",
              "      <td>white</td>\n",
              "      <td>-49.08704</td>\n",
              "    </tr>\n",
              "    <tr>\n",
              "      <th>3034</th>\n",
              "      <td>tommy tuberville</td>\n",
              "      <td>54.0</td>\n",
              "      <td>1954-09-18</td>\n",
              "      <td>M</td>\n",
              "      <td>Republican</td>\n",
              "      <td>2.0</td>\n",
              "      <td>general</td>\n",
              "      <td>2020</td>\n",
              "      <td>2020-09-30</td>\n",
              "      <td>2020-10-03</td>\n",
              "      <td>70</td>\n",
              "      <td>neutral</td>\n",
              "      <td>white</td>\n",
              "      <td>-49.08704</td>\n",
              "    </tr>\n",
              "  </tbody>\n",
              "</table>\n",
              "<p>3035 rows × 14 columns</p>\n",
              "</div>\n",
              "    <div class=\"colab-df-buttons\">\n",
              "\n",
              "  <div class=\"colab-df-container\">\n",
              "    <button class=\"colab-df-convert\" onclick=\"convertToInteractive('df-f1093844-bbe3-4d2a-a19e-320e64258712')\"\n",
              "            title=\"Convert this dataframe to an interactive table.\"\n",
              "            style=\"display:none;\">\n",
              "\n",
              "  <svg xmlns=\"http://www.w3.org/2000/svg\" height=\"24px\" viewBox=\"0 -960 960 960\">\n",
              "    <path d=\"M120-120v-720h720v720H120Zm60-500h600v-160H180v160Zm220 220h160v-160H400v160Zm0 220h160v-160H400v160ZM180-400h160v-160H180v160Zm440 0h160v-160H620v160ZM180-180h160v-160H180v160Zm440 0h160v-160H620v160Z\"/>\n",
              "  </svg>\n",
              "    </button>\n",
              "\n",
              "  <style>\n",
              "    .colab-df-container {\n",
              "      display:flex;\n",
              "      gap: 12px;\n",
              "    }\n",
              "\n",
              "    .colab-df-convert {\n",
              "      background-color: #E8F0FE;\n",
              "      border: none;\n",
              "      border-radius: 50%;\n",
              "      cursor: pointer;\n",
              "      display: none;\n",
              "      fill: #1967D2;\n",
              "      height: 32px;\n",
              "      padding: 0 0 0 0;\n",
              "      width: 32px;\n",
              "    }\n",
              "\n",
              "    .colab-df-convert:hover {\n",
              "      background-color: #E2EBFA;\n",
              "      box-shadow: 0px 1px 2px rgba(60, 64, 67, 0.3), 0px 1px 3px 1px rgba(60, 64, 67, 0.15);\n",
              "      fill: #174EA6;\n",
              "    }\n",
              "\n",
              "    .colab-df-buttons div {\n",
              "      margin-bottom: 4px;\n",
              "    }\n",
              "\n",
              "    [theme=dark] .colab-df-convert {\n",
              "      background-color: #3B4455;\n",
              "      fill: #D2E3FC;\n",
              "    }\n",
              "\n",
              "    [theme=dark] .colab-df-convert:hover {\n",
              "      background-color: #434B5C;\n",
              "      box-shadow: 0px 1px 3px 1px rgba(0, 0, 0, 0.15);\n",
              "      filter: drop-shadow(0px 1px 2px rgba(0, 0, 0, 0.3));\n",
              "      fill: #FFFFFF;\n",
              "    }\n",
              "  </style>\n",
              "\n",
              "    <script>\n",
              "      const buttonEl =\n",
              "        document.querySelector('#df-f1093844-bbe3-4d2a-a19e-320e64258712 button.colab-df-convert');\n",
              "      buttonEl.style.display =\n",
              "        google.colab.kernel.accessAllowed ? 'block' : 'none';\n",
              "\n",
              "      async function convertToInteractive(key) {\n",
              "        const element = document.querySelector('#df-f1093844-bbe3-4d2a-a19e-320e64258712');\n",
              "        const dataTable =\n",
              "          await google.colab.kernel.invokeFunction('convertToInteractive',\n",
              "                                                    [key], {});\n",
              "        if (!dataTable) return;\n",
              "\n",
              "        const docLinkHtml = 'Like what you see? Visit the ' +\n",
              "          '<a target=\"_blank\" href=https://colab.research.google.com/notebooks/data_table.ipynb>data table notebook</a>'\n",
              "          + ' to learn more about interactive tables.';\n",
              "        element.innerHTML = '';\n",
              "        dataTable['output_type'] = 'display_data';\n",
              "        await google.colab.output.renderOutput(dataTable, element);\n",
              "        const docLink = document.createElement('div');\n",
              "        docLink.innerHTML = docLinkHtml;\n",
              "        element.appendChild(docLink);\n",
              "      }\n",
              "    </script>\n",
              "  </div>\n",
              "\n",
              "\n",
              "<div id=\"df-8a0e743c-1355-429e-8a87-cf4f6682adb5\">\n",
              "  <button class=\"colab-df-quickchart\" onclick=\"quickchart('df-8a0e743c-1355-429e-8a87-cf4f6682adb5')\"\n",
              "            title=\"Suggest charts\"\n",
              "            style=\"display:none;\">\n",
              "\n",
              "<svg xmlns=\"http://www.w3.org/2000/svg\" height=\"24px\"viewBox=\"0 0 24 24\"\n",
              "     width=\"24px\">\n",
              "    <g>\n",
              "        <path d=\"M19 3H5c-1.1 0-2 .9-2 2v14c0 1.1.9 2 2 2h14c1.1 0 2-.9 2-2V5c0-1.1-.9-2-2-2zM9 17H7v-7h2v7zm4 0h-2V7h2v10zm4 0h-2v-4h2v4z\"/>\n",
              "    </g>\n",
              "</svg>\n",
              "  </button>\n",
              "\n",
              "<style>\n",
              "  .colab-df-quickchart {\n",
              "      --bg-color: #E8F0FE;\n",
              "      --fill-color: #1967D2;\n",
              "      --hover-bg-color: #E2EBFA;\n",
              "      --hover-fill-color: #174EA6;\n",
              "      --disabled-fill-color: #AAA;\n",
              "      --disabled-bg-color: #DDD;\n",
              "  }\n",
              "\n",
              "  [theme=dark] .colab-df-quickchart {\n",
              "      --bg-color: #3B4455;\n",
              "      --fill-color: #D2E3FC;\n",
              "      --hover-bg-color: #434B5C;\n",
              "      --hover-fill-color: #FFFFFF;\n",
              "      --disabled-bg-color: #3B4455;\n",
              "      --disabled-fill-color: #666;\n",
              "  }\n",
              "\n",
              "  .colab-df-quickchart {\n",
              "    background-color: var(--bg-color);\n",
              "    border: none;\n",
              "    border-radius: 50%;\n",
              "    cursor: pointer;\n",
              "    display: none;\n",
              "    fill: var(--fill-color);\n",
              "    height: 32px;\n",
              "    padding: 0;\n",
              "    width: 32px;\n",
              "  }\n",
              "\n",
              "  .colab-df-quickchart:hover {\n",
              "    background-color: var(--hover-bg-color);\n",
              "    box-shadow: 0 1px 2px rgba(60, 64, 67, 0.3), 0 1px 3px 1px rgba(60, 64, 67, 0.15);\n",
              "    fill: var(--button-hover-fill-color);\n",
              "  }\n",
              "\n",
              "  .colab-df-quickchart-complete:disabled,\n",
              "  .colab-df-quickchart-complete:disabled:hover {\n",
              "    background-color: var(--disabled-bg-color);\n",
              "    fill: var(--disabled-fill-color);\n",
              "    box-shadow: none;\n",
              "  }\n",
              "\n",
              "  .colab-df-spinner {\n",
              "    border: 2px solid var(--fill-color);\n",
              "    border-color: transparent;\n",
              "    border-bottom-color: var(--fill-color);\n",
              "    animation:\n",
              "      spin 1s steps(1) infinite;\n",
              "  }\n",
              "\n",
              "  @keyframes spin {\n",
              "    0% {\n",
              "      border-color: transparent;\n",
              "      border-bottom-color: var(--fill-color);\n",
              "      border-left-color: var(--fill-color);\n",
              "    }\n",
              "    20% {\n",
              "      border-color: transparent;\n",
              "      border-left-color: var(--fill-color);\n",
              "      border-top-color: var(--fill-color);\n",
              "    }\n",
              "    30% {\n",
              "      border-color: transparent;\n",
              "      border-left-color: var(--fill-color);\n",
              "      border-top-color: var(--fill-color);\n",
              "      border-right-color: var(--fill-color);\n",
              "    }\n",
              "    40% {\n",
              "      border-color: transparent;\n",
              "      border-right-color: var(--fill-color);\n",
              "      border-top-color: var(--fill-color);\n",
              "    }\n",
              "    60% {\n",
              "      border-color: transparent;\n",
              "      border-right-color: var(--fill-color);\n",
              "    }\n",
              "    80% {\n",
              "      border-color: transparent;\n",
              "      border-right-color: var(--fill-color);\n",
              "      border-bottom-color: var(--fill-color);\n",
              "    }\n",
              "    90% {\n",
              "      border-color: transparent;\n",
              "      border-bottom-color: var(--fill-color);\n",
              "    }\n",
              "  }\n",
              "</style>\n",
              "\n",
              "  <script>\n",
              "    async function quickchart(key) {\n",
              "      const quickchartButtonEl =\n",
              "        document.querySelector('#' + key + ' button');\n",
              "      quickchartButtonEl.disabled = true;  // To prevent multiple clicks.\n",
              "      quickchartButtonEl.classList.add('colab-df-spinner');\n",
              "      try {\n",
              "        const charts = await google.colab.kernel.invokeFunction(\n",
              "            'suggestCharts', [key], {});\n",
              "      } catch (error) {\n",
              "        console.error('Error during call to suggestCharts:', error);\n",
              "      }\n",
              "      quickchartButtonEl.classList.remove('colab-df-spinner');\n",
              "      quickchartButtonEl.classList.add('colab-df-quickchart-complete');\n",
              "    }\n",
              "    (() => {\n",
              "      let quickchartButtonEl =\n",
              "        document.querySelector('#df-8a0e743c-1355-429e-8a87-cf4f6682adb5 button');\n",
              "      quickchartButtonEl.style.display =\n",
              "        google.colab.kernel.accessAllowed ? 'block' : 'none';\n",
              "    })();\n",
              "  </script>\n",
              "</div>\n",
              "    </div>\n",
              "  </div>\n"
            ],
            "application/vnd.google.colaboratory.intrinsic+json": {
              "type": "dataframe",
              "variable_name": "df",
              "summary": "{\n  \"name\": \"df\",\n  \"rows\": 3035,\n  \"fields\": [\n    {\n      \"column\": \"full_name\",\n      \"properties\": {\n        \"dtype\": \"category\",\n        \"num_unique_values\": 93,\n        \"samples\": [\n          \"john w. hickenlooper\",\n          \"eric schmitt\",\n          \"mark r. warner\"\n        ],\n        \"semantic_type\": \"\",\n        \"description\": \"\"\n      }\n    },\n    {\n      \"column\": \"pct\",\n      \"properties\": {\n        \"dtype\": \"number\",\n        \"std\": 7.537229726734891,\n        \"min\": 6.2,\n        \"max\": 75.0,\n        \"num_unique_values\": 341,\n        \"samples\": [\n          34.9,\n          51.9,\n          54.7\n        ],\n        \"semantic_type\": \"\",\n        \"description\": \"\"\n      }\n    },\n    {\n      \"column\": \"birthday\",\n      \"properties\": {\n        \"dtype\": \"date\",\n        \"min\": \"1933-06-22 00:00:00\",\n        \"max\": \"1987-02-16 00:00:00\",\n        \"num_unique_values\": 93,\n        \"samples\": [\n          \"1952-02-07 00:00:00\",\n          \"1975-06-20 00:00:00\",\n          \"1954-12-15 00:00:00\"\n        ],\n        \"semantic_type\": \"\",\n        \"description\": \"\"\n      }\n    },\n    {\n      \"column\": \"gender\",\n      \"properties\": {\n        \"dtype\": \"category\",\n        \"num_unique_values\": 2,\n        \"samples\": [\n          \"M\",\n          \"F\"\n        ],\n        \"semantic_type\": \"\",\n        \"description\": \"\"\n      }\n    },\n    {\n      \"column\": \"party\",\n      \"properties\": {\n        \"dtype\": \"category\",\n        \"num_unique_values\": 3,\n        \"samples\": [\n          \"Democrat\",\n          \"Independent\"\n        ],\n        \"semantic_type\": \"\",\n        \"description\": \"\"\n      }\n    },\n    {\n      \"column\": \"senate_class\",\n      \"properties\": {\n        \"dtype\": \"number\",\n        \"std\": 0.858816383289418,\n        \"min\": 1.0,\n        \"max\": 3.0,\n        \"num_unique_values\": 3,\n        \"samples\": [\n          1.0,\n          2.0\n        ],\n        \"semantic_type\": \"\",\n        \"description\": \"\"\n      }\n    },\n    {\n      \"column\": \"stage\",\n      \"properties\": {\n        \"dtype\": \"category\",\n        \"num_unique_values\": 3,\n        \"samples\": [\n          \"general\",\n          \"runoff\"\n        ],\n        \"semantic_type\": \"\",\n        \"description\": \"\"\n      }\n    },\n    {\n      \"column\": \"cycle\",\n      \"properties\": {\n        \"dtype\": \"number\",\n        \"std\": 1,\n        \"min\": 2018,\n        \"max\": 2024,\n        \"num_unique_values\": 4,\n        \"samples\": [\n          2024,\n          2022\n        ],\n        \"semantic_type\": \"\",\n        \"description\": \"\"\n      }\n    },\n    {\n      \"column\": \"start_date\",\n      \"properties\": {\n        \"dtype\": \"date\",\n        \"min\": \"2016-11-16 00:00:00\",\n        \"max\": \"2024-03-13 00:00:00\",\n        \"num_unique_values\": 691,\n        \"samples\": [\n          \"2022-07-29 00:00:00\",\n          \"2022-05-19 00:00:00\"\n        ],\n        \"semantic_type\": \"\",\n        \"description\": \"\"\n      }\n    },\n    {\n      \"column\": \"end_date\",\n      \"properties\": {\n        \"dtype\": \"date\",\n        \"min\": \"2016-11-17 00:00:00\",\n        \"max\": \"2024-03-13 00:00:00\",\n        \"num_unique_values\": 693,\n        \"samples\": [\n          \"2022-09-22 00:00:00\",\n          \"2022-08-06 00:00:00\"\n        ],\n        \"semantic_type\": \"\",\n        \"description\": \"\"\n      }\n    },\n    {\n      \"column\": \"age\",\n      \"properties\": {\n        \"dtype\": \"number\",\n        \"std\": 10,\n        \"min\": 37,\n        \"max\": 91,\n        \"num_unique_values\": 40,\n        \"samples\": [\n          66,\n          91\n        ],\n        \"semantic_type\": \"\",\n        \"description\": \"\"\n      }\n    },\n    {\n      \"column\": \"emotion_majority\",\n      \"properties\": {\n        \"dtype\": \"category\",\n        \"num_unique_values\": 6,\n        \"samples\": [\n          \"happy\",\n          \"angry\"\n        ],\n        \"semantic_type\": \"\",\n        \"description\": \"\"\n      }\n    },\n    {\n      \"column\": \"race_majority\",\n      \"properties\": {\n        \"dtype\": \"category\",\n        \"num_unique_values\": 4,\n        \"samples\": [\n          \"asian\",\n          \"latino hispanic\"\n        ],\n        \"semantic_type\": \"\",\n        \"description\": \"\"\n      }\n    },\n    {\n      \"column\": \"valence_mean\",\n      \"properties\": {\n        \"dtype\": \"number\",\n        \"std\": 38.443498650906285,\n        \"min\": -73.29325515232493,\n        \"max\": 99.4289344665158,\n        \"num_unique_values\": 93,\n        \"samples\": [\n          -2.723335189678059,\n          43.73073468839683\n        ],\n        \"semantic_type\": \"\",\n        \"description\": \"\"\n      }\n    }\n  ]\n}"
            }
          },
          "metadata": {},
          "execution_count": 6
        }
      ]
    },
    {
      "cell_type": "code",
      "source": [
        "df.describe()"
      ],
      "metadata": {
        "colab": {
          "base_uri": "https://localhost:8080/",
          "height": 424
        },
        "id": "_9lRDpybOj4e",
        "outputId": "3f72e7d4-5f3b-42bf-8551-2669f6a1195e"
      },
      "execution_count": null,
      "outputs": [
        {
          "output_type": "execute_result",
          "data": {
            "text/plain": [
              "              pct                       birthday  senate_class        cycle  \\\n",
              "count  3035.00000                           3035   3035.000000  3035.000000   \n",
              "mean     45.92370  1961-04-18 04:20:00.395387136      2.020099  2019.887974   \n",
              "min       6.20000            1933-06-22 00:00:00      1.000000  2018.000000   \n",
              "25%      43.50000            1952-12-01 00:00:00      1.000000  2018.000000   \n",
              "50%      47.00000            1960-08-09 00:00:00      2.000000  2020.000000   \n",
              "75%      50.00000            1969-07-23 00:00:00      3.000000  2022.000000   \n",
              "max      75.00000            1987-02-16 00:00:00      3.000000  2024.000000   \n",
              "std       7.53723                            NaN      0.858816     1.707897   \n",
              "\n",
              "                          start_date                       end_date  \\\n",
              "count                           3035                           3035   \n",
              "mean   2020-06-13 09:53:33.311367168  2020-06-18 01:47:42.207578368   \n",
              "min              2016-11-16 00:00:00            2016-11-17 00:00:00   \n",
              "25%              2018-10-17 00:00:00            2018-10-21 12:00:00   \n",
              "50%              2020-08-30 00:00:00            2020-09-05 00:00:00   \n",
              "75%              2021-03-07 00:00:00            2021-03-09 00:00:00   \n",
              "max              2024-03-13 00:00:00            2024-03-13 00:00:00   \n",
              "std                              NaN                            NaN   \n",
              "\n",
              "               age  valence_mean  \n",
              "count  3035.000000   3035.000000  \n",
              "mean     63.229325     26.044160  \n",
              "min      37.000000    -73.293255  \n",
              "25%      55.000000      5.415104  \n",
              "50%      64.000000     27.554999  \n",
              "75%      72.000000     56.318169  \n",
              "max      91.000000     99.428934  \n",
              "std      10.562811     38.443499  "
            ],
            "text/html": [
              "\n",
              "  <div id=\"df-55830f3a-9244-4140-be61-c2aca6a5a71b\" class=\"colab-df-container\">\n",
              "    <div>\n",
              "<style scoped>\n",
              "    .dataframe tbody tr th:only-of-type {\n",
              "        vertical-align: middle;\n",
              "    }\n",
              "\n",
              "    .dataframe tbody tr th {\n",
              "        vertical-align: top;\n",
              "    }\n",
              "\n",
              "    .dataframe thead th {\n",
              "        text-align: right;\n",
              "    }\n",
              "</style>\n",
              "<table border=\"1\" class=\"dataframe\">\n",
              "  <thead>\n",
              "    <tr style=\"text-align: right;\">\n",
              "      <th></th>\n",
              "      <th>pct</th>\n",
              "      <th>birthday</th>\n",
              "      <th>senate_class</th>\n",
              "      <th>cycle</th>\n",
              "      <th>start_date</th>\n",
              "      <th>end_date</th>\n",
              "      <th>age</th>\n",
              "      <th>valence_mean</th>\n",
              "    </tr>\n",
              "  </thead>\n",
              "  <tbody>\n",
              "    <tr>\n",
              "      <th>count</th>\n",
              "      <td>3035.00000</td>\n",
              "      <td>3035</td>\n",
              "      <td>3035.000000</td>\n",
              "      <td>3035.000000</td>\n",
              "      <td>3035</td>\n",
              "      <td>3035</td>\n",
              "      <td>3035.000000</td>\n",
              "      <td>3035.000000</td>\n",
              "    </tr>\n",
              "    <tr>\n",
              "      <th>mean</th>\n",
              "      <td>45.92370</td>\n",
              "      <td>1961-04-18 04:20:00.395387136</td>\n",
              "      <td>2.020099</td>\n",
              "      <td>2019.887974</td>\n",
              "      <td>2020-06-13 09:53:33.311367168</td>\n",
              "      <td>2020-06-18 01:47:42.207578368</td>\n",
              "      <td>63.229325</td>\n",
              "      <td>26.044160</td>\n",
              "    </tr>\n",
              "    <tr>\n",
              "      <th>min</th>\n",
              "      <td>6.20000</td>\n",
              "      <td>1933-06-22 00:00:00</td>\n",
              "      <td>1.000000</td>\n",
              "      <td>2018.000000</td>\n",
              "      <td>2016-11-16 00:00:00</td>\n",
              "      <td>2016-11-17 00:00:00</td>\n",
              "      <td>37.000000</td>\n",
              "      <td>-73.293255</td>\n",
              "    </tr>\n",
              "    <tr>\n",
              "      <th>25%</th>\n",
              "      <td>43.50000</td>\n",
              "      <td>1952-12-01 00:00:00</td>\n",
              "      <td>1.000000</td>\n",
              "      <td>2018.000000</td>\n",
              "      <td>2018-10-17 00:00:00</td>\n",
              "      <td>2018-10-21 12:00:00</td>\n",
              "      <td>55.000000</td>\n",
              "      <td>5.415104</td>\n",
              "    </tr>\n",
              "    <tr>\n",
              "      <th>50%</th>\n",
              "      <td>47.00000</td>\n",
              "      <td>1960-08-09 00:00:00</td>\n",
              "      <td>2.000000</td>\n",
              "      <td>2020.000000</td>\n",
              "      <td>2020-08-30 00:00:00</td>\n",
              "      <td>2020-09-05 00:00:00</td>\n",
              "      <td>64.000000</td>\n",
              "      <td>27.554999</td>\n",
              "    </tr>\n",
              "    <tr>\n",
              "      <th>75%</th>\n",
              "      <td>50.00000</td>\n",
              "      <td>1969-07-23 00:00:00</td>\n",
              "      <td>3.000000</td>\n",
              "      <td>2022.000000</td>\n",
              "      <td>2021-03-07 00:00:00</td>\n",
              "      <td>2021-03-09 00:00:00</td>\n",
              "      <td>72.000000</td>\n",
              "      <td>56.318169</td>\n",
              "    </tr>\n",
              "    <tr>\n",
              "      <th>max</th>\n",
              "      <td>75.00000</td>\n",
              "      <td>1987-02-16 00:00:00</td>\n",
              "      <td>3.000000</td>\n",
              "      <td>2024.000000</td>\n",
              "      <td>2024-03-13 00:00:00</td>\n",
              "      <td>2024-03-13 00:00:00</td>\n",
              "      <td>91.000000</td>\n",
              "      <td>99.428934</td>\n",
              "    </tr>\n",
              "    <tr>\n",
              "      <th>std</th>\n",
              "      <td>7.53723</td>\n",
              "      <td>NaN</td>\n",
              "      <td>0.858816</td>\n",
              "      <td>1.707897</td>\n",
              "      <td>NaN</td>\n",
              "      <td>NaN</td>\n",
              "      <td>10.562811</td>\n",
              "      <td>38.443499</td>\n",
              "    </tr>\n",
              "  </tbody>\n",
              "</table>\n",
              "</div>\n",
              "    <div class=\"colab-df-buttons\">\n",
              "\n",
              "  <div class=\"colab-df-container\">\n",
              "    <button class=\"colab-df-convert\" onclick=\"convertToInteractive('df-55830f3a-9244-4140-be61-c2aca6a5a71b')\"\n",
              "            title=\"Convert this dataframe to an interactive table.\"\n",
              "            style=\"display:none;\">\n",
              "\n",
              "  <svg xmlns=\"http://www.w3.org/2000/svg\" height=\"24px\" viewBox=\"0 -960 960 960\">\n",
              "    <path d=\"M120-120v-720h720v720H120Zm60-500h600v-160H180v160Zm220 220h160v-160H400v160Zm0 220h160v-160H400v160ZM180-400h160v-160H180v160Zm440 0h160v-160H620v160ZM180-180h160v-160H180v160Zm440 0h160v-160H620v160Z\"/>\n",
              "  </svg>\n",
              "    </button>\n",
              "\n",
              "  <style>\n",
              "    .colab-df-container {\n",
              "      display:flex;\n",
              "      gap: 12px;\n",
              "    }\n",
              "\n",
              "    .colab-df-convert {\n",
              "      background-color: #E8F0FE;\n",
              "      border: none;\n",
              "      border-radius: 50%;\n",
              "      cursor: pointer;\n",
              "      display: none;\n",
              "      fill: #1967D2;\n",
              "      height: 32px;\n",
              "      padding: 0 0 0 0;\n",
              "      width: 32px;\n",
              "    }\n",
              "\n",
              "    .colab-df-convert:hover {\n",
              "      background-color: #E2EBFA;\n",
              "      box-shadow: 0px 1px 2px rgba(60, 64, 67, 0.3), 0px 1px 3px 1px rgba(60, 64, 67, 0.15);\n",
              "      fill: #174EA6;\n",
              "    }\n",
              "\n",
              "    .colab-df-buttons div {\n",
              "      margin-bottom: 4px;\n",
              "    }\n",
              "\n",
              "    [theme=dark] .colab-df-convert {\n",
              "      background-color: #3B4455;\n",
              "      fill: #D2E3FC;\n",
              "    }\n",
              "\n",
              "    [theme=dark] .colab-df-convert:hover {\n",
              "      background-color: #434B5C;\n",
              "      box-shadow: 0px 1px 3px 1px rgba(0, 0, 0, 0.15);\n",
              "      filter: drop-shadow(0px 1px 2px rgba(0, 0, 0, 0.3));\n",
              "      fill: #FFFFFF;\n",
              "    }\n",
              "  </style>\n",
              "\n",
              "    <script>\n",
              "      const buttonEl =\n",
              "        document.querySelector('#df-55830f3a-9244-4140-be61-c2aca6a5a71b button.colab-df-convert');\n",
              "      buttonEl.style.display =\n",
              "        google.colab.kernel.accessAllowed ? 'block' : 'none';\n",
              "\n",
              "      async function convertToInteractive(key) {\n",
              "        const element = document.querySelector('#df-55830f3a-9244-4140-be61-c2aca6a5a71b');\n",
              "        const dataTable =\n",
              "          await google.colab.kernel.invokeFunction('convertToInteractive',\n",
              "                                                    [key], {});\n",
              "        if (!dataTable) return;\n",
              "\n",
              "        const docLinkHtml = 'Like what you see? Visit the ' +\n",
              "          '<a target=\"_blank\" href=https://colab.research.google.com/notebooks/data_table.ipynb>data table notebook</a>'\n",
              "          + ' to learn more about interactive tables.';\n",
              "        element.innerHTML = '';\n",
              "        dataTable['output_type'] = 'display_data';\n",
              "        await google.colab.output.renderOutput(dataTable, element);\n",
              "        const docLink = document.createElement('div');\n",
              "        docLink.innerHTML = docLinkHtml;\n",
              "        element.appendChild(docLink);\n",
              "      }\n",
              "    </script>\n",
              "  </div>\n",
              "\n",
              "\n",
              "<div id=\"df-98b7b51a-0136-4209-88bd-5b282b2d9a34\">\n",
              "  <button class=\"colab-df-quickchart\" onclick=\"quickchart('df-98b7b51a-0136-4209-88bd-5b282b2d9a34')\"\n",
              "            title=\"Suggest charts\"\n",
              "            style=\"display:none;\">\n",
              "\n",
              "<svg xmlns=\"http://www.w3.org/2000/svg\" height=\"24px\"viewBox=\"0 0 24 24\"\n",
              "     width=\"24px\">\n",
              "    <g>\n",
              "        <path d=\"M19 3H5c-1.1 0-2 .9-2 2v14c0 1.1.9 2 2 2h14c1.1 0 2-.9 2-2V5c0-1.1-.9-2-2-2zM9 17H7v-7h2v7zm4 0h-2V7h2v10zm4 0h-2v-4h2v4z\"/>\n",
              "    </g>\n",
              "</svg>\n",
              "  </button>\n",
              "\n",
              "<style>\n",
              "  .colab-df-quickchart {\n",
              "      --bg-color: #E8F0FE;\n",
              "      --fill-color: #1967D2;\n",
              "      --hover-bg-color: #E2EBFA;\n",
              "      --hover-fill-color: #174EA6;\n",
              "      --disabled-fill-color: #AAA;\n",
              "      --disabled-bg-color: #DDD;\n",
              "  }\n",
              "\n",
              "  [theme=dark] .colab-df-quickchart {\n",
              "      --bg-color: #3B4455;\n",
              "      --fill-color: #D2E3FC;\n",
              "      --hover-bg-color: #434B5C;\n",
              "      --hover-fill-color: #FFFFFF;\n",
              "      --disabled-bg-color: #3B4455;\n",
              "      --disabled-fill-color: #666;\n",
              "  }\n",
              "\n",
              "  .colab-df-quickchart {\n",
              "    background-color: var(--bg-color);\n",
              "    border: none;\n",
              "    border-radius: 50%;\n",
              "    cursor: pointer;\n",
              "    display: none;\n",
              "    fill: var(--fill-color);\n",
              "    height: 32px;\n",
              "    padding: 0;\n",
              "    width: 32px;\n",
              "  }\n",
              "\n",
              "  .colab-df-quickchart:hover {\n",
              "    background-color: var(--hover-bg-color);\n",
              "    box-shadow: 0 1px 2px rgba(60, 64, 67, 0.3), 0 1px 3px 1px rgba(60, 64, 67, 0.15);\n",
              "    fill: var(--button-hover-fill-color);\n",
              "  }\n",
              "\n",
              "  .colab-df-quickchart-complete:disabled,\n",
              "  .colab-df-quickchart-complete:disabled:hover {\n",
              "    background-color: var(--disabled-bg-color);\n",
              "    fill: var(--disabled-fill-color);\n",
              "    box-shadow: none;\n",
              "  }\n",
              "\n",
              "  .colab-df-spinner {\n",
              "    border: 2px solid var(--fill-color);\n",
              "    border-color: transparent;\n",
              "    border-bottom-color: var(--fill-color);\n",
              "    animation:\n",
              "      spin 1s steps(1) infinite;\n",
              "  }\n",
              "\n",
              "  @keyframes spin {\n",
              "    0% {\n",
              "      border-color: transparent;\n",
              "      border-bottom-color: var(--fill-color);\n",
              "      border-left-color: var(--fill-color);\n",
              "    }\n",
              "    20% {\n",
              "      border-color: transparent;\n",
              "      border-left-color: var(--fill-color);\n",
              "      border-top-color: var(--fill-color);\n",
              "    }\n",
              "    30% {\n",
              "      border-color: transparent;\n",
              "      border-left-color: var(--fill-color);\n",
              "      border-top-color: var(--fill-color);\n",
              "      border-right-color: var(--fill-color);\n",
              "    }\n",
              "    40% {\n",
              "      border-color: transparent;\n",
              "      border-right-color: var(--fill-color);\n",
              "      border-top-color: var(--fill-color);\n",
              "    }\n",
              "    60% {\n",
              "      border-color: transparent;\n",
              "      border-right-color: var(--fill-color);\n",
              "    }\n",
              "    80% {\n",
              "      border-color: transparent;\n",
              "      border-right-color: var(--fill-color);\n",
              "      border-bottom-color: var(--fill-color);\n",
              "    }\n",
              "    90% {\n",
              "      border-color: transparent;\n",
              "      border-bottom-color: var(--fill-color);\n",
              "    }\n",
              "  }\n",
              "</style>\n",
              "\n",
              "  <script>\n",
              "    async function quickchart(key) {\n",
              "      const quickchartButtonEl =\n",
              "        document.querySelector('#' + key + ' button');\n",
              "      quickchartButtonEl.disabled = true;  // To prevent multiple clicks.\n",
              "      quickchartButtonEl.classList.add('colab-df-spinner');\n",
              "      try {\n",
              "        const charts = await google.colab.kernel.invokeFunction(\n",
              "            'suggestCharts', [key], {});\n",
              "      } catch (error) {\n",
              "        console.error('Error during call to suggestCharts:', error);\n",
              "      }\n",
              "      quickchartButtonEl.classList.remove('colab-df-spinner');\n",
              "      quickchartButtonEl.classList.add('colab-df-quickchart-complete');\n",
              "    }\n",
              "    (() => {\n",
              "      let quickchartButtonEl =\n",
              "        document.querySelector('#df-98b7b51a-0136-4209-88bd-5b282b2d9a34 button');\n",
              "      quickchartButtonEl.style.display =\n",
              "        google.colab.kernel.accessAllowed ? 'block' : 'none';\n",
              "    })();\n",
              "  </script>\n",
              "</div>\n",
              "    </div>\n",
              "  </div>\n"
            ],
            "application/vnd.google.colaboratory.intrinsic+json": {
              "type": "dataframe",
              "summary": "{\n  \"name\": \"df\",\n  \"rows\": 8,\n  \"fields\": [\n    {\n      \"column\": \"pct\",\n      \"properties\": {\n        \"dtype\": \"number\",\n        \"std\": 1059.3805341766124,\n        \"min\": 6.2,\n        \"max\": 3035.0,\n        \"num_unique_values\": 8,\n        \"samples\": [\n          45.92370016474465,\n          50.0,\n          3035.0\n        ],\n        \"semantic_type\": \"\",\n        \"description\": \"\"\n      }\n    },\n    {\n      \"column\": \"birthday\",\n      \"properties\": {\n        \"dtype\": \"date\",\n        \"min\": \"1933-06-22 00:00:00\",\n        \"max\": \"1987-02-16 00:00:00\",\n        \"num_unique_values\": 7,\n        \"samples\": [\n          \"3035\",\n          \"1961-04-18 04:20:00.395387136\",\n          \"1969-07-23 00:00:00\"\n        ],\n        \"semantic_type\": \"\",\n        \"description\": \"\"\n      }\n    },\n    {\n      \"column\": \"senate_class\",\n      \"properties\": {\n        \"dtype\": \"number\",\n        \"std\": 1072.384398240463,\n        \"min\": 0.858816383289418,\n        \"max\": 3035.0,\n        \"num_unique_values\": 6,\n        \"samples\": [\n          3035.0,\n          2.020098846787479,\n          0.858816383289418\n        ],\n        \"semantic_type\": \"\",\n        \"description\": \"\"\n      }\n    },\n    {\n      \"column\": \"cycle\",\n      \"properties\": {\n        \"dtype\": \"number\",\n        \"std\": 843.3271477533156,\n        \"min\": 1.7078969552792405,\n        \"max\": 3035.0,\n        \"num_unique_values\": 7,\n        \"samples\": [\n          3035.0,\n          2019.8879736408567,\n          2024.0\n        ],\n        \"semantic_type\": \"\",\n        \"description\": \"\"\n      }\n    },\n    {\n      \"column\": \"start_date\",\n      \"properties\": {\n        \"dtype\": \"date\",\n        \"min\": \"1970-01-01 00:00:00.000003035\",\n        \"max\": \"2024-03-13 00:00:00\",\n        \"num_unique_values\": 7,\n        \"samples\": [\n          \"3035\",\n          \"2020-06-13 09:53:33.311367168\",\n          \"2021-03-07 00:00:00\"\n        ],\n        \"semantic_type\": \"\",\n        \"description\": \"\"\n      }\n    },\n    {\n      \"column\": \"end_date\",\n      \"properties\": {\n        \"dtype\": \"date\",\n        \"min\": \"1970-01-01 00:00:00.000003035\",\n        \"max\": \"2024-03-13 00:00:00\",\n        \"num_unique_values\": 7,\n        \"samples\": [\n          \"3035\",\n          \"2020-06-18 01:47:42.207578368\",\n          \"2021-03-09 00:00:00\"\n        ],\n        \"semantic_type\": \"\",\n        \"description\": \"\"\n      }\n    },\n    {\n      \"column\": \"age\",\n      \"properties\": {\n        \"dtype\": \"number\",\n        \"std\": 1053.4683977327754,\n        \"min\": 10.562810691998779,\n        \"max\": 3035.0,\n        \"num_unique_values\": 8,\n        \"samples\": [\n          63.22932454695223,\n          72.0,\n          3035.0\n        ],\n        \"semantic_type\": \"\",\n        \"description\": \"\"\n      }\n    },\n    {\n      \"column\": \"valence_mean\",\n      \"properties\": {\n        \"dtype\": \"number\",\n        \"std\": 1065.0715918418591,\n        \"min\": -73.29325515232493,\n        \"max\": 3035.0,\n        \"num_unique_values\": 8,\n        \"samples\": [\n          26.044159632180275,\n          56.31816933913245,\n          3035.0\n        ],\n        \"semantic_type\": \"\",\n        \"description\": \"\"\n      }\n    }\n  ]\n}"
            }
          },
          "metadata": {},
          "execution_count": 7
        }
      ]
    },
    {
      "cell_type": "code",
      "source": [
        "df.shape"
      ],
      "metadata": {
        "colab": {
          "base_uri": "https://localhost:8080/"
        },
        "id": "Faud_CKwOqyg",
        "outputId": "25fbfa86-19c6-4911-e80f-836757aba417"
      },
      "execution_count": null,
      "outputs": [
        {
          "output_type": "execute_result",
          "data": {
            "text/plain": [
              "(3035, 14)"
            ]
          },
          "metadata": {},
          "execution_count": 8
        }
      ]
    },
    {
      "cell_type": "code",
      "source": [
        "# Could we use Initial term age instead?\n",
        "def calculate_servingAge(dtob,startdate):\n",
        "  # Calculate the age by subtracting the birth year from the current year\n",
        "  # Adjust the age if the birth month and day are after today's month and day\n",
        "  return startdate.year - dtob.year - ((startdate.month, startdate.day) < (dtob.month, dtob.day))\n"
      ],
      "metadata": {
        "id": "HUfodoHdwFv5"
      },
      "execution_count": null,
      "outputs": []
    },
    {
      "cell_type": "code",
      "source": [
        "# create serving_age column from birthday to start of cycle\n",
        "df['serving_age'] = df.apply(lambda row : (calculate_servingAge(row.birthday, row.start_date)), axis=1 )"
      ],
      "metadata": {
        "id": "oXr1aYQzwgcd"
      },
      "execution_count": null,
      "outputs": []
    },
    {
      "cell_type": "code",
      "source": [
        "df.head()"
      ],
      "metadata": {
        "colab": {
          "base_uri": "https://localhost:8080/",
          "height": 313
        },
        "id": "qSt255gX0PU4",
        "outputId": "81c6ae1a-4321-4f4a-ec68-569d9da5231a"
      },
      "execution_count": null,
      "outputs": [
        {
          "output_type": "execute_result",
          "data": {
            "text/plain": [
              "       full_name   pct   birthday gender     party  senate_class    stage  \\\n",
              "0  amy klobuchar  54.0 1960-05-25      F  Democrat           1.0  general   \n",
              "1  amy klobuchar  55.0 1960-05-25      F  Democrat           1.0  general   \n",
              "2  amy klobuchar  53.0 1960-05-25      F  Democrat           1.0  general   \n",
              "3  amy klobuchar  57.0 1960-05-25      F  Democrat           1.0  general   \n",
              "4  amy klobuchar  56.0 1960-05-25      F  Democrat           1.0  general   \n",
              "\n",
              "   cycle start_date   end_date  age emotion_majority race_majority  \\\n",
              "0   2018 2018-10-15 2018-10-30   64            happy         white   \n",
              "1   2018 2018-11-02 2018-11-04   64            happy         white   \n",
              "2   2018 2018-11-01 2018-11-03   64            happy         white   \n",
              "3   2018 2018-10-29 2018-10-31   64            happy         white   \n",
              "4   2018 2018-10-15 2018-10-17   64            happy         white   \n",
              "\n",
              "   valence_mean  serving_age  \n",
              "0      26.80534           58  \n",
              "1      26.80534           58  \n",
              "2      26.80534           58  \n",
              "3      26.80534           58  \n",
              "4      26.80534           58  "
            ],
            "text/html": [
              "\n",
              "  <div id=\"df-98bc809d-4abf-4901-b46e-bc1cfbd91f36\" class=\"colab-df-container\">\n",
              "    <div>\n",
              "<style scoped>\n",
              "    .dataframe tbody tr th:only-of-type {\n",
              "        vertical-align: middle;\n",
              "    }\n",
              "\n",
              "    .dataframe tbody tr th {\n",
              "        vertical-align: top;\n",
              "    }\n",
              "\n",
              "    .dataframe thead th {\n",
              "        text-align: right;\n",
              "    }\n",
              "</style>\n",
              "<table border=\"1\" class=\"dataframe\">\n",
              "  <thead>\n",
              "    <tr style=\"text-align: right;\">\n",
              "      <th></th>\n",
              "      <th>full_name</th>\n",
              "      <th>pct</th>\n",
              "      <th>birthday</th>\n",
              "      <th>gender</th>\n",
              "      <th>party</th>\n",
              "      <th>senate_class</th>\n",
              "      <th>stage</th>\n",
              "      <th>cycle</th>\n",
              "      <th>start_date</th>\n",
              "      <th>end_date</th>\n",
              "      <th>age</th>\n",
              "      <th>emotion_majority</th>\n",
              "      <th>race_majority</th>\n",
              "      <th>valence_mean</th>\n",
              "      <th>serving_age</th>\n",
              "    </tr>\n",
              "  </thead>\n",
              "  <tbody>\n",
              "    <tr>\n",
              "      <th>0</th>\n",
              "      <td>amy klobuchar</td>\n",
              "      <td>54.0</td>\n",
              "      <td>1960-05-25</td>\n",
              "      <td>F</td>\n",
              "      <td>Democrat</td>\n",
              "      <td>1.0</td>\n",
              "      <td>general</td>\n",
              "      <td>2018</td>\n",
              "      <td>2018-10-15</td>\n",
              "      <td>2018-10-30</td>\n",
              "      <td>64</td>\n",
              "      <td>happy</td>\n",
              "      <td>white</td>\n",
              "      <td>26.80534</td>\n",
              "      <td>58</td>\n",
              "    </tr>\n",
              "    <tr>\n",
              "      <th>1</th>\n",
              "      <td>amy klobuchar</td>\n",
              "      <td>55.0</td>\n",
              "      <td>1960-05-25</td>\n",
              "      <td>F</td>\n",
              "      <td>Democrat</td>\n",
              "      <td>1.0</td>\n",
              "      <td>general</td>\n",
              "      <td>2018</td>\n",
              "      <td>2018-11-02</td>\n",
              "      <td>2018-11-04</td>\n",
              "      <td>64</td>\n",
              "      <td>happy</td>\n",
              "      <td>white</td>\n",
              "      <td>26.80534</td>\n",
              "      <td>58</td>\n",
              "    </tr>\n",
              "    <tr>\n",
              "      <th>2</th>\n",
              "      <td>amy klobuchar</td>\n",
              "      <td>53.0</td>\n",
              "      <td>1960-05-25</td>\n",
              "      <td>F</td>\n",
              "      <td>Democrat</td>\n",
              "      <td>1.0</td>\n",
              "      <td>general</td>\n",
              "      <td>2018</td>\n",
              "      <td>2018-11-01</td>\n",
              "      <td>2018-11-03</td>\n",
              "      <td>64</td>\n",
              "      <td>happy</td>\n",
              "      <td>white</td>\n",
              "      <td>26.80534</td>\n",
              "      <td>58</td>\n",
              "    </tr>\n",
              "    <tr>\n",
              "      <th>3</th>\n",
              "      <td>amy klobuchar</td>\n",
              "      <td>57.0</td>\n",
              "      <td>1960-05-25</td>\n",
              "      <td>F</td>\n",
              "      <td>Democrat</td>\n",
              "      <td>1.0</td>\n",
              "      <td>general</td>\n",
              "      <td>2018</td>\n",
              "      <td>2018-10-29</td>\n",
              "      <td>2018-10-31</td>\n",
              "      <td>64</td>\n",
              "      <td>happy</td>\n",
              "      <td>white</td>\n",
              "      <td>26.80534</td>\n",
              "      <td>58</td>\n",
              "    </tr>\n",
              "    <tr>\n",
              "      <th>4</th>\n",
              "      <td>amy klobuchar</td>\n",
              "      <td>56.0</td>\n",
              "      <td>1960-05-25</td>\n",
              "      <td>F</td>\n",
              "      <td>Democrat</td>\n",
              "      <td>1.0</td>\n",
              "      <td>general</td>\n",
              "      <td>2018</td>\n",
              "      <td>2018-10-15</td>\n",
              "      <td>2018-10-17</td>\n",
              "      <td>64</td>\n",
              "      <td>happy</td>\n",
              "      <td>white</td>\n",
              "      <td>26.80534</td>\n",
              "      <td>58</td>\n",
              "    </tr>\n",
              "  </tbody>\n",
              "</table>\n",
              "</div>\n",
              "    <div class=\"colab-df-buttons\">\n",
              "\n",
              "  <div class=\"colab-df-container\">\n",
              "    <button class=\"colab-df-convert\" onclick=\"convertToInteractive('df-98bc809d-4abf-4901-b46e-bc1cfbd91f36')\"\n",
              "            title=\"Convert this dataframe to an interactive table.\"\n",
              "            style=\"display:none;\">\n",
              "\n",
              "  <svg xmlns=\"http://www.w3.org/2000/svg\" height=\"24px\" viewBox=\"0 -960 960 960\">\n",
              "    <path d=\"M120-120v-720h720v720H120Zm60-500h600v-160H180v160Zm220 220h160v-160H400v160Zm0 220h160v-160H400v160ZM180-400h160v-160H180v160Zm440 0h160v-160H620v160ZM180-180h160v-160H180v160Zm440 0h160v-160H620v160Z\"/>\n",
              "  </svg>\n",
              "    </button>\n",
              "\n",
              "  <style>\n",
              "    .colab-df-container {\n",
              "      display:flex;\n",
              "      gap: 12px;\n",
              "    }\n",
              "\n",
              "    .colab-df-convert {\n",
              "      background-color: #E8F0FE;\n",
              "      border: none;\n",
              "      border-radius: 50%;\n",
              "      cursor: pointer;\n",
              "      display: none;\n",
              "      fill: #1967D2;\n",
              "      height: 32px;\n",
              "      padding: 0 0 0 0;\n",
              "      width: 32px;\n",
              "    }\n",
              "\n",
              "    .colab-df-convert:hover {\n",
              "      background-color: #E2EBFA;\n",
              "      box-shadow: 0px 1px 2px rgba(60, 64, 67, 0.3), 0px 1px 3px 1px rgba(60, 64, 67, 0.15);\n",
              "      fill: #174EA6;\n",
              "    }\n",
              "\n",
              "    .colab-df-buttons div {\n",
              "      margin-bottom: 4px;\n",
              "    }\n",
              "\n",
              "    [theme=dark] .colab-df-convert {\n",
              "      background-color: #3B4455;\n",
              "      fill: #D2E3FC;\n",
              "    }\n",
              "\n",
              "    [theme=dark] .colab-df-convert:hover {\n",
              "      background-color: #434B5C;\n",
              "      box-shadow: 0px 1px 3px 1px rgba(0, 0, 0, 0.15);\n",
              "      filter: drop-shadow(0px 1px 2px rgba(0, 0, 0, 0.3));\n",
              "      fill: #FFFFFF;\n",
              "    }\n",
              "  </style>\n",
              "\n",
              "    <script>\n",
              "      const buttonEl =\n",
              "        document.querySelector('#df-98bc809d-4abf-4901-b46e-bc1cfbd91f36 button.colab-df-convert');\n",
              "      buttonEl.style.display =\n",
              "        google.colab.kernel.accessAllowed ? 'block' : 'none';\n",
              "\n",
              "      async function convertToInteractive(key) {\n",
              "        const element = document.querySelector('#df-98bc809d-4abf-4901-b46e-bc1cfbd91f36');\n",
              "        const dataTable =\n",
              "          await google.colab.kernel.invokeFunction('convertToInteractive',\n",
              "                                                    [key], {});\n",
              "        if (!dataTable) return;\n",
              "\n",
              "        const docLinkHtml = 'Like what you see? Visit the ' +\n",
              "          '<a target=\"_blank\" href=https://colab.research.google.com/notebooks/data_table.ipynb>data table notebook</a>'\n",
              "          + ' to learn more about interactive tables.';\n",
              "        element.innerHTML = '';\n",
              "        dataTable['output_type'] = 'display_data';\n",
              "        await google.colab.output.renderOutput(dataTable, element);\n",
              "        const docLink = document.createElement('div');\n",
              "        docLink.innerHTML = docLinkHtml;\n",
              "        element.appendChild(docLink);\n",
              "      }\n",
              "    </script>\n",
              "  </div>\n",
              "\n",
              "\n",
              "<div id=\"df-a2a2e036-d20d-4458-868c-d549d982b310\">\n",
              "  <button class=\"colab-df-quickchart\" onclick=\"quickchart('df-a2a2e036-d20d-4458-868c-d549d982b310')\"\n",
              "            title=\"Suggest charts\"\n",
              "            style=\"display:none;\">\n",
              "\n",
              "<svg xmlns=\"http://www.w3.org/2000/svg\" height=\"24px\"viewBox=\"0 0 24 24\"\n",
              "     width=\"24px\">\n",
              "    <g>\n",
              "        <path d=\"M19 3H5c-1.1 0-2 .9-2 2v14c0 1.1.9 2 2 2h14c1.1 0 2-.9 2-2V5c0-1.1-.9-2-2-2zM9 17H7v-7h2v7zm4 0h-2V7h2v10zm4 0h-2v-4h2v4z\"/>\n",
              "    </g>\n",
              "</svg>\n",
              "  </button>\n",
              "\n",
              "<style>\n",
              "  .colab-df-quickchart {\n",
              "      --bg-color: #E8F0FE;\n",
              "      --fill-color: #1967D2;\n",
              "      --hover-bg-color: #E2EBFA;\n",
              "      --hover-fill-color: #174EA6;\n",
              "      --disabled-fill-color: #AAA;\n",
              "      --disabled-bg-color: #DDD;\n",
              "  }\n",
              "\n",
              "  [theme=dark] .colab-df-quickchart {\n",
              "      --bg-color: #3B4455;\n",
              "      --fill-color: #D2E3FC;\n",
              "      --hover-bg-color: #434B5C;\n",
              "      --hover-fill-color: #FFFFFF;\n",
              "      --disabled-bg-color: #3B4455;\n",
              "      --disabled-fill-color: #666;\n",
              "  }\n",
              "\n",
              "  .colab-df-quickchart {\n",
              "    background-color: var(--bg-color);\n",
              "    border: none;\n",
              "    border-radius: 50%;\n",
              "    cursor: pointer;\n",
              "    display: none;\n",
              "    fill: var(--fill-color);\n",
              "    height: 32px;\n",
              "    padding: 0;\n",
              "    width: 32px;\n",
              "  }\n",
              "\n",
              "  .colab-df-quickchart:hover {\n",
              "    background-color: var(--hover-bg-color);\n",
              "    box-shadow: 0 1px 2px rgba(60, 64, 67, 0.3), 0 1px 3px 1px rgba(60, 64, 67, 0.15);\n",
              "    fill: var(--button-hover-fill-color);\n",
              "  }\n",
              "\n",
              "  .colab-df-quickchart-complete:disabled,\n",
              "  .colab-df-quickchart-complete:disabled:hover {\n",
              "    background-color: var(--disabled-bg-color);\n",
              "    fill: var(--disabled-fill-color);\n",
              "    box-shadow: none;\n",
              "  }\n",
              "\n",
              "  .colab-df-spinner {\n",
              "    border: 2px solid var(--fill-color);\n",
              "    border-color: transparent;\n",
              "    border-bottom-color: var(--fill-color);\n",
              "    animation:\n",
              "      spin 1s steps(1) infinite;\n",
              "  }\n",
              "\n",
              "  @keyframes spin {\n",
              "    0% {\n",
              "      border-color: transparent;\n",
              "      border-bottom-color: var(--fill-color);\n",
              "      border-left-color: var(--fill-color);\n",
              "    }\n",
              "    20% {\n",
              "      border-color: transparent;\n",
              "      border-left-color: var(--fill-color);\n",
              "      border-top-color: var(--fill-color);\n",
              "    }\n",
              "    30% {\n",
              "      border-color: transparent;\n",
              "      border-left-color: var(--fill-color);\n",
              "      border-top-color: var(--fill-color);\n",
              "      border-right-color: var(--fill-color);\n",
              "    }\n",
              "    40% {\n",
              "      border-color: transparent;\n",
              "      border-right-color: var(--fill-color);\n",
              "      border-top-color: var(--fill-color);\n",
              "    }\n",
              "    60% {\n",
              "      border-color: transparent;\n",
              "      border-right-color: var(--fill-color);\n",
              "    }\n",
              "    80% {\n",
              "      border-color: transparent;\n",
              "      border-right-color: var(--fill-color);\n",
              "      border-bottom-color: var(--fill-color);\n",
              "    }\n",
              "    90% {\n",
              "      border-color: transparent;\n",
              "      border-bottom-color: var(--fill-color);\n",
              "    }\n",
              "  }\n",
              "</style>\n",
              "\n",
              "  <script>\n",
              "    async function quickchart(key) {\n",
              "      const quickchartButtonEl =\n",
              "        document.querySelector('#' + key + ' button');\n",
              "      quickchartButtonEl.disabled = true;  // To prevent multiple clicks.\n",
              "      quickchartButtonEl.classList.add('colab-df-spinner');\n",
              "      try {\n",
              "        const charts = await google.colab.kernel.invokeFunction(\n",
              "            'suggestCharts', [key], {});\n",
              "      } catch (error) {\n",
              "        console.error('Error during call to suggestCharts:', error);\n",
              "      }\n",
              "      quickchartButtonEl.classList.remove('colab-df-spinner');\n",
              "      quickchartButtonEl.classList.add('colab-df-quickchart-complete');\n",
              "    }\n",
              "    (() => {\n",
              "      let quickchartButtonEl =\n",
              "        document.querySelector('#df-a2a2e036-d20d-4458-868c-d549d982b310 button');\n",
              "      quickchartButtonEl.style.display =\n",
              "        google.colab.kernel.accessAllowed ? 'block' : 'none';\n",
              "    })();\n",
              "  </script>\n",
              "</div>\n",
              "    </div>\n",
              "  </div>\n"
            ],
            "application/vnd.google.colaboratory.intrinsic+json": {
              "type": "dataframe",
              "variable_name": "df",
              "summary": "{\n  \"name\": \"df\",\n  \"rows\": 3035,\n  \"fields\": [\n    {\n      \"column\": \"full_name\",\n      \"properties\": {\n        \"dtype\": \"category\",\n        \"num_unique_values\": 93,\n        \"samples\": [\n          \"john w. hickenlooper\",\n          \"eric schmitt\",\n          \"mark r. warner\"\n        ],\n        \"semantic_type\": \"\",\n        \"description\": \"\"\n      }\n    },\n    {\n      \"column\": \"pct\",\n      \"properties\": {\n        \"dtype\": \"number\",\n        \"std\": 7.537229726734891,\n        \"min\": 6.2,\n        \"max\": 75.0,\n        \"num_unique_values\": 341,\n        \"samples\": [\n          34.9,\n          51.9,\n          54.7\n        ],\n        \"semantic_type\": \"\",\n        \"description\": \"\"\n      }\n    },\n    {\n      \"column\": \"birthday\",\n      \"properties\": {\n        \"dtype\": \"date\",\n        \"min\": \"1933-06-22 00:00:00\",\n        \"max\": \"1987-02-16 00:00:00\",\n        \"num_unique_values\": 93,\n        \"samples\": [\n          \"1952-02-07 00:00:00\",\n          \"1975-06-20 00:00:00\",\n          \"1954-12-15 00:00:00\"\n        ],\n        \"semantic_type\": \"\",\n        \"description\": \"\"\n      }\n    },\n    {\n      \"column\": \"gender\",\n      \"properties\": {\n        \"dtype\": \"category\",\n        \"num_unique_values\": 2,\n        \"samples\": [\n          \"M\",\n          \"F\"\n        ],\n        \"semantic_type\": \"\",\n        \"description\": \"\"\n      }\n    },\n    {\n      \"column\": \"party\",\n      \"properties\": {\n        \"dtype\": \"category\",\n        \"num_unique_values\": 3,\n        \"samples\": [\n          \"Democrat\",\n          \"Independent\"\n        ],\n        \"semantic_type\": \"\",\n        \"description\": \"\"\n      }\n    },\n    {\n      \"column\": \"senate_class\",\n      \"properties\": {\n        \"dtype\": \"number\",\n        \"std\": 0.858816383289418,\n        \"min\": 1.0,\n        \"max\": 3.0,\n        \"num_unique_values\": 3,\n        \"samples\": [\n          1.0,\n          2.0\n        ],\n        \"semantic_type\": \"\",\n        \"description\": \"\"\n      }\n    },\n    {\n      \"column\": \"stage\",\n      \"properties\": {\n        \"dtype\": \"category\",\n        \"num_unique_values\": 3,\n        \"samples\": [\n          \"general\",\n          \"runoff\"\n        ],\n        \"semantic_type\": \"\",\n        \"description\": \"\"\n      }\n    },\n    {\n      \"column\": \"cycle\",\n      \"properties\": {\n        \"dtype\": \"number\",\n        \"std\": 1,\n        \"min\": 2018,\n        \"max\": 2024,\n        \"num_unique_values\": 4,\n        \"samples\": [\n          2024,\n          2022\n        ],\n        \"semantic_type\": \"\",\n        \"description\": \"\"\n      }\n    },\n    {\n      \"column\": \"start_date\",\n      \"properties\": {\n        \"dtype\": \"date\",\n        \"min\": \"2016-11-16 00:00:00\",\n        \"max\": \"2024-03-13 00:00:00\",\n        \"num_unique_values\": 691,\n        \"samples\": [\n          \"2022-07-29 00:00:00\",\n          \"2022-05-19 00:00:00\"\n        ],\n        \"semantic_type\": \"\",\n        \"description\": \"\"\n      }\n    },\n    {\n      \"column\": \"end_date\",\n      \"properties\": {\n        \"dtype\": \"date\",\n        \"min\": \"2016-11-17 00:00:00\",\n        \"max\": \"2024-03-13 00:00:00\",\n        \"num_unique_values\": 693,\n        \"samples\": [\n          \"2022-09-22 00:00:00\",\n          \"2022-08-06 00:00:00\"\n        ],\n        \"semantic_type\": \"\",\n        \"description\": \"\"\n      }\n    },\n    {\n      \"column\": \"age\",\n      \"properties\": {\n        \"dtype\": \"number\",\n        \"std\": 10,\n        \"min\": 37,\n        \"max\": 91,\n        \"num_unique_values\": 40,\n        \"samples\": [\n          66,\n          91\n        ],\n        \"semantic_type\": \"\",\n        \"description\": \"\"\n      }\n    },\n    {\n      \"column\": \"emotion_majority\",\n      \"properties\": {\n        \"dtype\": \"category\",\n        \"num_unique_values\": 6,\n        \"samples\": [\n          \"happy\",\n          \"angry\"\n        ],\n        \"semantic_type\": \"\",\n        \"description\": \"\"\n      }\n    },\n    {\n      \"column\": \"race_majority\",\n      \"properties\": {\n        \"dtype\": \"category\",\n        \"num_unique_values\": 4,\n        \"samples\": [\n          \"asian\",\n          \"latino hispanic\"\n        ],\n        \"semantic_type\": \"\",\n        \"description\": \"\"\n      }\n    },\n    {\n      \"column\": \"valence_mean\",\n      \"properties\": {\n        \"dtype\": \"number\",\n        \"std\": 38.443498650906285,\n        \"min\": -73.29325515232493,\n        \"max\": 99.4289344665158,\n        \"num_unique_values\": 93,\n        \"samples\": [\n          -2.723335189678059,\n          43.73073468839683\n        ],\n        \"semantic_type\": \"\",\n        \"description\": \"\"\n      }\n    },\n    {\n      \"column\": \"serving_age\",\n      \"properties\": {\n        \"dtype\": \"number\",\n        \"std\": 10,\n        \"min\": 33,\n        \"max\": 85,\n        \"num_unique_values\": 43,\n        \"samples\": [\n          42,\n          72\n        ],\n        \"semantic_type\": \"\",\n        \"description\": \"\"\n      }\n    }\n  ]\n}"
            }
          },
          "metadata": {},
          "execution_count": 11
        }
      ]
    },
    {
      "cell_type": "code",
      "source": [
        "# @title stage\n",
        "\n",
        "df.groupby('stage').size().plot(kind='barh', color=sns.palettes.mpl_palette('Dark2'))\n",
        "plt.gca().spines[['top', 'right',]].set_visible(False)"
      ],
      "metadata": {
        "colab": {
          "base_uri": "https://localhost:8080/",
          "height": 54
        },
        "id": "hdxIYPLpqJs5",
        "outputId": "c9dd00b5-a352-438a-e94e-566ccbf62829"
      },
      "execution_count": null,
      "outputs": [
        {
          "output_type": "display_data",
          "data": {
            "text/plain": [
              "<Figure size 640x480 with 1 Axes>"
            ],
            "image/png": "[encoded data removed]"
          },
          "metadata": {}
        }
      ]
    },
    {
      "cell_type": "code",
      "source": [
        "# @title cycle\n",
        "\n",
        "df.groupby('cycle').size().plot(kind='barh', color=sns.palettes.mpl_palette('Dark2'))\n",
        "plt.gca().spines[['top', 'right',]].set_visible(False)"
      ],
      "metadata": {
        "colab": {
          "base_uri": "https://localhost:8080/",
          "height": 54
        },
        "id": "8kba8_4zp9eI",
        "outputId": "f3c6bf14-e4b4-4cd1-bb40-213ab32c98f6"
      },
      "execution_count": null,
      "outputs": [
        {
          "output_type": "display_data",
          "data": {
            "text/plain": [
              "<Figure size 640x480 with 1 Axes>"
            ],
            "image/png": "[encoded data removed]"
          },
          "metadata": {}
        }
      ]
    },
    {
      "source": [
        "# @title gender\n",
        "\n",
        "df.groupby('gender').size().plot(kind='barh', color=sns.palettes.mpl_palette('Dark2'))\n",
        "plt.gca().spines[['top', 'right',]].set_visible(False)"
      ],
      "cell_type": "code",
      "execution_count": null,
      "outputs": [
        {
          "output_type": "display_data",
          "data": {
            "text/plain": [
              "<Figure size 640x480 with 1 Axes>"
            ],
            "image/png": "[encoded data removed]"
          },
          "metadata": {}
        }
      ],
      "metadata": {
        "colab": {
          "base_uri": "https://localhost:8080/",
          "height": 54
        },
        "id": "uMYhSuQ61p_5",
        "outputId": "568d929b-c08c-420a-f60f-9d3adf2e6de8"
      }
    },
    {
      "source": [
        "df['serving_age'].plot(kind='hist', bins=20, title='Age at Cycle')\n",
        "plt.gca().spines[['top', 'right',]].set_visible(False)"
      ],
      "cell_type": "code",
      "execution_count": null,
      "outputs": [
        {
          "output_type": "display_data",
          "data": {
            "text/plain": [
              "<Figure size 640x480 with 1 Axes>"
            ],
            "image/png": "[encoded data removed]"
          },
          "metadata": {}
        }
      ],
      "metadata": {
        "colab": {
          "base_uri": "https://localhost:8080/",
          "height": 54
        },
        "id": "Yb74hwKN0tdp",
        "outputId": "8c20d386-ffb1-4d7c-a052-b3caebaba2ec"
      }
    },
    {
      "cell_type": "code",
      "source": [
        "df.groupby('full_name')['age'].max().hist()"
      ],
      "metadata": {
        "id": "bXyQNPeP0d9J",
        "colab": {
          "base_uri": "https://localhost:8080/",
          "height": 91
        },
        "outputId": "3833626d-68c2-4347-c4a8-455ab4ada7af"
      },
      "execution_count": null,
      "outputs": [
        {
          "output_type": "execute_result",
          "data": {
            "text/plain": [
              "<Axes: >"
            ]
          },
          "metadata": {},
          "execution_count": 16
        },
        {
          "output_type": "display_data",
          "data": {
            "text/plain": [
              "<Figure size 640x480 with 1 Axes>"
            ],
            "image/png": "[encoded data removed]"
          },
          "metadata": {}
        }
      ]
    },
    {
      "cell_type": "markdown",
      "source": [
        "### TODO:\n",
        "1) add the age at the time of serving -- done ✅\n",
        "\n",
        "2) grab more features"
      ],
      "metadata": {
        "id": "3zbx-8pJtHcY"
      }
    },
    {
      "cell_type": "code",
      "source": [
        "df.groupby('full_name')['age'].max().hist()"
      ],
      "metadata": {
        "id": "keJHRI_QW6-9",
        "colab": {
          "base_uri": "https://localhost:8080/",
          "height": 91
        },
        "outputId": "f4c5ccf4-ce3d-4bb9-9a99-dfea119ec931"
      },
      "execution_count": null,
      "outputs": [
        {
          "output_type": "execute_result",
          "data": {
            "text/plain": [
              "<Axes: >"
            ]
          },
          "metadata": {},
          "execution_count": 17
        },
        {
          "output_type": "display_data",
          "data": {
            "text/plain": [
              "<Figure size 640x480 with 1 Axes>"
            ],
            "image/png": "[encoded data removed]"
          },
          "metadata": {}
        }
      ]
    },
    {
      "cell_type": "code",
      "source": [
        "# todo: start_date & end_date -> How do we want to handle?"
      ],
      "metadata": {
        "id": "EY-oz4dqGjJB"
      },
      "execution_count": null,
      "outputs": []
    },
    {
      "cell_type": "code",
      "source": [],
      "metadata": {
        "id": "JAnTlQHpGjLw"
      },
      "execution_count": null,
      "outputs": []
    },
    {
      "cell_type": "markdown",
      "source": [
        "### TODO: Senator Photo Enrichment\n",
        "3 - 20 Photos of senators at various events and points in time"
      ],
      "metadata": {
        "id": "3tavs3ypTLGl"
      }
    },
    {
      "cell_type": "code",
      "source": [],
      "metadata": {
        "id": "JlA4f0HHTLJ0"
      },
      "execution_count": null,
      "outputs": []
    },
    {
      "cell_type": "code",
      "source": [
        "# TODO: Analysis on number and types of images available"
      ],
      "metadata": {
        "id": "pQNhN950TLgV"
      },
      "execution_count": null,
      "outputs": []
    },
    {
      "cell_type": "markdown",
      "source": [
        "### TODO: Emotion Detection\n",
        "Classification and Valence scores"
      ],
      "metadata": {
        "id": "Sy-c4te_GjOw"
      }
    },
    {
      "cell_type": "code",
      "source": [
        "# todo: update with real inferences"
      ],
      "metadata": {
        "id": "47bOBIjaS_uu"
      },
      "execution_count": null,
      "outputs": []
    },
    {
      "cell_type": "code",
      "source": [
        "# generating random valence values as a placeholder\n",
        "#emotions = ['engagement','happiness','anticipation','excitement','confidence','pleasure','peace','disconnection','affection','esteem','sympathy']\n",
        "#df['top_emotion'] = np.random.choice(emotions, size=len(df))\n",
        "\n",
        "#df['valence'] = np.random.randint(0,10, size=len(df))"
      ],
      "metadata": {
        "id": "kV1FLa-hXryz"
      },
      "execution_count": null,
      "outputs": []
    },
    {
      "cell_type": "code",
      "source": [
        "df['valence_mean'].describe()"
      ],
      "metadata": {
        "colab": {
          "base_uri": "https://localhost:8080/"
        },
        "id": "628A0adKbcX3",
        "outputId": "4eab524a-2e2a-4d6b-a126-0e2445cb736b"
      },
      "execution_count": null,
      "outputs": [
        {
          "output_type": "execute_result",
          "data": {
            "text/plain": [
              "count    3035.000000\n",
              "mean       26.044160\n",
              "std        38.443499\n",
              "min       -73.293255\n",
              "25%         5.415104\n",
              "50%        27.554999\n",
              "75%        56.318169\n",
              "max        99.428934\n",
              "Name: valence_mean, dtype: float64"
            ]
          },
          "metadata": {},
          "execution_count": 22
        }
      ]
    },
    {
      "cell_type": "code",
      "source": [
        "df['race_majority'].value_counts()"
      ],
      "metadata": {
        "colab": {
          "base_uri": "https://localhost:8080/"
        },
        "id": "Fn51jBRLba_U",
        "outputId": "3cc5c6ad-7ab1-426c-e16b-554d43b77797"
      },
      "execution_count": null,
      "outputs": [
        {
          "output_type": "execute_result",
          "data": {
            "text/plain": [
              "race_majority\n",
              "white              2695\n",
              "black               218\n",
              "latino hispanic     111\n",
              "asian                11\n",
              "Name: count, dtype: int64"
            ]
          },
          "metadata": {},
          "execution_count": 23
        }
      ]
    },
    {
      "cell_type": "code",
      "source": [
        "\n",
        "df.groupby('race_majority').size().plot(kind='barh', color=sns.palettes.mpl_palette('Dark2'))\n",
        "plt.gca().spines[['top', 'right',]].set_visible(False)"
      ],
      "metadata": {
        "colab": {
          "base_uri": "https://localhost:8080/",
          "height": 54
        },
        "id": "-6EFKZN_kUKD",
        "outputId": "776136cf-4c49-4010-ea94-7911b69656bc"
      },
      "execution_count": null,
      "outputs": [
        {
          "output_type": "display_data",
          "data": {
            "text/plain": [
              "<Figure size 640x480 with 1 Axes>"
            ],
            "image/png": "[encoded data removed]"
          },
          "metadata": {}
        }
      ]
    },
    {
      "cell_type": "code",
      "source": [
        "df['emotion_majority'].value_counts()"
      ],
      "metadata": {
        "colab": {
          "base_uri": "https://localhost:8080/"
        },
        "id": "YFOveEmzbXDP",
        "outputId": "d2f43c6f-2bb3-4f95-d479-8a00de1d89e2"
      },
      "execution_count": null,
      "outputs": [
        {
          "output_type": "execute_result",
          "data": {
            "text/plain": [
              "emotion_majority\n",
              "happy       2117\n",
              "neutral      329\n",
              "sad          329\n",
              "angry        159\n",
              "fear          90\n",
              "surprise      11\n",
              "Name: count, dtype: int64"
            ]
          },
          "metadata": {},
          "execution_count": 25
        }
      ]
    },
    {
      "cell_type": "code",
      "source": [
        "df.groupby('emotion_majority').size().plot(kind='barh', color=sns.palettes.mpl_palette('Dark2'))\n",
        "plt.gca().spines[['top', 'right',]].set_visible(False)"
      ],
      "metadata": {
        "colab": {
          "base_uri": "https://localhost:8080/",
          "height": 54
        },
        "id": "O9PEZ7X5kbz-",
        "outputId": "43141b07-8c40-4808-c96b-d3eaa05faa71"
      },
      "execution_count": null,
      "outputs": [
        {
          "output_type": "display_data",
          "data": {
            "text/plain": [
              "<Figure size 640x480 with 1 Axes>"
            ],
            "image/png": "[encoded data removed]"
          },
          "metadata": {}
        }
      ]
    },
    {
      "cell_type": "code",
      "source": [
        "# TODO: General EDA on the distribution of emotion inferences like frequency of emotion class and averge valence"
      ],
      "metadata": {
        "id": "c4hYUy_M2M8Z"
      },
      "execution_count": null,
      "outputs": []
    },
    {
      "cell_type": "markdown",
      "source": [
        "### Final Feature Selection"
      ],
      "metadata": {
        "id": "ljehHoW0UUzc"
      }
    },
    {
      "cell_type": "code",
      "source": [
        "# create heatmap to view correlations\n",
        "#sns.set(font_scale = 1)\n",
        "#plt.figure(figsize = (10,10))\n",
        "#sns.heatmap(df.corr(), annot=True)"
      ],
      "metadata": {
        "id": "NL6rkKmyovGH"
      },
      "execution_count": null,
      "outputs": []
    },
    {
      "cell_type": "code",
      "source": [
        "target = ['pct'] # could we do binary classification with positive or negative score?\n",
        "date_features = ['start_date','end_date','birthday'] # is cycle really \"date\" or categorical?\n",
        "categorical_features = ['emotion_majority','race_majority','gender','party','senate_class','stage','cycle']\n",
        "numerical_features = ['serving_age','valence_mean'] # omitting serving_age due to correlation with age"
      ],
      "metadata": {
        "id": "0RworoH3UUzd"
      },
      "execution_count": null,
      "outputs": []
    },
    {
      "cell_type": "markdown",
      "source": [
        "### Train/Test Split"
      ],
      "metadata": {
        "id": "BDWadmXxaq5E"
      }
    },
    {
      "cell_type": "code",
      "source": [
        "df.head()"
      ],
      "metadata": {
        "colab": {
          "base_uri": "https://localhost:8080/",
          "height": 313
        },
        "id": "KPp2t7Je5G16",
        "outputId": "712e29d3-35b8-426d-c796-596f47719114"
      },
      "execution_count": null,
      "outputs": [
        {
          "output_type": "execute_result",
          "data": {
            "text/plain": [
              "       full_name   pct   birthday gender     party  senate_class    stage  \\\n",
              "0  amy klobuchar  54.0 1960-05-25      F  Democrat           1.0  general   \n",
              "1  amy klobuchar  55.0 1960-05-25      F  Democrat           1.0  general   \n",
              "2  amy klobuchar  53.0 1960-05-25      F  Democrat           1.0  general   \n",
              "3  amy klobuchar  57.0 1960-05-25      F  Democrat           1.0  general   \n",
              "4  amy klobuchar  56.0 1960-05-25      F  Democrat           1.0  general   \n",
              "\n",
              "   cycle start_date   end_date  age emotion_majority race_majority  \\\n",
              "0   2018 2018-10-15 2018-10-30   64            happy         white   \n",
              "1   2018 2018-11-02 2018-11-04   64            happy         white   \n",
              "2   2018 2018-11-01 2018-11-03   64            happy         white   \n",
              "3   2018 2018-10-29 2018-10-31   64            happy         white   \n",
              "4   2018 2018-10-15 2018-10-17   64            happy         white   \n",
              "\n",
              "   valence_mean  serving_age  \n",
              "0      26.80534           58  \n",
              "1      26.80534           58  \n",
              "2      26.80534           58  \n",
              "3      26.80534           58  \n",
              "4      26.80534           58  "
            ],
            "text/html": [
              "\n",
              "  <div id=\"df-55322ef0-057b-42fa-8d92-eb201b83804a\" class=\"colab-df-container\">\n",
              "    <div>\n",
              "<style scoped>\n",
              "    .dataframe tbody tr th:only-of-type {\n",
              "        vertical-align: middle;\n",
              "    }\n",
              "\n",
              "    .dataframe tbody tr th {\n",
              "        vertical-align: top;\n",
              "    }\n",
              "\n",
              "    .dataframe thead th {\n",
              "        text-align: right;\n",
              "    }\n",
              "</style>\n",
              "<table border=\"1\" class=\"dataframe\">\n",
              "  <thead>\n",
              "    <tr style=\"text-align: right;\">\n",
              "      <th></th>\n",
              "      <th>full_name</th>\n",
              "      <th>pct</th>\n",
              "      <th>birthday</th>\n",
              "      <th>gender</th>\n",
              "      <th>party</th>\n",
              "      <th>senate_class</th>\n",
              "      <th>stage</th>\n",
              "      <th>cycle</th>\n",
              "      <th>start_date</th>\n",
              "      <th>end_date</th>\n",
              "      <th>age</th>\n",
              "      <th>emotion_majority</th>\n",
              "      <th>race_majority</th>\n",
              "      <th>valence_mean</th>\n",
              "      <th>serving_age</th>\n",
              "    </tr>\n",
              "  </thead>\n",
              "  <tbody>\n",
              "    <tr>\n",
              "      <th>0</th>\n",
              "      <td>amy klobuchar</td>\n",
              "      <td>54.0</td>\n",
              "      <td>1960-05-25</td>\n",
              "      <td>F</td>\n",
              "      <td>Democrat</td>\n",
              "      <td>1.0</td>\n",
              "      <td>general</td>\n",
              "      <td>2018</td>\n",
              "      <td>2018-10-15</td>\n",
              "      <td>2018-10-30</td>\n",
              "      <td>64</td>\n",
              "      <td>happy</td>\n",
              "      <td>white</td>\n",
              "      <td>26.80534</td>\n",
              "      <td>58</td>\n",
              "    </tr>\n",
              "    <tr>\n",
              "      <th>1</th>\n",
              "      <td>amy klobuchar</td>\n",
              "      <td>55.0</td>\n",
              "      <td>1960-05-25</td>\n",
              "      <td>F</td>\n",
              "      <td>Democrat</td>\n",
              "      <td>1.0</td>\n",
              "      <td>general</td>\n",
              "      <td>2018</td>\n",
              "      <td>2018-11-02</td>\n",
              "      <td>2018-11-04</td>\n",
              "      <td>64</td>\n",
              "      <td>happy</td>\n",
              "      <td>white</td>\n",
              "      <td>26.80534</td>\n",
              "      <td>58</td>\n",
              "    </tr>\n",
              "    <tr>\n",
              "      <th>2</th>\n",
              "      <td>amy klobuchar</td>\n",
              "      <td>53.0</td>\n",
              "      <td>1960-05-25</td>\n",
              "      <td>F</td>\n",
              "      <td>Democrat</td>\n",
              "      <td>1.0</td>\n",
              "      <td>general</td>\n",
              "      <td>2018</td>\n",
              "      <td>2018-11-01</td>\n",
              "      <td>2018-11-03</td>\n",
              "      <td>64</td>\n",
              "      <td>happy</td>\n",
              "      <td>white</td>\n",
              "      <td>26.80534</td>\n",
              "      <td>58</td>\n",
              "    </tr>\n",
              "    <tr>\n",
              "      <th>3</th>\n",
              "      <td>amy klobuchar</td>\n",
              "      <td>57.0</td>\n",
              "      <td>1960-05-25</td>\n",
              "      <td>F</td>\n",
              "      <td>Democrat</td>\n",
              "      <td>1.0</td>\n",
              "      <td>general</td>\n",
              "      <td>2018</td>\n",
              "      <td>2018-10-29</td>\n",
              "      <td>2018-10-31</td>\n",
              "      <td>64</td>\n",
              "      <td>happy</td>\n",
              "      <td>white</td>\n",
              "      <td>26.80534</td>\n",
              "      <td>58</td>\n",
              "    </tr>\n",
              "    <tr>\n",
              "      <th>4</th>\n",
              "      <td>amy klobuchar</td>\n",
              "      <td>56.0</td>\n",
              "      <td>1960-05-25</td>\n",
              "      <td>F</td>\n",
              "      <td>Democrat</td>\n",
              "      <td>1.0</td>\n",
              "      <td>general</td>\n",
              "      <td>2018</td>\n",
              "      <td>2018-10-15</td>\n",
              "      <td>2018-10-17</td>\n",
              "      <td>64</td>\n",
              "      <td>happy</td>\n",
              "      <td>white</td>\n",
              "      <td>26.80534</td>\n",
              "      <td>58</td>\n",
              "    </tr>\n",
              "  </tbody>\n",
              "</table>\n",
              "</div>\n",
              "    <div class=\"colab-df-buttons\">\n",
              "\n",
              "  <div class=\"colab-df-container\">\n",
              "    <button class=\"colab-df-convert\" onclick=\"convertToInteractive('df-55322ef0-057b-42fa-8d92-eb201b83804a')\"\n",
              "            title=\"Convert this dataframe to an interactive table.\"\n",
              "            style=\"display:none;\">\n",
              "\n",
              "  <svg xmlns=\"http://www.w3.org/2000/svg\" height=\"24px\" viewBox=\"0 -960 960 960\">\n",
              "    <path d=\"M120-120v-720h720v720H120Zm60-500h600v-160H180v160Zm220 220h160v-160H400v160Zm0 220h160v-160H400v160ZM180-400h160v-160H180v160Zm440 0h160v-160H620v160ZM180-180h160v-160H180v160Zm440 0h160v-160H620v160Z\"/>\n",
              "  </svg>\n",
              "    </button>\n",
              "\n",
              "  <style>\n",
              "    .colab-df-container {\n",
              "      display:flex;\n",
              "      gap: 12px;\n",
              "    }\n",
              "\n",
              "    .colab-df-convert {\n",
              "      background-color: #E8F0FE;\n",
              "      border: none;\n",
              "      border-radius: 50%;\n",
              "      cursor: pointer;\n",
              "      display: none;\n",
              "      fill: #1967D2;\n",
              "      height: 32px;\n",
              "      padding: 0 0 0 0;\n",
              "      width: 32px;\n",
              "    }\n",
              "\n",
              "    .colab-df-convert:hover {\n",
              "      background-color: #E2EBFA;\n",
              "      box-shadow: 0px 1px 2px rgba(60, 64, 67, 0.3), 0px 1px 3px 1px rgba(60, 64, 67, 0.15);\n",
              "      fill: #174EA6;\n",
              "    }\n",
              "\n",
              "    .colab-df-buttons div {\n",
              "      margin-bottom: 4px;\n",
              "    }\n",
              "\n",
              "    [theme=dark] .colab-df-convert {\n",
              "      background-color: #3B4455;\n",
              "      fill: #D2E3FC;\n",
              "    }\n",
              "\n",
              "    [theme=dark] .colab-df-convert:hover {\n",
              "      background-color: #434B5C;\n",
              "      box-shadow: 0px 1px 3px 1px rgba(0, 0, 0, 0.15);\n",
              "      filter: drop-shadow(0px 1px 2px rgba(0, 0, 0, 0.3));\n",
              "      fill: #FFFFFF;\n",
              "    }\n",
              "  </style>\n",
              "\n",
              "    <script>\n",
              "      const buttonEl =\n",
              "        document.querySelector('#df-55322ef0-057b-42fa-8d92-eb201b83804a button.colab-df-convert');\n",
              "      buttonEl.style.display =\n",
              "        google.colab.kernel.accessAllowed ? 'block' : 'none';\n",
              "\n",
              "      async function convertToInteractive(key) {\n",
              "        const element = document.querySelector('#df-55322ef0-057b-42fa-8d92-eb201b83804a');\n",
              "        const dataTable =\n",
              "          await google.colab.kernel.invokeFunction('convertToInteractive',\n",
              "                                                    [key], {});\n",
              "        if (!dataTable) return;\n",
              "\n",
              "        const docLinkHtml = 'Like what you see? Visit the ' +\n",
              "          '<a target=\"_blank\" href=https://colab.research.google.com/notebooks/data_table.ipynb>data table notebook</a>'\n",
              "          + ' to learn more about interactive tables.';\n",
              "        element.innerHTML = '';\n",
              "        dataTable['output_type'] = 'display_data';\n",
              "        await google.colab.output.renderOutput(dataTable, element);\n",
              "        const docLink = document.createElement('div');\n",
              "        docLink.innerHTML = docLinkHtml;\n",
              "        element.appendChild(docLink);\n",
              "      }\n",
              "    </script>\n",
              "  </div>\n",
              "\n",
              "\n",
              "<div id=\"df-6545ff74-26f0-4d61-a608-a9d714327447\">\n",
              "  <button class=\"colab-df-quickchart\" onclick=\"quickchart('df-6545ff74-26f0-4d61-a608-a9d714327447')\"\n",
              "            title=\"Suggest charts\"\n",
              "            style=\"display:none;\">\n",
              "\n",
              "<svg xmlns=\"http://www.w3.org/2000/svg\" height=\"24px\"viewBox=\"0 0 24 24\"\n",
              "     width=\"24px\">\n",
              "    <g>\n",
              "        <path d=\"M19 3H5c-1.1 0-2 .9-2 2v14c0 1.1.9 2 2 2h14c1.1 0 2-.9 2-2V5c0-1.1-.9-2-2-2zM9 17H7v-7h2v7zm4 0h-2V7h2v10zm4 0h-2v-4h2v4z\"/>\n",
              "    </g>\n",
              "</svg>\n",
              "  </button>\n",
              "\n",
              "<style>\n",
              "  .colab-df-quickchart {\n",
              "      --bg-color: #E8F0FE;\n",
              "      --fill-color: #1967D2;\n",
              "      --hover-bg-color: #E2EBFA;\n",
              "      --hover-fill-color: #174EA6;\n",
              "      --disabled-fill-color: #AAA;\n",
              "      --disabled-bg-color: #DDD;\n",
              "  }\n",
              "\n",
              "  [theme=dark] .colab-df-quickchart {\n",
              "      --bg-color: #3B4455;\n",
              "      --fill-color: #D2E3FC;\n",
              "      --hover-bg-color: #434B5C;\n",
              "      --hover-fill-color: #FFFFFF;\n",
              "      --disabled-bg-color: #3B4455;\n",
              "      --disabled-fill-color: #666;\n",
              "  }\n",
              "\n",
              "  .colab-df-quickchart {\n",
              "    background-color: var(--bg-color);\n",
              "    border: none;\n",
              "    border-radius: 50%;\n",
              "    cursor: pointer;\n",
              "    display: none;\n",
              "    fill: var(--fill-color);\n",
              "    height: 32px;\n",
              "    padding: 0;\n",
              "    width: 32px;\n",
              "  }\n",
              "\n",
              "  .colab-df-quickchart:hover {\n",
              "    background-color: var(--hover-bg-color);\n",
              "    box-shadow: 0 1px 2px rgba(60, 64, 67, 0.3), 0 1px 3px 1px rgba(60, 64, 67, 0.15);\n",
              "    fill: var(--button-hover-fill-color);\n",
              "  }\n",
              "\n",
              "  .colab-df-quickchart-complete:disabled,\n",
              "  .colab-df-quickchart-complete:disabled:hover {\n",
              "    background-color: var(--disabled-bg-color);\n",
              "    fill: var(--disabled-fill-color);\n",
              "    box-shadow: none;\n",
              "  }\n",
              "\n",
              "  .colab-df-spinner {\n",
              "    border: 2px solid var(--fill-color);\n",
              "    border-color: transparent;\n",
              "    border-bottom-color: var(--fill-color);\n",
              "    animation:\n",
              "      spin 1s steps(1) infinite;\n",
              "  }\n",
              "\n",
              "  @keyframes spin {\n",
              "    0% {\n",
              "      border-color: transparent;\n",
              "      border-bottom-color: var(--fill-color);\n",
              "      border-left-color: var(--fill-color);\n",
              "    }\n",
              "    20% {\n",
              "      border-color: transparent;\n",
              "      border-left-color: var(--fill-color);\n",
              "      border-top-color: var(--fill-color);\n",
              "    }\n",
              "    30% {\n",
              "      border-color: transparent;\n",
              "      border-left-color: var(--fill-color);\n",
              "      border-top-color: var(--fill-color);\n",
              "      border-right-color: var(--fill-color);\n",
              "    }\n",
              "    40% {\n",
              "      border-color: transparent;\n",
              "      border-right-color: var(--fill-color);\n",
              "      border-top-color: var(--fill-color);\n",
              "    }\n",
              "    60% {\n",
              "      border-color: transparent;\n",
              "      border-right-color: var(--fill-color);\n",
              "    }\n",
              "    80% {\n",
              "      border-color: transparent;\n",
              "      border-right-color: var(--fill-color);\n",
              "      border-bottom-color: var(--fill-color);\n",
              "    }\n",
              "    90% {\n",
              "      border-color: transparent;\n",
              "      border-bottom-color: var(--fill-color);\n",
              "    }\n",
              "  }\n",
              "</style>\n",
              "\n",
              "  <script>\n",
              "    async function quickchart(key) {\n",
              "      const quickchartButtonEl =\n",
              "        document.querySelector('#' + key + ' button');\n",
              "      quickchartButtonEl.disabled = true;  // To prevent multiple clicks.\n",
              "      quickchartButtonEl.classList.add('colab-df-spinner');\n",
              "      try {\n",
              "        const charts = await google.colab.kernel.invokeFunction(\n",
              "            'suggestCharts', [key], {});\n",
              "      } catch (error) {\n",
              "        console.error('Error during call to suggestCharts:', error);\n",
              "      }\n",
              "      quickchartButtonEl.classList.remove('colab-df-spinner');\n",
              "      quickchartButtonEl.classList.add('colab-df-quickchart-complete');\n",
              "    }\n",
              "    (() => {\n",
              "      let quickchartButtonEl =\n",
              "        document.querySelector('#df-6545ff74-26f0-4d61-a608-a9d714327447 button');\n",
              "      quickchartButtonEl.style.display =\n",
              "        google.colab.kernel.accessAllowed ? 'block' : 'none';\n",
              "    })();\n",
              "  </script>\n",
              "</div>\n",
              "    </div>\n",
              "  </div>\n"
            ],
            "application/vnd.google.colaboratory.intrinsic+json": {
              "type": "dataframe",
              "variable_name": "df",
              "summary": "{\n  \"name\": \"df\",\n  \"rows\": 3035,\n  \"fields\": [\n    {\n      \"column\": \"full_name\",\n      \"properties\": {\n        \"dtype\": \"category\",\n        \"num_unique_values\": 93,\n        \"samples\": [\n          \"john w. hickenlooper\",\n          \"eric schmitt\",\n          \"mark r. warner\"\n        ],\n        \"semantic_type\": \"\",\n        \"description\": \"\"\n      }\n    },\n    {\n      \"column\": \"pct\",\n      \"properties\": {\n        \"dtype\": \"number\",\n        \"std\": 7.537229726734891,\n        \"min\": 6.2,\n        \"max\": 75.0,\n        \"num_unique_values\": 341,\n        \"samples\": [\n          34.9,\n          51.9,\n          54.7\n        ],\n        \"semantic_type\": \"\",\n        \"description\": \"\"\n      }\n    },\n    {\n      \"column\": \"birthday\",\n      \"properties\": {\n        \"dtype\": \"date\",\n        \"min\": \"1933-06-22 00:00:00\",\n        \"max\": \"1987-02-16 00:00:00\",\n        \"num_unique_values\": 93,\n        \"samples\": [\n          \"1952-02-07 00:00:00\",\n          \"1975-06-20 00:00:00\",\n          \"1954-12-15 00:00:00\"\n        ],\n        \"semantic_type\": \"\",\n        \"description\": \"\"\n      }\n    },\n    {\n      \"column\": \"gender\",\n      \"properties\": {\n        \"dtype\": \"category\",\n        \"num_unique_values\": 2,\n        \"samples\": [\n          \"M\",\n          \"F\"\n        ],\n        \"semantic_type\": \"\",\n        \"description\": \"\"\n      }\n    },\n    {\n      \"column\": \"party\",\n      \"properties\": {\n        \"dtype\": \"category\",\n        \"num_unique_values\": 3,\n        \"samples\": [\n          \"Democrat\",\n          \"Independent\"\n        ],\n        \"semantic_type\": \"\",\n        \"description\": \"\"\n      }\n    },\n    {\n      \"column\": \"senate_class\",\n      \"properties\": {\n        \"dtype\": \"number\",\n        \"std\": 0.858816383289418,\n        \"min\": 1.0,\n        \"max\": 3.0,\n        \"num_unique_values\": 3,\n        \"samples\": [\n          1.0,\n          2.0\n        ],\n        \"semantic_type\": \"\",\n        \"description\": \"\"\n      }\n    },\n    {\n      \"column\": \"stage\",\n      \"properties\": {\n        \"dtype\": \"category\",\n        \"num_unique_values\": 3,\n        \"samples\": [\n          \"general\",\n          \"runoff\"\n        ],\n        \"semantic_type\": \"\",\n        \"description\": \"\"\n      }\n    },\n    {\n      \"column\": \"cycle\",\n      \"properties\": {\n        \"dtype\": \"number\",\n        \"std\": 1,\n        \"min\": 2018,\n        \"max\": 2024,\n        \"num_unique_values\": 4,\n        \"samples\": [\n          2024,\n          2022\n        ],\n        \"semantic_type\": \"\",\n        \"description\": \"\"\n      }\n    },\n    {\n      \"column\": \"start_date\",\n      \"properties\": {\n        \"dtype\": \"date\",\n        \"min\": \"2016-11-16 00:00:00\",\n        \"max\": \"2024-03-13 00:00:00\",\n        \"num_unique_values\": 691,\n        \"samples\": [\n          \"2022-07-29 00:00:00\",\n          \"2022-05-19 00:00:00\"\n        ],\n        \"semantic_type\": \"\",\n        \"description\": \"\"\n      }\n    },\n    {\n      \"column\": \"end_date\",\n      \"properties\": {\n        \"dtype\": \"date\",\n        \"min\": \"2016-11-17 00:00:00\",\n        \"max\": \"2024-03-13 00:00:00\",\n        \"num_unique_values\": 693,\n        \"samples\": [\n          \"2022-09-22 00:00:00\",\n          \"2022-08-06 00:00:00\"\n        ],\n        \"semantic_type\": \"\",\n        \"description\": \"\"\n      }\n    },\n    {\n      \"column\": \"age\",\n      \"properties\": {\n        \"dtype\": \"number\",\n        \"std\": 10,\n        \"min\": 37,\n        \"max\": 91,\n        \"num_unique_values\": 40,\n        \"samples\": [\n          66,\n          91\n        ],\n        \"semantic_type\": \"\",\n        \"description\": \"\"\n      }\n    },\n    {\n      \"column\": \"emotion_majority\",\n      \"properties\": {\n        \"dtype\": \"category\",\n        \"num_unique_values\": 6,\n        \"samples\": [\n          \"happy\",\n          \"angry\"\n        ],\n        \"semantic_type\": \"\",\n        \"description\": \"\"\n      }\n    },\n    {\n      \"column\": \"race_majority\",\n      \"properties\": {\n        \"dtype\": \"category\",\n        \"num_unique_values\": 4,\n        \"samples\": [\n          \"asian\",\n          \"latino hispanic\"\n        ],\n        \"semantic_type\": \"\",\n        \"description\": \"\"\n      }\n    },\n    {\n      \"column\": \"valence_mean\",\n      \"properties\": {\n        \"dtype\": \"number\",\n        \"std\": 38.443498650906285,\n        \"min\": -73.29325515232493,\n        \"max\": 99.4289344665158,\n        \"num_unique_values\": 93,\n        \"samples\": [\n          -2.723335189678059,\n          43.73073468839683\n        ],\n        \"semantic_type\": \"\",\n        \"description\": \"\"\n      }\n    },\n    {\n      \"column\": \"serving_age\",\n      \"properties\": {\n        \"dtype\": \"number\",\n        \"std\": 10,\n        \"min\": 33,\n        \"max\": 85,\n        \"num_unique_values\": 43,\n        \"samples\": [\n          42,\n          72\n        ],\n        \"semantic_type\": \"\",\n        \"description\": \"\"\n      }\n    }\n  ]\n}"
            }
          },
          "metadata": {},
          "execution_count": 30
        }
      ]
    },
    {
      "cell_type": "code",
      "source": [
        "df.isnull().sum()"
      ],
      "metadata": {
        "colab": {
          "base_uri": "https://localhost:8080/"
        },
        "id": "G9clP4C7R5C0",
        "outputId": "62914342-458c-42ed-c776-b2eb4f78acad"
      },
      "execution_count": null,
      "outputs": [
        {
          "output_type": "execute_result",
          "data": {
            "text/plain": [
              "full_name           0\n",
              "pct                 0\n",
              "birthday            0\n",
              "gender              0\n",
              "party               0\n",
              "senate_class        0\n",
              "stage               0\n",
              "cycle               0\n",
              "start_date          0\n",
              "end_date            0\n",
              "age                 0\n",
              "emotion_majority    0\n",
              "race_majority       0\n",
              "valence_mean        0\n",
              "serving_age         0\n",
              "dtype: int64"
            ]
          },
          "metadata": {},
          "execution_count": 31
        }
      ]
    },
    {
      "cell_type": "code",
      "source": [
        "df.info()"
      ],
      "metadata": {
        "colab": {
          "base_uri": "https://localhost:8080/"
        },
        "id": "Jtqe5vjfjSzl",
        "outputId": "89f517ea-4431-471b-ee62-5495c625460d"
      },
      "execution_count": null,
      "outputs": [
        {
          "output_type": "stream",
          "name": "stdout",
          "text": [
            "<class 'pandas.core.frame.DataFrame'>\n",
            "RangeIndex: 3035 entries, 0 to 3034\n",
            "Data columns (total 15 columns):\n",
            " #   Column            Non-Null Count  Dtype         \n",
            "---  ------            --------------  -----         \n",
            " 0   full_name         3035 non-null   object        \n",
            " 1   pct               3035 non-null   float64       \n",
            " 2   birthday          3035 non-null   datetime64[ns]\n",
            " 3   gender            3035 non-null   object        \n",
            " 4   party             3035 non-null   object        \n",
            " 5   senate_class      3035 non-null   float64       \n",
            " 6   stage             3035 non-null   object        \n",
            " 7   cycle             3035 non-null   int64         \n",
            " 8   start_date        3035 non-null   datetime64[ns]\n",
            " 9   end_date          3035 non-null   datetime64[ns]\n",
            " 10  age               3035 non-null   int64         \n",
            " 11  emotion_majority  3035 non-null   object        \n",
            " 12  race_majority     3035 non-null   object        \n",
            " 13  valence_mean      3035 non-null   float64       \n",
            " 14  serving_age       3035 non-null   int64         \n",
            "dtypes: datetime64[ns](3), float64(3), int64(3), object(6)\n",
            "memory usage: 355.8+ KB\n"
          ]
        }
      ]
    },
    {
      "cell_type": "code",
      "source": [
        "df[categorical_features] = df[categorical_features].astype(str)"
      ],
      "metadata": {
        "id": "7Du12l-AuAL4"
      },
      "execution_count": null,
      "outputs": []
    },
    {
      "cell_type": "code",
      "source": [
        "#using random shuffle\n",
        "X_train, X_test, y_train, y_test = train_test_split(df[categorical_features + numerical_features],df[target], test_size=0.2, random_state=42)"
      ],
      "metadata": {
        "id": "fOulfUA1bKbF"
      },
      "execution_count": null,
      "outputs": []
    },
    {
      "cell_type": "code",
      "source": [
        "X_train"
      ],
      "metadata": {
        "id": "f4T4r-gOcUtE",
        "colab": {
          "base_uri": "https://localhost:8080/",
          "height": 444
        },
        "outputId": "7e4840a3-7cb2-4c52-939e-a4821f86b6a8"
      },
      "execution_count": null,
      "outputs": [
        {
          "output_type": "execute_result",
          "data": {
            "text/plain": [
              "     emotion_majority race_majority gender       party senate_class    stage  \\\n",
              "1097              sad         white      M    Democrat          2.0  general   \n",
              "407               sad         white      M  Republican          1.0  general   \n",
              "2716            happy         white      M    Democrat          1.0  general   \n",
              "999           neutral         white      M    Democrat          2.0  general   \n",
              "1222            happy         white      F  Republican          3.0   runoff   \n",
              "...               ...           ...    ...         ...          ...      ...   \n",
              "1638          neutral         white      M    Democrat          3.0  general   \n",
              "1095              sad         white      M    Democrat          2.0  general   \n",
              "1130            happy         white      M    Democrat          1.0  general   \n",
              "1294            happy         white      F  Republican          3.0   runoff   \n",
              "860             happy         white      M  Republican          2.0  general   \n",
              "\n",
              "     cycle  serving_age  valence_mean  \n",
              "1097  2020           33      8.028879  \n",
              "407   2018           58    -29.753430  \n",
              "2716  2024           70     98.737377  \n",
              "999   2020           68     -2.723335  \n",
              "1222  2020           49     -3.193533  \n",
              "...    ...          ...           ...  \n",
              "1638  2020           56     45.874163  \n",
              "1095  2020           33      8.028879  \n",
              "1130  2024           67     63.739560  \n",
              "1294  2020           49     -3.193533  \n",
              "860   2020           68     25.950037  \n",
              "\n",
              "[2428 rows x 9 columns]"
            ],
            "text/html": [
              "\n",
              "  <div id=\"df-473f7512-c5ad-448b-8aad-4662bf0e1299\" class=\"colab-df-container\">\n",
              "    <div>\n",
              "<style scoped>\n",
              "    .dataframe tbody tr th:only-of-type {\n",
              "        vertical-align: middle;\n",
              "    }\n",
              "\n",
              "    .dataframe tbody tr th {\n",
              "        vertical-align: top;\n",
              "    }\n",
              "\n",
              "    .dataframe thead th {\n",
              "        text-align: right;\n",
              "    }\n",
              "</style>\n",
              "<table border=\"1\" class=\"dataframe\">\n",
              "  <thead>\n",
              "    <tr style=\"text-align: right;\">\n",
              "      <th></th>\n",
              "      <th>emotion_majority</th>\n",
              "      <th>race_majority</th>\n",
              "      <th>gender</th>\n",
              "      <th>party</th>\n",
              "      <th>senate_class</th>\n",
              "      <th>stage</th>\n",
              "      <th>cycle</th>\n",
              "      <th>serving_age</th>\n",
              "      <th>valence_mean</th>\n",
              "    </tr>\n",
              "  </thead>\n",
              "  <tbody>\n",
              "    <tr>\n",
              "      <th>1097</th>\n",
              "      <td>sad</td>\n",
              "      <td>white</td>\n",
              "      <td>M</td>\n",
              "      <td>Democrat</td>\n",
              "      <td>2.0</td>\n",
              "      <td>general</td>\n",
              "      <td>2020</td>\n",
              "      <td>33</td>\n",
              "      <td>8.028879</td>\n",
              "    </tr>\n",
              "    <tr>\n",
              "      <th>407</th>\n",
              "      <td>sad</td>\n",
              "      <td>white</td>\n",
              "      <td>M</td>\n",
              "      <td>Republican</td>\n",
              "      <td>1.0</td>\n",
              "      <td>general</td>\n",
              "      <td>2018</td>\n",
              "      <td>58</td>\n",
              "      <td>-29.753430</td>\n",
              "    </tr>\n",
              "    <tr>\n",
              "      <th>2716</th>\n",
              "      <td>happy</td>\n",
              "      <td>white</td>\n",
              "      <td>M</td>\n",
              "      <td>Democrat</td>\n",
              "      <td>1.0</td>\n",
              "      <td>general</td>\n",
              "      <td>2024</td>\n",
              "      <td>70</td>\n",
              "      <td>98.737377</td>\n",
              "    </tr>\n",
              "    <tr>\n",
              "      <th>999</th>\n",
              "      <td>neutral</td>\n",
              "      <td>white</td>\n",
              "      <td>M</td>\n",
              "      <td>Democrat</td>\n",
              "      <td>2.0</td>\n",
              "      <td>general</td>\n",
              "      <td>2020</td>\n",
              "      <td>68</td>\n",
              "      <td>-2.723335</td>\n",
              "    </tr>\n",
              "    <tr>\n",
              "      <th>1222</th>\n",
              "      <td>happy</td>\n",
              "      <td>white</td>\n",
              "      <td>F</td>\n",
              "      <td>Republican</td>\n",
              "      <td>3.0</td>\n",
              "      <td>runoff</td>\n",
              "      <td>2020</td>\n",
              "      <td>49</td>\n",
              "      <td>-3.193533</td>\n",
              "    </tr>\n",
              "    <tr>\n",
              "      <th>...</th>\n",
              "      <td>...</td>\n",
              "      <td>...</td>\n",
              "      <td>...</td>\n",
              "      <td>...</td>\n",
              "      <td>...</td>\n",
              "      <td>...</td>\n",
              "      <td>...</td>\n",
              "      <td>...</td>\n",
              "      <td>...</td>\n",
              "    </tr>\n",
              "    <tr>\n",
              "      <th>1638</th>\n",
              "      <td>neutral</td>\n",
              "      <td>white</td>\n",
              "      <td>M</td>\n",
              "      <td>Democrat</td>\n",
              "      <td>3.0</td>\n",
              "      <td>general</td>\n",
              "      <td>2020</td>\n",
              "      <td>56</td>\n",
              "      <td>45.874163</td>\n",
              "    </tr>\n",
              "    <tr>\n",
              "      <th>1095</th>\n",
              "      <td>sad</td>\n",
              "      <td>white</td>\n",
              "      <td>M</td>\n",
              "      <td>Democrat</td>\n",
              "      <td>2.0</td>\n",
              "      <td>general</td>\n",
              "      <td>2020</td>\n",
              "      <td>33</td>\n",
              "      <td>8.028879</td>\n",
              "    </tr>\n",
              "    <tr>\n",
              "      <th>1130</th>\n",
              "      <td>happy</td>\n",
              "      <td>white</td>\n",
              "      <td>M</td>\n",
              "      <td>Democrat</td>\n",
              "      <td>1.0</td>\n",
              "      <td>general</td>\n",
              "      <td>2024</td>\n",
              "      <td>67</td>\n",
              "      <td>63.739560</td>\n",
              "    </tr>\n",
              "    <tr>\n",
              "      <th>1294</th>\n",
              "      <td>happy</td>\n",
              "      <td>white</td>\n",
              "      <td>F</td>\n",
              "      <td>Republican</td>\n",
              "      <td>3.0</td>\n",
              "      <td>runoff</td>\n",
              "      <td>2020</td>\n",
              "      <td>49</td>\n",
              "      <td>-3.193533</td>\n",
              "    </tr>\n",
              "    <tr>\n",
              "      <th>860</th>\n",
              "      <td>happy</td>\n",
              "      <td>white</td>\n",
              "      <td>M</td>\n",
              "      <td>Republican</td>\n",
              "      <td>2.0</td>\n",
              "      <td>general</td>\n",
              "      <td>2020</td>\n",
              "      <td>68</td>\n",
              "      <td>25.950037</td>\n",
              "    </tr>\n",
              "  </tbody>\n",
              "</table>\n",
              "<p>2428 rows × 9 columns</p>\n",
              "</div>\n",
              "    <div class=\"colab-df-buttons\">\n",
              "\n",
              "  <div class=\"colab-df-container\">\n",
              "    <button class=\"colab-df-convert\" onclick=\"convertToInteractive('df-473f7512-c5ad-448b-8aad-4662bf0e1299')\"\n",
              "            title=\"Convert this dataframe to an interactive table.\"\n",
              "            style=\"display:none;\">\n",
              "\n",
              "  <svg xmlns=\"http://www.w3.org/2000/svg\" height=\"24px\" viewBox=\"0 -960 960 960\">\n",
              "    <path d=\"M120-120v-720h720v720H120Zm60-500h600v-160H180v160Zm220 220h160v-160H400v160Zm0 220h160v-160H400v160ZM180-400h160v-160H180v160Zm440 0h160v-160H620v160ZM180-180h160v-160H180v160Zm440 0h160v-160H620v160Z\"/>\n",
              "  </svg>\n",
              "    </button>\n",
              "\n",
              "  <style>\n",
              "    .colab-df-container {\n",
              "      display:flex;\n",
              "      gap: 12px;\n",
              "    }\n",
              "\n",
              "    .colab-df-convert {\n",
              "      background-color: #E8F0FE;\n",
              "      border: none;\n",
              "      border-radius: 50%;\n",
              "      cursor: pointer;\n",
              "      display: none;\n",
              "      fill: #1967D2;\n",
              "      height: 32px;\n",
              "      padding: 0 0 0 0;\n",
              "      width: 32px;\n",
              "    }\n",
              "\n",
              "    .colab-df-convert:hover {\n",
              "      background-color: #E2EBFA;\n",
              "      box-shadow: 0px 1px 2px rgba(60, 64, 67, 0.3), 0px 1px 3px 1px rgba(60, 64, 67, 0.15);\n",
              "      fill: #174EA6;\n",
              "    }\n",
              "\n",
              "    .colab-df-buttons div {\n",
              "      margin-bottom: 4px;\n",
              "    }\n",
              "\n",
              "    [theme=dark] .colab-df-convert {\n",
              "      background-color: #3B4455;\n",
              "      fill: #D2E3FC;\n",
              "    }\n",
              "\n",
              "    [theme=dark] .colab-df-convert:hover {\n",
              "      background-color: #434B5C;\n",
              "      box-shadow: 0px 1px 3px 1px rgba(0, 0, 0, 0.15);\n",
              "      filter: drop-shadow(0px 1px 2px rgba(0, 0, 0, 0.3));\n",
              "      fill: #FFFFFF;\n",
              "    }\n",
              "  </style>\n",
              "\n",
              "    <script>\n",
              "      const buttonEl =\n",
              "        document.querySelector('#df-473f7512-c5ad-448b-8aad-4662bf0e1299 button.colab-df-convert');\n",
              "      buttonEl.style.display =\n",
              "        google.colab.kernel.accessAllowed ? 'block' : 'none';\n",
              "\n",
              "      async function convertToInteractive(key) {\n",
              "        const element = document.querySelector('#df-473f7512-c5ad-448b-8aad-4662bf0e1299');\n",
              "        const dataTable =\n",
              "          await google.colab.kernel.invokeFunction('convertToInteractive',\n",
              "                                                    [key], {});\n",
              "        if (!dataTable) return;\n",
              "\n",
              "        const docLinkHtml = 'Like what you see? Visit the ' +\n",
              "          '<a target=\"_blank\" href=https://colab.research.google.com/notebooks/data_table.ipynb>data table notebook</a>'\n",
              "          + ' to learn more about interactive tables.';\n",
              "        element.innerHTML = '';\n",
              "        dataTable['output_type'] = 'display_data';\n",
              "        await google.colab.output.renderOutput(dataTable, element);\n",
              "        const docLink = document.createElement('div');\n",
              "        docLink.innerHTML = docLinkHtml;\n",
              "        element.appendChild(docLink);\n",
              "      }\n",
              "    </script>\n",
              "  </div>\n",
              "\n",
              "\n",
              "<div id=\"df-05a5dd9d-6e05-48cb-adc0-0c6504a4b7b7\">\n",
              "  <button class=\"colab-df-quickchart\" onclick=\"quickchart('df-05a5dd9d-6e05-48cb-adc0-0c6504a4b7b7')\"\n",
              "            title=\"Suggest charts\"\n",
              "            style=\"display:none;\">\n",
              "\n",
              "<svg xmlns=\"http://www.w3.org/2000/svg\" height=\"24px\"viewBox=\"0 0 24 24\"\n",
              "     width=\"24px\">\n",
              "    <g>\n",
              "        <path d=\"M19 3H5c-1.1 0-2 .9-2 2v14c0 1.1.9 2 2 2h14c1.1 0 2-.9 2-2V5c0-1.1-.9-2-2-2zM9 17H7v-7h2v7zm4 0h-2V7h2v10zm4 0h-2v-4h2v4z\"/>\n",
              "    </g>\n",
              "</svg>\n",
              "  </button>\n",
              "\n",
              "<style>\n",
              "  .colab-df-quickchart {\n",
              "      --bg-color: #E8F0FE;\n",
              "      --fill-color: #1967D2;\n",
              "      --hover-bg-color: #E2EBFA;\n",
              "      --hover-fill-color: #174EA6;\n",
              "      --disabled-fill-color: #AAA;\n",
              "      --disabled-bg-color: #DDD;\n",
              "  }\n",
              "\n",
              "  [theme=dark] .colab-df-quickchart {\n",
              "      --bg-color: #3B4455;\n",
              "      --fill-color: #D2E3FC;\n",
              "      --hover-bg-color: #434B5C;\n",
              "      --hover-fill-color: #FFFFFF;\n",
              "      --disabled-bg-color: #3B4455;\n",
              "      --disabled-fill-color: #666;\n",
              "  }\n",
              "\n",
              "  .colab-df-quickchart {\n",
              "    background-color: var(--bg-color);\n",
              "    border: none;\n",
              "    border-radius: 50%;\n",
              "    cursor: pointer;\n",
              "    display: none;\n",
              "    fill: var(--fill-color);\n",
              "    height: 32px;\n",
              "    padding: 0;\n",
              "    width: 32px;\n",
              "  }\n",
              "\n",
              "  .colab-df-quickchart:hover {\n",
              "    background-color: var(--hover-bg-color);\n",
              "    box-shadow: 0 1px 2px rgba(60, 64, 67, 0.3), 0 1px 3px 1px rgba(60, 64, 67, 0.15);\n",
              "    fill: var(--button-hover-fill-color);\n",
              "  }\n",
              "\n",
              "  .colab-df-quickchart-complete:disabled,\n",
              "  .colab-df-quickchart-complete:disabled:hover {\n",
              "    background-color: var(--disabled-bg-color);\n",
              "    fill: var(--disabled-fill-color);\n",
              "    box-shadow: none;\n",
              "  }\n",
              "\n",
              "  .colab-df-spinner {\n",
              "    border: 2px solid var(--fill-color);\n",
              "    border-color: transparent;\n",
              "    border-bottom-color: var(--fill-color);\n",
              "    animation:\n",
              "      spin 1s steps(1) infinite;\n",
              "  }\n",
              "\n",
              "  @keyframes spin {\n",
              "    0% {\n",
              "      border-color: transparent;\n",
              "      border-bottom-color: var(--fill-color);\n",
              "      border-left-color: var(--fill-color);\n",
              "    }\n",
              "    20% {\n",
              "      border-color: transparent;\n",
              "      border-left-color: var(--fill-color);\n",
              "      border-top-color: var(--fill-color);\n",
              "    }\n",
              "    30% {\n",
              "      border-color: transparent;\n",
              "      border-left-color: var(--fill-color);\n",
              "      border-top-color: var(--fill-color);\n",
              "      border-right-color: var(--fill-color);\n",
              "    }\n",
              "    40% {\n",
              "      border-color: transparent;\n",
              "      border-right-color: var(--fill-color);\n",
              "      border-top-color: var(--fill-color);\n",
              "    }\n",
              "    60% {\n",
              "      border-color: transparent;\n",
              "      border-right-color: var(--fill-color);\n",
              "    }\n",
              "    80% {\n",
              "      border-color: transparent;\n",
              "      border-right-color: var(--fill-color);\n",
              "      border-bottom-color: var(--fill-color);\n",
              "    }\n",
              "    90% {\n",
              "      border-color: transparent;\n",
              "      border-bottom-color: var(--fill-color);\n",
              "    }\n",
              "  }\n",
              "</style>\n",
              "\n",
              "  <script>\n",
              "    async function quickchart(key) {\n",
              "      const quickchartButtonEl =\n",
              "        document.querySelector('#' + key + ' button');\n",
              "      quickchartButtonEl.disabled = true;  // To prevent multiple clicks.\n",
              "      quickchartButtonEl.classList.add('colab-df-spinner');\n",
              "      try {\n",
              "        const charts = await google.colab.kernel.invokeFunction(\n",
              "            'suggestCharts', [key], {});\n",
              "      } catch (error) {\n",
              "        console.error('Error during call to suggestCharts:', error);\n",
              "      }\n",
              "      quickchartButtonEl.classList.remove('colab-df-spinner');\n",
              "      quickchartButtonEl.classList.add('colab-df-quickchart-complete');\n",
              "    }\n",
              "    (() => {\n",
              "      let quickchartButtonEl =\n",
              "        document.querySelector('#df-05a5dd9d-6e05-48cb-adc0-0c6504a4b7b7 button');\n",
              "      quickchartButtonEl.style.display =\n",
              "        google.colab.kernel.accessAllowed ? 'block' : 'none';\n",
              "    })();\n",
              "  </script>\n",
              "</div>\n",
              "    </div>\n",
              "  </div>\n"
            ],
            "application/vnd.google.colaboratory.intrinsic+json": {
              "type": "dataframe",
              "variable_name": "X_train",
              "repr_error": "0"
            }
          },
          "metadata": {},
          "execution_count": 35
        }
      ]
    },
    {
      "cell_type": "code",
      "source": [],
      "metadata": {
        "id": "HHJBaZ5hpnkw"
      },
      "execution_count": null,
      "outputs": []
    },
    {
      "cell_type": "markdown",
      "source": [
        "### Normalize Numeric Features"
      ],
      "metadata": {
        "id": "QpA23GySatSp"
      }
    },
    {
      "cell_type": "code",
      "source": [
        "# separate pipeline for numeric so more flexible with real data\n",
        "num_pipe = Pipeline([\n",
        "  ('std_scaler', StandardScaler())\n",
        "])"
      ],
      "metadata": {
        "id": "zzQMIQYx3YJB"
      },
      "execution_count": null,
      "outputs": []
    },
    {
      "cell_type": "markdown",
      "source": [
        "### Feat Pipeline"
      ],
      "metadata": {
        "id": "-uyEERu0U2zM"
      }
    },
    {
      "cell_type": "code",
      "source": [
        "ctprocessor = ColumnTransformer(\n",
        "  transformers=[\n",
        "  ('numerical', StandardScaler(),numerical_features ),\n",
        "  ('cat', OneHotEncoder(handle_unknown=\"ignore\", drop='if_binary'),categorical_features),\n",
        "  ],\n",
        "  remainder='passthrough'\n",
        ")"
      ],
      "metadata": {
        "id": "gQQeee0VSzGV"
      },
      "execution_count": null,
      "outputs": []
    },
    {
      "cell_type": "code",
      "source": [
        "#display\n",
        "set_config(display='diagram')\n",
        "display(ctprocessor)"
      ],
      "metadata": {
        "colab": {
          "base_uri": "https://localhost:8080/",
          "height": 155
        },
        "id": "3FfZYeBUWPIE",
        "outputId": "9a9e2ab1-2e9e-4eb7-c516-03c1746262af"
      },
      "execution_count": null,
      "outputs": [
        {
          "output_type": "display_data",
          "data": {
            "text/plain": [
              "ColumnTransformer(remainder='passthrough',\n",
              "                  transformers=[('numerical', StandardScaler(),\n",
              "                                 ['serving_age', 'valence_mean']),\n",
              "                                ('cat',\n",
              "                                 OneHotEncoder(drop='if_binary',\n",
              "                                               handle_unknown='ignore'),\n",
              "                                 ['emotion_majority', 'race_majority', 'gender',\n",
              "                                  'party', 'senate_class', 'stage', 'cycle'])])"
            ],
            "text/html": [
              "<style>#sk-container-id-1 {color: black;background-color: white;}#sk-container-id-1 pre{padding: 0;}#sk-container-id-1 div.sk-toggleable {background-color: white;}#sk-container-id-1 label.sk-toggleable__label {cursor: pointer;display: block;width: 100%;margin-bottom: 0;padding: 0.3em;box-sizing: border-box;text-align: center;}#sk-container-id-1 label.sk-toggleable__label-arrow:before {content: \"▸\";float: left;margin-right: 0.25em;color: #696969;}#sk-container-id-1 label.sk-toggleable__label-arrow:hover:before {color: black;}#sk-container-id-1 div.sk-estimator:hover label.sk-toggleable__label-arrow:before {color: black;}#sk-container-id-1 div.sk-toggleable__content {max-height: 0;max-width: 0;overflow: hidden;text-align: left;background-color: #f0f8ff;}#sk-container-id-1 div.sk-toggleable__content pre {margin: 0.2em;color: black;border-radius: 0.25em;background-color: #f0f8ff;}#sk-container-id-1 input.sk-toggleable__control:checked~div.sk-toggleable__content {max-height: 200px;max-width: 100%;overflow: auto;}#sk-container-id-1 input.sk-toggleable__control:checked~label.sk-toggleable__label-arrow:before {content: \"▾\";}#sk-container-id-1 div.sk-estimator input.sk-toggleable__control:checked~label.sk-toggleable__label {background-color: #d4ebff;}#sk-container-id-1 div.sk-label input.sk-toggleable__control:checked~label.sk-toggleable__label {background-color: #d4ebff;}#sk-container-id-1 input.sk-hidden--visually {border: 0;clip: rect(1px 1px 1px 1px);clip: rect(1px, 1px, 1px, 1px);height: 1px;margin: -1px;overflow: hidden;padding: 0;position: absolute;width: 1px;}#sk-container-id-1 div.sk-estimator {font-family: monospace;background-color: #f0f8ff;border: 1px dotted black;border-radius: 0.25em;box-sizing: border-box;margin-bottom: 0.5em;}#sk-container-id-1 div.sk-estimator:hover {background-color: #d4ebff;}#sk-container-id-1 div.sk-parallel-item::after {content: \"\";width: 100%;border-bottom: 1px solid gray;flex-grow: 1;}#sk-container-id-1 div.sk-label:hover label.sk-toggleable__label {background-color: #d4ebff;}#sk-container-id-1 div.sk-serial::before {content: \"\";position: absolute;border-left: 1px solid gray;box-sizing: border-box;top: 0;bottom: 0;left: 50%;z-index: 0;}#sk-container-id-1 div.sk-serial {display: flex;flex-direction: column;align-items: center;background-color: white;padding-right: 0.2em;padding-left: 0.2em;position: relative;}#sk-container-id-1 div.sk-item {position: relative;z-index: 1;}#sk-container-id-1 div.sk-parallel {display: flex;align-items: stretch;justify-content: center;background-color: white;position: relative;}#sk-container-id-1 div.sk-item::before, #sk-container-id-1 div.sk-parallel-item::before {content: \"\";position: absolute;border-left: 1px solid gray;box-sizing: border-box;top: 0;bottom: 0;left: 50%;z-index: -1;}#sk-container-id-1 div.sk-parallel-item {display: flex;flex-direction: column;z-index: 1;position: relative;background-color: white;}#sk-container-id-1 div.sk-parallel-item:first-child::after {align-self: flex-end;width: 50%;}#sk-container-id-1 div.sk-parallel-item:last-child::after {align-self: flex-start;width: 50%;}#sk-container-id-1 div.sk-parallel-item:only-child::after {width: 0;}#sk-container-id-1 div.sk-dashed-wrapped {border: 1px dashed gray;margin: 0 0.4em 0.5em 0.4em;box-sizing: border-box;padding-bottom: 0.4em;background-color: white;}#sk-container-id-1 div.sk-label label {font-family: monospace;font-weight: bold;display: inline-block;line-height: 1.2em;}#sk-container-id-1 div.sk-label-container {text-align: center;}#sk-container-id-1 div.sk-container {/* jupyter's `normalize.less` sets `[hidden] { display: none; }` but bootstrap.min.css set `[hidden] { display: none !important; }` so we also need the `!important` here to be able to override the default hidden behavior on the sphinx rendered scikit-learn.org. See: https://github.com/scikit-learn/scikit-learn/issues/21755 */display: inline-block !important;position: relative;}#sk-container-id-1 div.sk-text-repr-fallback {display: none;}</style><div id=\"sk-container-id-1\" class=\"sk-top-container\"><div class=\"sk-text-repr-fallback\"><pre>ColumnTransformer(remainder=&#x27;passthrough&#x27;,\n",
              "                  transformers=[(&#x27;numerical&#x27;, StandardScaler(),\n",
              "                                 [&#x27;serving_age&#x27;, &#x27;valence_mean&#x27;]),\n",
              "                                (&#x27;cat&#x27;,\n",
              "                                 OneHotEncoder(drop=&#x27;if_binary&#x27;,\n",
              "                                               handle_unknown=&#x27;ignore&#x27;),\n",
              "                                 [&#x27;emotion_majority&#x27;, &#x27;race_majority&#x27;, &#x27;gender&#x27;,\n",
              "                                  &#x27;party&#x27;, &#x27;senate_class&#x27;, &#x27;stage&#x27;, &#x27;cycle&#x27;])])</pre><b>In a Jupyter environment, please rerun this cell to show the HTML representation or trust the notebook. <br />On GitHub, the HTML representation is unable to render, please try loading this page with nbviewer.org.</b></div><div class=\"sk-container\" hidden><div class=\"sk-item sk-dashed-wrapped\"><div class=\"sk-label-container\"><div class=\"sk-label sk-toggleable\"><input class=\"sk-toggleable__control sk-hidden--visually\" id=\"sk-estimator-id-1\" type=\"checkbox\" ><label for=\"sk-estimator-id-1\" class=\"sk-toggleable__label sk-toggleable__label-arrow\">ColumnTransformer</label><div class=\"sk-toggleable__content\"><pre>ColumnTransformer(remainder=&#x27;passthrough&#x27;,\n",
              "                  transformers=[(&#x27;numerical&#x27;, StandardScaler(),\n",
              "                                 [&#x27;serving_age&#x27;, &#x27;valence_mean&#x27;]),\n",
              "                                (&#x27;cat&#x27;,\n",
              "                                 OneHotEncoder(drop=&#x27;if_binary&#x27;,\n",
              "                                               handle_unknown=&#x27;ignore&#x27;),\n",
              "                                 [&#x27;emotion_majority&#x27;, &#x27;race_majority&#x27;, &#x27;gender&#x27;,\n",
              "                                  &#x27;party&#x27;, &#x27;senate_class&#x27;, &#x27;stage&#x27;, &#x27;cycle&#x27;])])</pre></div></div></div><div class=\"sk-parallel\"><div class=\"sk-parallel-item\"><div class=\"sk-item\"><div class=\"sk-label-container\"><div class=\"sk-label sk-toggleable\"><input class=\"sk-toggleable__control sk-hidden--visually\" id=\"sk-estimator-id-2\" type=\"checkbox\" ><label for=\"sk-estimator-id-2\" class=\"sk-toggleable__label sk-toggleable__label-arrow\">numerical</label><div class=\"sk-toggleable__content\"><pre>[&#x27;serving_age&#x27;, &#x27;valence_mean&#x27;]</pre></div></div></div><div class=\"sk-serial\"><div class=\"sk-item\"><div class=\"sk-estimator sk-toggleable\"><input class=\"sk-toggleable__control sk-hidden--visually\" id=\"sk-estimator-id-3\" type=\"checkbox\" ><label for=\"sk-estimator-id-3\" class=\"sk-toggleable__label sk-toggleable__label-arrow\">StandardScaler</label><div class=\"sk-toggleable__content\"><pre>StandardScaler()</pre></div></div></div></div></div></div><div class=\"sk-parallel-item\"><div class=\"sk-item\"><div class=\"sk-label-container\"><div class=\"sk-label sk-toggleable\"><input class=\"sk-toggleable__control sk-hidden--visually\" id=\"sk-estimator-id-4\" type=\"checkbox\" ><label for=\"sk-estimator-id-4\" class=\"sk-toggleable__label sk-toggleable__label-arrow\">cat</label><div class=\"sk-toggleable__content\"><pre>[&#x27;emotion_majority&#x27;, &#x27;race_majority&#x27;, &#x27;gender&#x27;, &#x27;party&#x27;, &#x27;senate_class&#x27;, &#x27;stage&#x27;, &#x27;cycle&#x27;]</pre></div></div></div><div class=\"sk-serial\"><div class=\"sk-item\"><div class=\"sk-estimator sk-toggleable\"><input class=\"sk-toggleable__control sk-hidden--visually\" id=\"sk-estimator-id-5\" type=\"checkbox\" ><label for=\"sk-estimator-id-5\" class=\"sk-toggleable__label sk-toggleable__label-arrow\">OneHotEncoder</label><div class=\"sk-toggleable__content\"><pre>OneHotEncoder(drop=&#x27;if_binary&#x27;, handle_unknown=&#x27;ignore&#x27;)</pre></div></div></div></div></div></div><div class=\"sk-parallel-item\"><div class=\"sk-item\"><div class=\"sk-label-container\"><div class=\"sk-label sk-toggleable\"><input class=\"sk-toggleable__control sk-hidden--visually\" id=\"sk-estimator-id-6\" type=\"checkbox\" ><label for=\"sk-estimator-id-6\" class=\"sk-toggleable__label sk-toggleable__label-arrow\">remainder</label><div class=\"sk-toggleable__content\"><pre></pre></div></div></div><div class=\"sk-serial\"><div class=\"sk-item\"><div class=\"sk-estimator sk-toggleable\"><input class=\"sk-toggleable__control sk-hidden--visually\" id=\"sk-estimator-id-7\" type=\"checkbox\" ><label for=\"sk-estimator-id-7\" class=\"sk-toggleable__label sk-toggleable__label-arrow\">passthrough</label><div class=\"sk-toggleable__content\"><pre>passthrough</pre></div></div></div></div></div></div></div></div></div></div>"
            ]
          },
          "metadata": {}
        }
      ]
    },
    {
      "cell_type": "markdown",
      "source": [
        "## Modeling"
      ],
      "metadata": {
        "id": "h2jLXebjVL7Q"
      }
    },
    {
      "cell_type": "markdown",
      "source": [
        "### Helper functions"
      ],
      "metadata": {
        "id": "QP9Pb6dmg0Oi"
      }
    },
    {
      "cell_type": "code",
      "source": [
        "## helper function for ensembling models\n",
        "# evaluate a give model using cross-validation\n",
        "def evaluate_model(model, X_train, y_train):\n",
        "    cv = KFold(n_splits=4)\n",
        "    pipeline = Pipeline(steps=[('preprocessor', ctprocessor), ('model',model)])\n",
        "\n",
        "    avg_mse_score = -1*np.mean(cross_val_score(pipeline, X_train, y_train, cv=cv, scoring='neg_mean_squared_error'))\n",
        "    avg_mae_score = -1*np.mean(cross_val_score(pipeline, X_train, y_train, cv=cv, scoring='neg_mean_absolute_error'))\n",
        "    avg_r2_score = np.mean(cross_val_score(pipeline, X_train, y_train, cv=cv, scoring='r2'))\n",
        "\n",
        "    return {'mse':avg_mse_score,'mae':avg_mae_score,'r2':avg_r2_score}"
      ],
      "metadata": {
        "id": "61ZTS3cDg17C"
      },
      "execution_count": null,
      "outputs": []
    },
    {
      "cell_type": "markdown",
      "source": [
        "### Supervised Modeling - Traditional Methods"
      ],
      "metadata": {
        "id": "o9O2ebW8S_1f"
      }
    },
    {
      "cell_type": "code",
      "source": [
        "ctprocessor.set_output(transform='default')"
      ],
      "metadata": {
        "colab": {
          "base_uri": "https://localhost:8080/",
          "height": 155
        },
        "id": "vGrk3am6bMPZ",
        "outputId": "0a48bf37-9be7-440e-9a33-db943833a28d"
      },
      "execution_count": null,
      "outputs": [
        {
          "output_type": "execute_result",
          "data": {
            "text/plain": [
              "ColumnTransformer(remainder='passthrough',\n",
              "                  transformers=[('numerical', StandardScaler(),\n",
              "                                 ['serving_age', 'valence_mean']),\n",
              "                                ('cat',\n",
              "                                 OneHotEncoder(drop='if_binary',\n",
              "                                               handle_unknown='ignore'),\n",
              "                                 ['emotion_majority', 'race_majority', 'gender',\n",
              "                                  'party', 'senate_class', 'stage', 'cycle'])])"
            ],
            "text/html": [
              "<style>#sk-container-id-2 {color: black;background-color: white;}#sk-container-id-2 pre{padding: 0;}#sk-container-id-2 div.sk-toggleable {background-color: white;}#sk-container-id-2 label.sk-toggleable__label {cursor: pointer;display: block;width: 100%;margin-bottom: 0;padding: 0.3em;box-sizing: border-box;text-align: center;}#sk-container-id-2 label.sk-toggleable__label-arrow:before {content: \"▸\";float: left;margin-right: 0.25em;color: #696969;}#sk-container-id-2 label.sk-toggleable__label-arrow:hover:before {color: black;}#sk-container-id-2 div.sk-estimator:hover label.sk-toggleable__label-arrow:before {color: black;}#sk-container-id-2 div.sk-toggleable__content {max-height: 0;max-width: 0;overflow: hidden;text-align: left;background-color: #f0f8ff;}#sk-container-id-2 div.sk-toggleable__content pre {margin: 0.2em;color: black;border-radius: 0.25em;background-color: #f0f8ff;}#sk-container-id-2 input.sk-toggleable__control:checked~div.sk-toggleable__content {max-height: 200px;max-width: 100%;overflow: auto;}#sk-container-id-2 input.sk-toggleable__control:checked~label.sk-toggleable__label-arrow:before {content: \"▾\";}#sk-container-id-2 div.sk-estimator input.sk-toggleable__control:checked~label.sk-toggleable__label {background-color: #d4ebff;}#sk-container-id-2 div.sk-label input.sk-toggleable__control:checked~label.sk-toggleable__label {background-color: #d4ebff;}#sk-container-id-2 input.sk-hidden--visually {border: 0;clip: rect(1px 1px 1px 1px);clip: rect(1px, 1px, 1px, 1px);height: 1px;margin: -1px;overflow: hidden;padding: 0;position: absolute;width: 1px;}#sk-container-id-2 div.sk-estimator {font-family: monospace;background-color: #f0f8ff;border: 1px dotted black;border-radius: 0.25em;box-sizing: border-box;margin-bottom: 0.5em;}#sk-container-id-2 div.sk-estimator:hover {background-color: #d4ebff;}#sk-container-id-2 div.sk-parallel-item::after {content: \"\";width: 100%;border-bottom: 1px solid gray;flex-grow: 1;}#sk-container-id-2 div.sk-label:hover label.sk-toggleable__label {background-color: #d4ebff;}#sk-container-id-2 div.sk-serial::before {content: \"\";position: absolute;border-left: 1px solid gray;box-sizing: border-box;top: 0;bottom: 0;left: 50%;z-index: 0;}#sk-container-id-2 div.sk-serial {display: flex;flex-direction: column;align-items: center;background-color: white;padding-right: 0.2em;padding-left: 0.2em;position: relative;}#sk-container-id-2 div.sk-item {position: relative;z-index: 1;}#sk-container-id-2 div.sk-parallel {display: flex;align-items: stretch;justify-content: center;background-color: white;position: relative;}#sk-container-id-2 div.sk-item::before, #sk-container-id-2 div.sk-parallel-item::before {content: \"\";position: absolute;border-left: 1px solid gray;box-sizing: border-box;top: 0;bottom: 0;left: 50%;z-index: -1;}#sk-container-id-2 div.sk-parallel-item {display: flex;flex-direction: column;z-index: 1;position: relative;background-color: white;}#sk-container-id-2 div.sk-parallel-item:first-child::after {align-self: flex-end;width: 50%;}#sk-container-id-2 div.sk-parallel-item:last-child::after {align-self: flex-start;width: 50%;}#sk-container-id-2 div.sk-parallel-item:only-child::after {width: 0;}#sk-container-id-2 div.sk-dashed-wrapped {border: 1px dashed gray;margin: 0 0.4em 0.5em 0.4em;box-sizing: border-box;padding-bottom: 0.4em;background-color: white;}#sk-container-id-2 div.sk-label label {font-family: monospace;font-weight: bold;display: inline-block;line-height: 1.2em;}#sk-container-id-2 div.sk-label-container {text-align: center;}#sk-container-id-2 div.sk-container {/* jupyter's `normalize.less` sets `[hidden] { display: none; }` but bootstrap.min.css set `[hidden] { display: none !important; }` so we also need the `!important` here to be able to override the default hidden behavior on the sphinx rendered scikit-learn.org. See: https://github.com/scikit-learn/scikit-learn/issues/21755 */display: inline-block !important;position: relative;}#sk-container-id-2 div.sk-text-repr-fallback {display: none;}</style><div id=\"sk-container-id-2\" class=\"sk-top-container\"><div class=\"sk-text-repr-fallback\"><pre>ColumnTransformer(remainder=&#x27;passthrough&#x27;,\n",
              "                  transformers=[(&#x27;numerical&#x27;, StandardScaler(),\n",
              "                                 [&#x27;serving_age&#x27;, &#x27;valence_mean&#x27;]),\n",
              "                                (&#x27;cat&#x27;,\n",
              "                                 OneHotEncoder(drop=&#x27;if_binary&#x27;,\n",
              "                                               handle_unknown=&#x27;ignore&#x27;),\n",
              "                                 [&#x27;emotion_majority&#x27;, &#x27;race_majority&#x27;, &#x27;gender&#x27;,\n",
              "                                  &#x27;party&#x27;, &#x27;senate_class&#x27;, &#x27;stage&#x27;, &#x27;cycle&#x27;])])</pre><b>In a Jupyter environment, please rerun this cell to show the HTML representation or trust the notebook. <br />On GitHub, the HTML representation is unable to render, please try loading this page with nbviewer.org.</b></div><div class=\"sk-container\" hidden><div class=\"sk-item sk-dashed-wrapped\"><div class=\"sk-label-container\"><div class=\"sk-label sk-toggleable\"><input class=\"sk-toggleable__control sk-hidden--visually\" id=\"sk-estimator-id-8\" type=\"checkbox\" ><label for=\"sk-estimator-id-8\" class=\"sk-toggleable__label sk-toggleable__label-arrow\">ColumnTransformer</label><div class=\"sk-toggleable__content\"><pre>ColumnTransformer(remainder=&#x27;passthrough&#x27;,\n",
              "                  transformers=[(&#x27;numerical&#x27;, StandardScaler(),\n",
              "                                 [&#x27;serving_age&#x27;, &#x27;valence_mean&#x27;]),\n",
              "                                (&#x27;cat&#x27;,\n",
              "                                 OneHotEncoder(drop=&#x27;if_binary&#x27;,\n",
              "                                               handle_unknown=&#x27;ignore&#x27;),\n",
              "                                 [&#x27;emotion_majority&#x27;, &#x27;race_majority&#x27;, &#x27;gender&#x27;,\n",
              "                                  &#x27;party&#x27;, &#x27;senate_class&#x27;, &#x27;stage&#x27;, &#x27;cycle&#x27;])])</pre></div></div></div><div class=\"sk-parallel\"><div class=\"sk-parallel-item\"><div class=\"sk-item\"><div class=\"sk-label-container\"><div class=\"sk-label sk-toggleable\"><input class=\"sk-toggleable__control sk-hidden--visually\" id=\"sk-estimator-id-9\" type=\"checkbox\" ><label for=\"sk-estimator-id-9\" class=\"sk-toggleable__label sk-toggleable__label-arrow\">numerical</label><div class=\"sk-toggleable__content\"><pre>[&#x27;serving_age&#x27;, &#x27;valence_mean&#x27;]</pre></div></div></div><div class=\"sk-serial\"><div class=\"sk-item\"><div class=\"sk-estimator sk-toggleable\"><input class=\"sk-toggleable__control sk-hidden--visually\" id=\"sk-estimator-id-10\" type=\"checkbox\" ><label for=\"sk-estimator-id-10\" class=\"sk-toggleable__label sk-toggleable__label-arrow\">StandardScaler</label><div class=\"sk-toggleable__content\"><pre>StandardScaler()</pre></div></div></div></div></div></div><div class=\"sk-parallel-item\"><div class=\"sk-item\"><div class=\"sk-label-container\"><div class=\"sk-label sk-toggleable\"><input class=\"sk-toggleable__control sk-hidden--visually\" id=\"sk-estimator-id-11\" type=\"checkbox\" ><label for=\"sk-estimator-id-11\" class=\"sk-toggleable__label sk-toggleable__label-arrow\">cat</label><div class=\"sk-toggleable__content\"><pre>[&#x27;emotion_majority&#x27;, &#x27;race_majority&#x27;, &#x27;gender&#x27;, &#x27;party&#x27;, &#x27;senate_class&#x27;, &#x27;stage&#x27;, &#x27;cycle&#x27;]</pre></div></div></div><div class=\"sk-serial\"><div class=\"sk-item\"><div class=\"sk-estimator sk-toggleable\"><input class=\"sk-toggleable__control sk-hidden--visually\" id=\"sk-estimator-id-12\" type=\"checkbox\" ><label for=\"sk-estimator-id-12\" class=\"sk-toggleable__label sk-toggleable__label-arrow\">OneHotEncoder</label><div class=\"sk-toggleable__content\"><pre>OneHotEncoder(drop=&#x27;if_binary&#x27;, handle_unknown=&#x27;ignore&#x27;)</pre></div></div></div></div></div></div><div class=\"sk-parallel-item\"><div class=\"sk-item\"><div class=\"sk-label-container\"><div class=\"sk-label sk-toggleable\"><input class=\"sk-toggleable__control sk-hidden--visually\" id=\"sk-estimator-id-13\" type=\"checkbox\" ><label for=\"sk-estimator-id-13\" class=\"sk-toggleable__label sk-toggleable__label-arrow\">remainder</label><div class=\"sk-toggleable__content\"><pre></pre></div></div></div><div class=\"sk-serial\"><div class=\"sk-item\"><div class=\"sk-estimator sk-toggleable\"><input class=\"sk-toggleable__control sk-hidden--visually\" id=\"sk-estimator-id-14\" type=\"checkbox\" ><label for=\"sk-estimator-id-14\" class=\"sk-toggleable__label sk-toggleable__label-arrow\">passthrough</label><div class=\"sk-toggleable__content\"><pre>passthrough</pre></div></div></div></div></div></div></div></div></div></div>"
            ]
          },
          "metadata": {},
          "execution_count": 40
        }
      ]
    },
    {
      "cell_type": "markdown",
      "source": [
        "#### Linear Regression\n",
        "Numeric features are standardized using StandardScaler and Categorical features One Hot Encoding"
      ],
      "metadata": {
        "id": "fIHCD939WoRN"
      }
    },
    {
      "cell_type": "code",
      "source": [
        "lr = LinearRegression()"
      ],
      "metadata": {
        "id": "TKIIKPpLhMox"
      },
      "execution_count": null,
      "outputs": []
    },
    {
      "cell_type": "code",
      "source": [
        "lr_pipeline = Pipeline(steps=[('preprocessor', ctprocessor), ('model',lr)])\n",
        "lr_pipeline.fit(X_train,y_train)"
      ],
      "metadata": {
        "id": "DaWD68t0iMjO",
        "colab": {
          "base_uri": "https://localhost:8080/",
          "height": 229
        },
        "outputId": "01dcb189-88dd-4dd4-e676-e964c63b5702"
      },
      "execution_count": null,
      "outputs": [
        {
          "output_type": "execute_result",
          "data": {
            "text/plain": [
              "Pipeline(steps=[('preprocessor',\n",
              "                 ColumnTransformer(remainder='passthrough',\n",
              "                                   transformers=[('numerical', StandardScaler(),\n",
              "                                                  ['serving_age',\n",
              "                                                   'valence_mean']),\n",
              "                                                 ('cat',\n",
              "                                                  OneHotEncoder(drop='if_binary',\n",
              "                                                                handle_unknown='ignore'),\n",
              "                                                  ['emotion_majority',\n",
              "                                                   'race_majority', 'gender',\n",
              "                                                   'party', 'senate_class',\n",
              "                                                   'stage', 'cycle'])])),\n",
              "                ('model', LinearRegression())])"
            ],
            "text/html": [
              "<style>#sk-container-id-3 {color: black;background-color: white;}#sk-container-id-3 pre{padding: 0;}#sk-container-id-3 div.sk-toggleable {background-color: white;}#sk-container-id-3 label.sk-toggleable__label {cursor: pointer;display: block;width: 100%;margin-bottom: 0;padding: 0.3em;box-sizing: border-box;text-align: center;}#sk-container-id-3 label.sk-toggleable__label-arrow:before {content: \"▸\";float: left;margin-right: 0.25em;color: #696969;}#sk-container-id-3 label.sk-toggleable__label-arrow:hover:before {color: black;}#sk-container-id-3 div.sk-estimator:hover label.sk-toggleable__label-arrow:before {color: black;}#sk-container-id-3 div.sk-toggleable__content {max-height: 0;max-width: 0;overflow: hidden;text-align: left;background-color: #f0f8ff;}#sk-container-id-3 div.sk-toggleable__content pre {margin: 0.2em;color: black;border-radius: 0.25em;background-color: #f0f8ff;}#sk-container-id-3 input.sk-toggleable__control:checked~div.sk-toggleable__content {max-height: 200px;max-width: 100%;overflow: auto;}#sk-container-id-3 input.sk-toggleable__control:checked~label.sk-toggleable__label-arrow:before {content: \"▾\";}#sk-container-id-3 div.sk-estimator input.sk-toggleable__control:checked~label.sk-toggleable__label {background-color: #d4ebff;}#sk-container-id-3 div.sk-label input.sk-toggleable__control:checked~label.sk-toggleable__label {background-color: #d4ebff;}#sk-container-id-3 input.sk-hidden--visually {border: 0;clip: rect(1px 1px 1px 1px);clip: rect(1px, 1px, 1px, 1px);height: 1px;margin: -1px;overflow: hidden;padding: 0;position: absolute;width: 1px;}#sk-container-id-3 div.sk-estimator {font-family: monospace;background-color: #f0f8ff;border: 1px dotted black;border-radius: 0.25em;box-sizing: border-box;margin-bottom: 0.5em;}#sk-container-id-3 div.sk-estimator:hover {background-color: #d4ebff;}#sk-container-id-3 div.sk-parallel-item::after {content: \"\";width: 100%;border-bottom: 1px solid gray;flex-grow: 1;}#sk-container-id-3 div.sk-label:hover label.sk-toggleable__label {background-color: #d4ebff;}#sk-container-id-3 div.sk-serial::before {content: \"\";position: absolute;border-left: 1px solid gray;box-sizing: border-box;top: 0;bottom: 0;left: 50%;z-index: 0;}#sk-container-id-3 div.sk-serial {display: flex;flex-direction: column;align-items: center;background-color: white;padding-right: 0.2em;padding-left: 0.2em;position: relative;}#sk-container-id-3 div.sk-item {position: relative;z-index: 1;}#sk-container-id-3 div.sk-parallel {display: flex;align-items: stretch;justify-content: center;background-color: white;position: relative;}#sk-container-id-3 div.sk-item::before, #sk-container-id-3 div.sk-parallel-item::before {content: \"\";position: absolute;border-left: 1px solid gray;box-sizing: border-box;top: 0;bottom: 0;left: 50%;z-index: -1;}#sk-container-id-3 div.sk-parallel-item {display: flex;flex-direction: column;z-index: 1;position: relative;background-color: white;}#sk-container-id-3 div.sk-parallel-item:first-child::after {align-self: flex-end;width: 50%;}#sk-container-id-3 div.sk-parallel-item:last-child::after {align-self: flex-start;width: 50%;}#sk-container-id-3 div.sk-parallel-item:only-child::after {width: 0;}#sk-container-id-3 div.sk-dashed-wrapped {border: 1px dashed gray;margin: 0 0.4em 0.5em 0.4em;box-sizing: border-box;padding-bottom: 0.4em;background-color: white;}#sk-container-id-3 div.sk-label label {font-family: monospace;font-weight: bold;display: inline-block;line-height: 1.2em;}#sk-container-id-3 div.sk-label-container {text-align: center;}#sk-container-id-3 div.sk-container {/* jupyter's `normalize.less` sets `[hidden] { display: none; }` but bootstrap.min.css set `[hidden] { display: none !important; }` so we also need the `!important` here to be able to override the default hidden behavior on the sphinx rendered scikit-learn.org. See: https://github.com/scikit-learn/scikit-learn/issues/21755 */display: inline-block !important;position: relative;}#sk-container-id-3 div.sk-text-repr-fallback {display: none;}</style><div id=\"sk-container-id-3\" class=\"sk-top-container\"><div class=\"sk-text-repr-fallback\"><pre>Pipeline(steps=[(&#x27;preprocessor&#x27;,\n",
              "                 ColumnTransformer(remainder=&#x27;passthrough&#x27;,\n",
              "                                   transformers=[(&#x27;numerical&#x27;, StandardScaler(),\n",
              "                                                  [&#x27;serving_age&#x27;,\n",
              "                                                   &#x27;valence_mean&#x27;]),\n",
              "                                                 (&#x27;cat&#x27;,\n",
              "                                                  OneHotEncoder(drop=&#x27;if_binary&#x27;,\n",
              "                                                                handle_unknown=&#x27;ignore&#x27;),\n",
              "                                                  [&#x27;emotion_majority&#x27;,\n",
              "                                                   &#x27;race_majority&#x27;, &#x27;gender&#x27;,\n",
              "                                                   &#x27;party&#x27;, &#x27;senate_class&#x27;,\n",
              "                                                   &#x27;stage&#x27;, &#x27;cycle&#x27;])])),\n",
              "                (&#x27;model&#x27;, LinearRegression())])</pre><b>In a Jupyter environment, please rerun this cell to show the HTML representation or trust the notebook. <br />On GitHub, the HTML representation is unable to render, please try loading this page with nbviewer.org.</b></div><div class=\"sk-container\" hidden><div class=\"sk-item sk-dashed-wrapped\"><div class=\"sk-label-container\"><div class=\"sk-label sk-toggleable\"><input class=\"sk-toggleable__control sk-hidden--visually\" id=\"sk-estimator-id-15\" type=\"checkbox\" ><label for=\"sk-estimator-id-15\" class=\"sk-toggleable__label sk-toggleable__label-arrow\">Pipeline</label><div class=\"sk-toggleable__content\"><pre>Pipeline(steps=[(&#x27;preprocessor&#x27;,\n",
              "                 ColumnTransformer(remainder=&#x27;passthrough&#x27;,\n",
              "                                   transformers=[(&#x27;numerical&#x27;, StandardScaler(),\n",
              "                                                  [&#x27;serving_age&#x27;,\n",
              "                                                   &#x27;valence_mean&#x27;]),\n",
              "                                                 (&#x27;cat&#x27;,\n",
              "                                                  OneHotEncoder(drop=&#x27;if_binary&#x27;,\n",
              "                                                                handle_unknown=&#x27;ignore&#x27;),\n",
              "                                                  [&#x27;emotion_majority&#x27;,\n",
              "                                                   &#x27;race_majority&#x27;, &#x27;gender&#x27;,\n",
              "                                                   &#x27;party&#x27;, &#x27;senate_class&#x27;,\n",
              "                                                   &#x27;stage&#x27;, &#x27;cycle&#x27;])])),\n",
              "                (&#x27;model&#x27;, LinearRegression())])</pre></div></div></div><div class=\"sk-serial\"><div class=\"sk-item sk-dashed-wrapped\"><div class=\"sk-label-container\"><div class=\"sk-label sk-toggleable\"><input class=\"sk-toggleable__control sk-hidden--visually\" id=\"sk-estimator-id-16\" type=\"checkbox\" ><label for=\"sk-estimator-id-16\" class=\"sk-toggleable__label sk-toggleable__label-arrow\">preprocessor: ColumnTransformer</label><div class=\"sk-toggleable__content\"><pre>ColumnTransformer(remainder=&#x27;passthrough&#x27;,\n",
              "                  transformers=[(&#x27;numerical&#x27;, StandardScaler(),\n",
              "                                 [&#x27;serving_age&#x27;, &#x27;valence_mean&#x27;]),\n",
              "                                (&#x27;cat&#x27;,\n",
              "                                 OneHotEncoder(drop=&#x27;if_binary&#x27;,\n",
              "                                               handle_unknown=&#x27;ignore&#x27;),\n",
              "                                 [&#x27;emotion_majority&#x27;, &#x27;race_majority&#x27;, &#x27;gender&#x27;,\n",
              "                                  &#x27;party&#x27;, &#x27;senate_class&#x27;, &#x27;stage&#x27;, &#x27;cycle&#x27;])])</pre></div></div></div><div class=\"sk-parallel\"><div class=\"sk-parallel-item\"><div class=\"sk-item\"><div class=\"sk-label-container\"><div class=\"sk-label sk-toggleable\"><input class=\"sk-toggleable__control sk-hidden--visually\" id=\"sk-estimator-id-17\" type=\"checkbox\" ><label for=\"sk-estimator-id-17\" class=\"sk-toggleable__label sk-toggleable__label-arrow\">numerical</label><div class=\"sk-toggleable__content\"><pre>[&#x27;serving_age&#x27;, &#x27;valence_mean&#x27;]</pre></div></div></div><div class=\"sk-serial\"><div class=\"sk-item\"><div class=\"sk-estimator sk-toggleable\"><input class=\"sk-toggleable__control sk-hidden--visually\" id=\"sk-estimator-id-18\" type=\"checkbox\" ><label for=\"sk-estimator-id-18\" class=\"sk-toggleable__label sk-toggleable__label-arrow\">StandardScaler</label><div class=\"sk-toggleable__content\"><pre>StandardScaler()</pre></div></div></div></div></div></div><div class=\"sk-parallel-item\"><div class=\"sk-item\"><div class=\"sk-label-container\"><div class=\"sk-label sk-toggleable\"><input class=\"sk-toggleable__control sk-hidden--visually\" id=\"sk-estimator-id-19\" type=\"checkbox\" ><label for=\"sk-estimator-id-19\" class=\"sk-toggleable__label sk-toggleable__label-arrow\">cat</label><div class=\"sk-toggleable__content\"><pre>[&#x27;emotion_majority&#x27;, &#x27;race_majority&#x27;, &#x27;gender&#x27;, &#x27;party&#x27;, &#x27;senate_class&#x27;, &#x27;stage&#x27;, &#x27;cycle&#x27;]</pre></div></div></div><div class=\"sk-serial\"><div class=\"sk-item\"><div class=\"sk-estimator sk-toggleable\"><input class=\"sk-toggleable__control sk-hidden--visually\" id=\"sk-estimator-id-20\" type=\"checkbox\" ><label for=\"sk-estimator-id-20\" class=\"sk-toggleable__label sk-toggleable__label-arrow\">OneHotEncoder</label><div class=\"sk-toggleable__content\"><pre>OneHotEncoder(drop=&#x27;if_binary&#x27;, handle_unknown=&#x27;ignore&#x27;)</pre></div></div></div></div></div></div><div class=\"sk-parallel-item\"><div class=\"sk-item\"><div class=\"sk-label-container\"><div class=\"sk-label sk-toggleable\"><input class=\"sk-toggleable__control sk-hidden--visually\" id=\"sk-estimator-id-21\" type=\"checkbox\" ><label for=\"sk-estimator-id-21\" class=\"sk-toggleable__label sk-toggleable__label-arrow\">remainder</label><div class=\"sk-toggleable__content\"><pre>[]</pre></div></div></div><div class=\"sk-serial\"><div class=\"sk-item\"><div class=\"sk-estimator sk-toggleable\"><input class=\"sk-toggleable__control sk-hidden--visually\" id=\"sk-estimator-id-22\" type=\"checkbox\" ><label for=\"sk-estimator-id-22\" class=\"sk-toggleable__label sk-toggleable__label-arrow\">passthrough</label><div class=\"sk-toggleable__content\"><pre>passthrough</pre></div></div></div></div></div></div></div></div><div class=\"sk-item\"><div class=\"sk-estimator sk-toggleable\"><input class=\"sk-toggleable__control sk-hidden--visually\" id=\"sk-estimator-id-23\" type=\"checkbox\" ><label for=\"sk-estimator-id-23\" class=\"sk-toggleable__label sk-toggleable__label-arrow\">LinearRegression</label><div class=\"sk-toggleable__content\"><pre>LinearRegression()</pre></div></div></div></div></div></div></div>"
            ]
          },
          "metadata": {},
          "execution_count": 42
        }
      ]
    },
    {
      "cell_type": "markdown",
      "source": [
        "##### Training Scores\n",
        "Refer to this for evaluation of train/test scores: https://datascience.stackexchange.com/questions/70054/interpretation-for-test-score-training-score-and-validation-score-in-machine-l"
      ],
      "metadata": {
        "id": "qv4NlJjtafdC"
      }
    },
    {
      "cell_type": "code",
      "source": [
        "lr_train_scores = evaluate_model(lr,X_train,y_train)\n",
        "lr_train_scores"
      ],
      "metadata": {
        "colab": {
          "base_uri": "https://localhost:8080/"
        },
        "id": "b0jP6pG8hVHx",
        "outputId": "a2159fe9-e656-40e9-9741-d71f1160c1a9"
      },
      "execution_count": null,
      "outputs": [
        {
          "output_type": "execute_result",
          "data": {
            "text/plain": [
              "{'mse': 30.824642387397677,\n",
              " 'mae': 4.048786295304778,\n",
              " 'r2': 0.46587250932784896}"
            ]
          },
          "metadata": {},
          "execution_count": 43
        }
      ]
    },
    {
      "cell_type": "markdown",
      "source": [
        "##### Testing Scores"
      ],
      "metadata": {
        "id": "qyU-JTkLhOl0"
      }
    },
    {
      "cell_type": "code",
      "source": [
        "lr_scores = evaluate_model(lr,X_test,y_test)\n",
        "lr_scores"
      ],
      "metadata": {
        "colab": {
          "base_uri": "https://localhost:8080/"
        },
        "id": "Pm_c4CwLakOt",
        "outputId": "df78d938-c1f8-42d7-a5f4-080f4f43f71a"
      },
      "execution_count": null,
      "outputs": [
        {
          "output_type": "execute_result",
          "data": {
            "text/plain": [
              "{'mse': 28.233174344218074,\n",
              " 'mae': 3.919715361004026,\n",
              " 'r2': 0.45108282797874055}"
            ]
          },
          "metadata": {},
          "execution_count": 44
        }
      ]
    },
    {
      "cell_type": "code",
      "source": [],
      "metadata": {
        "id": "O2z4UdXaakhB"
      },
      "execution_count": null,
      "outputs": []
    },
    {
      "cell_type": "markdown",
      "source": [
        "#### Decision Tree\n",
        "\n",
        "NOTE: SKLearn's Decision Tree Algorithm DOES NOT allow direct use of cateogrical features. Not clear if there is a Python package that supports this. LabelEncoding only works if there is a nominal relationship in the features.\n",
        "\n",
        "AKA don't need encoded categorical features"
      ],
      "metadata": {
        "id": "orTqe7-jTDec"
      }
    },
    {
      "cell_type": "code",
      "source": [
        "# https://www.nbshare.io/notebook/312837011/Decision-Tree-Regression-With-Hyper-Parameter-Tuning-In-Python/\n",
        "dtr_parameters = {'max_depth': [None, 5, 10],\n",
        "    'min_samples_split': [2, 5, 10],\n",
        "    'min_samples_leaf': [1, 2, 4]}"
      ],
      "metadata": {
        "id": "9Ppm2zlqng2w"
      },
      "execution_count": null,
      "outputs": []
    },
    {
      "cell_type": "code",
      "source": [
        "dtr = DecisionTreeRegressor(random_state=0)"
      ],
      "metadata": {
        "id": "1k0aSaWGTDhj"
      },
      "execution_count": null,
      "outputs": []
    },
    {
      "cell_type": "code",
      "source": [
        "dtr_pipeline = Pipeline(steps=[('preprocessor', ctprocessor), ('model',GridSearchCV(dtr, dtr_parameters, n_jobs=2))])\n",
        "dtr_pipeline.fit(X_train,y_train)"
      ],
      "metadata": {
        "colab": {
          "base_uri": "https://localhost:8080/",
          "height": 295
        },
        "outputId": "f0c2fd5b-c53c-4e34-e368-93ce60cbab2e",
        "id": "hpgXikKoc6c9"
      },
      "execution_count": null,
      "outputs": [
        {
          "output_type": "execute_result",
          "data": {
            "text/plain": [
              "Pipeline(steps=[('preprocessor',\n",
              "                 ColumnTransformer(remainder='passthrough',\n",
              "                                   transformers=[('numerical', StandardScaler(),\n",
              "                                                  ['serving_age',\n",
              "                                                   'valence_mean']),\n",
              "                                                 ('cat',\n",
              "                                                  OneHotEncoder(drop='if_binary',\n",
              "                                                                handle_unknown='ignore'),\n",
              "                                                  ['emotion_majority',\n",
              "                                                   'race_majority', 'gender',\n",
              "                                                   'party', 'senate_class',\n",
              "                                                   'stage', 'cycle'])])),\n",
              "                ('model',\n",
              "                 GridSearchCV(estimator=DecisionTreeRegressor(random_state=0),\n",
              "                              n_jobs=2,\n",
              "                              param_grid={'max_depth': [None, 5, 10],\n",
              "                                          'min_samples_leaf': [1, 2, 4],\n",
              "                                          'min_samples_split': [2, 5, 10]}))])"
            ],
            "text/html": [
              "<style>#sk-container-id-4 {color: black;background-color: white;}#sk-container-id-4 pre{padding: 0;}#sk-container-id-4 div.sk-toggleable {background-color: white;}#sk-container-id-4 label.sk-toggleable__label {cursor: pointer;display: block;width: 100%;margin-bottom: 0;padding: 0.3em;box-sizing: border-box;text-align: center;}#sk-container-id-4 label.sk-toggleable__label-arrow:before {content: \"▸\";float: left;margin-right: 0.25em;color: #696969;}#sk-container-id-4 label.sk-toggleable__label-arrow:hover:before {color: black;}#sk-container-id-4 div.sk-estimator:hover label.sk-toggleable__label-arrow:before {color: black;}#sk-container-id-4 div.sk-toggleable__content {max-height: 0;max-width: 0;overflow: hidden;text-align: left;background-color: #f0f8ff;}#sk-container-id-4 div.sk-toggleable__content pre {margin: 0.2em;color: black;border-radius: 0.25em;background-color: #f0f8ff;}#sk-container-id-4 input.sk-toggleable__control:checked~div.sk-toggleable__content {max-height: 200px;max-width: 100%;overflow: auto;}#sk-container-id-4 input.sk-toggleable__control:checked~label.sk-toggleable__label-arrow:before {content: \"▾\";}#sk-container-id-4 div.sk-estimator input.sk-toggleable__control:checked~label.sk-toggleable__label {background-color: #d4ebff;}#sk-container-id-4 div.sk-label input.sk-toggleable__control:checked~label.sk-toggleable__label {background-color: #d4ebff;}#sk-container-id-4 input.sk-hidden--visually {border: 0;clip: rect(1px 1px 1px 1px);clip: rect(1px, 1px, 1px, 1px);height: 1px;margin: -1px;overflow: hidden;padding: 0;position: absolute;width: 1px;}#sk-container-id-4 div.sk-estimator {font-family: monospace;background-color: #f0f8ff;border: 1px dotted black;border-radius: 0.25em;box-sizing: border-box;margin-bottom: 0.5em;}#sk-container-id-4 div.sk-estimator:hover {background-color: #d4ebff;}#sk-container-id-4 div.sk-parallel-item::after {content: \"\";width: 100%;border-bottom: 1px solid gray;flex-grow: 1;}#sk-container-id-4 div.sk-label:hover label.sk-toggleable__label {background-color: #d4ebff;}#sk-container-id-4 div.sk-serial::before {content: \"\";position: absolute;border-left: 1px solid gray;box-sizing: border-box;top: 0;bottom: 0;left: 50%;z-index: 0;}#sk-container-id-4 div.sk-serial {display: flex;flex-direction: column;align-items: center;background-color: white;padding-right: 0.2em;padding-left: 0.2em;position: relative;}#sk-container-id-4 div.sk-item {position: relative;z-index: 1;}#sk-container-id-4 div.sk-parallel {display: flex;align-items: stretch;justify-content: center;background-color: white;position: relative;}#sk-container-id-4 div.sk-item::before, #sk-container-id-4 div.sk-parallel-item::before {content: \"\";position: absolute;border-left: 1px solid gray;box-sizing: border-box;top: 0;bottom: 0;left: 50%;z-index: -1;}#sk-container-id-4 div.sk-parallel-item {display: flex;flex-direction: column;z-index: 1;position: relative;background-color: white;}#sk-container-id-4 div.sk-parallel-item:first-child::after {align-self: flex-end;width: 50%;}#sk-container-id-4 div.sk-parallel-item:last-child::after {align-self: flex-start;width: 50%;}#sk-container-id-4 div.sk-parallel-item:only-child::after {width: 0;}#sk-container-id-4 div.sk-dashed-wrapped {border: 1px dashed gray;margin: 0 0.4em 0.5em 0.4em;box-sizing: border-box;padding-bottom: 0.4em;background-color: white;}#sk-container-id-4 div.sk-label label {font-family: monospace;font-weight: bold;display: inline-block;line-height: 1.2em;}#sk-container-id-4 div.sk-label-container {text-align: center;}#sk-container-id-4 div.sk-container {/* jupyter's `normalize.less` sets `[hidden] { display: none; }` but bootstrap.min.css set `[hidden] { display: none !important; }` so we also need the `!important` here to be able to override the default hidden behavior on the sphinx rendered scikit-learn.org. See: https://github.com/scikit-learn/scikit-learn/issues/21755 */display: inline-block !important;position: relative;}#sk-container-id-4 div.sk-text-repr-fallback {display: none;}</style><div id=\"sk-container-id-4\" class=\"sk-top-container\"><div class=\"sk-text-repr-fallback\"><pre>Pipeline(steps=[(&#x27;preprocessor&#x27;,\n",
              "                 ColumnTransformer(remainder=&#x27;passthrough&#x27;,\n",
              "                                   transformers=[(&#x27;numerical&#x27;, StandardScaler(),\n",
              "                                                  [&#x27;serving_age&#x27;,\n",
              "                                                   &#x27;valence_mean&#x27;]),\n",
              "                                                 (&#x27;cat&#x27;,\n",
              "                                                  OneHotEncoder(drop=&#x27;if_binary&#x27;,\n",
              "                                                                handle_unknown=&#x27;ignore&#x27;),\n",
              "                                                  [&#x27;emotion_majority&#x27;,\n",
              "                                                   &#x27;race_majority&#x27;, &#x27;gender&#x27;,\n",
              "                                                   &#x27;party&#x27;, &#x27;senate_class&#x27;,\n",
              "                                                   &#x27;stage&#x27;, &#x27;cycle&#x27;])])),\n",
              "                (&#x27;model&#x27;,\n",
              "                 GridSearchCV(estimator=DecisionTreeRegressor(random_state=0),\n",
              "                              n_jobs=2,\n",
              "                              param_grid={&#x27;max_depth&#x27;: [None, 5, 10],\n",
              "                                          &#x27;min_samples_leaf&#x27;: [1, 2, 4],\n",
              "                                          &#x27;min_samples_split&#x27;: [2, 5, 10]}))])</pre><b>In a Jupyter environment, please rerun this cell to show the HTML representation or trust the notebook. <br />On GitHub, the HTML representation is unable to render, please try loading this page with nbviewer.org.</b></div><div class=\"sk-container\" hidden><div class=\"sk-item sk-dashed-wrapped\"><div class=\"sk-label-container\"><div class=\"sk-label sk-toggleable\"><input class=\"sk-toggleable__control sk-hidden--visually\" id=\"sk-estimator-id-24\" type=\"checkbox\" ><label for=\"sk-estimator-id-24\" class=\"sk-toggleable__label sk-toggleable__label-arrow\">Pipeline</label><div class=\"sk-toggleable__content\"><pre>Pipeline(steps=[(&#x27;preprocessor&#x27;,\n",
              "                 ColumnTransformer(remainder=&#x27;passthrough&#x27;,\n",
              "                                   transformers=[(&#x27;numerical&#x27;, StandardScaler(),\n",
              "                                                  [&#x27;serving_age&#x27;,\n",
              "                                                   &#x27;valence_mean&#x27;]),\n",
              "                                                 (&#x27;cat&#x27;,\n",
              "                                                  OneHotEncoder(drop=&#x27;if_binary&#x27;,\n",
              "                                                                handle_unknown=&#x27;ignore&#x27;),\n",
              "                                                  [&#x27;emotion_majority&#x27;,\n",
              "                                                   &#x27;race_majority&#x27;, &#x27;gender&#x27;,\n",
              "                                                   &#x27;party&#x27;, &#x27;senate_class&#x27;,\n",
              "                                                   &#x27;stage&#x27;, &#x27;cycle&#x27;])])),\n",
              "                (&#x27;model&#x27;,\n",
              "                 GridSearchCV(estimator=DecisionTreeRegressor(random_state=0),\n",
              "                              n_jobs=2,\n",
              "                              param_grid={&#x27;max_depth&#x27;: [None, 5, 10],\n",
              "                                          &#x27;min_samples_leaf&#x27;: [1, 2, 4],\n",
              "                                          &#x27;min_samples_split&#x27;: [2, 5, 10]}))])</pre></div></div></div><div class=\"sk-serial\"><div class=\"sk-item sk-dashed-wrapped\"><div class=\"sk-label-container\"><div class=\"sk-label sk-toggleable\"><input class=\"sk-toggleable__control sk-hidden--visually\" id=\"sk-estimator-id-25\" type=\"checkbox\" ><label for=\"sk-estimator-id-25\" class=\"sk-toggleable__label sk-toggleable__label-arrow\">preprocessor: ColumnTransformer</label><div class=\"sk-toggleable__content\"><pre>ColumnTransformer(remainder=&#x27;passthrough&#x27;,\n",
              "                  transformers=[(&#x27;numerical&#x27;, StandardScaler(),\n",
              "                                 [&#x27;serving_age&#x27;, &#x27;valence_mean&#x27;]),\n",
              "                                (&#x27;cat&#x27;,\n",
              "                                 OneHotEncoder(drop=&#x27;if_binary&#x27;,\n",
              "                                               handle_unknown=&#x27;ignore&#x27;),\n",
              "                                 [&#x27;emotion_majority&#x27;, &#x27;race_majority&#x27;, &#x27;gender&#x27;,\n",
              "                                  &#x27;party&#x27;, &#x27;senate_class&#x27;, &#x27;stage&#x27;, &#x27;cycle&#x27;])])</pre></div></div></div><div class=\"sk-parallel\"><div class=\"sk-parallel-item\"><div class=\"sk-item\"><div class=\"sk-label-container\"><div class=\"sk-label sk-toggleable\"><input class=\"sk-toggleable__control sk-hidden--visually\" id=\"sk-estimator-id-26\" type=\"checkbox\" ><label for=\"sk-estimator-id-26\" class=\"sk-toggleable__label sk-toggleable__label-arrow\">numerical</label><div class=\"sk-toggleable__content\"><pre>[&#x27;serving_age&#x27;, &#x27;valence_mean&#x27;]</pre></div></div></div><div class=\"sk-serial\"><div class=\"sk-item\"><div class=\"sk-estimator sk-toggleable\"><input class=\"sk-toggleable__control sk-hidden--visually\" id=\"sk-estimator-id-27\" type=\"checkbox\" ><label for=\"sk-estimator-id-27\" class=\"sk-toggleable__label sk-toggleable__label-arrow\">StandardScaler</label><div class=\"sk-toggleable__content\"><pre>StandardScaler()</pre></div></div></div></div></div></div><div class=\"sk-parallel-item\"><div class=\"sk-item\"><div class=\"sk-label-container\"><div class=\"sk-label sk-toggleable\"><input class=\"sk-toggleable__control sk-hidden--visually\" id=\"sk-estimator-id-28\" type=\"checkbox\" ><label for=\"sk-estimator-id-28\" class=\"sk-toggleable__label sk-toggleable__label-arrow\">cat</label><div class=\"sk-toggleable__content\"><pre>[&#x27;emotion_majority&#x27;, &#x27;race_majority&#x27;, &#x27;gender&#x27;, &#x27;party&#x27;, &#x27;senate_class&#x27;, &#x27;stage&#x27;, &#x27;cycle&#x27;]</pre></div></div></div><div class=\"sk-serial\"><div class=\"sk-item\"><div class=\"sk-estimator sk-toggleable\"><input class=\"sk-toggleable__control sk-hidden--visually\" id=\"sk-estimator-id-29\" type=\"checkbox\" ><label for=\"sk-estimator-id-29\" class=\"sk-toggleable__label sk-toggleable__label-arrow\">OneHotEncoder</label><div class=\"sk-toggleable__content\"><pre>OneHotEncoder(drop=&#x27;if_binary&#x27;, handle_unknown=&#x27;ignore&#x27;)</pre></div></div></div></div></div></div><div class=\"sk-parallel-item\"><div class=\"sk-item\"><div class=\"sk-label-container\"><div class=\"sk-label sk-toggleable\"><input class=\"sk-toggleable__control sk-hidden--visually\" id=\"sk-estimator-id-30\" type=\"checkbox\" ><label for=\"sk-estimator-id-30\" class=\"sk-toggleable__label sk-toggleable__label-arrow\">remainder</label><div class=\"sk-toggleable__content\"><pre>[]</pre></div></div></div><div class=\"sk-serial\"><div class=\"sk-item\"><div class=\"sk-estimator sk-toggleable\"><input class=\"sk-toggleable__control sk-hidden--visually\" id=\"sk-estimator-id-31\" type=\"checkbox\" ><label for=\"sk-estimator-id-31\" class=\"sk-toggleable__label sk-toggleable__label-arrow\">passthrough</label><div class=\"sk-toggleable__content\"><pre>passthrough</pre></div></div></div></div></div></div></div></div><div class=\"sk-item sk-dashed-wrapped\"><div class=\"sk-label-container\"><div class=\"sk-label sk-toggleable\"><input class=\"sk-toggleable__control sk-hidden--visually\" id=\"sk-estimator-id-32\" type=\"checkbox\" ><label for=\"sk-estimator-id-32\" class=\"sk-toggleable__label sk-toggleable__label-arrow\">model: GridSearchCV</label><div class=\"sk-toggleable__content\"><pre>GridSearchCV(estimator=DecisionTreeRegressor(random_state=0), n_jobs=2,\n",
              "             param_grid={&#x27;max_depth&#x27;: [None, 5, 10],\n",
              "                         &#x27;min_samples_leaf&#x27;: [1, 2, 4],\n",
              "                         &#x27;min_samples_split&#x27;: [2, 5, 10]})</pre></div></div></div><div class=\"sk-parallel\"><div class=\"sk-parallel-item\"><div class=\"sk-item\"><div class=\"sk-label-container\"><div class=\"sk-label sk-toggleable\"><input class=\"sk-toggleable__control sk-hidden--visually\" id=\"sk-estimator-id-33\" type=\"checkbox\" ><label for=\"sk-estimator-id-33\" class=\"sk-toggleable__label sk-toggleable__label-arrow\">estimator: DecisionTreeRegressor</label><div class=\"sk-toggleable__content\"><pre>DecisionTreeRegressor(random_state=0)</pre></div></div></div><div class=\"sk-serial\"><div class=\"sk-item\"><div class=\"sk-estimator sk-toggleable\"><input class=\"sk-toggleable__control sk-hidden--visually\" id=\"sk-estimator-id-34\" type=\"checkbox\" ><label for=\"sk-estimator-id-34\" class=\"sk-toggleable__label sk-toggleable__label-arrow\">DecisionTreeRegressor</label><div class=\"sk-toggleable__content\"><pre>DecisionTreeRegressor(random_state=0)</pre></div></div></div></div></div></div></div></div></div></div></div></div>"
            ]
          },
          "metadata": {},
          "execution_count": 47
        }
      ]
    },
    {
      "cell_type": "code",
      "source": [
        "dtr_pipeline[1].best_params_"
      ],
      "metadata": {
        "colab": {
          "base_uri": "https://localhost:8080/"
        },
        "id": "ELeleUrEsS22",
        "outputId": "4f26e3fc-512c-4515-ffad-0f0834d43a4c"
      },
      "execution_count": null,
      "outputs": [
        {
          "output_type": "execute_result",
          "data": {
            "text/plain": [
              "{'max_depth': None, 'min_samples_leaf': 1, 'min_samples_split': 5}"
            ]
          },
          "metadata": {},
          "execution_count": 48
        }
      ]
    },
    {
      "cell_type": "code",
      "source": [
        "dtr = dtr_pipeline[1].best_estimator_"
      ],
      "metadata": {
        "id": "M0ubBDo0q-dD"
      },
      "execution_count": null,
      "outputs": []
    },
    {
      "cell_type": "markdown",
      "source": [
        "##### Training Scores\n",
        "Refer to this for evaluation of train/test scores: https://datascience.stackexchange.com/questions/70054/interpretation-for-test-score-training-score-and-validation-score-in-machine-l"
      ],
      "metadata": {
        "id": "yCEeoPfOc6c_"
      }
    },
    {
      "cell_type": "code",
      "source": [
        "dtr_train_scores = evaluate_model(dtr,X_train,y_train)\n",
        "dtr_train_scores"
      ],
      "metadata": {
        "colab": {
          "base_uri": "https://localhost:8080/"
        },
        "outputId": "55d55d9c-227e-4149-afb1-e67bf9f084d9",
        "id": "khq_cCk4c6dA"
      },
      "execution_count": null,
      "outputs": [
        {
          "output_type": "execute_result",
          "data": {
            "text/plain": [
              "{'mse': 19.280495797009742,\n",
              " 'mae': 3.1096871114572693,\n",
              " 'r2': 0.6658577620706366}"
            ]
          },
          "metadata": {},
          "execution_count": 50
        }
      ]
    },
    {
      "cell_type": "markdown",
      "source": [
        "##### Testing Scores"
      ],
      "metadata": {
        "id": "b5KcMAcWc6dB"
      }
    },
    {
      "cell_type": "code",
      "source": [
        "dtr_scores = evaluate_model(dtr,X_test,y_test)\n",
        "dtr_scores"
      ],
      "metadata": {
        "colab": {
          "base_uri": "https://localhost:8080/"
        },
        "outputId": "400d58e7-e20f-43d0-bac2-312903f84028",
        "id": "2QfSJCI0c6dB"
      },
      "execution_count": null,
      "outputs": [
        {
          "output_type": "execute_result",
          "data": {
            "text/plain": [
              "{'mse': 20.3143101187405, 'mae': 3.2528451993906478, 'r2': 0.6056419669887366}"
            ]
          },
          "metadata": {},
          "execution_count": 51
        }
      ]
    },
    {
      "cell_type": "markdown",
      "source": [
        "Feature importance based on mean decrease in impurity\n",
        "\n",
        "https://scikit-learn.org/stable/auto_examples/ensemble/plot_forest_importances.html"
      ],
      "metadata": {
        "id": "ClRJkP-32VeJ"
      }
    },
    {
      "cell_type": "code",
      "source": [
        "feature_names = dtr_pipeline[:-1].get_feature_names_out()\n",
        "forest_importances = pd.Series(dtr.feature_importances_, index=feature_names)\n",
        "\n",
        "fig, ax = plt.subplots()\n",
        "forest_importances.plot.bar(ax=ax)\n",
        "ax.set_title(\"Decision Tree Feature importances using MDI\")\n",
        "ax.set_ylabel(\"Mean decrease in impurity\")\n",
        "fig.tight_layout()"
      ],
      "metadata": {
        "colab": {
          "base_uri": "https://localhost:8080/",
          "height": 54
        },
        "id": "BK6QQ7WKptzJ",
        "outputId": "332b2641-01b9-46c9-b541-2c20c43383b4"
      },
      "execution_count": null,
      "outputs": [
        {
          "output_type": "display_data",
          "data": {
            "text/plain": [
              "<Figure size 640x480 with 1 Axes>"
            ],
            "image/png": "[encoded data removed]"
          },
          "metadata": {}
        }
      ]
    },
    {
      "cell_type": "code",
      "source": [],
      "metadata": {
        "id": "mP4n7ypMb1Nt"
      },
      "execution_count": null,
      "outputs": []
    },
    {
      "cell_type": "markdown",
      "source": [
        "#### Other Methods\n",
        "K Nearest Neighbors Regressor\n",
        "\n",
        "Requires Encoding"
      ],
      "metadata": {
        "id": "uTGBuDd7ZjYM"
      }
    },
    {
      "cell_type": "code",
      "source": [
        "# https://medium.com/@agrawalsam1997/hyperparameter-tuning-of-knn-classifier-a32f31af25c7\n",
        "knr_parameters = parameter={'n_neighbors': np.arange(2, 30, 1)}"
      ],
      "metadata": {
        "id": "s--OeiwWsn6j"
      },
      "execution_count": null,
      "outputs": []
    },
    {
      "cell_type": "code",
      "source": [
        "knr = KNeighborsRegressor(n_neighbors=2)"
      ],
      "metadata": {
        "id": "2znx0gUSZjbT"
      },
      "execution_count": null,
      "outputs": []
    },
    {
      "cell_type": "code",
      "source": [
        "knr_pipeline = Pipeline(steps=[('preprocessor', ctprocessor), ('model',GridSearchCV(knr, knr_parameters, n_jobs=2))])\n",
        "knr_pipeline.fit(X_train,y_train)"
      ],
      "metadata": {
        "colab": {
          "base_uri": "https://localhost:8080/",
          "height": 295
        },
        "outputId": "f4430950-0104-4e78-9562-7fb7ab48fffc",
        "id": "tSAg-LofshxP"
      },
      "execution_count": null,
      "outputs": [
        {
          "output_type": "execute_result",
          "data": {
            "text/plain": [
              "Pipeline(steps=[('preprocessor',\n",
              "                 ColumnTransformer(remainder='passthrough',\n",
              "                                   transformers=[('numerical', StandardScaler(),\n",
              "                                                  ['serving_age',\n",
              "                                                   'valence_mean']),\n",
              "                                                 ('cat',\n",
              "                                                  OneHotEncoder(drop='if_binary',\n",
              "                                                                handle_unknown='ignore'),\n",
              "                                                  ['emotion_majority',\n",
              "                                                   'race_majority', 'gender',\n",
              "                                                   'party', 'senate_class',\n",
              "                                                   'stage', 'cycle'])])),\n",
              "                ('model',\n",
              "                 GridSearchCV(estimator=KNeighborsRegressor(n_neighbors=2),\n",
              "                              n_jobs=2,\n",
              "                              param_grid={'n_neighbors': array([ 2,  3,  4,  5,  6,  7,  8,  9, 10, 11, 12, 13, 14, 15, 16, 17, 18,\n",
              "       19, 20, 21, 22, 23, 24, 25, 26, 27, 28, 29])}))])"
            ],
            "text/html": [
              "<style>#sk-container-id-5 {color: black;background-color: white;}#sk-container-id-5 pre{padding: 0;}#sk-container-id-5 div.sk-toggleable {background-color: white;}#sk-container-id-5 label.sk-toggleable__label {cursor: pointer;display: block;width: 100%;margin-bottom: 0;padding: 0.3em;box-sizing: border-box;text-align: center;}#sk-container-id-5 label.sk-toggleable__label-arrow:before {content: \"▸\";float: left;margin-right: 0.25em;color: #696969;}#sk-container-id-5 label.sk-toggleable__label-arrow:hover:before {color: black;}#sk-container-id-5 div.sk-estimator:hover label.sk-toggleable__label-arrow:before {color: black;}#sk-container-id-5 div.sk-toggleable__content {max-height: 0;max-width: 0;overflow: hidden;text-align: left;background-color: #f0f8ff;}#sk-container-id-5 div.sk-toggleable__content pre {margin: 0.2em;color: black;border-radius: 0.25em;background-color: #f0f8ff;}#sk-container-id-5 input.sk-toggleable__control:checked~div.sk-toggleable__content {max-height: 200px;max-width: 100%;overflow: auto;}#sk-container-id-5 input.sk-toggleable__control:checked~label.sk-toggleable__label-arrow:before {content: \"▾\";}#sk-container-id-5 div.sk-estimator input.sk-toggleable__control:checked~label.sk-toggleable__label {background-color: #d4ebff;}#sk-container-id-5 div.sk-label input.sk-toggleable__control:checked~label.sk-toggleable__label {background-color: #d4ebff;}#sk-container-id-5 input.sk-hidden--visually {border: 0;clip: rect(1px 1px 1px 1px);clip: rect(1px, 1px, 1px, 1px);height: 1px;margin: -1px;overflow: hidden;padding: 0;position: absolute;width: 1px;}#sk-container-id-5 div.sk-estimator {font-family: monospace;background-color: #f0f8ff;border: 1px dotted black;border-radius: 0.25em;box-sizing: border-box;margin-bottom: 0.5em;}#sk-container-id-5 div.sk-estimator:hover {background-color: #d4ebff;}#sk-container-id-5 div.sk-parallel-item::after {content: \"\";width: 100%;border-bottom: 1px solid gray;flex-grow: 1;}#sk-container-id-5 div.sk-label:hover label.sk-toggleable__label {background-color: #d4ebff;}#sk-container-id-5 div.sk-serial::before {content: \"\";position: absolute;border-left: 1px solid gray;box-sizing: border-box;top: 0;bottom: 0;left: 50%;z-index: 0;}#sk-container-id-5 div.sk-serial {display: flex;flex-direction: column;align-items: center;background-color: white;padding-right: 0.2em;padding-left: 0.2em;position: relative;}#sk-container-id-5 div.sk-item {position: relative;z-index: 1;}#sk-container-id-5 div.sk-parallel {display: flex;align-items: stretch;justify-content: center;background-color: white;position: relative;}#sk-container-id-5 div.sk-item::before, #sk-container-id-5 div.sk-parallel-item::before {content: \"\";position: absolute;border-left: 1px solid gray;box-sizing: border-box;top: 0;bottom: 0;left: 50%;z-index: -1;}#sk-container-id-5 div.sk-parallel-item {display: flex;flex-direction: column;z-index: 1;position: relative;background-color: white;}#sk-container-id-5 div.sk-parallel-item:first-child::after {align-self: flex-end;width: 50%;}#sk-container-id-5 div.sk-parallel-item:last-child::after {align-self: flex-start;width: 50%;}#sk-container-id-5 div.sk-parallel-item:only-child::after {width: 0;}#sk-container-id-5 div.sk-dashed-wrapped {border: 1px dashed gray;margin: 0 0.4em 0.5em 0.4em;box-sizing: border-box;padding-bottom: 0.4em;background-color: white;}#sk-container-id-5 div.sk-label label {font-family: monospace;font-weight: bold;display: inline-block;line-height: 1.2em;}#sk-container-id-5 div.sk-label-container {text-align: center;}#sk-container-id-5 div.sk-container {/* jupyter's `normalize.less` sets `[hidden] { display: none; }` but bootstrap.min.css set `[hidden] { display: none !important; }` so we also need the `!important` here to be able to override the default hidden behavior on the sphinx rendered scikit-learn.org. See: https://github.com/scikit-learn/scikit-learn/issues/21755 */display: inline-block !important;position: relative;}#sk-container-id-5 div.sk-text-repr-fallback {display: none;}</style><div id=\"sk-container-id-5\" class=\"sk-top-container\"><div class=\"sk-text-repr-fallback\"><pre>Pipeline(steps=[(&#x27;preprocessor&#x27;,\n",
              "                 ColumnTransformer(remainder=&#x27;passthrough&#x27;,\n",
              "                                   transformers=[(&#x27;numerical&#x27;, StandardScaler(),\n",
              "                                                  [&#x27;serving_age&#x27;,\n",
              "                                                   &#x27;valence_mean&#x27;]),\n",
              "                                                 (&#x27;cat&#x27;,\n",
              "                                                  OneHotEncoder(drop=&#x27;if_binary&#x27;,\n",
              "                                                                handle_unknown=&#x27;ignore&#x27;),\n",
              "                                                  [&#x27;emotion_majority&#x27;,\n",
              "                                                   &#x27;race_majority&#x27;, &#x27;gender&#x27;,\n",
              "                                                   &#x27;party&#x27;, &#x27;senate_class&#x27;,\n",
              "                                                   &#x27;stage&#x27;, &#x27;cycle&#x27;])])),\n",
              "                (&#x27;model&#x27;,\n",
              "                 GridSearchCV(estimator=KNeighborsRegressor(n_neighbors=2),\n",
              "                              n_jobs=2,\n",
              "                              param_grid={&#x27;n_neighbors&#x27;: array([ 2,  3,  4,  5,  6,  7,  8,  9, 10, 11, 12, 13, 14, 15, 16, 17, 18,\n",
              "       19, 20, 21, 22, 23, 24, 25, 26, 27, 28, 29])}))])</pre><b>In a Jupyter environment, please rerun this cell to show the HTML representation or trust the notebook. <br />On GitHub, the HTML representation is unable to render, please try loading this page with nbviewer.org.</b></div><div class=\"sk-container\" hidden><div class=\"sk-item sk-dashed-wrapped\"><div class=\"sk-label-container\"><div class=\"sk-label sk-toggleable\"><input class=\"sk-toggleable__control sk-hidden--visually\" id=\"sk-estimator-id-35\" type=\"checkbox\" ><label for=\"sk-estimator-id-35\" class=\"sk-toggleable__label sk-toggleable__label-arrow\">Pipeline</label><div class=\"sk-toggleable__content\"><pre>Pipeline(steps=[(&#x27;preprocessor&#x27;,\n",
              "                 ColumnTransformer(remainder=&#x27;passthrough&#x27;,\n",
              "                                   transformers=[(&#x27;numerical&#x27;, StandardScaler(),\n",
              "                                                  [&#x27;serving_age&#x27;,\n",
              "                                                   &#x27;valence_mean&#x27;]),\n",
              "                                                 (&#x27;cat&#x27;,\n",
              "                                                  OneHotEncoder(drop=&#x27;if_binary&#x27;,\n",
              "                                                                handle_unknown=&#x27;ignore&#x27;),\n",
              "                                                  [&#x27;emotion_majority&#x27;,\n",
              "                                                   &#x27;race_majority&#x27;, &#x27;gender&#x27;,\n",
              "                                                   &#x27;party&#x27;, &#x27;senate_class&#x27;,\n",
              "                                                   &#x27;stage&#x27;, &#x27;cycle&#x27;])])),\n",
              "                (&#x27;model&#x27;,\n",
              "                 GridSearchCV(estimator=KNeighborsRegressor(n_neighbors=2),\n",
              "                              n_jobs=2,\n",
              "                              param_grid={&#x27;n_neighbors&#x27;: array([ 2,  3,  4,  5,  6,  7,  8,  9, 10, 11, 12, 13, 14, 15, 16, 17, 18,\n",
              "       19, 20, 21, 22, 23, 24, 25, 26, 27, 28, 29])}))])</pre></div></div></div><div class=\"sk-serial\"><div class=\"sk-item sk-dashed-wrapped\"><div class=\"sk-label-container\"><div class=\"sk-label sk-toggleable\"><input class=\"sk-toggleable__control sk-hidden--visually\" id=\"sk-estimator-id-36\" type=\"checkbox\" ><label for=\"sk-estimator-id-36\" class=\"sk-toggleable__label sk-toggleable__label-arrow\">preprocessor: ColumnTransformer</label><div class=\"sk-toggleable__content\"><pre>ColumnTransformer(remainder=&#x27;passthrough&#x27;,\n",
              "                  transformers=[(&#x27;numerical&#x27;, StandardScaler(),\n",
              "                                 [&#x27;serving_age&#x27;, &#x27;valence_mean&#x27;]),\n",
              "                                (&#x27;cat&#x27;,\n",
              "                                 OneHotEncoder(drop=&#x27;if_binary&#x27;,\n",
              "                                               handle_unknown=&#x27;ignore&#x27;),\n",
              "                                 [&#x27;emotion_majority&#x27;, &#x27;race_majority&#x27;, &#x27;gender&#x27;,\n",
              "                                  &#x27;party&#x27;, &#x27;senate_class&#x27;, &#x27;stage&#x27;, &#x27;cycle&#x27;])])</pre></div></div></div><div class=\"sk-parallel\"><div class=\"sk-parallel-item\"><div class=\"sk-item\"><div class=\"sk-label-container\"><div class=\"sk-label sk-toggleable\"><input class=\"sk-toggleable__control sk-hidden--visually\" id=\"sk-estimator-id-37\" type=\"checkbox\" ><label for=\"sk-estimator-id-37\" class=\"sk-toggleable__label sk-toggleable__label-arrow\">numerical</label><div class=\"sk-toggleable__content\"><pre>[&#x27;serving_age&#x27;, &#x27;valence_mean&#x27;]</pre></div></div></div><div class=\"sk-serial\"><div class=\"sk-item\"><div class=\"sk-estimator sk-toggleable\"><input class=\"sk-toggleable__control sk-hidden--visually\" id=\"sk-estimator-id-38\" type=\"checkbox\" ><label for=\"sk-estimator-id-38\" class=\"sk-toggleable__label sk-toggleable__label-arrow\">StandardScaler</label><div class=\"sk-toggleable__content\"><pre>StandardScaler()</pre></div></div></div></div></div></div><div class=\"sk-parallel-item\"><div class=\"sk-item\"><div class=\"sk-label-container\"><div class=\"sk-label sk-toggleable\"><input class=\"sk-toggleable__control sk-hidden--visually\" id=\"sk-estimator-id-39\" type=\"checkbox\" ><label for=\"sk-estimator-id-39\" class=\"sk-toggleable__label sk-toggleable__label-arrow\">cat</label><div class=\"sk-toggleable__content\"><pre>[&#x27;emotion_majority&#x27;, &#x27;race_majority&#x27;, &#x27;gender&#x27;, &#x27;party&#x27;, &#x27;senate_class&#x27;, &#x27;stage&#x27;, &#x27;cycle&#x27;]</pre></div></div></div><div class=\"sk-serial\"><div class=\"sk-item\"><div class=\"sk-estimator sk-toggleable\"><input class=\"sk-toggleable__control sk-hidden--visually\" id=\"sk-estimator-id-40\" type=\"checkbox\" ><label for=\"sk-estimator-id-40\" class=\"sk-toggleable__label sk-toggleable__label-arrow\">OneHotEncoder</label><div class=\"sk-toggleable__content\"><pre>OneHotEncoder(drop=&#x27;if_binary&#x27;, handle_unknown=&#x27;ignore&#x27;)</pre></div></div></div></div></div></div><div class=\"sk-parallel-item\"><div class=\"sk-item\"><div class=\"sk-label-container\"><div class=\"sk-label sk-toggleable\"><input class=\"sk-toggleable__control sk-hidden--visually\" id=\"sk-estimator-id-41\" type=\"checkbox\" ><label for=\"sk-estimator-id-41\" class=\"sk-toggleable__label sk-toggleable__label-arrow\">remainder</label><div class=\"sk-toggleable__content\"><pre>[]</pre></div></div></div><div class=\"sk-serial\"><div class=\"sk-item\"><div class=\"sk-estimator sk-toggleable\"><input class=\"sk-toggleable__control sk-hidden--visually\" id=\"sk-estimator-id-42\" type=\"checkbox\" ><label for=\"sk-estimator-id-42\" class=\"sk-toggleable__label sk-toggleable__label-arrow\">passthrough</label><div class=\"sk-toggleable__content\"><pre>passthrough</pre></div></div></div></div></div></div></div></div><div class=\"sk-item sk-dashed-wrapped\"><div class=\"sk-label-container\"><div class=\"sk-label sk-toggleable\"><input class=\"sk-toggleable__control sk-hidden--visually\" id=\"sk-estimator-id-43\" type=\"checkbox\" ><label for=\"sk-estimator-id-43\" class=\"sk-toggleable__label sk-toggleable__label-arrow\">model: GridSearchCV</label><div class=\"sk-toggleable__content\"><pre>GridSearchCV(estimator=KNeighborsRegressor(n_neighbors=2), n_jobs=2,\n",
              "             param_grid={&#x27;n_neighbors&#x27;: array([ 2,  3,  4,  5,  6,  7,  8,  9, 10, 11, 12, 13, 14, 15, 16, 17, 18,\n",
              "       19, 20, 21, 22, 23, 24, 25, 26, 27, 28, 29])})</pre></div></div></div><div class=\"sk-parallel\"><div class=\"sk-parallel-item\"><div class=\"sk-item\"><div class=\"sk-label-container\"><div class=\"sk-label sk-toggleable\"><input class=\"sk-toggleable__control sk-hidden--visually\" id=\"sk-estimator-id-44\" type=\"checkbox\" ><label for=\"sk-estimator-id-44\" class=\"sk-toggleable__label sk-toggleable__label-arrow\">estimator: KNeighborsRegressor</label><div class=\"sk-toggleable__content\"><pre>KNeighborsRegressor(n_neighbors=2)</pre></div></div></div><div class=\"sk-serial\"><div class=\"sk-item\"><div class=\"sk-estimator sk-toggleable\"><input class=\"sk-toggleable__control sk-hidden--visually\" id=\"sk-estimator-id-45\" type=\"checkbox\" ><label for=\"sk-estimator-id-45\" class=\"sk-toggleable__label sk-toggleable__label-arrow\">KNeighborsRegressor</label><div class=\"sk-toggleable__content\"><pre>KNeighborsRegressor(n_neighbors=2)</pre></div></div></div></div></div></div></div></div></div></div></div></div>"
            ]
          },
          "metadata": {},
          "execution_count": 55
        }
      ]
    },
    {
      "cell_type": "code",
      "source": [
        "knr_pipeline[1].best_params_"
      ],
      "metadata": {
        "colab": {
          "base_uri": "https://localhost:8080/"
        },
        "outputId": "1dcd24db-bdba-4780-f7bf-0fe9f273cb05",
        "id": "VOv5FpLkshxR"
      },
      "execution_count": null,
      "outputs": [
        {
          "output_type": "execute_result",
          "data": {
            "text/plain": [
              "{'n_neighbors': 7}"
            ]
          },
          "metadata": {},
          "execution_count": 56
        }
      ]
    },
    {
      "cell_type": "code",
      "source": [
        "knr = knr_pipeline[1].best_estimator_"
      ],
      "metadata": {
        "id": "jiVjYIHGshxR"
      },
      "execution_count": null,
      "outputs": []
    },
    {
      "cell_type": "markdown",
      "source": [
        "##### Training Scores\n",
        "Refer to this for evaluation of train/test scores: https://datascience.stackexchange.com/questions/70054/interpretation-for-test-score-training-score-and-validation-score-in-machine-l"
      ],
      "metadata": {
        "id": "6Aay_289ciDA"
      }
    },
    {
      "cell_type": "code",
      "source": [
        "knr_train_scores = evaluate_model(knr,X_train,y_train)\n",
        "knr_train_scores"
      ],
      "metadata": {
        "colab": {
          "base_uri": "https://localhost:8080/"
        },
        "outputId": "f897b95c-61cc-4aef-93fc-5eb3500da3af",
        "id": "lF03PaQUciDB"
      },
      "execution_count": null,
      "outputs": [
        {
          "output_type": "execute_result",
          "data": {
            "text/plain": [
              "{'mse': 20.21514420031604, 'mae': 3.237787714756413, 'r2': 0.6479907760127992}"
            ]
          },
          "metadata": {},
          "execution_count": 58
        }
      ]
    },
    {
      "cell_type": "markdown",
      "source": [
        "##### Testing Scores"
      ],
      "metadata": {
        "id": "zyS8_DumciDB"
      }
    },
    {
      "cell_type": "code",
      "source": [
        "knr_scores = evaluate_model(knr,X_test,y_test)\n",
        "knr_scores"
      ],
      "metadata": {
        "colab": {
          "base_uri": "https://localhost:8080/"
        },
        "outputId": "b77001ae-a1b4-4475-c7c7-6a4a3c04ffe8",
        "id": "xSyMyhXrciDC"
      },
      "execution_count": null,
      "outputs": [
        {
          "output_type": "execute_result",
          "data": {
            "text/plain": [
              "{'mse': 25.435804979980407, 'mae': 3.6715465350047305, 'r2': 0.505978035938815}"
            ]
          },
          "metadata": {},
          "execution_count": 59
        }
      ]
    },
    {
      "cell_type": "code",
      "source": [],
      "metadata": {
        "id": "70JAL4NHcxMn"
      },
      "execution_count": null,
      "outputs": []
    },
    {
      "cell_type": "markdown",
      "source": [
        "### Supervised Methods - Ensemble Learning"
      ],
      "metadata": {
        "id": "3q1xvn-Cdc91"
      }
    },
    {
      "cell_type": "markdown",
      "source": [
        "#### Random Forest"
      ],
      "metadata": {
        "id": "aRZEmI6seM11"
      }
    },
    {
      "cell_type": "code",
      "source": [
        "# https://towardsdatascience.com/hyperparameter-tuning-the-random-forest-in-python-using-scikit-learn-28d2aa77dd74\n",
        "rf_parameters = {\n",
        "    'min_samples_leaf': [1, 3, 5],\n",
        "    'min_samples_split': [2, 10, 15],\n",
        "    'n_estimators': [100, 250, 500]\n",
        "}"
      ],
      "metadata": {
        "id": "-T4S4dKftXDs"
      },
      "execution_count": null,
      "outputs": []
    },
    {
      "cell_type": "code",
      "source": [
        "rf = RandomForestRegressor(random_state=42)"
      ],
      "metadata": {
        "id": "_ewbfOfEdkNw"
      },
      "execution_count": null,
      "outputs": []
    },
    {
      "cell_type": "code",
      "source": [
        "rf_pipeline = Pipeline(steps=[('preprocessor', ctprocessor), ('model',GridSearchCV(rf, rf_parameters, n_jobs=2))])\n",
        "rf_pipeline.fit(X_train,y_train)"
      ],
      "metadata": {
        "colab": {
          "base_uri": "https://localhost:8080/",
          "height": 295
        },
        "outputId": "fa19aff9-ae3f-48c2-b582-90481ad5b428",
        "id": "AOWhZ3VttWLR"
      },
      "execution_count": null,
      "outputs": [
        {
          "output_type": "execute_result",
          "data": {
            "text/plain": [
              "Pipeline(steps=[('preprocessor',\n",
              "                 ColumnTransformer(remainder='passthrough',\n",
              "                                   transformers=[('numerical', StandardScaler(),\n",
              "                                                  ['serving_age',\n",
              "                                                   'valence_mean']),\n",
              "                                                 ('cat',\n",
              "                                                  OneHotEncoder(drop='if_binary',\n",
              "                                                                handle_unknown='ignore'),\n",
              "                                                  ['emotion_majority',\n",
              "                                                   'race_majority', 'gender',\n",
              "                                                   'party', 'senate_class',\n",
              "                                                   'stage', 'cycle'])])),\n",
              "                ('model',\n",
              "                 GridSearchCV(estimator=RandomForestRegressor(random_state=42),\n",
              "                              n_jobs=2,\n",
              "                              param_grid={'min_samples_leaf': [1, 3, 5],\n",
              "                                          'min_samples_split': [2, 10, 15],\n",
              "                                          'n_estimators': [100, 250, 500]}))])"
            ],
            "text/html": [
              "<style>#sk-container-id-6 {color: black;background-color: white;}#sk-container-id-6 pre{padding: 0;}#sk-container-id-6 div.sk-toggleable {background-color: white;}#sk-container-id-6 label.sk-toggleable__label {cursor: pointer;display: block;width: 100%;margin-bottom: 0;padding: 0.3em;box-sizing: border-box;text-align: center;}#sk-container-id-6 label.sk-toggleable__label-arrow:before {content: \"▸\";float: left;margin-right: 0.25em;color: #696969;}#sk-container-id-6 label.sk-toggleable__label-arrow:hover:before {color: black;}#sk-container-id-6 div.sk-estimator:hover label.sk-toggleable__label-arrow:before {color: black;}#sk-container-id-6 div.sk-toggleable__content {max-height: 0;max-width: 0;overflow: hidden;text-align: left;background-color: #f0f8ff;}#sk-container-id-6 div.sk-toggleable__content pre {margin: 0.2em;color: black;border-radius: 0.25em;background-color: #f0f8ff;}#sk-container-id-6 input.sk-toggleable__control:checked~div.sk-toggleable__content {max-height: 200px;max-width: 100%;overflow: auto;}#sk-container-id-6 input.sk-toggleable__control:checked~label.sk-toggleable__label-arrow:before {content: \"▾\";}#sk-container-id-6 div.sk-estimator input.sk-toggleable__control:checked~label.sk-toggleable__label {background-color: #d4ebff;}#sk-container-id-6 div.sk-label input.sk-toggleable__control:checked~label.sk-toggleable__label {background-color: #d4ebff;}#sk-container-id-6 input.sk-hidden--visually {border: 0;clip: rect(1px 1px 1px 1px);clip: rect(1px, 1px, 1px, 1px);height: 1px;margin: -1px;overflow: hidden;padding: 0;position: absolute;width: 1px;}#sk-container-id-6 div.sk-estimator {font-family: monospace;background-color: #f0f8ff;border: 1px dotted black;border-radius: 0.25em;box-sizing: border-box;margin-bottom: 0.5em;}#sk-container-id-6 div.sk-estimator:hover {background-color: #d4ebff;}#sk-container-id-6 div.sk-parallel-item::after {content: \"\";width: 100%;border-bottom: 1px solid gray;flex-grow: 1;}#sk-container-id-6 div.sk-label:hover label.sk-toggleable__label {background-color: #d4ebff;}#sk-container-id-6 div.sk-serial::before {content: \"\";position: absolute;border-left: 1px solid gray;box-sizing: border-box;top: 0;bottom: 0;left: 50%;z-index: 0;}#sk-container-id-6 div.sk-serial {display: flex;flex-direction: column;align-items: center;background-color: white;padding-right: 0.2em;padding-left: 0.2em;position: relative;}#sk-container-id-6 div.sk-item {position: relative;z-index: 1;}#sk-container-id-6 div.sk-parallel {display: flex;align-items: stretch;justify-content: center;background-color: white;position: relative;}#sk-container-id-6 div.sk-item::before, #sk-container-id-6 div.sk-parallel-item::before {content: \"\";position: absolute;border-left: 1px solid gray;box-sizing: border-box;top: 0;bottom: 0;left: 50%;z-index: -1;}#sk-container-id-6 div.sk-parallel-item {display: flex;flex-direction: column;z-index: 1;position: relative;background-color: white;}#sk-container-id-6 div.sk-parallel-item:first-child::after {align-self: flex-end;width: 50%;}#sk-container-id-6 div.sk-parallel-item:last-child::after {align-self: flex-start;width: 50%;}#sk-container-id-6 div.sk-parallel-item:only-child::after {width: 0;}#sk-container-id-6 div.sk-dashed-wrapped {border: 1px dashed gray;margin: 0 0.4em 0.5em 0.4em;box-sizing: border-box;padding-bottom: 0.4em;background-color: white;}#sk-container-id-6 div.sk-label label {font-family: monospace;font-weight: bold;display: inline-block;line-height: 1.2em;}#sk-container-id-6 div.sk-label-container {text-align: center;}#sk-container-id-6 div.sk-container {/* jupyter's `normalize.less` sets `[hidden] { display: none; }` but bootstrap.min.css set `[hidden] { display: none !important; }` so we also need the `!important` here to be able to override the default hidden behavior on the sphinx rendered scikit-learn.org. See: https://github.com/scikit-learn/scikit-learn/issues/21755 */display: inline-block !important;position: relative;}#sk-container-id-6 div.sk-text-repr-fallback {display: none;}</style><div id=\"sk-container-id-6\" class=\"sk-top-container\"><div class=\"sk-text-repr-fallback\"><pre>Pipeline(steps=[(&#x27;preprocessor&#x27;,\n",
              "                 ColumnTransformer(remainder=&#x27;passthrough&#x27;,\n",
              "                                   transformers=[(&#x27;numerical&#x27;, StandardScaler(),\n",
              "                                                  [&#x27;serving_age&#x27;,\n",
              "                                                   &#x27;valence_mean&#x27;]),\n",
              "                                                 (&#x27;cat&#x27;,\n",
              "                                                  OneHotEncoder(drop=&#x27;if_binary&#x27;,\n",
              "                                                                handle_unknown=&#x27;ignore&#x27;),\n",
              "                                                  [&#x27;emotion_majority&#x27;,\n",
              "                                                   &#x27;race_majority&#x27;, &#x27;gender&#x27;,\n",
              "                                                   &#x27;party&#x27;, &#x27;senate_class&#x27;,\n",
              "                                                   &#x27;stage&#x27;, &#x27;cycle&#x27;])])),\n",
              "                (&#x27;model&#x27;,\n",
              "                 GridSearchCV(estimator=RandomForestRegressor(random_state=42),\n",
              "                              n_jobs=2,\n",
              "                              param_grid={&#x27;min_samples_leaf&#x27;: [1, 3, 5],\n",
              "                                          &#x27;min_samples_split&#x27;: [2, 10, 15],\n",
              "                                          &#x27;n_estimators&#x27;: [100, 250, 500]}))])</pre><b>In a Jupyter environment, please rerun this cell to show the HTML representation or trust the notebook. <br />On GitHub, the HTML representation is unable to render, please try loading this page with nbviewer.org.</b></div><div class=\"sk-container\" hidden><div class=\"sk-item sk-dashed-wrapped\"><div class=\"sk-label-container\"><div class=\"sk-label sk-toggleable\"><input class=\"sk-toggleable__control sk-hidden--visually\" id=\"sk-estimator-id-46\" type=\"checkbox\" ><label for=\"sk-estimator-id-46\" class=\"sk-toggleable__label sk-toggleable__label-arrow\">Pipeline</label><div class=\"sk-toggleable__content\"><pre>Pipeline(steps=[(&#x27;preprocessor&#x27;,\n",
              "                 ColumnTransformer(remainder=&#x27;passthrough&#x27;,\n",
              "                                   transformers=[(&#x27;numerical&#x27;, StandardScaler(),\n",
              "                                                  [&#x27;serving_age&#x27;,\n",
              "                                                   &#x27;valence_mean&#x27;]),\n",
              "                                                 (&#x27;cat&#x27;,\n",
              "                                                  OneHotEncoder(drop=&#x27;if_binary&#x27;,\n",
              "                                                                handle_unknown=&#x27;ignore&#x27;),\n",
              "                                                  [&#x27;emotion_majority&#x27;,\n",
              "                                                   &#x27;race_majority&#x27;, &#x27;gender&#x27;,\n",
              "                                                   &#x27;party&#x27;, &#x27;senate_class&#x27;,\n",
              "                                                   &#x27;stage&#x27;, &#x27;cycle&#x27;])])),\n",
              "                (&#x27;model&#x27;,\n",
              "                 GridSearchCV(estimator=RandomForestRegressor(random_state=42),\n",
              "                              n_jobs=2,\n",
              "                              param_grid={&#x27;min_samples_leaf&#x27;: [1, 3, 5],\n",
              "                                          &#x27;min_samples_split&#x27;: [2, 10, 15],\n",
              "                                          &#x27;n_estimators&#x27;: [100, 250, 500]}))])</pre></div></div></div><div class=\"sk-serial\"><div class=\"sk-item sk-dashed-wrapped\"><div class=\"sk-label-container\"><div class=\"sk-label sk-toggleable\"><input class=\"sk-toggleable__control sk-hidden--visually\" id=\"sk-estimator-id-47\" type=\"checkbox\" ><label for=\"sk-estimator-id-47\" class=\"sk-toggleable__label sk-toggleable__label-arrow\">preprocessor: ColumnTransformer</label><div class=\"sk-toggleable__content\"><pre>ColumnTransformer(remainder=&#x27;passthrough&#x27;,\n",
              "                  transformers=[(&#x27;numerical&#x27;, StandardScaler(),\n",
              "                                 [&#x27;serving_age&#x27;, &#x27;valence_mean&#x27;]),\n",
              "                                (&#x27;cat&#x27;,\n",
              "                                 OneHotEncoder(drop=&#x27;if_binary&#x27;,\n",
              "                                               handle_unknown=&#x27;ignore&#x27;),\n",
              "                                 [&#x27;emotion_majority&#x27;, &#x27;race_majority&#x27;, &#x27;gender&#x27;,\n",
              "                                  &#x27;party&#x27;, &#x27;senate_class&#x27;, &#x27;stage&#x27;, &#x27;cycle&#x27;])])</pre></div></div></div><div class=\"sk-parallel\"><div class=\"sk-parallel-item\"><div class=\"sk-item\"><div class=\"sk-label-container\"><div class=\"sk-label sk-toggleable\"><input class=\"sk-toggleable__control sk-hidden--visually\" id=\"sk-estimator-id-48\" type=\"checkbox\" ><label for=\"sk-estimator-id-48\" class=\"sk-toggleable__label sk-toggleable__label-arrow\">numerical</label><div class=\"sk-toggleable__content\"><pre>[&#x27;serving_age&#x27;, &#x27;valence_mean&#x27;]</pre></div></div></div><div class=\"sk-serial\"><div class=\"sk-item\"><div class=\"sk-estimator sk-toggleable\"><input class=\"sk-toggleable__control sk-hidden--visually\" id=\"sk-estimator-id-49\" type=\"checkbox\" ><label for=\"sk-estimator-id-49\" class=\"sk-toggleable__label sk-toggleable__label-arrow\">StandardScaler</label><div class=\"sk-toggleable__content\"><pre>StandardScaler()</pre></div></div></div></div></div></div><div class=\"sk-parallel-item\"><div class=\"sk-item\"><div class=\"sk-label-container\"><div class=\"sk-label sk-toggleable\"><input class=\"sk-toggleable__control sk-hidden--visually\" id=\"sk-estimator-id-50\" type=\"checkbox\" ><label for=\"sk-estimator-id-50\" class=\"sk-toggleable__label sk-toggleable__label-arrow\">cat</label><div class=\"sk-toggleable__content\"><pre>[&#x27;emotion_majority&#x27;, &#x27;race_majority&#x27;, &#x27;gender&#x27;, &#x27;party&#x27;, &#x27;senate_class&#x27;, &#x27;stage&#x27;, &#x27;cycle&#x27;]</pre></div></div></div><div class=\"sk-serial\"><div class=\"sk-item\"><div class=\"sk-estimator sk-toggleable\"><input class=\"sk-toggleable__control sk-hidden--visually\" id=\"sk-estimator-id-51\" type=\"checkbox\" ><label for=\"sk-estimator-id-51\" class=\"sk-toggleable__label sk-toggleable__label-arrow\">OneHotEncoder</label><div class=\"sk-toggleable__content\"><pre>OneHotEncoder(drop=&#x27;if_binary&#x27;, handle_unknown=&#x27;ignore&#x27;)</pre></div></div></div></div></div></div><div class=\"sk-parallel-item\"><div class=\"sk-item\"><div class=\"sk-label-container\"><div class=\"sk-label sk-toggleable\"><input class=\"sk-toggleable__control sk-hidden--visually\" id=\"sk-estimator-id-52\" type=\"checkbox\" ><label for=\"sk-estimator-id-52\" class=\"sk-toggleable__label sk-toggleable__label-arrow\">remainder</label><div class=\"sk-toggleable__content\"><pre>[]</pre></div></div></div><div class=\"sk-serial\"><div class=\"sk-item\"><div class=\"sk-estimator sk-toggleable\"><input class=\"sk-toggleable__control sk-hidden--visually\" id=\"sk-estimator-id-53\" type=\"checkbox\" ><label for=\"sk-estimator-id-53\" class=\"sk-toggleable__label sk-toggleable__label-arrow\">passthrough</label><div class=\"sk-toggleable__content\"><pre>passthrough</pre></div></div></div></div></div></div></div></div><div class=\"sk-item sk-dashed-wrapped\"><div class=\"sk-label-container\"><div class=\"sk-label sk-toggleable\"><input class=\"sk-toggleable__control sk-hidden--visually\" id=\"sk-estimator-id-54\" type=\"checkbox\" ><label for=\"sk-estimator-id-54\" class=\"sk-toggleable__label sk-toggleable__label-arrow\">model: GridSearchCV</label><div class=\"sk-toggleable__content\"><pre>GridSearchCV(estimator=RandomForestRegressor(random_state=42), n_jobs=2,\n",
              "             param_grid={&#x27;min_samples_leaf&#x27;: [1, 3, 5],\n",
              "                         &#x27;min_samples_split&#x27;: [2, 10, 15],\n",
              "                         &#x27;n_estimators&#x27;: [100, 250, 500]})</pre></div></div></div><div class=\"sk-parallel\"><div class=\"sk-parallel-item\"><div class=\"sk-item\"><div class=\"sk-label-container\"><div class=\"sk-label sk-toggleable\"><input class=\"sk-toggleable__control sk-hidden--visually\" id=\"sk-estimator-id-55\" type=\"checkbox\" ><label for=\"sk-estimator-id-55\" class=\"sk-toggleable__label sk-toggleable__label-arrow\">estimator: RandomForestRegressor</label><div class=\"sk-toggleable__content\"><pre>RandomForestRegressor(random_state=42)</pre></div></div></div><div class=\"sk-serial\"><div class=\"sk-item\"><div class=\"sk-estimator sk-toggleable\"><input class=\"sk-toggleable__control sk-hidden--visually\" id=\"sk-estimator-id-56\" type=\"checkbox\" ><label for=\"sk-estimator-id-56\" class=\"sk-toggleable__label sk-toggleable__label-arrow\">RandomForestRegressor</label><div class=\"sk-toggleable__content\"><pre>RandomForestRegressor(random_state=42)</pre></div></div></div></div></div></div></div></div></div></div></div></div>"
            ]
          },
          "metadata": {},
          "execution_count": 62
        }
      ]
    },
    {
      "cell_type": "code",
      "source": [
        "rf_pipeline[1].best_params_"
      ],
      "metadata": {
        "colab": {
          "base_uri": "https://localhost:8080/"
        },
        "outputId": "7856c17f-74d0-47b6-ac61-dd9234cfa6fd",
        "id": "euANh4NStWLU"
      },
      "execution_count": null,
      "outputs": [
        {
          "output_type": "execute_result",
          "data": {
            "text/plain": [
              "{'min_samples_leaf': 1, 'min_samples_split': 10, 'n_estimators': 250}"
            ]
          },
          "metadata": {},
          "execution_count": 63
        }
      ]
    },
    {
      "cell_type": "code",
      "source": [
        "rf = rf_pipeline[1].best_estimator_"
      ],
      "metadata": {
        "id": "Mf8lsdmatWLV"
      },
      "execution_count": null,
      "outputs": []
    },
    {
      "cell_type": "markdown",
      "source": [
        "##### Training Scores\n",
        "Refer to this for evaluation of train/test scores: https://datascience.stackexchange.com/questions/70054/interpretation-for-test-score-training-score-and-validation-score-in-machine-l"
      ],
      "metadata": {
        "id": "4ZlHN89bdwqS"
      }
    },
    {
      "cell_type": "code",
      "source": [
        "rf_train_scores = evaluate_model(rf,X_train,y_train)\n",
        "rf_train_scores"
      ],
      "metadata": {
        "colab": {
          "base_uri": "https://localhost:8080/"
        },
        "outputId": "25f8a955-6d8b-4bdd-b31b-8e3f47b8c802",
        "id": "2xjiyq1ZdwqW"
      },
      "execution_count": null,
      "outputs": [
        {
          "output_type": "execute_result",
          "data": {
            "text/plain": [
              "{'mse': 18.538377735322676, 'mae': 3.069726461976993, 'r2': 0.6778503815057723}"
            ]
          },
          "metadata": {},
          "execution_count": 65
        }
      ]
    },
    {
      "cell_type": "markdown",
      "source": [
        "##### Testing Scores"
      ],
      "metadata": {
        "id": "8v7cD00ldwqW"
      }
    },
    {
      "cell_type": "code",
      "source": [
        "rf_scores = evaluate_model(rf,X_test,y_test)\n",
        "rf_scores"
      ],
      "metadata": {
        "colab": {
          "base_uri": "https://localhost:8080/"
        },
        "outputId": "67ede40e-e510-4468-a93a-f65ea8772ee1",
        "id": "_yuo4G73dwqY"
      },
      "execution_count": null,
      "outputs": [
        {
          "output_type": "execute_result",
          "data": {
            "text/plain": [
              "{'mse': 19.80186532309727, 'mae': 3.247172487743089, 'r2': 0.6149268517217977}"
            ]
          },
          "metadata": {},
          "execution_count": 66
        }
      ]
    },
    {
      "cell_type": "markdown",
      "source": [
        "Feature importance based on mean decrease in impurity\n",
        "\n",
        "https://scikit-learn.org/stable/auto_examples/ensemble/plot_forest_importances.html"
      ],
      "metadata": {
        "id": "rfRnk6oI2OBc"
      }
    },
    {
      "cell_type": "code",
      "source": [
        "feature_names = rf_pipeline[:-1].get_feature_names_out()\n",
        "forest_importances = pd.Series(rf.feature_importances_, index=feature_names)\n",
        "\n",
        "fig, ax = plt.subplots()\n",
        "forest_importances.plot.bar(ax=ax)\n",
        "ax.set_title(\"Random Forest Feature importances using MDI\")\n",
        "ax.set_ylabel(\"Mean decrease in impurity\")\n",
        "fig.tight_layout()"
      ],
      "metadata": {
        "colab": {
          "base_uri": "https://localhost:8080/",
          "height": 54
        },
        "id": "nqdAQrbOdwqY",
        "outputId": "b4175a77-9803-4bc7-d842-e5322b3e8a3e"
      },
      "execution_count": null,
      "outputs": [
        {
          "output_type": "display_data",
          "data": {
            "text/plain": [
              "<Figure size 640x480 with 1 Axes>"
            ],
            "image/png": "[encoded data removed]"
          },
          "metadata": {}
        }
      ]
    },
    {
      "cell_type": "code",
      "source": [],
      "metadata": {
        "id": "XCKL1f1nM9_k"
      },
      "execution_count": null,
      "outputs": []
    },
    {
      "cell_type": "markdown",
      "source": [
        "#### XGBoost"
      ],
      "metadata": {
        "id": "N3ht3D9pNH23"
      }
    },
    {
      "cell_type": "code",
      "source": [
        "X_train_xgb = X_train.copy()\n",
        "X_train_xgb[categorical_features] = X_train[categorical_features].astype(\"category\")\n",
        "X_test_xgb = X_test.copy()\n",
        "X_test_xgb[categorical_features] = X_test[categorical_features].astype(\"category\")"
      ],
      "metadata": {
        "id": "-CsWrfRqP6Zv"
      },
      "execution_count": null,
      "outputs": []
    },
    {
      "cell_type": "code",
      "source": [
        "# https://medium.com/@rithpansanga/optimizing-xgboost-a-guide-to-hyperparameter-tuning-77b6e48e289d\n",
        "xgbr_parameters = {\n",
        "    'max_depth': [3, 6, 9],\n",
        "    'learning_rate': [0.1, 0.3, 0.6],\n",
        "    'subsample': [0.5, 1],\n",
        "    'n_estimators': [50, 100, 200]\n",
        "}"
      ],
      "metadata": {
        "id": "DZjRZW1oNH25"
      },
      "execution_count": null,
      "outputs": []
    },
    {
      "cell_type": "code",
      "source": [
        "xgbr = xgb.XGBRegressor(tree_method=\"hist\", enable_categorical=True)"
      ],
      "metadata": {
        "id": "wtlO068JNH26"
      },
      "execution_count": null,
      "outputs": []
    },
    {
      "cell_type": "code",
      "source": [
        "xgbr_pipeline = GridSearchCV(xgbr, xgbr_parameters, n_jobs=2)\n",
        "xgbr_pipeline.fit(X_train_xgb,y_train)"
      ],
      "metadata": {
        "colab": {
          "base_uri": "https://localhost:8080/",
          "height": 117
        },
        "outputId": "8ab2f3bc-96e4-4daf-b9ea-2d64cc6c8c94",
        "id": "R4IqpX1hNH27"
      },
      "execution_count": null,
      "outputs": [
        {
          "output_type": "execute_result",
          "data": {
            "text/plain": [
              "GridSearchCV(estimator=XGBRegressor(base_score=None, booster=None,\n",
              "                                    callbacks=None, colsample_bylevel=None,\n",
              "                                    colsample_bynode=None,\n",
              "                                    colsample_bytree=None, device=None,\n",
              "                                    early_stopping_rounds=None,\n",
              "                                    enable_categorical=True, eval_metric=None,\n",
              "                                    feature_types=None, gamma=None,\n",
              "                                    grow_policy=None, importance_type=None,\n",
              "                                    interaction_constraints=None,\n",
              "                                    learning_rate=None, max_bin...\n",
              "                                    max_cat_to_onehot=None, max_delta_step=None,\n",
              "                                    max_depth=None, max_leaves=None,\n",
              "                                    min_child_weight=None, missing=nan,\n",
              "                                    monotone_constraints=None,\n",
              "                                    multi_strategy=None, n_estimators=None,\n",
              "                                    n_jobs=None, num_parallel_tree=None,\n",
              "                                    random_state=None, ...),\n",
              "             n_jobs=2,\n",
              "             param_grid={'learning_rate': [0.1, 0.3, 0.6],\n",
              "                         'max_depth': [3, 6, 9], 'n_estimators': [50, 100, 200],\n",
              "                         'subsample': [0.5, 1]})"
            ],
            "text/html": [
              "<style>#sk-container-id-7 {color: black;background-color: white;}#sk-container-id-7 pre{padding: 0;}#sk-container-id-7 div.sk-toggleable {background-color: white;}#sk-container-id-7 label.sk-toggleable__label {cursor: pointer;display: block;width: 100%;margin-bottom: 0;padding: 0.3em;box-sizing: border-box;text-align: center;}#sk-container-id-7 label.sk-toggleable__label-arrow:before {content: \"▸\";float: left;margin-right: 0.25em;color: #696969;}#sk-container-id-7 label.sk-toggleable__label-arrow:hover:before {color: black;}#sk-container-id-7 div.sk-estimator:hover label.sk-toggleable__label-arrow:before {color: black;}#sk-container-id-7 div.sk-toggleable__content {max-height: 0;max-width: 0;overflow: hidden;text-align: left;background-color: #f0f8ff;}#sk-container-id-7 div.sk-toggleable__content pre {margin: 0.2em;color: black;border-radius: 0.25em;background-color: #f0f8ff;}#sk-container-id-7 input.sk-toggleable__control:checked~div.sk-toggleable__content {max-height: 200px;max-width: 100%;overflow: auto;}#sk-container-id-7 input.sk-toggleable__control:checked~label.sk-toggleable__label-arrow:before {content: \"▾\";}#sk-container-id-7 div.sk-estimator input.sk-toggleable__control:checked~label.sk-toggleable__label {background-color: #d4ebff;}#sk-container-id-7 div.sk-label input.sk-toggleable__control:checked~label.sk-toggleable__label {background-color: #d4ebff;}#sk-container-id-7 input.sk-hidden--visually {border: 0;clip: rect(1px 1px 1px 1px);clip: rect(1px, 1px, 1px, 1px);height: 1px;margin: -1px;overflow: hidden;padding: 0;position: absolute;width: 1px;}#sk-container-id-7 div.sk-estimator {font-family: monospace;background-color: #f0f8ff;border: 1px dotted black;border-radius: 0.25em;box-sizing: border-box;margin-bottom: 0.5em;}#sk-container-id-7 div.sk-estimator:hover {background-color: #d4ebff;}#sk-container-id-7 div.sk-parallel-item::after {content: \"\";width: 100%;border-bottom: 1px solid gray;flex-grow: 1;}#sk-container-id-7 div.sk-label:hover label.sk-toggleable__label {background-color: #d4ebff;}#sk-container-id-7 div.sk-serial::before {content: \"\";position: absolute;border-left: 1px solid gray;box-sizing: border-box;top: 0;bottom: 0;left: 50%;z-index: 0;}#sk-container-id-7 div.sk-serial {display: flex;flex-direction: column;align-items: center;background-color: white;padding-right: 0.2em;padding-left: 0.2em;position: relative;}#sk-container-id-7 div.sk-item {position: relative;z-index: 1;}#sk-container-id-7 div.sk-parallel {display: flex;align-items: stretch;justify-content: center;background-color: white;position: relative;}#sk-container-id-7 div.sk-item::before, #sk-container-id-7 div.sk-parallel-item::before {content: \"\";position: absolute;border-left: 1px solid gray;box-sizing: border-box;top: 0;bottom: 0;left: 50%;z-index: -1;}#sk-container-id-7 div.sk-parallel-item {display: flex;flex-direction: column;z-index: 1;position: relative;background-color: white;}#sk-container-id-7 div.sk-parallel-item:first-child::after {align-self: flex-end;width: 50%;}#sk-container-id-7 div.sk-parallel-item:last-child::after {align-self: flex-start;width: 50%;}#sk-container-id-7 div.sk-parallel-item:only-child::after {width: 0;}#sk-container-id-7 div.sk-dashed-wrapped {border: 1px dashed gray;margin: 0 0.4em 0.5em 0.4em;box-sizing: border-box;padding-bottom: 0.4em;background-color: white;}#sk-container-id-7 div.sk-label label {font-family: monospace;font-weight: bold;display: inline-block;line-height: 1.2em;}#sk-container-id-7 div.sk-label-container {text-align: center;}#sk-container-id-7 div.sk-container {/* jupyter's `normalize.less` sets `[hidden] { display: none; }` but bootstrap.min.css set `[hidden] { display: none !important; }` so we also need the `!important` here to be able to override the default hidden behavior on the sphinx rendered scikit-learn.org. See: https://github.com/scikit-learn/scikit-learn/issues/21755 */display: inline-block !important;position: relative;}#sk-container-id-7 div.sk-text-repr-fallback {display: none;}</style><div id=\"sk-container-id-7\" class=\"sk-top-container\"><div class=\"sk-text-repr-fallback\"><pre>GridSearchCV(estimator=XGBRegressor(base_score=None, booster=None,\n",
              "                                    callbacks=None, colsample_bylevel=None,\n",
              "                                    colsample_bynode=None,\n",
              "                                    colsample_bytree=None, device=None,\n",
              "                                    early_stopping_rounds=None,\n",
              "                                    enable_categorical=True, eval_metric=None,\n",
              "                                    feature_types=None, gamma=None,\n",
              "                                    grow_policy=None, importance_type=None,\n",
              "                                    interaction_constraints=None,\n",
              "                                    learning_rate=None, max_bin...\n",
              "                                    max_cat_to_onehot=None, max_delta_step=None,\n",
              "                                    max_depth=None, max_leaves=None,\n",
              "                                    min_child_weight=None, missing=nan,\n",
              "                                    monotone_constraints=None,\n",
              "                                    multi_strategy=None, n_estimators=None,\n",
              "                                    n_jobs=None, num_parallel_tree=None,\n",
              "                                    random_state=None, ...),\n",
              "             n_jobs=2,\n",
              "             param_grid={&#x27;learning_rate&#x27;: [0.1, 0.3, 0.6],\n",
              "                         &#x27;max_depth&#x27;: [3, 6, 9], &#x27;n_estimators&#x27;: [50, 100, 200],\n",
              "                         &#x27;subsample&#x27;: [0.5, 1]})</pre><b>In a Jupyter environment, please rerun this cell to show the HTML representation or trust the notebook. <br />On GitHub, the HTML representation is unable to render, please try loading this page with nbviewer.org.</b></div><div class=\"sk-container\" hidden><div class=\"sk-item sk-dashed-wrapped\"><div class=\"sk-label-container\"><div class=\"sk-label sk-toggleable\"><input class=\"sk-toggleable__control sk-hidden--visually\" id=\"sk-estimator-id-57\" type=\"checkbox\" ><label for=\"sk-estimator-id-57\" class=\"sk-toggleable__label sk-toggleable__label-arrow\">GridSearchCV</label><div class=\"sk-toggleable__content\"><pre>GridSearchCV(estimator=XGBRegressor(base_score=None, booster=None,\n",
              "                                    callbacks=None, colsample_bylevel=None,\n",
              "                                    colsample_bynode=None,\n",
              "                                    colsample_bytree=None, device=None,\n",
              "                                    early_stopping_rounds=None,\n",
              "                                    enable_categorical=True, eval_metric=None,\n",
              "                                    feature_types=None, gamma=None,\n",
              "                                    grow_policy=None, importance_type=None,\n",
              "                                    interaction_constraints=None,\n",
              "                                    learning_rate=None, max_bin...\n",
              "                                    max_cat_to_onehot=None, max_delta_step=None,\n",
              "                                    max_depth=None, max_leaves=None,\n",
              "                                    min_child_weight=None, missing=nan,\n",
              "                                    monotone_constraints=None,\n",
              "                                    multi_strategy=None, n_estimators=None,\n",
              "                                    n_jobs=None, num_parallel_tree=None,\n",
              "                                    random_state=None, ...),\n",
              "             n_jobs=2,\n",
              "             param_grid={&#x27;learning_rate&#x27;: [0.1, 0.3, 0.6],\n",
              "                         &#x27;max_depth&#x27;: [3, 6, 9], &#x27;n_estimators&#x27;: [50, 100, 200],\n",
              "                         &#x27;subsample&#x27;: [0.5, 1]})</pre></div></div></div><div class=\"sk-parallel\"><div class=\"sk-parallel-item\"><div class=\"sk-item\"><div class=\"sk-label-container\"><div class=\"sk-label sk-toggleable\"><input class=\"sk-toggleable__control sk-hidden--visually\" id=\"sk-estimator-id-58\" type=\"checkbox\" ><label for=\"sk-estimator-id-58\" class=\"sk-toggleable__label sk-toggleable__label-arrow\">estimator: XGBRegressor</label><div class=\"sk-toggleable__content\"><pre>XGBRegressor(base_score=None, booster=None, callbacks=None,\n",
              "             colsample_bylevel=None, colsample_bynode=None,\n",
              "             colsample_bytree=None, device=None, early_stopping_rounds=None,\n",
              "             enable_categorical=True, eval_metric=None, feature_types=None,\n",
              "             gamma=None, grow_policy=None, importance_type=None,\n",
              "             interaction_constraints=None, learning_rate=None, max_bin=None,\n",
              "             max_cat_threshold=None, max_cat_to_onehot=None,\n",
              "             max_delta_step=None, max_depth=None, max_leaves=None,\n",
              "             min_child_weight=None, missing=nan, monotone_constraints=None,\n",
              "             multi_strategy=None, n_estimators=None, n_jobs=None,\n",
              "             num_parallel_tree=None, random_state=None, ...)</pre></div></div></div><div class=\"sk-serial\"><div class=\"sk-item\"><div class=\"sk-estimator sk-toggleable\"><input class=\"sk-toggleable__control sk-hidden--visually\" id=\"sk-estimator-id-59\" type=\"checkbox\" ><label for=\"sk-estimator-id-59\" class=\"sk-toggleable__label sk-toggleable__label-arrow\">XGBRegressor</label><div class=\"sk-toggleable__content\"><pre>XGBRegressor(base_score=None, booster=None, callbacks=None,\n",
              "             colsample_bylevel=None, colsample_bynode=None,\n",
              "             colsample_bytree=None, device=None, early_stopping_rounds=None,\n",
              "             enable_categorical=True, eval_metric=None, feature_types=None,\n",
              "             gamma=None, grow_policy=None, importance_type=None,\n",
              "             interaction_constraints=None, learning_rate=None, max_bin=None,\n",
              "             max_cat_threshold=None, max_cat_to_onehot=None,\n",
              "             max_delta_step=None, max_depth=None, max_leaves=None,\n",
              "             min_child_weight=None, missing=nan, monotone_constraints=None,\n",
              "             multi_strategy=None, n_estimators=None, n_jobs=None,\n",
              "             num_parallel_tree=None, random_state=None, ...)</pre></div></div></div></div></div></div></div></div></div></div>"
            ]
          },
          "metadata": {},
          "execution_count": 71
        }
      ]
    },
    {
      "cell_type": "code",
      "source": [
        "xgbr_pipeline.best_params_"
      ],
      "metadata": {
        "colab": {
          "base_uri": "https://localhost:8080/"
        },
        "outputId": "8ed5b76d-04b9-4848-db44-b4a2a9c31649",
        "id": "LGWlZD4eNH27"
      },
      "execution_count": null,
      "outputs": [
        {
          "output_type": "execute_result",
          "data": {
            "text/plain": [
              "{'learning_rate': 0.3, 'max_depth': 3, 'n_estimators': 200, 'subsample': 1}"
            ]
          },
          "metadata": {},
          "execution_count": 72
        }
      ]
    },
    {
      "cell_type": "code",
      "source": [
        "xgbr = xgbr_pipeline.best_estimator_"
      ],
      "metadata": {
        "id": "jMnqolfBNH28"
      },
      "execution_count": null,
      "outputs": []
    },
    {
      "cell_type": "markdown",
      "source": [
        "##### Training Scores\n",
        "Refer to this for evaluation of train/test scores: https://datascience.stackexchange.com/questions/70054/interpretation-for-test-score-training-score-and-validation-score-in-machine-l"
      ],
      "metadata": {
        "id": "b1EMlnCbNH28"
      }
    },
    {
      "cell_type": "code",
      "source": [
        "xgbr_train_scores = evaluate_model(xgbr,X_train_xgb,y_train)\n",
        "xgbr_train_scores"
      ],
      "metadata": {
        "colab": {
          "base_uri": "https://localhost:8080/"
        },
        "outputId": "0eb168f4-5c80-4ef6-e397-cd8be8a43bab",
        "id": "6XnPcKwsNH29"
      },
      "execution_count": null,
      "outputs": [
        {
          "output_type": "execute_result",
          "data": {
            "text/plain": [
              "{'mse': 18.331449445533515,\n",
              " 'mae': 3.0776965681292867,\n",
              " 'r2': 0.6812815733762809}"
            ]
          },
          "metadata": {},
          "execution_count": 74
        }
      ]
    },
    {
      "cell_type": "markdown",
      "source": [
        "##### Testing Scores"
      ],
      "metadata": {
        "id": "0Qn1vxA7NH29"
      }
    },
    {
      "cell_type": "code",
      "source": [
        "xgbr_scores = evaluate_model(xgbr,X_test_xgb,y_test)\n",
        "xgbr_scores"
      ],
      "metadata": {
        "colab": {
          "base_uri": "https://localhost:8080/"
        },
        "outputId": "4ca5b2ea-2a63-4b77-cada-e1427bca7033",
        "id": "X3af3xsANH2-"
      },
      "execution_count": null,
      "outputs": [
        {
          "output_type": "execute_result",
          "data": {
            "text/plain": [
              "{'mse': 19.275770070004047,\n",
              " 'mae': 3.1648811849429244,\n",
              " 'r2': 0.6255352201056323}"
            ]
          },
          "metadata": {},
          "execution_count": 75
        }
      ]
    },
    {
      "cell_type": "markdown",
      "source": [
        "Feature importance based on mean decrease in impurity\n",
        "\n",
        "https://scikit-learn.org/stable/auto_examples/ensemble/plot_forest_importances.html"
      ],
      "metadata": {
        "id": "yDizYgGtNH2-"
      }
    },
    {
      "cell_type": "code",
      "source": [
        "forest_importances = pd.Series(xgbr.feature_importances_, index=xgbr.feature_names_in_)\n",
        "\n",
        "fig, ax = plt.subplots()\n",
        "forest_importances.plot.bar(ax=ax)\n",
        "ax.set_title(\"XGBoost Feature importances using MDI\")\n",
        "ax.set_ylabel(\"Mean decrease in impurity\")\n",
        "fig.tight_layout()"
      ],
      "metadata": {
        "colab": {
          "base_uri": "https://localhost:8080/",
          "height": 487
        },
        "outputId": "601020d0-c1cb-4b27-a635-2c377c1ea8b8",
        "id": "SuSNaWqiNH2_"
      },
      "execution_count": null,
      "outputs": [
        {
          "output_type": "display_data",
          "data": {
            "text/plain": [
              "<Figure size 640x480 with 1 Axes>"
            ],
            "image/png": "[encoded data removed]"
          },
          "metadata": {}
        }
      ]
    },
    {
      "cell_type": "code",
      "source": [],
      "metadata": {
        "id": "-W3jZzlwO0tg"
      },
      "execution_count": null,
      "outputs": []
    },
    {
      "cell_type": "markdown",
      "source": [
        "#### XGBoost WITH OHE and Scaling"
      ],
      "metadata": {
        "id": "jvHYp0xNO08D"
      }
    },
    {
      "cell_type": "code",
      "source": [
        "# https://medium.com/@rithpansanga/optimizing-xgboost-a-guide-to-hyperparameter-tuning-77b6e48e289d\n",
        "xgbr_preproc_parameters = {\n",
        "    'max_depth': [3, 6, 9],\n",
        "    'learning_rate': [0.1, 0.3, 0.6],\n",
        "    'subsample': [0.5, 1],\n",
        "    'n_estimators': [50, 100, 200]\n",
        "}"
      ],
      "metadata": {
        "id": "MSvGzwXtO08G"
      },
      "execution_count": null,
      "outputs": []
    },
    {
      "cell_type": "code",
      "source": [
        "xgbr_preproc = xgb.XGBRegressor(tree_method=\"hist\")"
      ],
      "metadata": {
        "id": "o_QGCjAqO08H"
      },
      "execution_count": null,
      "outputs": []
    },
    {
      "cell_type": "code",
      "source": [
        "xgbr_preproc_pipeline = Pipeline(steps=[('preprocessor', ctprocessor), ('model',GridSearchCV(xgbr_preproc, xgbr_preproc_parameters, n_jobs=2))])\n",
        "xgbr_preproc_pipeline.fit(X_train,y_train)"
      ],
      "metadata": {
        "colab": {
          "base_uri": "https://localhost:8080/",
          "height": 257
        },
        "outputId": "19f745e0-db9a-4624-eda9-1f1b3d3758c7",
        "id": "6vZQjcvNO08H"
      },
      "execution_count": null,
      "outputs": [
        {
          "output_type": "execute_result",
          "data": {
            "text/plain": [
              "Pipeline(steps=[('preprocessor',\n",
              "                 ColumnTransformer(remainder='passthrough',\n",
              "                                   transformers=[('numerical', StandardScaler(),\n",
              "                                                  ['serving_age',\n",
              "                                                   'valence_mean']),\n",
              "                                                 ('cat',\n",
              "                                                  OneHotEncoder(drop='if_binary',\n",
              "                                                                handle_unknown='ignore'),\n",
              "                                                  ['emotion_majority',\n",
              "                                                   'race_majority', 'gender',\n",
              "                                                   'party', 'senate_class',\n",
              "                                                   'stage', 'cycle'])])),\n",
              "                ('model',\n",
              "                 GridSearchCV(estimator=XGBRegressor(bas...\n",
              "                                                     max_cat_to_onehot=None,\n",
              "                                                     max_delta_step=None,\n",
              "                                                     max_depth=None,\n",
              "                                                     max_leaves=None,\n",
              "                                                     min_child_weight=None,\n",
              "                                                     missing=nan,\n",
              "                                                     monotone_constraints=None,\n",
              "                                                     multi_strategy=None,\n",
              "                                                     n_estimators=None,\n",
              "                                                     n_jobs=None,\n",
              "                                                     num_parallel_tree=None,\n",
              "                                                     random_state=None, ...),\n",
              "                              n_jobs=2,\n",
              "                              param_grid={'learning_rate': [0.1, 0.3, 0.6],\n",
              "                                          'max_depth': [3, 6, 9],\n",
              "                                          'n_estimators': [50, 100, 200],\n",
              "                                          'subsample': [0.5, 1]}))])"
            ],
            "text/html": [
              "<style>#sk-container-id-9 {color: black;background-color: white;}#sk-container-id-9 pre{padding: 0;}#sk-container-id-9 div.sk-toggleable {background-color: white;}#sk-container-id-9 label.sk-toggleable__label {cursor: pointer;display: block;width: 100%;margin-bottom: 0;padding: 0.3em;box-sizing: border-box;text-align: center;}#sk-container-id-9 label.sk-toggleable__label-arrow:before {content: \"▸\";float: left;margin-right: 0.25em;color: #696969;}#sk-container-id-9 label.sk-toggleable__label-arrow:hover:before {color: black;}#sk-container-id-9 div.sk-estimator:hover label.sk-toggleable__label-arrow:before {color: black;}#sk-container-id-9 div.sk-toggleable__content {max-height: 0;max-width: 0;overflow: hidden;text-align: left;background-color: #f0f8ff;}#sk-container-id-9 div.sk-toggleable__content pre {margin: 0.2em;color: black;border-radius: 0.25em;background-color: #f0f8ff;}#sk-container-id-9 input.sk-toggleable__control:checked~div.sk-toggleable__content {max-height: 200px;max-width: 100%;overflow: auto;}#sk-container-id-9 input.sk-toggleable__control:checked~label.sk-toggleable__label-arrow:before {content: \"▾\";}#sk-container-id-9 div.sk-estimator input.sk-toggleable__control:checked~label.sk-toggleable__label {background-color: #d4ebff;}#sk-container-id-9 div.sk-label input.sk-toggleable__control:checked~label.sk-toggleable__label {background-color: #d4ebff;}#sk-container-id-9 input.sk-hidden--visually {border: 0;clip: rect(1px 1px 1px 1px);clip: rect(1px, 1px, 1px, 1px);height: 1px;margin: -1px;overflow: hidden;padding: 0;position: absolute;width: 1px;}#sk-container-id-9 div.sk-estimator {font-family: monospace;background-color: #f0f8ff;border: 1px dotted black;border-radius: 0.25em;box-sizing: border-box;margin-bottom: 0.5em;}#sk-container-id-9 div.sk-estimator:hover {background-color: #d4ebff;}#sk-container-id-9 div.sk-parallel-item::after {content: \"\";width: 100%;border-bottom: 1px solid gray;flex-grow: 1;}#sk-container-id-9 div.sk-label:hover label.sk-toggleable__label {background-color: #d4ebff;}#sk-container-id-9 div.sk-serial::before {content: \"\";position: absolute;border-left: 1px solid gray;box-sizing: border-box;top: 0;bottom: 0;left: 50%;z-index: 0;}#sk-container-id-9 div.sk-serial {display: flex;flex-direction: column;align-items: center;background-color: white;padding-right: 0.2em;padding-left: 0.2em;position: relative;}#sk-container-id-9 div.sk-item {position: relative;z-index: 1;}#sk-container-id-9 div.sk-parallel {display: flex;align-items: stretch;justify-content: center;background-color: white;position: relative;}#sk-container-id-9 div.sk-item::before, #sk-container-id-9 div.sk-parallel-item::before {content: \"\";position: absolute;border-left: 1px solid gray;box-sizing: border-box;top: 0;bottom: 0;left: 50%;z-index: -1;}#sk-container-id-9 div.sk-parallel-item {display: flex;flex-direction: column;z-index: 1;position: relative;background-color: white;}#sk-container-id-9 div.sk-parallel-item:first-child::after {align-self: flex-end;width: 50%;}#sk-container-id-9 div.sk-parallel-item:last-child::after {align-self: flex-start;width: 50%;}#sk-container-id-9 div.sk-parallel-item:only-child::after {width: 0;}#sk-container-id-9 div.sk-dashed-wrapped {border: 1px dashed gray;margin: 0 0.4em 0.5em 0.4em;box-sizing: border-box;padding-bottom: 0.4em;background-color: white;}#sk-container-id-9 div.sk-label label {font-family: monospace;font-weight: bold;display: inline-block;line-height: 1.2em;}#sk-container-id-9 div.sk-label-container {text-align: center;}#sk-container-id-9 div.sk-container {/* jupyter's `normalize.less` sets `[hidden] { display: none; }` but bootstrap.min.css set `[hidden] { display: none !important; }` so we also need the `!important` here to be able to override the default hidden behavior on the sphinx rendered scikit-learn.org. See: https://github.com/scikit-learn/scikit-learn/issues/21755 */display: inline-block !important;position: relative;}#sk-container-id-9 div.sk-text-repr-fallback {display: none;}</style><div id=\"sk-container-id-9\" class=\"sk-top-container\"><div class=\"sk-text-repr-fallback\"><pre>Pipeline(steps=[(&#x27;preprocessor&#x27;,\n",
              "                 ColumnTransformer(remainder=&#x27;passthrough&#x27;,\n",
              "                                   transformers=[(&#x27;numerical&#x27;, StandardScaler(),\n",
              "                                                  [&#x27;serving_age&#x27;,\n",
              "                                                   &#x27;valence_mean&#x27;]),\n",
              "                                                 (&#x27;cat&#x27;,\n",
              "                                                  OneHotEncoder(drop=&#x27;if_binary&#x27;,\n",
              "                                                                handle_unknown=&#x27;ignore&#x27;),\n",
              "                                                  [&#x27;emotion_majority&#x27;,\n",
              "                                                   &#x27;race_majority&#x27;, &#x27;gender&#x27;,\n",
              "                                                   &#x27;party&#x27;, &#x27;senate_class&#x27;,\n",
              "                                                   &#x27;stage&#x27;, &#x27;cycle&#x27;])])),\n",
              "                (&#x27;model&#x27;,\n",
              "                 GridSearchCV(estimator=XGBRegressor(bas...\n",
              "                                                     max_cat_to_onehot=None,\n",
              "                                                     max_delta_step=None,\n",
              "                                                     max_depth=None,\n",
              "                                                     max_leaves=None,\n",
              "                                                     min_child_weight=None,\n",
              "                                                     missing=nan,\n",
              "                                                     monotone_constraints=None,\n",
              "                                                     multi_strategy=None,\n",
              "                                                     n_estimators=None,\n",
              "                                                     n_jobs=None,\n",
              "                                                     num_parallel_tree=None,\n",
              "                                                     random_state=None, ...),\n",
              "                              n_jobs=2,\n",
              "                              param_grid={&#x27;learning_rate&#x27;: [0.1, 0.3, 0.6],\n",
              "                                          &#x27;max_depth&#x27;: [3, 6, 9],\n",
              "                                          &#x27;n_estimators&#x27;: [50, 100, 200],\n",
              "                                          &#x27;subsample&#x27;: [0.5, 1]}))])</pre><b>In a Jupyter environment, please rerun this cell to show the HTML representation or trust the notebook. <br />On GitHub, the HTML representation is unable to render, please try loading this page with nbviewer.org.</b></div><div class=\"sk-container\" hidden><div class=\"sk-item sk-dashed-wrapped\"><div class=\"sk-label-container\"><div class=\"sk-label sk-toggleable\"><input class=\"sk-toggleable__control sk-hidden--visually\" id=\"sk-estimator-id-61\" type=\"checkbox\" ><label for=\"sk-estimator-id-61\" class=\"sk-toggleable__label sk-toggleable__label-arrow\">Pipeline</label><div class=\"sk-toggleable__content\"><pre>Pipeline(steps=[(&#x27;preprocessor&#x27;,\n",
              "                 ColumnTransformer(remainder=&#x27;passthrough&#x27;,\n",
              "                                   transformers=[(&#x27;numerical&#x27;, StandardScaler(),\n",
              "                                                  [&#x27;serving_age&#x27;,\n",
              "                                                   &#x27;valence_mean&#x27;]),\n",
              "                                                 (&#x27;cat&#x27;,\n",
              "                                                  OneHotEncoder(drop=&#x27;if_binary&#x27;,\n",
              "                                                                handle_unknown=&#x27;ignore&#x27;),\n",
              "                                                  [&#x27;emotion_majority&#x27;,\n",
              "                                                   &#x27;race_majority&#x27;, &#x27;gender&#x27;,\n",
              "                                                   &#x27;party&#x27;, &#x27;senate_class&#x27;,\n",
              "                                                   &#x27;stage&#x27;, &#x27;cycle&#x27;])])),\n",
              "                (&#x27;model&#x27;,\n",
              "                 GridSearchCV(estimator=XGBRegressor(bas...\n",
              "                                                     max_cat_to_onehot=None,\n",
              "                                                     max_delta_step=None,\n",
              "                                                     max_depth=None,\n",
              "                                                     max_leaves=None,\n",
              "                                                     min_child_weight=None,\n",
              "                                                     missing=nan,\n",
              "                                                     monotone_constraints=None,\n",
              "                                                     multi_strategy=None,\n",
              "                                                     n_estimators=None,\n",
              "                                                     n_jobs=None,\n",
              "                                                     num_parallel_tree=None,\n",
              "                                                     random_state=None, ...),\n",
              "                              n_jobs=2,\n",
              "                              param_grid={&#x27;learning_rate&#x27;: [0.1, 0.3, 0.6],\n",
              "                                          &#x27;max_depth&#x27;: [3, 6, 9],\n",
              "                                          &#x27;n_estimators&#x27;: [50, 100, 200],\n",
              "                                          &#x27;subsample&#x27;: [0.5, 1]}))])</pre></div></div></div><div class=\"sk-serial\"><div class=\"sk-item sk-dashed-wrapped\"><div class=\"sk-label-container\"><div class=\"sk-label sk-toggleable\"><input class=\"sk-toggleable__control sk-hidden--visually\" id=\"sk-estimator-id-62\" type=\"checkbox\" ><label for=\"sk-estimator-id-62\" class=\"sk-toggleable__label sk-toggleable__label-arrow\">preprocessor: ColumnTransformer</label><div class=\"sk-toggleable__content\"><pre>ColumnTransformer(remainder=&#x27;passthrough&#x27;,\n",
              "                  transformers=[(&#x27;numerical&#x27;, StandardScaler(),\n",
              "                                 [&#x27;serving_age&#x27;, &#x27;valence_mean&#x27;]),\n",
              "                                (&#x27;cat&#x27;,\n",
              "                                 OneHotEncoder(drop=&#x27;if_binary&#x27;,\n",
              "                                               handle_unknown=&#x27;ignore&#x27;),\n",
              "                                 [&#x27;emotion_majority&#x27;, &#x27;race_majority&#x27;, &#x27;gender&#x27;,\n",
              "                                  &#x27;party&#x27;, &#x27;senate_class&#x27;, &#x27;stage&#x27;, &#x27;cycle&#x27;])])</pre></div></div></div><div class=\"sk-parallel\"><div class=\"sk-parallel-item\"><div class=\"sk-item\"><div class=\"sk-label-container\"><div class=\"sk-label sk-toggleable\"><input class=\"sk-toggleable__control sk-hidden--visually\" id=\"sk-estimator-id-63\" type=\"checkbox\" ><label for=\"sk-estimator-id-63\" class=\"sk-toggleable__label sk-toggleable__label-arrow\">numerical</label><div class=\"sk-toggleable__content\"><pre>[&#x27;serving_age&#x27;, &#x27;valence_mean&#x27;]</pre></div></div></div><div class=\"sk-serial\"><div class=\"sk-item\"><div class=\"sk-estimator sk-toggleable\"><input class=\"sk-toggleable__control sk-hidden--visually\" id=\"sk-estimator-id-64\" type=\"checkbox\" ><label for=\"sk-estimator-id-64\" class=\"sk-toggleable__label sk-toggleable__label-arrow\">StandardScaler</label><div class=\"sk-toggleable__content\"><pre>StandardScaler()</pre></div></div></div></div></div></div><div class=\"sk-parallel-item\"><div class=\"sk-item\"><div class=\"sk-label-container\"><div class=\"sk-label sk-toggleable\"><input class=\"sk-toggleable__control sk-hidden--visually\" id=\"sk-estimator-id-65\" type=\"checkbox\" ><label for=\"sk-estimator-id-65\" class=\"sk-toggleable__label sk-toggleable__label-arrow\">cat</label><div class=\"sk-toggleable__content\"><pre>[&#x27;emotion_majority&#x27;, &#x27;race_majority&#x27;, &#x27;gender&#x27;, &#x27;party&#x27;, &#x27;senate_class&#x27;, &#x27;stage&#x27;, &#x27;cycle&#x27;]</pre></div></div></div><div class=\"sk-serial\"><div class=\"sk-item\"><div class=\"sk-estimator sk-toggleable\"><input class=\"sk-toggleable__control sk-hidden--visually\" id=\"sk-estimator-id-66\" type=\"checkbox\" ><label for=\"sk-estimator-id-66\" class=\"sk-toggleable__label sk-toggleable__label-arrow\">OneHotEncoder</label><div class=\"sk-toggleable__content\"><pre>OneHotEncoder(drop=&#x27;if_binary&#x27;, handle_unknown=&#x27;ignore&#x27;)</pre></div></div></div></div></div></div><div class=\"sk-parallel-item\"><div class=\"sk-item\"><div class=\"sk-label-container\"><div class=\"sk-label sk-toggleable\"><input class=\"sk-toggleable__control sk-hidden--visually\" id=\"sk-estimator-id-67\" type=\"checkbox\" ><label for=\"sk-estimator-id-67\" class=\"sk-toggleable__label sk-toggleable__label-arrow\">remainder</label><div class=\"sk-toggleable__content\"><pre>[]</pre></div></div></div><div class=\"sk-serial\"><div class=\"sk-item\"><div class=\"sk-estimator sk-toggleable\"><input class=\"sk-toggleable__control sk-hidden--visually\" id=\"sk-estimator-id-68\" type=\"checkbox\" ><label for=\"sk-estimator-id-68\" class=\"sk-toggleable__label sk-toggleable__label-arrow\">passthrough</label><div class=\"sk-toggleable__content\"><pre>passthrough</pre></div></div></div></div></div></div></div></div><div class=\"sk-item sk-dashed-wrapped\"><div class=\"sk-label-container\"><div class=\"sk-label sk-toggleable\"><input class=\"sk-toggleable__control sk-hidden--visually\" id=\"sk-estimator-id-69\" type=\"checkbox\" ><label for=\"sk-estimator-id-69\" class=\"sk-toggleable__label sk-toggleable__label-arrow\">model: GridSearchCV</label><div class=\"sk-toggleable__content\"><pre>GridSearchCV(estimator=XGBRegressor(base_score=None, booster=None,\n",
              "                                    callbacks=None, colsample_bylevel=None,\n",
              "                                    colsample_bynode=None,\n",
              "                                    colsample_bytree=None, device=None,\n",
              "                                    early_stopping_rounds=None,\n",
              "                                    enable_categorical=False, eval_metric=None,\n",
              "                                    feature_types=None, gamma=None,\n",
              "                                    grow_policy=None, importance_type=None,\n",
              "                                    interaction_constraints=None,\n",
              "                                    learning_rate=None, max_bi...\n",
              "                                    max_cat_to_onehot=None, max_delta_step=None,\n",
              "                                    max_depth=None, max_leaves=None,\n",
              "                                    min_child_weight=None, missing=nan,\n",
              "                                    monotone_constraints=None,\n",
              "                                    multi_strategy=None, n_estimators=None,\n",
              "                                    n_jobs=None, num_parallel_tree=None,\n",
              "                                    random_state=None, ...),\n",
              "             n_jobs=2,\n",
              "             param_grid={&#x27;learning_rate&#x27;: [0.1, 0.3, 0.6],\n",
              "                         &#x27;max_depth&#x27;: [3, 6, 9], &#x27;n_estimators&#x27;: [50, 100, 200],\n",
              "                         &#x27;subsample&#x27;: [0.5, 1]})</pre></div></div></div><div class=\"sk-parallel\"><div class=\"sk-parallel-item\"><div class=\"sk-item\"><div class=\"sk-label-container\"><div class=\"sk-label sk-toggleable\"><input class=\"sk-toggleable__control sk-hidden--visually\" id=\"sk-estimator-id-70\" type=\"checkbox\" ><label for=\"sk-estimator-id-70\" class=\"sk-toggleable__label sk-toggleable__label-arrow\">estimator: XGBRegressor</label><div class=\"sk-toggleable__content\"><pre>XGBRegressor(base_score=None, booster=None, callbacks=None,\n",
              "             colsample_bylevel=None, colsample_bynode=None,\n",
              "             colsample_bytree=None, device=None, early_stopping_rounds=None,\n",
              "             enable_categorical=False, eval_metric=None, feature_types=None,\n",
              "             gamma=None, grow_policy=None, importance_type=None,\n",
              "             interaction_constraints=None, learning_rate=None, max_bin=None,\n",
              "             max_cat_threshold=None, max_cat_to_onehot=None,\n",
              "             max_delta_step=None, max_depth=None, max_leaves=None,\n",
              "             min_child_weight=None, missing=nan, monotone_constraints=None,\n",
              "             multi_strategy=None, n_estimators=None, n_jobs=None,\n",
              "             num_parallel_tree=None, random_state=None, ...)</pre></div></div></div><div class=\"sk-serial\"><div class=\"sk-item\"><div class=\"sk-estimator sk-toggleable\"><input class=\"sk-toggleable__control sk-hidden--visually\" id=\"sk-estimator-id-71\" type=\"checkbox\" ><label for=\"sk-estimator-id-71\" class=\"sk-toggleable__label sk-toggleable__label-arrow\">XGBRegressor</label><div class=\"sk-toggleable__content\"><pre>XGBRegressor(base_score=None, booster=None, callbacks=None,\n",
              "             colsample_bylevel=None, colsample_bynode=None,\n",
              "             colsample_bytree=None, device=None, early_stopping_rounds=None,\n",
              "             enable_categorical=False, eval_metric=None, feature_types=None,\n",
              "             gamma=None, grow_policy=None, importance_type=None,\n",
              "             interaction_constraints=None, learning_rate=None, max_bin=None,\n",
              "             max_cat_threshold=None, max_cat_to_onehot=None,\n",
              "             max_delta_step=None, max_depth=None, max_leaves=None,\n",
              "             min_child_weight=None, missing=nan, monotone_constraints=None,\n",
              "             multi_strategy=None, n_estimators=None, n_jobs=None,\n",
              "             num_parallel_tree=None, random_state=None, ...)</pre></div></div></div></div></div></div></div></div></div></div></div></div>"
            ]
          },
          "metadata": {},
          "execution_count": 89
        }
      ]
    },
    {
      "cell_type": "code",
      "source": [
        "xgbr_preproc_pipeline[1].best_params_"
      ],
      "metadata": {
        "colab": {
          "base_uri": "https://localhost:8080/"
        },
        "outputId": "706bb3d4-34c6-429b-ea6b-94bb53a3afe0",
        "id": "6Ap4SPCCO08I"
      },
      "execution_count": null,
      "outputs": [
        {
          "output_type": "execute_result",
          "data": {
            "text/plain": [
              "{'learning_rate': 0.6, 'max_depth': 3, 'n_estimators': 100, 'subsample': 1}"
            ]
          },
          "metadata": {},
          "execution_count": 90
        }
      ]
    },
    {
      "cell_type": "code",
      "source": [
        "xgbr_preproc = xgbr_preproc_pipeline[1].best_estimator_"
      ],
      "metadata": {
        "id": "uyMqf0NNO08I"
      },
      "execution_count": null,
      "outputs": []
    },
    {
      "cell_type": "markdown",
      "source": [
        "##### Training Scores\n",
        "Refer to this for evaluation of train/test scores: https://datascience.stackexchange.com/questions/70054/interpretation-for-test-score-training-score-and-validation-score-in-machine-l"
      ],
      "metadata": {
        "id": "tSBWW8CXO08J"
      }
    },
    {
      "cell_type": "code",
      "source": [
        "xgbr_preproc_train_scores = evaluate_model(xgbr_preproc,X_train,y_train)\n",
        "xgbr_preproc_train_scores"
      ],
      "metadata": {
        "colab": {
          "base_uri": "https://localhost:8080/"
        },
        "outputId": "b405da15-1b4b-4a98-8fce-0ae25d9ad211",
        "id": "eN3C1QRLO08K"
      },
      "execution_count": null,
      "outputs": [
        {
          "output_type": "execute_result",
          "data": {
            "text/plain": [
              "{'mse': 18.344412554148523,\n",
              " 'mae': 3.0716621777724593,\n",
              " 'r2': 0.6812868321251239}"
            ]
          },
          "metadata": {},
          "execution_count": 92
        }
      ]
    },
    {
      "cell_type": "markdown",
      "source": [
        "##### Testing Scores"
      ],
      "metadata": {
        "id": "sLNLNZJVO08K"
      }
    },
    {
      "cell_type": "code",
      "source": [
        "xgbr_preproc_scores = evaluate_model(xgbr_preproc,X_test,y_test)\n",
        "xgbr_preproc_scores"
      ],
      "metadata": {
        "colab": {
          "base_uri": "https://localhost:8080/"
        },
        "outputId": "964ecc44-f53a-47b8-bb71-ffc03b1ca1ad",
        "id": "e_PMmzlmO08K"
      },
      "execution_count": null,
      "outputs": [
        {
          "output_type": "execute_result",
          "data": {
            "text/plain": [
              "{'mse': 19.242854098836077,\n",
              " 'mae': 3.1650755367672954,\n",
              " 'r2': 0.6262387450386324}"
            ]
          },
          "metadata": {},
          "execution_count": 93
        }
      ]
    },
    {
      "cell_type": "markdown",
      "source": [
        "Feature importance based on mean decrease in impurity\n",
        "\n",
        "https://scikit-learn.org/stable/auto_examples/ensemble/plot_forest_importances.html"
      ],
      "metadata": {
        "id": "UqAK3vAsO08L"
      }
    },
    {
      "cell_type": "code",
      "source": [
        "feature_names = xgbr_preproc_pipeline[:-1].get_feature_names_out()\n",
        "forest_importances = pd.Series(xgbr_preproc.feature_importances_, index=feature_names)\n",
        "\n",
        "fig, ax = plt.subplots()\n",
        "forest_importances.plot.bar(ax=ax)\n",
        "ax.set_title(\"XGBoost with OHE and Scaling Feature importances using MDI\")\n",
        "ax.set_ylabel(\"Mean decrease in impurity\")\n",
        "fig.tight_layout()"
      ],
      "metadata": {
        "colab": {
          "base_uri": "https://localhost:8080/",
          "height": 487
        },
        "outputId": "fae17071-d786-44f4-faed-9e304e821f64",
        "id": "LjUS3LI1O08L"
      },
      "execution_count": null,
      "outputs": [
        {
          "output_type": "display_data",
          "data": {
            "text/plain": [
              "<Figure size 640x480 with 1 Axes>"
            ],
            "image/png": "[encoded data removed]"
          },
          "metadata": {}
        }
      ]
    },
    {
      "cell_type": "code",
      "source": [],
      "metadata": {
        "id": "2Ki7ZaBMO08L"
      },
      "execution_count": null,
      "outputs": []
    },
    {
      "cell_type": "markdown",
      "source": [
        "#### CatBoost\n",
        "No Feature Processing Needed\n",
        "\n",
        "https://catboost.ai/en/docs/features/categorical-features"
      ],
      "metadata": {
        "id": "9cLP2jgxguxJ"
      }
    },
    {
      "cell_type": "code",
      "source": [
        "! pip install catboost"
      ],
      "metadata": {
        "colab": {
          "base_uri": "https://localhost:8080/"
        },
        "id": "5w6qNfIxrK6x",
        "outputId": "5c6fe5a1-e3c9-4ced-b3bb-7abf61ee26c7"
      },
      "execution_count": null,
      "outputs": [
        {
          "output_type": "stream",
          "name": "stdout",
          "text": [
            "Requirement already satisfied: catboost in /usr/local/lib/python3.10/dist-packages (1.2.3)\n",
            "Requirement already satisfied: graphviz in /usr/local/lib/python3.10/dist-packages (from catboost) (0.20.3)\n",
            "Requirement already satisfied: matplotlib in /usr/local/lib/python3.10/dist-packages (from catboost) (3.7.1)\n",
            "Requirement already satisfied: numpy>=1.16.0 in /usr/local/lib/python3.10/dist-packages (from catboost) (1.25.2)\n",
            "Requirement already satisfied: pandas>=0.24 in /usr/local/lib/python3.10/dist-packages (from catboost) (2.0.3)\n",
            "Requirement already satisfied: scipy in /usr/local/lib/python3.10/dist-packages (from catboost) (1.11.4)\n",
            "Requirement already satisfied: plotly in /usr/local/lib/python3.10/dist-packages (from catboost) (5.15.0)\n",
            "Requirement already satisfied: six in /usr/local/lib/python3.10/dist-packages (from catboost) (1.16.0)\n",
            "Requirement already satisfied: python-dateutil>=2.8.2 in /usr/local/lib/python3.10/dist-packages (from pandas>=0.24->catboost) (2.8.2)\n",
            "Requirement already satisfied: pytz>=2020.1 in /usr/local/lib/python3.10/dist-packages (from pandas>=0.24->catboost) (2023.4)\n",
            "Requirement already satisfied: tzdata>=2022.1 in /usr/local/lib/python3.10/dist-packages (from pandas>=0.24->catboost) (2024.1)\n",
            "Requirement already satisfied: contourpy>=1.0.1 in /usr/local/lib/python3.10/dist-packages (from matplotlib->catboost) (1.2.1)\n",
            "Requirement already satisfied: cycler>=0.10 in /usr/local/lib/python3.10/dist-packages (from matplotlib->catboost) (0.12.1)\n",
            "Requirement already satisfied: fonttools>=4.22.0 in /usr/local/lib/python3.10/dist-packages (from matplotlib->catboost) (4.51.0)\n",
            "Requirement already satisfied: kiwisolver>=1.0.1 in /usr/local/lib/python3.10/dist-packages (from matplotlib->catboost) (1.4.5)\n",
            "Requirement already satisfied: packaging>=20.0 in /usr/local/lib/python3.10/dist-packages (from matplotlib->catboost) (24.0)\n",
            "Requirement already satisfied: pillow>=6.2.0 in /usr/local/lib/python3.10/dist-packages (from matplotlib->catboost) (9.4.0)\n",
            "Requirement already satisfied: pyparsing>=2.3.1 in /usr/local/lib/python3.10/dist-packages (from matplotlib->catboost) (3.1.2)\n",
            "Requirement already satisfied: tenacity>=6.2.0 in /usr/local/lib/python3.10/dist-packages (from plotly->catboost) (8.2.3)\n"
          ]
        }
      ]
    },
    {
      "cell_type": "code",
      "source": [
        "from catboost import CatBoostRegressor, Pool"
      ],
      "metadata": {
        "id": "IMnm755Fguzl"
      },
      "execution_count": null,
      "outputs": []
    },
    {
      "cell_type": "code",
      "source": [
        "# https://www.projectpro.io/recipes/find-optimal-parameters-for-catboost-using-gridsearchcv-for-regression\n",
        "cbr_parameters = {\n",
        "    'iterations': [100, 250, 500],\n",
        "    'learning_rate': [0.1, 0.4, 0.6],\n",
        "    'depth':[1, 3, 6],\n",
        "}"
      ],
      "metadata": {
        "id": "4V5qqoZGI029"
      },
      "execution_count": null,
      "outputs": []
    },
    {
      "cell_type": "code",
      "source": [
        "pool_train = Pool(X_train, y_train, cat_features = categorical_features)\n",
        "pool_test = Pool(X_test, cat_features = categorical_features)"
      ],
      "metadata": {
        "id": "eLiZ_rZHtXtx"
      },
      "execution_count": null,
      "outputs": []
    },
    {
      "cell_type": "code",
      "source": [
        "# https://towardsdatascience.com/how-do-you-use-categorical-features-directly-with-catboost-947b211c2923\n",
        "cbr = CatBoostRegressor(loss_function='RMSE', task_type='CPU',random_state=1,verbose=False)\n",
        "grid_search_result = cbr.grid_search(cbr_parameters, pool_train,verbose=False)"
      ],
      "metadata": {
        "colab": {
          "base_uri": "https://localhost:8080/"
        },
        "id": "Eu8seV8ptq6k",
        "outputId": "ec612e16-4b16-4dae-f8bc-09fd57b0d9fa"
      },
      "execution_count": null,
      "outputs": [
        {
          "output_type": "stream",
          "name": "stdout",
          "text": [
            "\n",
            "bestTest = 5.274426966\n",
            "bestIteration = 99\n",
            "\n",
            "\n",
            "bestTest = 5.021388016\n",
            "bestIteration = 97\n",
            "\n",
            "\n",
            "bestTest = 4.887221275\n",
            "bestIteration = 99\n",
            "\n",
            "\n",
            "bestTest = 5.116216092\n",
            "bestIteration = 249\n",
            "\n",
            "\n",
            "bestTest = 4.820231572\n",
            "bestIteration = 247\n",
            "\n",
            "\n",
            "bestTest = 4.709250974\n",
            "bestIteration = 234\n",
            "\n",
            "\n",
            "bestTest = 4.977105161\n",
            "bestIteration = 499\n",
            "\n",
            "\n",
            "bestTest = 4.644983858\n",
            "bestIteration = 498\n",
            "\n",
            "\n",
            "bestTest = 4.554658854\n",
            "bestIteration = 499\n",
            "\n",
            "\n",
            "bestTest = 4.884923158\n",
            "bestIteration = 98\n",
            "\n",
            "\n",
            "bestTest = 4.187906502\n",
            "bestIteration = 98\n",
            "\n",
            "\n",
            "bestTest = 4.051012625\n",
            "bestIteration = 92\n",
            "\n",
            "\n",
            "bestTest = 4.486689911\n",
            "bestIteration = 245\n",
            "\n",
            "\n",
            "bestTest = 4.066004404\n",
            "bestIteration = 231\n",
            "\n",
            "\n",
            "bestTest = 3.999653201\n",
            "bestIteration = 151\n",
            "\n",
            "\n",
            "bestTest = 4.268131754\n",
            "bestIteration = 499\n",
            "\n",
            "\n",
            "bestTest = 4.06150328\n",
            "bestIteration = 266\n",
            "\n",
            "\n",
            "bestTest = 3.999653201\n",
            "bestIteration = 151\n",
            "\n",
            "\n",
            "bestTest = 4.437823588\n",
            "bestIteration = 99\n",
            "\n",
            "\n",
            "bestTest = 4.083429029\n",
            "bestIteration = 53\n",
            "\n",
            "\n",
            "bestTest = 3.962620435\n",
            "bestIteration = 91\n",
            "\n",
            "\n",
            "bestTest = 4.101290596\n",
            "bestIteration = 249\n",
            "\n",
            "\n",
            "bestTest = 3.94300922\n",
            "bestIteration = 165\n",
            "\n",
            "\n",
            "bestTest = 4.121634062\n",
            "bestIteration = 94\n",
            "\n",
            "\n",
            "bestTest = 4.02543436\n",
            "bestIteration = 499\n",
            "\n",
            "\n",
            "bestTest = 3.94300922\n",
            "bestIteration = 165\n",
            "\n",
            "\n",
            "bestTest = 4.121634062\n",
            "bestIteration = 94\n",
            "\n",
            "Training on fold [0/3]\n",
            "\n",
            "bestTest = 4.268116713\n",
            "bestIteration = 78\n",
            "\n",
            "Training on fold [1/3]\n",
            "\n",
            "bestTest = 4.663669242\n",
            "bestIteration = 235\n",
            "\n",
            "Training on fold [2/3]\n",
            "\n",
            "bestTest = 4.208132673\n",
            "bestIteration = 242\n",
            "\n"
          ]
        }
      ]
    },
    {
      "cell_type": "code",
      "source": [
        "grid_search_result['params']"
      ],
      "metadata": {
        "colab": {
          "base_uri": "https://localhost:8080/"
        },
        "id": "vOxO3jU0Nxoh",
        "outputId": "ab79f98d-09dc-40be-9888-8f59b6e03ef8"
      },
      "execution_count": null,
      "outputs": [
        {
          "output_type": "execute_result",
          "data": {
            "text/plain": [
              "{'depth': 6, 'learning_rate': 0.4, 'iterations': 250}"
            ]
          },
          "metadata": {},
          "execution_count": 100
        }
      ]
    },
    {
      "cell_type": "code",
      "source": [
        "cbr.get_params()"
      ],
      "metadata": {
        "colab": {
          "base_uri": "https://localhost:8080/"
        },
        "id": "DTrH2RZ-OohX",
        "outputId": "cdf6a16b-acf3-4a42-fd69-457d0e6094d8"
      },
      "execution_count": null,
      "outputs": [
        {
          "output_type": "execute_result",
          "data": {
            "text/plain": [
              "{'loss_function': 'RMSE',\n",
              " 'verbose': False,\n",
              " 'task_type': 'CPU',\n",
              " 'random_state': 1,\n",
              " 'depth': 6,\n",
              " 'learning_rate': 0.4,\n",
              " 'iterations': 250}"
            ]
          },
          "metadata": {},
          "execution_count": 101
        }
      ]
    },
    {
      "cell_type": "markdown",
      "source": [
        "##### Training Scores\n",
        "Refer to this for evaluation of train/test scores: https://datascience.stackexchange.com/questions/70054/interpretation-for-test-score-training-score-and-validation-score-in-machine-l"
      ],
      "metadata": {
        "id": "ZihjsxptrGnd"
      }
    },
    {
      "cell_type": "code",
      "source": [
        "train_predictions = cbr.predict(pool_train)"
      ],
      "metadata": {
        "id": "Io7PyDnxvAIx"
      },
      "execution_count": null,
      "outputs": []
    },
    {
      "cell_type": "code",
      "source": [
        "cbr_train_mse = mean_squared_error(y_train, train_predictions)\n",
        "cbr_train_mae = mean_absolute_error(y_train, train_predictions)\n",
        "cbr_train_r2 = r2_score(y_train, train_predictions)"
      ],
      "metadata": {
        "id": "C2LcOIEmuwjI"
      },
      "execution_count": null,
      "outputs": []
    },
    {
      "cell_type": "code",
      "source": [
        "cbr_train_scores = {'mse':cbr_train_mse,'mae':cbr_train_mae,'r2':cbr_train_r2}\n",
        "cbr_train_scores"
      ],
      "metadata": {
        "colab": {
          "base_uri": "https://localhost:8080/"
        },
        "id": "R1oPHplbvoVp",
        "outputId": "e518ea88-057d-4baa-d9ea-d1591c585eb3"
      },
      "execution_count": null,
      "outputs": [
        {
          "output_type": "execute_result",
          "data": {
            "text/plain": [
              "{'mse': 16.261347724341142,\n",
              " 'mae': 2.9894317519942684,\n",
              " 'r2': 0.7195184544598991}"
            ]
          },
          "metadata": {},
          "execution_count": 104
        }
      ]
    },
    {
      "cell_type": "markdown",
      "source": [
        "##### Testing Scores"
      ],
      "metadata": {
        "id": "D2QG4YnyrGni"
      }
    },
    {
      "cell_type": "code",
      "source": [
        "test_predictions = cbr.predict(pool_test)"
      ],
      "metadata": {
        "id": "r-VdkVi5v8wV"
      },
      "execution_count": null,
      "outputs": []
    },
    {
      "cell_type": "code",
      "source": [
        "cbr_mse = mean_squared_error(y_test, test_predictions)\n",
        "cbr_mae = mean_absolute_error(y_test, test_predictions)\n",
        "cbr_r2 = r2_score(y_test, test_predictions)"
      ],
      "metadata": {
        "id": "tXeT54ksv8wX"
      },
      "execution_count": null,
      "outputs": []
    },
    {
      "cell_type": "code",
      "source": [
        "cbr_scores = {'mse':cbr_mse,'mae':cbr_mae,'r2':cbr_r2}\n",
        "cbr_scores"
      ],
      "metadata": {
        "colab": {
          "base_uri": "https://localhost:8080/"
        },
        "outputId": "323e7488-9297-4f94-fbbe-325e5526f2e4",
        "id": "Io5mLCVev8wZ"
      },
      "execution_count": null,
      "outputs": [
        {
          "output_type": "execute_result",
          "data": {
            "text/plain": [
              "{'mse': 18.509161094384368, 'mae': 3.143536568285321, 'r2': 0.643920594682649}"
            ]
          },
          "metadata": {},
          "execution_count": 107
        }
      ]
    },
    {
      "cell_type": "code",
      "source": [
        "cbr.get_feature_importance(prettified=True).plot.bar(x='Feature Id', y='Importances')\n",
        "plt.xticks(rotation=90)\n",
        "plt.title(\"CatBoost Feature Importances\")\n",
        "fig.tight_layout()"
      ],
      "metadata": {
        "colab": {
          "base_uri": "https://localhost:8080/",
          "height": 580
        },
        "id": "o9TvviIQrBki",
        "outputId": "8ded1d31-874e-46e5-d389-03385616aefa"
      },
      "execution_count": null,
      "outputs": [
        {
          "output_type": "display_data",
          "data": {
            "text/plain": [
              "<Figure size 640x480 with 1 Axes>"
            ],
            "image/png": "[encoded data removed]"
          },
          "metadata": {}
        }
      ]
    },
    {
      "cell_type": "code",
      "source": [],
      "metadata": {
        "id": "RQZbVeCo7zif"
      },
      "execution_count": null,
      "outputs": []
    },
    {
      "cell_type": "markdown",
      "source": [
        "#### CatBoost WITH OneHotEncoding and StdScaler Transformed Data\n",
        "\n",
        "https://catboost.ai/en/docs/features/categorical-features"
      ],
      "metadata": {
        "id": "coDVVNZc70Ja"
      }
    },
    {
      "cell_type": "code",
      "source": [
        "ctprocessor.fit(X_train)"
      ],
      "metadata": {
        "colab": {
          "base_uri": "https://localhost:8080/",
          "height": 155
        },
        "id": "gYzOBs9K_YSc",
        "outputId": "1aed0160-154b-4dd4-b5b1-adbd393213a7"
      },
      "execution_count": null,
      "outputs": [
        {
          "output_type": "execute_result",
          "data": {
            "text/plain": [
              "ColumnTransformer(remainder='passthrough',\n",
              "                  transformers=[('numerical', StandardScaler(),\n",
              "                                 ['serving_age', 'valence_mean']),\n",
              "                                ('cat',\n",
              "                                 OneHotEncoder(drop='if_binary',\n",
              "                                               handle_unknown='ignore'),\n",
              "                                 ['emotion_majority', 'race_majority', 'gender',\n",
              "                                  'party', 'senate_class', 'stage', 'cycle'])])"
            ],
            "text/html": [
              "<style>#sk-container-id-10 {color: black;background-color: white;}#sk-container-id-10 pre{padding: 0;}#sk-container-id-10 div.sk-toggleable {background-color: white;}#sk-container-id-10 label.sk-toggleable__label {cursor: pointer;display: block;width: 100%;margin-bottom: 0;padding: 0.3em;box-sizing: border-box;text-align: center;}#sk-container-id-10 label.sk-toggleable__label-arrow:before {content: \"▸\";float: left;margin-right: 0.25em;color: #696969;}#sk-container-id-10 label.sk-toggleable__label-arrow:hover:before {color: black;}#sk-container-id-10 div.sk-estimator:hover label.sk-toggleable__label-arrow:before {color: black;}#sk-container-id-10 div.sk-toggleable__content {max-height: 0;max-width: 0;overflow: hidden;text-align: left;background-color: #f0f8ff;}#sk-container-id-10 div.sk-toggleable__content pre {margin: 0.2em;color: black;border-radius: 0.25em;background-color: #f0f8ff;}#sk-container-id-10 input.sk-toggleable__control:checked~div.sk-toggleable__content {max-height: 200px;max-width: 100%;overflow: auto;}#sk-container-id-10 input.sk-toggleable__control:checked~label.sk-toggleable__label-arrow:before {content: \"▾\";}#sk-container-id-10 div.sk-estimator input.sk-toggleable__control:checked~label.sk-toggleable__label {background-color: #d4ebff;}#sk-container-id-10 div.sk-label input.sk-toggleable__control:checked~label.sk-toggleable__label {background-color: #d4ebff;}#sk-container-id-10 input.sk-hidden--visually {border: 0;clip: rect(1px 1px 1px 1px);clip: rect(1px, 1px, 1px, 1px);height: 1px;margin: -1px;overflow: hidden;padding: 0;position: absolute;width: 1px;}#sk-container-id-10 div.sk-estimator {font-family: monospace;background-color: #f0f8ff;border: 1px dotted black;border-radius: 0.25em;box-sizing: border-box;margin-bottom: 0.5em;}#sk-container-id-10 div.sk-estimator:hover {background-color: #d4ebff;}#sk-container-id-10 div.sk-parallel-item::after {content: \"\";width: 100%;border-bottom: 1px solid gray;flex-grow: 1;}#sk-container-id-10 div.sk-label:hover label.sk-toggleable__label {background-color: #d4ebff;}#sk-container-id-10 div.sk-serial::before {content: \"\";position: absolute;border-left: 1px solid gray;box-sizing: border-box;top: 0;bottom: 0;left: 50%;z-index: 0;}#sk-container-id-10 div.sk-serial {display: flex;flex-direction: column;align-items: center;background-color: white;padding-right: 0.2em;padding-left: 0.2em;position: relative;}#sk-container-id-10 div.sk-item {position: relative;z-index: 1;}#sk-container-id-10 div.sk-parallel {display: flex;align-items: stretch;justify-content: center;background-color: white;position: relative;}#sk-container-id-10 div.sk-item::before, #sk-container-id-10 div.sk-parallel-item::before {content: \"\";position: absolute;border-left: 1px solid gray;box-sizing: border-box;top: 0;bottom: 0;left: 50%;z-index: -1;}#sk-container-id-10 div.sk-parallel-item {display: flex;flex-direction: column;z-index: 1;position: relative;background-color: white;}#sk-container-id-10 div.sk-parallel-item:first-child::after {align-self: flex-end;width: 50%;}#sk-container-id-10 div.sk-parallel-item:last-child::after {align-self: flex-start;width: 50%;}#sk-container-id-10 div.sk-parallel-item:only-child::after {width: 0;}#sk-container-id-10 div.sk-dashed-wrapped {border: 1px dashed gray;margin: 0 0.4em 0.5em 0.4em;box-sizing: border-box;padding-bottom: 0.4em;background-color: white;}#sk-container-id-10 div.sk-label label {font-family: monospace;font-weight: bold;display: inline-block;line-height: 1.2em;}#sk-container-id-10 div.sk-label-container {text-align: center;}#sk-container-id-10 div.sk-container {/* jupyter's `normalize.less` sets `[hidden] { display: none; }` but bootstrap.min.css set `[hidden] { display: none !important; }` so we also need the `!important` here to be able to override the default hidden behavior on the sphinx rendered scikit-learn.org. See: https://github.com/scikit-learn/scikit-learn/issues/21755 */display: inline-block !important;position: relative;}#sk-container-id-10 div.sk-text-repr-fallback {display: none;}</style><div id=\"sk-container-id-10\" class=\"sk-top-container\"><div class=\"sk-text-repr-fallback\"><pre>ColumnTransformer(remainder=&#x27;passthrough&#x27;,\n",
              "                  transformers=[(&#x27;numerical&#x27;, StandardScaler(),\n",
              "                                 [&#x27;serving_age&#x27;, &#x27;valence_mean&#x27;]),\n",
              "                                (&#x27;cat&#x27;,\n",
              "                                 OneHotEncoder(drop=&#x27;if_binary&#x27;,\n",
              "                                               handle_unknown=&#x27;ignore&#x27;),\n",
              "                                 [&#x27;emotion_majority&#x27;, &#x27;race_majority&#x27;, &#x27;gender&#x27;,\n",
              "                                  &#x27;party&#x27;, &#x27;senate_class&#x27;, &#x27;stage&#x27;, &#x27;cycle&#x27;])])</pre><b>In a Jupyter environment, please rerun this cell to show the HTML representation or trust the notebook. <br />On GitHub, the HTML representation is unable to render, please try loading this page with nbviewer.org.</b></div><div class=\"sk-container\" hidden><div class=\"sk-item sk-dashed-wrapped\"><div class=\"sk-label-container\"><div class=\"sk-label sk-toggleable\"><input class=\"sk-toggleable__control sk-hidden--visually\" id=\"sk-estimator-id-72\" type=\"checkbox\" ><label for=\"sk-estimator-id-72\" class=\"sk-toggleable__label sk-toggleable__label-arrow\">ColumnTransformer</label><div class=\"sk-toggleable__content\"><pre>ColumnTransformer(remainder=&#x27;passthrough&#x27;,\n",
              "                  transformers=[(&#x27;numerical&#x27;, StandardScaler(),\n",
              "                                 [&#x27;serving_age&#x27;, &#x27;valence_mean&#x27;]),\n",
              "                                (&#x27;cat&#x27;,\n",
              "                                 OneHotEncoder(drop=&#x27;if_binary&#x27;,\n",
              "                                               handle_unknown=&#x27;ignore&#x27;),\n",
              "                                 [&#x27;emotion_majority&#x27;, &#x27;race_majority&#x27;, &#x27;gender&#x27;,\n",
              "                                  &#x27;party&#x27;, &#x27;senate_class&#x27;, &#x27;stage&#x27;, &#x27;cycle&#x27;])])</pre></div></div></div><div class=\"sk-parallel\"><div class=\"sk-parallel-item\"><div class=\"sk-item\"><div class=\"sk-label-container\"><div class=\"sk-label sk-toggleable\"><input class=\"sk-toggleable__control sk-hidden--visually\" id=\"sk-estimator-id-73\" type=\"checkbox\" ><label for=\"sk-estimator-id-73\" class=\"sk-toggleable__label sk-toggleable__label-arrow\">numerical</label><div class=\"sk-toggleable__content\"><pre>[&#x27;serving_age&#x27;, &#x27;valence_mean&#x27;]</pre></div></div></div><div class=\"sk-serial\"><div class=\"sk-item\"><div class=\"sk-estimator sk-toggleable\"><input class=\"sk-toggleable__control sk-hidden--visually\" id=\"sk-estimator-id-74\" type=\"checkbox\" ><label for=\"sk-estimator-id-74\" class=\"sk-toggleable__label sk-toggleable__label-arrow\">StandardScaler</label><div class=\"sk-toggleable__content\"><pre>StandardScaler()</pre></div></div></div></div></div></div><div class=\"sk-parallel-item\"><div class=\"sk-item\"><div class=\"sk-label-container\"><div class=\"sk-label sk-toggleable\"><input class=\"sk-toggleable__control sk-hidden--visually\" id=\"sk-estimator-id-75\" type=\"checkbox\" ><label for=\"sk-estimator-id-75\" class=\"sk-toggleable__label sk-toggleable__label-arrow\">cat</label><div class=\"sk-toggleable__content\"><pre>[&#x27;emotion_majority&#x27;, &#x27;race_majority&#x27;, &#x27;gender&#x27;, &#x27;party&#x27;, &#x27;senate_class&#x27;, &#x27;stage&#x27;, &#x27;cycle&#x27;]</pre></div></div></div><div class=\"sk-serial\"><div class=\"sk-item\"><div class=\"sk-estimator sk-toggleable\"><input class=\"sk-toggleable__control sk-hidden--visually\" id=\"sk-estimator-id-76\" type=\"checkbox\" ><label for=\"sk-estimator-id-76\" class=\"sk-toggleable__label sk-toggleable__label-arrow\">OneHotEncoder</label><div class=\"sk-toggleable__content\"><pre>OneHotEncoder(drop=&#x27;if_binary&#x27;, handle_unknown=&#x27;ignore&#x27;)</pre></div></div></div></div></div></div><div class=\"sk-parallel-item\"><div class=\"sk-item\"><div class=\"sk-label-container\"><div class=\"sk-label sk-toggleable\"><input class=\"sk-toggleable__control sk-hidden--visually\" id=\"sk-estimator-id-77\" type=\"checkbox\" ><label for=\"sk-estimator-id-77\" class=\"sk-toggleable__label sk-toggleable__label-arrow\">remainder</label><div class=\"sk-toggleable__content\"><pre>[]</pre></div></div></div><div class=\"sk-serial\"><div class=\"sk-item\"><div class=\"sk-estimator sk-toggleable\"><input class=\"sk-toggleable__control sk-hidden--visually\" id=\"sk-estimator-id-78\" type=\"checkbox\" ><label for=\"sk-estimator-id-78\" class=\"sk-toggleable__label sk-toggleable__label-arrow\">passthrough</label><div class=\"sk-toggleable__content\"><pre>passthrough</pre></div></div></div></div></div></div></div></div></div></div>"
            ]
          },
          "metadata": {},
          "execution_count": 109
        }
      ]
    },
    {
      "cell_type": "code",
      "source": [
        "X_train_t = ctprocessor.transform(X_train)\n",
        "X_test_t = ctprocessor.transform(X_test)"
      ],
      "metadata": {
        "id": "RjThA0118tSJ"
      },
      "execution_count": null,
      "outputs": []
    },
    {
      "cell_type": "code",
      "source": [
        "features = ctprocessor.get_feature_names_out()\n",
        "X_train_t = pd.DataFrame(X_train_t, columns=features)\n",
        "X_test_t = pd.DataFrame(X_test_t, columns=features)"
      ],
      "metadata": {
        "id": "0vhFNXQPAdKS"
      },
      "execution_count": null,
      "outputs": []
    },
    {
      "cell_type": "code",
      "source": [
        "# https://towardsdatascience.com/how-do-you-use-categorical-features-directly-with-catboost-947b211c2923\n",
        "cbr_t = CatBoostRegressor(n_estimators=200,loss_function='RMSE',learning_rate=0.4,depth=3, task_type='CPU',random_state=1,verbose=False)"
      ],
      "metadata": {
        "id": "7NV8Z35570Jc"
      },
      "execution_count": null,
      "outputs": []
    },
    {
      "cell_type": "code",
      "source": [
        "pool_train_t = Pool(X_train_t, y_train)\n",
        "pool_test_t = Pool(X_test_t)"
      ],
      "metadata": {
        "id": "vuyoJmap70Je"
      },
      "execution_count": null,
      "outputs": []
    },
    {
      "cell_type": "code",
      "source": [
        "cbr_t.fit(pool_train_t)"
      ],
      "metadata": {
        "colab": {
          "base_uri": "https://localhost:8080/"
        },
        "outputId": "9472d597-6c2c-4694-cebc-bef79800a7bf",
        "id": "jusYur4H70Je"
      },
      "execution_count": null,
      "outputs": [
        {
          "output_type": "execute_result",
          "data": {
            "text/plain": [
              "<catboost.core.CatBoostRegressor at 0x7b37495defe0>"
            ]
          },
          "metadata": {},
          "execution_count": 114
        }
      ]
    },
    {
      "cell_type": "markdown",
      "source": [
        "##### Training Scores\n",
        "Refer to this for evaluation of train/test scores: https://datascience.stackexchange.com/questions/70054/interpretation-for-test-score-training-score-and-validation-score-in-machine-l"
      ],
      "metadata": {
        "id": "o-_8Fd7070Jg"
      }
    },
    {
      "cell_type": "code",
      "source": [
        "train_predictions_t = cbr_t.predict(pool_train_t)"
      ],
      "metadata": {
        "id": "XFJ5gNfu70Jg"
      },
      "execution_count": null,
      "outputs": []
    },
    {
      "cell_type": "code",
      "source": [
        "cbr_train_mse_t = mean_squared_error(y_train, train_predictions_t)\n",
        "cbr_train_mae_t = mean_absolute_error(y_train, train_predictions_t)\n",
        "cbr_train_r2_t = r2_score(y_train, train_predictions_t)"
      ],
      "metadata": {
        "id": "ZlpGPtZA70Jh"
      },
      "execution_count": null,
      "outputs": []
    },
    {
      "cell_type": "code",
      "source": [
        "cbr_train_scores_t = {'mse':cbr_train_mse_t,'mae':cbr_train_mae_t,'r2':cbr_train_r2_t}\n",
        "cbr_train_scores_t"
      ],
      "metadata": {
        "colab": {
          "base_uri": "https://localhost:8080/"
        },
        "outputId": "7adbbfe7-73eb-403a-fb18-d96357999069",
        "id": "rGAsZvl670Ji"
      },
      "execution_count": null,
      "outputs": [
        {
          "output_type": "execute_result",
          "data": {
            "text/plain": [
              "{'mse': 14.876198256769465, 'mae': 2.828867153125786, 'r2': 0.7434100082261965}"
            ]
          },
          "metadata": {},
          "execution_count": 117
        }
      ]
    },
    {
      "cell_type": "markdown",
      "source": [
        "##### Testing Scores"
      ],
      "metadata": {
        "id": "g92sCi9h70Ji"
      }
    },
    {
      "cell_type": "code",
      "source": [
        "test_predictions_t = cbr_t.predict(pool_test_t)"
      ],
      "metadata": {
        "id": "WLfk3tKT70Jj"
      },
      "execution_count": null,
      "outputs": []
    },
    {
      "cell_type": "code",
      "source": [
        "cbr_mse_t = mean_squared_error(y_test, test_predictions_t)\n",
        "cbr_mae_t = mean_absolute_error(y_test, test_predictions_t)\n",
        "cbr_r2_t = r2_score(y_test, test_predictions_t)"
      ],
      "metadata": {
        "id": "b0wG3QIN70Jj"
      },
      "execution_count": null,
      "outputs": []
    },
    {
      "cell_type": "code",
      "source": [
        "cbr_scores_t = {'mse':cbr_mse_t,'mae':cbr_mae_t,'r2':cbr_r2_t}\n",
        "cbr_scores_t"
      ],
      "metadata": {
        "colab": {
          "base_uri": "https://localhost:8080/"
        },
        "outputId": "0adddf46-f06e-42ee-fdd2-2f9f30986402",
        "id": "dLR3t-LZ70Jj"
      },
      "execution_count": null,
      "outputs": [
        {
          "output_type": "execute_result",
          "data": {
            "text/plain": [
              "{'mse': 17.122517607183465,\n",
              " 'mae': 3.0054466497315273,\n",
              " 'r2': 0.6705968543894965}"
            ]
          },
          "metadata": {},
          "execution_count": 120
        }
      ]
    },
    {
      "cell_type": "code",
      "source": [
        "cbr_t.get_feature_importance(prettified=True).plot.bar(x='Feature Id', y='Importances')\n",
        "plt.xticks(rotation=90)\n",
        "plt.title(\"CatBoost Feature Importances with Transformed Data\")\n",
        "fig.tight_layout()"
      ],
      "metadata": {
        "colab": {
          "base_uri": "https://localhost:8080/",
          "height": 54
        },
        "outputId": "1ebab602-7f30-4612-8a78-5065dc62384d",
        "id": "xqWLI94m70Jj"
      },
      "execution_count": null,
      "outputs": [
        {
          "output_type": "display_data",
          "data": {
            "text/plain": [
              "<Figure size 640x480 with 1 Axes>"
            ],
            "image/png": "[encoded data removed]"
          },
          "metadata": {}
        }
      ]
    },
    {
      "cell_type": "code",
      "source": [
        "# TODO: Properly Extract Feature Names"
      ],
      "metadata": {
        "id": "UYzOJpKw7zlt"
      },
      "execution_count": null,
      "outputs": []
    },
    {
      "cell_type": "code",
      "source": [],
      "metadata": {
        "id": "QvepsYYR5Eu2"
      },
      "execution_count": null,
      "outputs": []
    },
    {
      "cell_type": "markdown",
      "source": [
        "#### CatBoost Witholding Emotion Features\n",
        "No Feature Processing Needed\n",
        "\n",
        "https://catboost.ai/en/docs/features/categorical-features"
      ],
      "metadata": {
        "id": "-mJDaMce5SIA"
      }
    },
    {
      "cell_type": "code",
      "source": [
        "# https://towardsdatascience.com/how-do-you-use-categorical-features-directly-with-catboost-947b211c2923\n",
        "cbr_ne = CatBoostRegressor(n_estimators=200,loss_function='RMSE',learning_rate=0.4,depth=3, task_type='CPU',random_state=1,verbose=False)"
      ],
      "metadata": {
        "id": "6lhLIu4c5SIO"
      },
      "execution_count": null,
      "outputs": []
    },
    {
      "cell_type": "code",
      "source": [
        "categorical_features_ne = ['gender', 'party', 'senate_class', 'stage', 'cycle', 'race_majority']"
      ],
      "metadata": {
        "id": "_JclCRyh6VHS"
      },
      "execution_count": null,
      "outputs": []
    },
    {
      "cell_type": "code",
      "source": [
        "pool_train_ne = Pool(X_train.drop(columns=['emotion_majority','valence_mean']), y_train, cat_features = categorical_features_ne)\n",
        "pool_test_ne = Pool(X_test.drop(columns=['emotion_majority','valence_mean']), cat_features = categorical_features_ne)"
      ],
      "metadata": {
        "id": "KfF1ZyA05SIP"
      },
      "execution_count": null,
      "outputs": []
    },
    {
      "cell_type": "code",
      "source": [
        "cbr_ne.fit(pool_train_ne)"
      ],
      "metadata": {
        "colab": {
          "base_uri": "https://localhost:8080/"
        },
        "outputId": "0dfaa26c-eb55-4dc6-e68e-efe4b6145c39",
        "id": "LNxvvIDv5SIP"
      },
      "execution_count": null,
      "outputs": [
        {
          "output_type": "execute_result",
          "data": {
            "text/plain": [
              "<catboost.core.CatBoostRegressor at 0x7b372cf403a0>"
            ]
          },
          "metadata": {},
          "execution_count": 126
        }
      ]
    },
    {
      "cell_type": "markdown",
      "source": [
        "##### Training Scores\n",
        "Refer to this for evaluation of train/test scores: https://datascience.stackexchange.com/questions/70054/interpretation-for-test-score-training-score-and-validation-score-in-machine-l"
      ],
      "metadata": {
        "id": "Py5afXy35SIQ"
      }
    },
    {
      "cell_type": "code",
      "source": [
        "train_predictions_ne = cbr_ne.predict(pool_train_ne)"
      ],
      "metadata": {
        "id": "ZzL86zm65SIR"
      },
      "execution_count": null,
      "outputs": []
    },
    {
      "cell_type": "code",
      "source": [
        "cbr_train_mse_ne = mean_squared_error(y_train, train_predictions_ne)\n",
        "cbr_train_mae_ne = mean_absolute_error(y_train, train_predictions_ne)\n",
        "cbr_train_r2_ne = r2_score(y_train, train_predictions_ne)"
      ],
      "metadata": {
        "id": "pI00FNcc5SIR"
      },
      "execution_count": null,
      "outputs": []
    },
    {
      "cell_type": "code",
      "source": [
        "cbr_train_scores_ne = {'mse':cbr_train_mse_ne,'mae':cbr_train_mae_ne,'r2':cbr_train_r2_ne}\n",
        "cbr_train_scores_ne"
      ],
      "metadata": {
        "colab": {
          "base_uri": "https://localhost:8080/"
        },
        "outputId": "641b5d89-4316-4581-bc4e-d4283f30d90c",
        "id": "McBkCl0W5SIR"
      },
      "execution_count": null,
      "outputs": [
        {
          "output_type": "execute_result",
          "data": {
            "text/plain": [
              "{'mse': 18.759931719396654,\n",
              " 'mae': 3.2107907931881097,\n",
              " 'r2': 0.6764219834616245}"
            ]
          },
          "metadata": {},
          "execution_count": 129
        }
      ]
    },
    {
      "cell_type": "markdown",
      "source": [
        "##### Testing Scores"
      ],
      "metadata": {
        "id": "zOu21DFp5SIR"
      }
    },
    {
      "cell_type": "code",
      "source": [
        "test_predictions_ne = cbr_ne.predict(pool_test_ne)"
      ],
      "metadata": {
        "id": "hflDChga5SIS"
      },
      "execution_count": null,
      "outputs": []
    },
    {
      "cell_type": "code",
      "source": [
        "cbr_mse_ne = mean_squared_error(y_test, test_predictions_ne)\n",
        "cbr_mae_ne = mean_absolute_error(y_test, test_predictions_ne)\n",
        "cbr_r2_ne = r2_score(y_test, test_predictions_ne)"
      ],
      "metadata": {
        "id": "764HkgSn5SIS"
      },
      "execution_count": null,
      "outputs": []
    },
    {
      "cell_type": "code",
      "source": [
        "cbr_scores_ne = {'mse':cbr_mse_ne,'mae':cbr_mae_ne,'r2':cbr_r2_ne}\n",
        "cbr_scores_ne"
      ],
      "metadata": {
        "colab": {
          "base_uri": "https://localhost:8080/"
        },
        "outputId": "53bbff5b-c0ca-4bb1-9659-60353e097395",
        "id": "F7pLL__d5SIS"
      },
      "execution_count": null,
      "outputs": [
        {
          "output_type": "execute_result",
          "data": {
            "text/plain": [
              "{'mse': 17.779589875852157, 'mae': 3.102275781013338, 'r2': 0.657956092256357}"
            ]
          },
          "metadata": {},
          "execution_count": 132
        }
      ]
    },
    {
      "cell_type": "code",
      "source": [
        "cbr_ne.get_feature_importance(prettified=True).plot.bar(x='Feature Id', y='Importances')\n",
        "plt.xticks(rotation=90)\n",
        "plt.title(\"CatBoost Feature Importances (Without Emotion)\")\n",
        "fig.tight_layout()"
      ],
      "metadata": {
        "colab": {
          "base_uri": "https://localhost:8080/",
          "height": 54
        },
        "outputId": "a3db7cc5-14d5-4b4c-c3da-f88be2c811cb",
        "id": "u3ivKrBe5SIT"
      },
      "execution_count": null,
      "outputs": [
        {
          "output_type": "display_data",
          "data": {
            "text/plain": [
              "<Figure size 640x480 with 1 Axes>"
            ],
            "image/png": "[encoded data removed]"
          },
          "metadata": {}
        }
      ]
    },
    {
      "cell_type": "code",
      "source": [],
      "metadata": {
        "id": "T8DvSnlY5E00"
      },
      "execution_count": null,
      "outputs": []
    },
    {
      "cell_type": "markdown",
      "source": [
        "## Modeling Evaulation"
      ],
      "metadata": {
        "id": "4dcGVmL_eeNb"
      }
    },
    {
      "cell_type": "code",
      "source": [
        "# TODO: Jungle Primary feature importance potentially very interesting - https://politicaldictionary.com/words/jungle-primary/"
      ],
      "metadata": {
        "id": "dwKHJ15aeeXH"
      },
      "execution_count": null,
      "outputs": []
    },
    {
      "cell_type": "markdown",
      "source": [
        "## Unsupervised Modeling - TODO Week 10!"
      ],
      "metadata": {
        "id": "ymiYeNRuTDlT"
      }
    },
    {
      "cell_type": "markdown",
      "source": [
        "### KMeans and Hierarchical Clustering"
      ],
      "metadata": {
        "id": "0B0zBZ5DaWFK"
      }
    },
    {
      "cell_type": "code",
      "source": [
        "X = np.array([[1, 2], [1, 4], [1, 0], [10, 2], [10, 4], [10, 0]])\n",
        "kmeans = KMeans(n_clusters=2, random_state=0, n_init=\"auto\").fit(X)\n",
        "kmeans.labels_\n",
        "kmeans.predict([[0, 0], [12, 3]])\n",
        "kmeans.cluster_centers_"
      ],
      "metadata": {
        "id": "THgLkMSATEGS",
        "colab": {
          "base_uri": "https://localhost:8080/"
        },
        "outputId": "f4e4ccbc-fcbb-4172-936c-6191afbba0b1"
      },
      "execution_count": null,
      "outputs": [
        {
          "output_type": "execute_result",
          "data": {
            "text/plain": [
              "array([[10.,  2.],\n",
              "       [ 1.,  2.]])"
            ]
          },
          "metadata": {},
          "execution_count": 135
        }
      ]
    },
    {
      "cell_type": "code",
      "source": [],
      "metadata": {
        "id": "qY-_uZbHTEIz"
      },
      "execution_count": null,
      "outputs": []
    },
    {
      "cell_type": "code",
      "source": [],
      "metadata": {
        "id": "XN3X0SjGdZnb"
      },
      "execution_count": null,
      "outputs": []
    },
    {
      "cell_type": "code",
      "source": [
        "X = np.array([[1, 2], [1, 4], [1, 0], [4, 2], [4, 4], [4, 0]])\n",
        "clustering = AgglomerativeClustering().fit(X)\n",
        "clustering.labels_"
      ],
      "metadata": {
        "id": "aT4iO0HodZqC",
        "colab": {
          "base_uri": "https://localhost:8080/"
        },
        "outputId": "06ba417d-30be-498d-98fb-91eb057ead47"
      },
      "execution_count": null,
      "outputs": [
        {
          "output_type": "execute_result",
          "data": {
            "text/plain": [
              "array([1, 1, 1, 0, 0, 0])"
            ]
          },
          "metadata": {},
          "execution_count": 136
        }
      ]
    },
    {
      "cell_type": "code",
      "source": [],
      "metadata": {
        "id": "nTwAU2fMdZsr"
      },
      "execution_count": null,
      "outputs": []
    }
  ]
}
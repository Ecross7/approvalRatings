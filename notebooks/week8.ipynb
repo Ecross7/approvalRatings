{
 "cells": [
  {
   "cell_type": "code",
   "execution_count": 2,
   "metadata": {},
   "outputs": [],
   "source": [
    "import pandas as pd\n",
    "import numpy as np\n",
    "\n",
    "from sklearn.model_selection import train_test_split\n",
    "from sklearn.model_selection import cross_val_score\n",
    "from sklearn.tree import DecisionTreeRegressor\n",
    "from sklearn.neighbors import KNeighborsRegressor\n",
    "from sklearn.cluster import KMeans\n",
    "from sklearn.cluster import AgglomerativeClustering\n"
   ]
  },
  {
   "cell_type": "code",
   "execution_count": 3,
   "metadata": {},
   "outputs": [
    {
     "data": {
      "text/html": [
       "<div>\n",
       "<style scoped>\n",
       "    .dataframe tbody tr th:only-of-type {\n",
       "        vertical-align: middle;\n",
       "    }\n",
       "\n",
       "    .dataframe tbody tr th {\n",
       "        vertical-align: top;\n",
       "    }\n",
       "\n",
       "    .dataframe thead th {\n",
       "        text-align: right;\n",
       "    }\n",
       "</style>\n",
       "<table border=\"1\" class=\"dataframe\">\n",
       "  <thead>\n",
       "    <tr style=\"text-align: right;\">\n",
       "      <th></th>\n",
       "      <th>full_name</th>\n",
       "      <th>pct</th>\n",
       "      <th>birthday</th>\n",
       "      <th>gender</th>\n",
       "      <th>party</th>\n",
       "      <th>senate_class</th>\n",
       "      <th>stage</th>\n",
       "      <th>cycle</th>\n",
       "      <th>start_date</th>\n",
       "      <th>end_date</th>\n",
       "    </tr>\n",
       "  </thead>\n",
       "  <tbody>\n",
       "    <tr>\n",
       "      <th>0</th>\n",
       "      <td>Raphael G. Warnock</td>\n",
       "      <td>51.1</td>\n",
       "      <td>1969-07-23</td>\n",
       "      <td>M</td>\n",
       "      <td>Democrat</td>\n",
       "      <td>3.0</td>\n",
       "      <td>runoff</td>\n",
       "      <td>2022</td>\n",
       "      <td>2022-12-03</td>\n",
       "      <td>2022-12-05</td>\n",
       "    </tr>\n",
       "    <tr>\n",
       "      <th>1</th>\n",
       "      <td>Raphael G. Warnock</td>\n",
       "      <td>51.0</td>\n",
       "      <td>1969-07-23</td>\n",
       "      <td>M</td>\n",
       "      <td>Democrat</td>\n",
       "      <td>3.0</td>\n",
       "      <td>runoff</td>\n",
       "      <td>2022</td>\n",
       "      <td>2022-12-01</td>\n",
       "      <td>2022-12-05</td>\n",
       "    </tr>\n",
       "    <tr>\n",
       "      <th>2</th>\n",
       "      <td>Raphael G. Warnock</td>\n",
       "      <td>50.5</td>\n",
       "      <td>1969-07-23</td>\n",
       "      <td>M</td>\n",
       "      <td>Democrat</td>\n",
       "      <td>3.0</td>\n",
       "      <td>runoff</td>\n",
       "      <td>2022</td>\n",
       "      <td>2022-12-04</td>\n",
       "      <td>2022-12-04</td>\n",
       "    </tr>\n",
       "    <tr>\n",
       "      <th>3</th>\n",
       "      <td>Raphael G. Warnock</td>\n",
       "      <td>50.0</td>\n",
       "      <td>1969-07-23</td>\n",
       "      <td>M</td>\n",
       "      <td>Democrat</td>\n",
       "      <td>3.0</td>\n",
       "      <td>runoff</td>\n",
       "      <td>2022</td>\n",
       "      <td>2022-12-04</td>\n",
       "      <td>2022-12-04</td>\n",
       "    </tr>\n",
       "    <tr>\n",
       "      <th>4</th>\n",
       "      <td>Raphael G. Warnock</td>\n",
       "      <td>52.2</td>\n",
       "      <td>1969-07-23</td>\n",
       "      <td>M</td>\n",
       "      <td>Democrat</td>\n",
       "      <td>3.0</td>\n",
       "      <td>runoff</td>\n",
       "      <td>2022</td>\n",
       "      <td>2022-12-04</td>\n",
       "      <td>2022-12-04</td>\n",
       "    </tr>\n",
       "    <tr>\n",
       "      <th>...</th>\n",
       "      <td>...</td>\n",
       "      <td>...</td>\n",
       "      <td>...</td>\n",
       "      <td>...</td>\n",
       "      <td>...</td>\n",
       "      <td>...</td>\n",
       "      <td>...</td>\n",
       "      <td>...</td>\n",
       "      <td>...</td>\n",
       "      <td>...</td>\n",
       "    </tr>\n",
       "    <tr>\n",
       "      <th>3097</th>\n",
       "      <td>Benjamin L. Cardin</td>\n",
       "      <td>49.4</td>\n",
       "      <td>1943-10-05</td>\n",
       "      <td>M</td>\n",
       "      <td>Democrat</td>\n",
       "      <td>1.0</td>\n",
       "      <td>general</td>\n",
       "      <td>2018</td>\n",
       "      <td>2018-10-01</td>\n",
       "      <td>2018-10-06</td>\n",
       "    </tr>\n",
       "    <tr>\n",
       "      <th>3098</th>\n",
       "      <td>Benjamin L. Cardin</td>\n",
       "      <td>56.0</td>\n",
       "      <td>1943-10-05</td>\n",
       "      <td>M</td>\n",
       "      <td>Democrat</td>\n",
       "      <td>1.0</td>\n",
       "      <td>general</td>\n",
       "      <td>2018</td>\n",
       "      <td>2018-09-11</td>\n",
       "      <td>2018-09-16</td>\n",
       "    </tr>\n",
       "    <tr>\n",
       "      <th>3099</th>\n",
       "      <td>Thomas R. Carper</td>\n",
       "      <td>61.0</td>\n",
       "      <td>1947-01-23</td>\n",
       "      <td>M</td>\n",
       "      <td>Democrat</td>\n",
       "      <td>1.0</td>\n",
       "      <td>general</td>\n",
       "      <td>2018</td>\n",
       "      <td>2018-09-11</td>\n",
       "      <td>2018-09-17</td>\n",
       "    </tr>\n",
       "    <tr>\n",
       "      <th>3100</th>\n",
       "      <td>Thomas R. Carper</td>\n",
       "      <td>60.0</td>\n",
       "      <td>1947-01-23</td>\n",
       "      <td>M</td>\n",
       "      <td>Democrat</td>\n",
       "      <td>1.0</td>\n",
       "      <td>general</td>\n",
       "      <td>2018</td>\n",
       "      <td>2018-09-11</td>\n",
       "      <td>2018-09-17</td>\n",
       "    </tr>\n",
       "    <tr>\n",
       "      <th>3101</th>\n",
       "      <td>Thomas R. Carper</td>\n",
       "      <td>47.0</td>\n",
       "      <td>1947-01-23</td>\n",
       "      <td>M</td>\n",
       "      <td>Democrat</td>\n",
       "      <td>1.0</td>\n",
       "      <td>general</td>\n",
       "      <td>2018</td>\n",
       "      <td>2018-07-24</td>\n",
       "      <td>2018-07-29</td>\n",
       "    </tr>\n",
       "  </tbody>\n",
       "</table>\n",
       "<p>3102 rows × 10 columns</p>\n",
       "</div>"
      ],
      "text/plain": [
       "               full_name   pct   birthday gender     party  senate_class  \\\n",
       "0     Raphael G. Warnock  51.1 1969-07-23      M  Democrat           3.0   \n",
       "1     Raphael G. Warnock  51.0 1969-07-23      M  Democrat           3.0   \n",
       "2     Raphael G. Warnock  50.5 1969-07-23      M  Democrat           3.0   \n",
       "3     Raphael G. Warnock  50.0 1969-07-23      M  Democrat           3.0   \n",
       "4     Raphael G. Warnock  52.2 1969-07-23      M  Democrat           3.0   \n",
       "...                  ...   ...        ...    ...       ...           ...   \n",
       "3097  Benjamin L. Cardin  49.4 1943-10-05      M  Democrat           1.0   \n",
       "3098  Benjamin L. Cardin  56.0 1943-10-05      M  Democrat           1.0   \n",
       "3099    Thomas R. Carper  61.0 1947-01-23      M  Democrat           1.0   \n",
       "3100    Thomas R. Carper  60.0 1947-01-23      M  Democrat           1.0   \n",
       "3101    Thomas R. Carper  47.0 1947-01-23      M  Democrat           1.0   \n",
       "\n",
       "        stage  cycle start_date   end_date  \n",
       "0      runoff   2022 2022-12-03 2022-12-05  \n",
       "1      runoff   2022 2022-12-01 2022-12-05  \n",
       "2      runoff   2022 2022-12-04 2022-12-04  \n",
       "3      runoff   2022 2022-12-04 2022-12-04  \n",
       "4      runoff   2022 2022-12-04 2022-12-04  \n",
       "...       ...    ...        ...        ...  \n",
       "3097  general   2018 2018-10-01 2018-10-06  \n",
       "3098  general   2018 2018-09-11 2018-09-16  \n",
       "3099  general   2018 2018-09-11 2018-09-17  \n",
       "3100  general   2018 2018-09-11 2018-09-17  \n",
       "3101  general   2018 2018-07-24 2018-07-29  \n",
       "\n",
       "[3102 rows x 10 columns]"
      ]
     },
     "execution_count": 3,
     "metadata": {},
     "output_type": "execute_result"
    }
   ],
   "source": [
    "# Load the dataset\n",
    "df = pd.read_csv('cleaned_data.csv', parse_dates=['birthday', 'start_date', 'end_date'])\n",
    "\n",
    "df\n"
   ]
  },
  {
   "cell_type": "code",
   "execution_count": 1,
   "metadata": {},
   "outputs": [
    {
     "ename": "NameError",
     "evalue": "name 'df' is not defined",
     "output_type": "error",
     "traceback": [
      "\u001b[0;31m---------------------------------------------------------------------------\u001b[0m",
      "\u001b[0;31mNameError\u001b[0m                                 Traceback (most recent call last)",
      "Cell \u001b[0;32mIn [1], line 2\u001b[0m\n\u001b[1;32m      1\u001b[0m \u001b[38;5;66;03m# Calculate age from birthday\u001b[39;00m\n\u001b[0;32m----> 2\u001b[0m df[\u001b[38;5;124m'\u001b[39m\u001b[38;5;124mage\u001b[39m\u001b[38;5;124m'\u001b[39m] \u001b[38;5;241m=\u001b[39m \u001b[43mdf\u001b[49m[\u001b[38;5;124m'\u001b[39m\u001b[38;5;124mbirthday\u001b[39m\u001b[38;5;124m'\u001b[39m]\u001b[38;5;241m.\u001b[39mapply(\u001b[38;5;28;01mlambda\u001b[39;00m x : (pd\u001b[38;5;241m.\u001b[39mdatetime\u001b[38;5;241m.\u001b[39mnow()\u001b[38;5;241m.\u001b[39myear \u001b[38;5;241m-\u001b[39m x\u001b[38;5;241m.\u001b[39myear))\n",
      "\u001b[0;31mNameError\u001b[0m: name 'df' is not defined"
     ]
    }
   ],
   "source": [
    "# Calculate age from birthday\n",
    "df['age'] = df['birthday'].apply(lambda x : (pd.datetime.now().year - x.year))\n"
   ]
  },
  {
   "cell_type": "code",
   "execution_count": null,
   "metadata": {},
   "outputs": [],
   "source": [
    "# Plot histogram of maximum age by full_name\n",
    "df.groupby('full_name')['age'].max().hist()"
   ]
  },
  {
   "cell_type": "code",
   "execution_count": 5,
   "metadata": {},
   "outputs": [
    {
     "data": {
      "text/plain": [
       "peace            305\n",
       "sympathy         301\n",
       "happiness        291\n",
       "excitement       285\n",
       "affection        282\n",
       "esteem           281\n",
       "disconnection    280\n",
       "anticipation     280\n",
       "pleasure         276\n",
       "confidence       266\n",
       "engagement       255\n",
       "Name: top_emotion, dtype: int64"
      ]
     },
     "execution_count": 5,
     "metadata": {},
     "output_type": "execute_result"
    }
   ],
   "source": [
    "\n",
    "# Generate random valence values as a placeholder\n",
    "emotions = ['engagement', 'happiness', 'anticipation', 'excitement', 'confidence', 'pleasure', 'peace', 'disconnection', 'affection', 'esteem', 'sympathy']\n",
    "df['top_emotion'] = np.random.choice(emotions, size=len(df))\n",
    "\n",
    "df['valence'] = np.random.randint(0, 10, size=len(df))\n",
    "\n"
   ]
  },
  {
   "cell_type": "code",
   "execution_count": null,
   "metadata": {},
   "outputs": [],
   "source": [
    "# Display the count of each top_emotion\n",
    "df['top_emotion'].value_counts()"
   ]
  },
  {
   "cell_type": "code",
   "execution_count": 6,
   "metadata": {},
   "outputs": [],
   "source": [
    "## Final Feature Selection\n",
    "\n",
    "target = ['pct'] # Define target, date-related, categorical, and numeric features for final feature selection\n",
    "date_features = ['start_date', 'end_date'] # Is cycle really \"date\" or categorical?\n",
    "categorical_features = ['top_emotion', 'gender', 'party', 'senate_class', 'stage'] # Categorical features\n",
    "numeric_features = ['age', 'valence']  # Numeric features\n"
   ]
  },
  {
   "cell_type": "code",
   "execution_count": 7,
   "metadata": {},
   "outputs": [],
   "source": [
    "### Train/Test Split\"\"\"\n",
    "\n",
    "train, test = train_test_split(df, test_size=0.2)\n",
    "\n",
    "X_train = train.drop(columns=target)\n",
    "y_train = train[target]\n",
    "\n",
    "X_test = test.drop(columns=target)\n",
    "y_test = test[target]"
   ]
  },
  {
   "cell_type": "code",
   "execution_count": 8,
   "metadata": {},
   "outputs": [],
   "source": [
    "# Normalize Numeric Features\n",
    "from sklearn.preprocessing import StandardScaler\n",
    "scaler = StandardScaler()\n",
    "\n",
    "X_train[numeric_features] = scaler.fit_transform(X_train[numeric_features])\n",
    "X_test[numeric_features] = scaler.transform(X_test[numeric_features])"
   ]
  },
  {
   "cell_type": "code",
   "execution_count": 9,
   "metadata": {},
   "outputs": [],
   "source": [
    "# Encode Categorical Features\"\"\"\n",
    "from sklearn.preprocessing import OneHotEncoder\n",
    "encoder = OneHotEncoder()\n",
    "\n",
    "X_train_encoded = encoder.fit_transform(X_train[categorical_features])\n",
    "X_test_encoded = encoder.transform(X_test[categorical_features])"
   ]
  },
  {
   "cell_type": "code",
   "execution_count": 16,
   "metadata": {},
   "outputs": [
    {
     "data": {
      "text/html": [
       "<div>\n",
       "<style scoped>\n",
       "    .dataframe tbody tr th:only-of-type {\n",
       "        vertical-align: middle;\n",
       "    }\n",
       "\n",
       "    .dataframe tbody tr th {\n",
       "        vertical-align: top;\n",
       "    }\n",
       "\n",
       "    .dataframe thead th {\n",
       "        text-align: right;\n",
       "    }\n",
       "</style>\n",
       "<table border=\"1\" class=\"dataframe\">\n",
       "  <thead>\n",
       "    <tr style=\"text-align: right;\">\n",
       "      <th></th>\n",
       "      <th>age</th>\n",
       "      <th>valence</th>\n",
       "    </tr>\n",
       "  </thead>\n",
       "  <tbody>\n",
       "    <tr>\n",
       "      <th>92</th>\n",
       "      <td>-0.795270</td>\n",
       "      <td>0.882174</td>\n",
       "    </tr>\n",
       "    <tr>\n",
       "      <th>198</th>\n",
       "      <td>-0.795270</td>\n",
       "      <td>1.236730</td>\n",
       "    </tr>\n",
       "    <tr>\n",
       "      <th>168</th>\n",
       "      <td>-0.795270</td>\n",
       "      <td>-0.181494</td>\n",
       "    </tr>\n",
       "    <tr>\n",
       "      <th>2807</th>\n",
       "      <td>0.837029</td>\n",
       "      <td>-1.245162</td>\n",
       "    </tr>\n",
       "    <tr>\n",
       "      <th>431</th>\n",
       "      <td>-0.795270</td>\n",
       "      <td>1.591287</td>\n",
       "    </tr>\n",
       "    <tr>\n",
       "      <th>...</th>\n",
       "      <td>...</td>\n",
       "      <td>...</td>\n",
       "    </tr>\n",
       "    <tr>\n",
       "      <th>1921</th>\n",
       "      <td>1.317117</td>\n",
       "      <td>-1.245162</td>\n",
       "    </tr>\n",
       "    <tr>\n",
       "      <th>1579</th>\n",
       "      <td>0.260923</td>\n",
       "      <td>0.882174</td>\n",
       "    </tr>\n",
       "    <tr>\n",
       "      <th>910</th>\n",
       "      <td>-0.891288</td>\n",
       "      <td>-0.181494</td>\n",
       "    </tr>\n",
       "    <tr>\n",
       "      <th>1330</th>\n",
       "      <td>-0.507218</td>\n",
       "      <td>0.173062</td>\n",
       "    </tr>\n",
       "    <tr>\n",
       "      <th>506</th>\n",
       "      <td>0.548976</td>\n",
       "      <td>-1.599718</td>\n",
       "    </tr>\n",
       "  </tbody>\n",
       "</table>\n",
       "<p>2481 rows × 2 columns</p>\n",
       "</div>"
      ],
      "text/plain": [
       "           age   valence\n",
       "92   -0.795270  0.882174\n",
       "198  -0.795270  1.236730\n",
       "168  -0.795270 -0.181494\n",
       "2807  0.837029 -1.245162\n",
       "431  -0.795270  1.591287\n",
       "...        ...       ...\n",
       "1921  1.317117 -1.245162\n",
       "1579  0.260923  0.882174\n",
       "910  -0.891288 -0.181494\n",
       "1330 -0.507218  0.173062\n",
       "506   0.548976 -1.599718\n",
       "\n",
       "[2481 rows x 2 columns]"
      ]
     },
     "execution_count": 16,
     "metadata": {},
     "output_type": "execute_result"
    }
   ],
   "source": [
    "X_train[numeric_features]"
   ]
  },
  {
   "cell_type": "code",
   "execution_count": 17,
   "metadata": {},
   "outputs": [
    {
     "data": {
      "text/plain": [
       "array([ 0.11677552,  0.03348785,  0.11207798,  0.10991904,  0.01313548,\n",
       "        0.17534876,  0.02662745,  0.11926174,  0.03476799, -0.03144767])"
      ]
     },
     "execution_count": 17,
     "metadata": {},
     "output_type": "execute_result"
    }
   ],
   "source": [
    "#Supervised Modeling\n",
    "### Tree Methods\n",
    "# Decision Tree (and Random Forest for ensembles week)\n",
    "regressor = DecisionTreeRegressor(random_state=0)\n",
    "cross_val_score(regressor, X_train[numeric_features], y_train, cv=10)"
   ]
  },
  {
   "cell_type": "code",
   "execution_count": 32,
   "metadata": {},
   "outputs": [
    {
     "name": "stdout",
     "output_type": "stream",
     "text": [
      "[[48.1]]\n"
     ]
    },
    {
     "name": "stderr",
     "output_type": "stream",
     "text": [
      "/Library/Frameworks/Python.framework/Versions/3.10/lib/python3.10/site-packages/sklearn/base.py:464: UserWarning: X does not have valid feature names, but KNeighborsRegressor was fitted with feature names\n",
      "  warnings.warn(\n"
     ]
    }
   ],
   "source": [
    "# KNN Regressor\n",
    "neigh = KNeighborsRegressor(n_neighbors=2)\n",
    "neigh.fit(X_train[numeric_features], y_train)"
   ]
  },
  {
   "cell_type": "code",
   "execution_count": null,
   "metadata": {},
   "outputs": [],
   "source": [
    "# Predict using KNN for a given data point\n",
    "print(neigh.predict([[1.5,1.0]])) "
   ]
  },
  {
   "cell_type": "markdown",
   "metadata": {},
   "source": [
    "# Unsupervised Modeling"
   ]
  },
  {
   "cell_type": "code",
   "execution_count": 22,
   "metadata": {},
   "outputs": [
    {
     "data": {
      "text/plain": [
       "array([[10.,  2.],\n",
       "       [ 1.,  2.]])"
      ]
     },
     "execution_count": 22,
     "metadata": {},
     "output_type": "execute_result"
    }
   ],
   "source": [
    "#KMeans and Hierarchical Clustering\n",
    "\n",
    "\n",
    "X = np.array([[1, 2], [1, 4], [1, 0], [10, 2], [10, 4], [10, 0]])\n",
    "kmeans = KMeans(n_clusters=2, random_state=0, n_init=\"auto\").fit(X)\n",
    "kmeans.labels_\n",
    "kmeans.predict([[0, 0], [12, 3]])\n",
    "kmeans.cluster_centers_"
   ]
  },
  {
   "cell_type": "code",
   "execution_count": 23,
   "metadata": {},
   "outputs": [
    {
     "data": {
      "text/plain": [
       "array([1, 1, 1, 0, 0, 0])"
      ]
     },
     "execution_count": 23,
     "metadata": {},
     "output_type": "execute_result"
    }
   ],
   "source": [
    "# Hierarchical Clustering\n",
    "X = np.array([[1, 2], [1, 4], [1, 0], [4, 2], [4, 4], [4, 0]])\n",
    "clustering = AgglomerativeClustering().fit(X)\n",
    "clustering.labels_"
   ]
  },
  {
   "cell_type": "markdown",
   "metadata": {},
   "source": [
    "# Conclusion\n",
    "## In our analysis, we explored the predictability of U.S. Senators' Job Approval Ratings (JAR) utilizing a curated \"Persona Profile\" integrating demographic information, party affiliation, professional roles, and Emotion scores derived from photographic data. Through clustering techniques, we investigated logical groupings based on emotional characteristics, probing potential associations with party lines, gender, and age. Additionally, we examined the impact of major historical events on Senators' JARs, focusing on a specific significant event to discern its influence. Furthermore, we assessed the effect of Senate composition, particularly the majority party, on Senators' JARs by analyzing a specific time period, offering valuable insights into political dynamics and public perception. Our findings suggest that Senators' JARs are influenced by a combination of factors, including emotional characteristics, party affiliation, and historical events, underscoring the complexity of public opinion and the importance of understanding these dynamics in political analysis."
   ]
  }
 ],
 "metadata": {
  "kernelspec": {
   "display_name": "Python 3",
   "language": "python",
   "name": "python3"
  },
  "language_info": {
   "codemirror_mode": {
    "name": "ipython",
    "version": 3
   },
   "file_extension": ".py",
   "mimetype": "text/x-python",
   "name": "python",
   "nbconvert_exporter": "python",
   "pygments_lexer": "ipython3",
   "version": "3.10.0"
  }
 },
 "nbformat": 4,
 "nbformat_minor": 2
}

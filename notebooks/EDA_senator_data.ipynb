{
  "nbformat": 4,
  "nbformat_minor": 0,
  "metadata": {
    "colab": {
      "provenance": [],
      "collapsed_sections": [
        "L6ysj4YlPHt0",
        "BxZQecMWRpv7",
        "wUlnOjJLRpyZ"
      ]
    },
    "kernelspec": {
      "name": "python3",
      "display_name": "Python 3"
    },
    "language_info": {
      "name": "python"
    }
  },
  "cells": [
    {
      "cell_type": "code",
      "execution_count": 1,
      "metadata": {
        "id": "mRTD_3wANrsA"
      },
      "outputs": [],
      "source": [
        "import pandas as pd\n",
        "import json\n",
        "\n",
        "from datetime import datetime"
      ]
    },
    {
      "cell_type": "markdown",
      "source": [
        "## Legislator Data\n",
        "\n",
        "https://github.com/unitedstates/congress-legislators?tab=readme-ov-file"
      ],
      "metadata": {
        "id": "hTqc2TAMQ4hH"
      }
    },
    {
      "cell_type": "code",
      "source": [
        "drop = [ 'url', 'address', 'phone', 'contact_form', 'rss_url', 'twitter', 'twitter_id', 'facebook', 'youtube', 'youtube_id',\n",
        "        'thomas_id', 'opensecrets_id', 'lis_id', 'fec_ids', 'cspan_id', 'mastodon','votesmart_id', 'ballotpedia_id','washington_post_id',]"
      ],
      "metadata": {
        "id": "XxbRJWo8XWPJ"
      },
      "execution_count": 2,
      "outputs": []
    },
    {
      "cell_type": "code",
      "source": [
        "legislators_current = pd.read_csv('/content/drive/MyDrive/UMBC Fall 2023/DATA606 - Capstone/senator data/legislators-current.csv', parse_dates=['birthday'])\n",
        "legislators_current = legislators_current.drop(columns=drop)\n",
        "legislators_historical = pd.read_csv('/content/drive/MyDrive/UMBC Fall 2023/DATA606 - Capstone/senator data/legislators-historical.csv', parse_dates=['birthday'])\n",
        "legislators_historical = legislators_historical.drop(columns=drop)"
      ],
      "metadata": {
        "id": "19RBNYWzQ4pw"
      },
      "execution_count": 3,
      "outputs": []
    },
    {
      "cell_type": "code",
      "source": [
        "legislators = pd.concat([legislators_current, legislators_historical], ignore_index=True, axis=0)"
      ],
      "metadata": {
        "id": "hNNySh4ZTT2_"
      },
      "execution_count": 4,
      "outputs": []
    },
    {
      "cell_type": "code",
      "source": [
        "legislators['type'].unique()"
      ],
      "metadata": {
        "colab": {
          "base_uri": "https://localhost:8080/"
        },
        "id": "q8p4m-BxlS-g",
        "outputId": "287992fb-05e6-4217-de36-0355732c65e2"
      },
      "execution_count": 5,
      "outputs": [
        {
          "output_type": "execute_result",
          "data": {
            "text/plain": [
              "array(['sen', 'rep'], dtype=object)"
            ]
          },
          "metadata": {},
          "execution_count": 5
        }
      ]
    },
    {
      "cell_type": "code",
      "source": [
        "legislators.columns"
      ],
      "metadata": {
        "colab": {
          "base_uri": "https://localhost:8080/"
        },
        "id": "krxSY-U6yBUP",
        "outputId": "daf94d52-058f-4bdf-dd03-c943d0138b0b"
      },
      "execution_count": 6,
      "outputs": [
        {
          "output_type": "execute_result",
          "data": {
            "text/plain": [
              "Index(['last_name', 'first_name', 'middle_name', 'suffix', 'nickname',\n",
              "       'full_name', 'birthday', 'gender', 'type', 'state', 'district',\n",
              "       'senate_class', 'party', 'bioguide_id', 'govtrack_id', 'icpsr_id',\n",
              "       'wikipedia_id'],\n",
              "      dtype='object')"
            ]
          },
          "metadata": {},
          "execution_count": 6
        }
      ]
    },
    {
      "cell_type": "code",
      "source": [
        "senators = legislators[legislators['type']=='sen']"
      ],
      "metadata": {
        "id": "KQuM4o4BXWRs"
      },
      "execution_count": 44,
      "outputs": []
    },
    {
      "cell_type": "code",
      "source": [
        "senators['name'] = senators['first_name'].str.casefold().str.replace('[^a-zA-Z]', '') + senators['last_name'].str.casefold().str.replace('[^a-zA-Z]', '')"
      ],
      "metadata": {
        "colab": {
          "base_uri": "https://localhost:8080/"
        },
        "id": "d5tl_MRTo4S0",
        "outputId": "62fc2e9d-e356-428e-9caa-ef4a9e5062d3"
      },
      "execution_count": 46,
      "outputs": [
        {
          "output_type": "stream",
          "name": "stderr",
          "text": [
            "<ipython-input-46-fb85ee062e41>:1: FutureWarning: The default value of regex will change from True to False in a future version.\n",
            "  senators['name'] = senators['first_name'].str.casefold().str.replace('[^a-zA-Z]', '') + senators['last_name'].str.casefold().str.replace('[^a-zA-Z]', '')\n",
            "<ipython-input-46-fb85ee062e41>:1: SettingWithCopyWarning: \n",
            "A value is trying to be set on a copy of a slice from a DataFrame.\n",
            "Try using .loc[row_indexer,col_indexer] = value instead\n",
            "\n",
            "See the caveats in the documentation: https://pandas.pydata.org/pandas-docs/stable/user_guide/indexing.html#returning-a-view-versus-a-copy\n",
            "  senators['name'] = senators['first_name'].str.casefold().str.replace('[^a-zA-Z]', '') + senators['last_name'].str.casefold().str.replace('[^a-zA-Z]', '')\n"
          ]
        }
      ]
    },
    {
      "cell_type": "code",
      "source": [
        "len(senators['name'].unique())"
      ],
      "metadata": {
        "colab": {
          "base_uri": "https://localhost:8080/"
        },
        "id": "Z7ce4TimXWUF",
        "outputId": "d0724c01-17e8-404f-b316-e1e7abc6fa67"
      },
      "execution_count": 47,
      "outputs": [
        {
          "output_type": "execute_result",
          "data": {
            "text/plain": [
              "1895"
            ]
          },
          "metadata": {},
          "execution_count": 47
        }
      ]
    },
    {
      "cell_type": "code",
      "source": [
        "senators = senators.drop_duplicates('name')"
      ],
      "metadata": {
        "id": "BeaiPYQC0GoM"
      },
      "execution_count": 48,
      "outputs": []
    },
    {
      "cell_type": "markdown",
      "source": [
        "## Job Approval Ratings\n",
        "\n",
        "https://github.com/fivethirtyeight/data/tree/master/polls\n",
        "\n",
        "2016-11-17 - 2024-03-15\n",
        "\n"
      ],
      "metadata": {
        "id": "lDSXY0CA0Srn"
      }
    },
    {
      "cell_type": "code",
      "source": [
        "senate_polls = pd.read_csv('/content/drive/MyDrive/UMBC Fall 2023/DATA606 - Capstone/senator data/senate_polls.csv', parse_dates=['start_date','end_date','election_date'])\n",
        "senate_polls = senate_polls.drop(columns=['endorsed_candidate_id','endorsed_candidate_name','endorsed_candidate_party'])\n",
        "senate_polls_historical = pd.read_csv('/content/drive/MyDrive/UMBC Fall 2023/DATA606 - Capstone/senator data/senate_polls_historical.csv', parse_dates=['start_date','end_date','election_date'])"
      ],
      "metadata": {
        "id": "DBWsy10x0Syt"
      },
      "execution_count": 50,
      "outputs": []
    },
    {
      "cell_type": "code",
      "source": [
        "polls = pd.concat([senate_polls_historical, senate_polls], ignore_index=True, axis=0)\n",
        "polls = polls.drop(columns=['subpopulation'])"
      ],
      "metadata": {
        "id": "iOwyTL3Y0S11"
      },
      "execution_count": 51,
      "outputs": []
    },
    {
      "cell_type": "code",
      "source": [
        "polls.columns"
      ],
      "metadata": {
        "colab": {
          "base_uri": "https://localhost:8080/"
        },
        "id": "ysFcqTzI1Ilh",
        "outputId": "b0353a3c-45ac-47e0-d8d1-f36de20deb5c"
      },
      "execution_count": 52,
      "outputs": [
        {
          "output_type": "execute_result",
          "data": {
            "text/plain": [
              "Index(['poll_id', 'pollster_id', 'pollster', 'sponsor_ids', 'sponsors',\n",
              "       'display_name', 'pollster_rating_id', 'pollster_rating_name',\n",
              "       'fte_grade', 'methodology', 'transparency_score', 'state', 'start_date',\n",
              "       'end_date', 'sponsor_candidate_id', 'sponsor_candidate',\n",
              "       'sponsor_candidate_party', 'question_id', 'sample_size', 'population',\n",
              "       'population_full', 'tracking', 'created_at', 'notes', 'url', 'source',\n",
              "       'internal', 'partisan', 'race_id', 'cycle', 'office_type',\n",
              "       'seat_number', 'seat_name', 'election_date', 'stage',\n",
              "       'nationwide_batch', 'ranked_choice_reallocated', 'ranked_choice_round',\n",
              "       'party', 'answer', 'candidate_id', 'candidate_name', 'pct'],\n",
              "      dtype='object')"
            ]
          },
          "metadata": {},
          "execution_count": 52
        }
      ]
    },
    {
      "cell_type": "code",
      "source": [
        "honorificPrefix=r'(\\,|\\.|Ms|Mr)'\n",
        "honorificSuffix=r'(\\,|\\.|Jr.|III|II|IV)'"
      ],
      "metadata": {
        "id": "UMtjdr6Z-P5a"
      },
      "execution_count": 54,
      "outputs": []
    },
    {
      "cell_type": "code",
      "source": [
        "polls['candidate_name'] = polls['candidate_name'].replace(honorificPrefix,'',regex=True)\n",
        "polls['candidate_name'] = polls['candidate_name'].replace(honorificSuffix,'',regex=True)"
      ],
      "metadata": {
        "id": "AkELDEMGFaFE"
      },
      "execution_count": 55,
      "outputs": []
    },
    {
      "cell_type": "code",
      "source": [
        "polls['first_name'] = polls['candidate_name'].str.split().str[0]\n",
        "polls['last_name'] = polls['candidate_name'].str.split().str[-1]"
      ],
      "metadata": {
        "id": "-VMvv8x4H9eM"
      },
      "execution_count": 56,
      "outputs": []
    },
    {
      "cell_type": "code",
      "source": [
        "polls['name'] = polls['first_name'].str.casefold().str.replace('[^a-zA-Z]','') + polls['last_name'].str.casefold().str.replace('[^a-zA-Z]', '')"
      ],
      "metadata": {
        "colab": {
          "base_uri": "https://localhost:8080/"
        },
        "id": "DXPCxW_MpmZM",
        "outputId": "4d71c7e5-2de3-43f3-e94b-b7f7e63107a1"
      },
      "execution_count": 57,
      "outputs": [
        {
          "output_type": "stream",
          "name": "stderr",
          "text": [
            "<ipython-input-57-8aaba56868fa>:1: FutureWarning: The default value of regex will change from True to False in a future version.\n",
            "  polls['name'] = polls['first_name'].str.casefold().str.replace('[^a-zA-Z]','') + polls['last_name'].str.casefold().str.replace('[^a-zA-Z]', '')\n"
          ]
        }
      ]
    },
    {
      "cell_type": "code",
      "source": [
        "len(polls['name'].unique())"
      ],
      "metadata": {
        "colab": {
          "base_uri": "https://localhost:8080/"
        },
        "id": "y7A2vO-TprTB",
        "outputId": "d2bdaf39-2c12-440d-9b80-2971e6fefd65"
      },
      "execution_count": 58,
      "outputs": [
        {
          "output_type": "execute_result",
          "data": {
            "text/plain": [
              "485"
            ]
          },
          "metadata": {},
          "execution_count": 58
        }
      ]
    },
    {
      "cell_type": "markdown",
      "source": [
        "## Merge Senator and Job Approval Data\n",
        "Challenges:\n",
        "- Non-normalized names (aka variations in spelling, structure, and nicknames used)\n"
      ],
      "metadata": {
        "id": "PfbTnD1CJO-A"
      }
    },
    {
      "cell_type": "code",
      "source": [
        "df = pd.merge(polls, senators,  how='inner', left_on=['name'], right_on = ['name'])"
      ],
      "metadata": {
        "id": "Frs7RFNFJPAi"
      },
      "execution_count": 143,
      "outputs": []
    },
    {
      "cell_type": "code",
      "source": [
        "df.columns"
      ],
      "metadata": {
        "colab": {
          "base_uri": "https://localhost:8080/"
        },
        "id": "CD9dUAnPJPC9",
        "outputId": "82583e84-ad9e-4b57-9be7-d9c83b0847fd"
      },
      "execution_count": 60,
      "outputs": [
        {
          "output_type": "execute_result",
          "data": {
            "text/plain": [
              "Index(['poll_id', 'pollster_id', 'pollster', 'sponsor_ids', 'sponsors',\n",
              "       'display_name', 'pollster_rating_id', 'pollster_rating_name',\n",
              "       'fte_grade', 'methodology', 'transparency_score', 'state_x',\n",
              "       'start_date', 'end_date', 'sponsor_candidate_id', 'sponsor_candidate',\n",
              "       'sponsor_candidate_party', 'question_id', 'sample_size', 'population',\n",
              "       'population_full', 'tracking', 'created_at', 'notes', 'url', 'source',\n",
              "       'internal', 'partisan', 'race_id', 'cycle', 'office_type',\n",
              "       'seat_number', 'seat_name', 'election_date', 'stage',\n",
              "       'nationwide_batch', 'ranked_choice_reallocated', 'ranked_choice_round',\n",
              "       'party_x', 'answer', 'candidate_id', 'candidate_name', 'pct',\n",
              "       'first_name_x', 'last_name_x', 'name', 'last_name_y', 'first_name_y',\n",
              "       'middle_name', 'suffix', 'nickname', 'full_name', 'birthday', 'gender',\n",
              "       'type', 'state_y', 'district', 'senate_class', 'party_y', 'bioguide_id',\n",
              "       'govtrack_id', 'icpsr_id', 'wikipedia_id'],\n",
              "      dtype='object')"
            ]
          },
          "metadata": {},
          "execution_count": 60
        }
      ]
    },
    {
      "cell_type": "code",
      "source": [
        "len(df['full_name'].unique())"
      ],
      "metadata": {
        "colab": {
          "base_uri": "https://localhost:8080/"
        },
        "id": "KDEOILkdqFVo",
        "outputId": "54eab2c5-efad-4641-94cc-32c62c75d9ae"
      },
      "execution_count": 64,
      "outputs": [
        {
          "output_type": "execute_result",
          "data": {
            "text/plain": [
              "96"
            ]
          },
          "metadata": {},
          "execution_count": 64
        }
      ]
    },
    {
      "cell_type": "code",
      "source": [
        "print(list(df['full_name'].unique()))"
      ],
      "metadata": {
        "colab": {
          "base_uri": "https://localhost:8080/"
        },
        "id": "n8i31FvAnG3w",
        "outputId": "b3a202cb-ea07-4541-d9e5-5a8bbe17cfa8"
      },
      "execution_count": 65,
      "outputs": [
        {
          "output_type": "stream",
          "name": "stdout",
          "text": [
            "['Raphael G. Warnock', 'Mark Kelly', 'John Fetterman', 'Ron Johnson', 'Todd Young', 'Eric Schmitt', 'Michael F. Bennet', 'James Lankford', 'Markwayne Mullin', 'Ted Budd', 'Marco Rubio', 'Tammy Duckworth', 'Charles E. Schumer', 'Ron Wyden', 'Patty Murray', 'John Boozman', 'Mike Lee', 'Katie Boyd Britt', 'Jerry Moran', 'Richard Blumenthal', 'Peter Welch', 'Lisa Murkowski', 'John Thune', 'John Kennedy', 'Tim Scott', 'Rand Paul', 'Kelly Ayotte', 'Kelly Loeffler', 'John McCain', 'Roy Blunt', 'Jon Ossoff', 'David Perdue', 'Joni Ernst', 'Lindsey Graham', 'Steve Daines', 'Susan M. Collins', 'Martha McSally', 'John Cornyn', 'Richard J. Durbin', 'Gary C. Peters', 'Tina Smith', 'Cory A. Booker', 'John W. Hickenlooper', 'Cory Gardner', 'Mark R. Warner', 'Tommy Tuberville', 'Roger Marshall', 'Cindy Hyde-Smith', 'Mitch McConnell', 'Bill Hagerty', 'Edward J. Markey', 'Ben Ray Luján', 'Dan Sullivan', 'Jeanne Shaheen', 'Cynthia M. Lummis', 'Tom Cotton', 'James M. Inhofe', 'Shelley Moore Capito', 'Jeff Merkley', 'Christopher A. Coons', 'Patrick J. Leahy', 'James E. Risch', 'Bill Cassidy', 'Debbie Stabenow', 'Bill Nelson', 'Rick Scott', 'Kyrsten Sinema', 'Ted Cruz', 'Jacky Rosen', 'Dean Heller', 'Joe Donnelly', 'Mike Braun', 'Claire McCaskill', 'Jon Tester', 'John Barrasso', 'Robert Menendez', 'Dianne Feinstein', 'Amy Klobuchar', 'Roger F. Wicker', 'Sherrod Brown', 'Kirsten E. Gillibrand', 'Martin Heinrich', 'Tammy Baldwin', 'Christopher Murphy', 'Bernard Sanders', 'Joe Manchin, III', 'Marsha Blackburn', 'Heidi Heitkamp', 'Kevin Cramer', 'Elizabeth Warren', 'Deb Fischer', 'Sheldon Whitehouse', 'Maria Cantwell', 'Mitt Romney', 'Benjamin L. Cardin', 'Thomas R. Carper']\n"
          ]
        }
      ]
    },
    {
      "cell_type": "code",
      "source": [
        "df['end_date'].min()"
      ],
      "metadata": {
        "colab": {
          "base_uri": "https://localhost:8080/"
        },
        "id": "r3qICOnfJPIc",
        "outputId": "6347e57f-ccf5-4471-ccb3-7d759a6599d2"
      },
      "execution_count": 67,
      "outputs": [
        {
          "output_type": "execute_result",
          "data": {
            "text/plain": [
              "Timestamp('2016-11-17 00:00:00')"
            ]
          },
          "metadata": {},
          "execution_count": 67
        }
      ]
    },
    {
      "cell_type": "markdown",
      "source": [
        "### Determine columns to keep for initial modeling\n",
        "Potentially interesting\n",
        "- senate_class vs. seat_name\n",
        "- poll_id vs. pollster_id\n",
        "- stage"
      ],
      "metadata": {
        "id": "LebbptKMJPK0"
      }
    },
    {
      "cell_type": "code",
      "source": [
        "df = df.dropna(axis='columns', how='any')"
      ],
      "metadata": {
        "id": "7lyCtBtd8rk6"
      },
      "execution_count": 144,
      "outputs": []
    },
    {
      "cell_type": "code",
      "source": [
        "drop = ['bioguide_id', 'party_x', 'state_y','type', 'name','candidate_name','poll_id', 'pollster_id', 'pollster', 'display_name',\n",
        "        'pollster_rating_id', 'pollster_rating_name','question_id','seat_number','created_at','race_id',\n",
        "        'office_type','nationwide_batch','candidate_id', 'answer', 'seat_name',\n",
        "       'govtrack_id', 'wikipedia_id', 'first_name_x','first_name_y','last_name_x','last_name_y']"
      ],
      "metadata": {
        "id": "4PrdP6l774iO"
      },
      "execution_count": 145,
      "outputs": []
    },
    {
      "cell_type": "code",
      "source": [
        "df = df.rename(columns={'state_x':'state','party_y':'party'})"
      ],
      "metadata": {
        "id": "AUAOCH2z_Y-c"
      },
      "execution_count": 154,
      "outputs": []
    },
    {
      "cell_type": "code",
      "source": [
        "df = df[['full_name', 'pct', 'birthday', 'gender','party','senate_class','stage','cycle', 'start_date', 'end_date', 'ranked_choice_reallocated']]"
      ],
      "metadata": {
        "id": "hanFoz50A1nu"
      },
      "execution_count": 164,
      "outputs": []
    },
    {
      "cell_type": "code",
      "source": [
        "df"
      ],
      "metadata": {
        "colab": {
          "base_uri": "https://localhost:8080/",
          "height": 424
        },
        "id": "Sce8icIC9kSq",
        "outputId": "7927d433-98a2-4120-d503-40f74a2141f4"
      },
      "execution_count": 168,
      "outputs": [
        {
          "output_type": "execute_result",
          "data": {
            "text/plain": [
              "               full_name   pct   birthday gender     party  senate_class  \\\n",
              "0     Raphael G. Warnock  51.1 1969-07-23      M  Democrat           3.0   \n",
              "1     Raphael G. Warnock  51.0 1969-07-23      M  Democrat           3.0   \n",
              "2     Raphael G. Warnock  50.5 1969-07-23      M  Democrat           3.0   \n",
              "3     Raphael G. Warnock  50.0 1969-07-23      M  Democrat           3.0   \n",
              "4     Raphael G. Warnock  52.2 1969-07-23      M  Democrat           3.0   \n",
              "...                  ...   ...        ...    ...       ...           ...   \n",
              "3097  Benjamin L. Cardin  49.4 1943-10-05      M  Democrat           1.0   \n",
              "3098  Benjamin L. Cardin  56.0 1943-10-05      M  Democrat           1.0   \n",
              "3099    Thomas R. Carper  61.0 1947-01-23      M  Democrat           1.0   \n",
              "3100    Thomas R. Carper  60.0 1947-01-23      M  Democrat           1.0   \n",
              "3101    Thomas R. Carper  47.0 1947-01-23      M  Democrat           1.0   \n",
              "\n",
              "        stage  cycle start_date   end_date  ranked_choice_reallocated  \n",
              "0      runoff   2022 2022-12-03 2022-12-05                      False  \n",
              "1      runoff   2022 2022-12-01 2022-12-05                      False  \n",
              "2      runoff   2022 2022-12-04 2022-12-04                      False  \n",
              "3      runoff   2022 2022-12-04 2022-12-04                      False  \n",
              "4      runoff   2022 2022-12-04 2022-12-04                      False  \n",
              "...       ...    ...        ...        ...                        ...  \n",
              "3097  general   2018 2018-10-01 2018-10-06                      False  \n",
              "3098  general   2018 2018-09-11 2018-09-16                      False  \n",
              "3099  general   2018 2018-09-11 2018-09-17                      False  \n",
              "3100  general   2018 2018-09-11 2018-09-17                      False  \n",
              "3101  general   2018 2018-07-24 2018-07-29                      False  \n",
              "\n",
              "[3102 rows x 11 columns]"
            ],
            "text/html": [
              "\n",
              "  <div id=\"df-765e3801-4d82-434a-b9e4-f2d92fa1b09f\" class=\"colab-df-container\">\n",
              "    <div>\n",
              "<style scoped>\n",
              "    .dataframe tbody tr th:only-of-type {\n",
              "        vertical-align: middle;\n",
              "    }\n",
              "\n",
              "    .dataframe tbody tr th {\n",
              "        vertical-align: top;\n",
              "    }\n",
              "\n",
              "    .dataframe thead th {\n",
              "        text-align: right;\n",
              "    }\n",
              "</style>\n",
              "<table border=\"1\" class=\"dataframe\">\n",
              "  <thead>\n",
              "    <tr style=\"text-align: right;\">\n",
              "      <th></th>\n",
              "      <th>full_name</th>\n",
              "      <th>pct</th>\n",
              "      <th>birthday</th>\n",
              "      <th>gender</th>\n",
              "      <th>party</th>\n",
              "      <th>senate_class</th>\n",
              "      <th>stage</th>\n",
              "      <th>cycle</th>\n",
              "      <th>start_date</th>\n",
              "      <th>end_date</th>\n",
              "      <th>ranked_choice_reallocated</th>\n",
              "    </tr>\n",
              "  </thead>\n",
              "  <tbody>\n",
              "    <tr>\n",
              "      <th>0</th>\n",
              "      <td>Raphael G. Warnock</td>\n",
              "      <td>51.1</td>\n",
              "      <td>1969-07-23</td>\n",
              "      <td>M</td>\n",
              "      <td>Democrat</td>\n",
              "      <td>3.0</td>\n",
              "      <td>runoff</td>\n",
              "      <td>2022</td>\n",
              "      <td>2022-12-03</td>\n",
              "      <td>2022-12-05</td>\n",
              "      <td>False</td>\n",
              "    </tr>\n",
              "    <tr>\n",
              "      <th>1</th>\n",
              "      <td>Raphael G. Warnock</td>\n",
              "      <td>51.0</td>\n",
              "      <td>1969-07-23</td>\n",
              "      <td>M</td>\n",
              "      <td>Democrat</td>\n",
              "      <td>3.0</td>\n",
              "      <td>runoff</td>\n",
              "      <td>2022</td>\n",
              "      <td>2022-12-01</td>\n",
              "      <td>2022-12-05</td>\n",
              "      <td>False</td>\n",
              "    </tr>\n",
              "    <tr>\n",
              "      <th>2</th>\n",
              "      <td>Raphael G. Warnock</td>\n",
              "      <td>50.5</td>\n",
              "      <td>1969-07-23</td>\n",
              "      <td>M</td>\n",
              "      <td>Democrat</td>\n",
              "      <td>3.0</td>\n",
              "      <td>runoff</td>\n",
              "      <td>2022</td>\n",
              "      <td>2022-12-04</td>\n",
              "      <td>2022-12-04</td>\n",
              "      <td>False</td>\n",
              "    </tr>\n",
              "    <tr>\n",
              "      <th>3</th>\n",
              "      <td>Raphael G. Warnock</td>\n",
              "      <td>50.0</td>\n",
              "      <td>1969-07-23</td>\n",
              "      <td>M</td>\n",
              "      <td>Democrat</td>\n",
              "      <td>3.0</td>\n",
              "      <td>runoff</td>\n",
              "      <td>2022</td>\n",
              "      <td>2022-12-04</td>\n",
              "      <td>2022-12-04</td>\n",
              "      <td>False</td>\n",
              "    </tr>\n",
              "    <tr>\n",
              "      <th>4</th>\n",
              "      <td>Raphael G. Warnock</td>\n",
              "      <td>52.2</td>\n",
              "      <td>1969-07-23</td>\n",
              "      <td>M</td>\n",
              "      <td>Democrat</td>\n",
              "      <td>3.0</td>\n",
              "      <td>runoff</td>\n",
              "      <td>2022</td>\n",
              "      <td>2022-12-04</td>\n",
              "      <td>2022-12-04</td>\n",
              "      <td>False</td>\n",
              "    </tr>\n",
              "    <tr>\n",
              "      <th>...</th>\n",
              "      <td>...</td>\n",
              "      <td>...</td>\n",
              "      <td>...</td>\n",
              "      <td>...</td>\n",
              "      <td>...</td>\n",
              "      <td>...</td>\n",
              "      <td>...</td>\n",
              "      <td>...</td>\n",
              "      <td>...</td>\n",
              "      <td>...</td>\n",
              "      <td>...</td>\n",
              "    </tr>\n",
              "    <tr>\n",
              "      <th>3097</th>\n",
              "      <td>Benjamin L. Cardin</td>\n",
              "      <td>49.4</td>\n",
              "      <td>1943-10-05</td>\n",
              "      <td>M</td>\n",
              "      <td>Democrat</td>\n",
              "      <td>1.0</td>\n",
              "      <td>general</td>\n",
              "      <td>2018</td>\n",
              "      <td>2018-10-01</td>\n",
              "      <td>2018-10-06</td>\n",
              "      <td>False</td>\n",
              "    </tr>\n",
              "    <tr>\n",
              "      <th>3098</th>\n",
              "      <td>Benjamin L. Cardin</td>\n",
              "      <td>56.0</td>\n",
              "      <td>1943-10-05</td>\n",
              "      <td>M</td>\n",
              "      <td>Democrat</td>\n",
              "      <td>1.0</td>\n",
              "      <td>general</td>\n",
              "      <td>2018</td>\n",
              "      <td>2018-09-11</td>\n",
              "      <td>2018-09-16</td>\n",
              "      <td>False</td>\n",
              "    </tr>\n",
              "    <tr>\n",
              "      <th>3099</th>\n",
              "      <td>Thomas R. Carper</td>\n",
              "      <td>61.0</td>\n",
              "      <td>1947-01-23</td>\n",
              "      <td>M</td>\n",
              "      <td>Democrat</td>\n",
              "      <td>1.0</td>\n",
              "      <td>general</td>\n",
              "      <td>2018</td>\n",
              "      <td>2018-09-11</td>\n",
              "      <td>2018-09-17</td>\n",
              "      <td>False</td>\n",
              "    </tr>\n",
              "    <tr>\n",
              "      <th>3100</th>\n",
              "      <td>Thomas R. Carper</td>\n",
              "      <td>60.0</td>\n",
              "      <td>1947-01-23</td>\n",
              "      <td>M</td>\n",
              "      <td>Democrat</td>\n",
              "      <td>1.0</td>\n",
              "      <td>general</td>\n",
              "      <td>2018</td>\n",
              "      <td>2018-09-11</td>\n",
              "      <td>2018-09-17</td>\n",
              "      <td>False</td>\n",
              "    </tr>\n",
              "    <tr>\n",
              "      <th>3101</th>\n",
              "      <td>Thomas R. Carper</td>\n",
              "      <td>47.0</td>\n",
              "      <td>1947-01-23</td>\n",
              "      <td>M</td>\n",
              "      <td>Democrat</td>\n",
              "      <td>1.0</td>\n",
              "      <td>general</td>\n",
              "      <td>2018</td>\n",
              "      <td>2018-07-24</td>\n",
              "      <td>2018-07-29</td>\n",
              "      <td>False</td>\n",
              "    </tr>\n",
              "  </tbody>\n",
              "</table>\n",
              "<p>3102 rows × 11 columns</p>\n",
              "</div>\n",
              "    <div class=\"colab-df-buttons\">\n",
              "\n",
              "  <div class=\"colab-df-container\">\n",
              "    <button class=\"colab-df-convert\" onclick=\"convertToInteractive('df-765e3801-4d82-434a-b9e4-f2d92fa1b09f')\"\n",
              "            title=\"Convert this dataframe to an interactive table.\"\n",
              "            style=\"display:none;\">\n",
              "\n",
              "  <svg xmlns=\"http://www.w3.org/2000/svg\" height=\"24px\" viewBox=\"0 -960 960 960\">\n",
              "    <path d=\"M120-120v-720h720v720H120Zm60-500h600v-160H180v160Zm220 220h160v-160H400v160Zm0 220h160v-160H400v160ZM180-400h160v-160H180v160Zm440 0h160v-160H620v160ZM180-180h160v-160H180v160Zm440 0h160v-160H620v160Z\"/>\n",
              "  </svg>\n",
              "    </button>\n",
              "\n",
              "  <style>\n",
              "    .colab-df-container {\n",
              "      display:flex;\n",
              "      gap: 12px;\n",
              "    }\n",
              "\n",
              "    .colab-df-convert {\n",
              "      background-color: #E8F0FE;\n",
              "      border: none;\n",
              "      border-radius: 50%;\n",
              "      cursor: pointer;\n",
              "      display: none;\n",
              "      fill: #1967D2;\n",
              "      height: 32px;\n",
              "      padding: 0 0 0 0;\n",
              "      width: 32px;\n",
              "    }\n",
              "\n",
              "    .colab-df-convert:hover {\n",
              "      background-color: #E2EBFA;\n",
              "      box-shadow: 0px 1px 2px rgba(60, 64, 67, 0.3), 0px 1px 3px 1px rgba(60, 64, 67, 0.15);\n",
              "      fill: #174EA6;\n",
              "    }\n",
              "\n",
              "    .colab-df-buttons div {\n",
              "      margin-bottom: 4px;\n",
              "    }\n",
              "\n",
              "    [theme=dark] .colab-df-convert {\n",
              "      background-color: #3B4455;\n",
              "      fill: #D2E3FC;\n",
              "    }\n",
              "\n",
              "    [theme=dark] .colab-df-convert:hover {\n",
              "      background-color: #434B5C;\n",
              "      box-shadow: 0px 1px 3px 1px rgba(0, 0, 0, 0.15);\n",
              "      filter: drop-shadow(0px 1px 2px rgba(0, 0, 0, 0.3));\n",
              "      fill: #FFFFFF;\n",
              "    }\n",
              "  </style>\n",
              "\n",
              "    <script>\n",
              "      const buttonEl =\n",
              "        document.querySelector('#df-765e3801-4d82-434a-b9e4-f2d92fa1b09f button.colab-df-convert');\n",
              "      buttonEl.style.display =\n",
              "        google.colab.kernel.accessAllowed ? 'block' : 'none';\n",
              "\n",
              "      async function convertToInteractive(key) {\n",
              "        const element = document.querySelector('#df-765e3801-4d82-434a-b9e4-f2d92fa1b09f');\n",
              "        const dataTable =\n",
              "          await google.colab.kernel.invokeFunction('convertToInteractive',\n",
              "                                                    [key], {});\n",
              "        if (!dataTable) return;\n",
              "\n",
              "        const docLinkHtml = 'Like what you see? Visit the ' +\n",
              "          '<a target=\"_blank\" href=https://colab.research.google.com/notebooks/data_table.ipynb>data table notebook</a>'\n",
              "          + ' to learn more about interactive tables.';\n",
              "        element.innerHTML = '';\n",
              "        dataTable['output_type'] = 'display_data';\n",
              "        await google.colab.output.renderOutput(dataTable, element);\n",
              "        const docLink = document.createElement('div');\n",
              "        docLink.innerHTML = docLinkHtml;\n",
              "        element.appendChild(docLink);\n",
              "      }\n",
              "    </script>\n",
              "  </div>\n",
              "\n",
              "\n",
              "<div id=\"df-74bffc28-8ece-49bf-b2e2-95d4ccabdbbc\">\n",
              "  <button class=\"colab-df-quickchart\" onclick=\"quickchart('df-74bffc28-8ece-49bf-b2e2-95d4ccabdbbc')\"\n",
              "            title=\"Suggest charts\"\n",
              "            style=\"display:none;\">\n",
              "\n",
              "<svg xmlns=\"http://www.w3.org/2000/svg\" height=\"24px\"viewBox=\"0 0 24 24\"\n",
              "     width=\"24px\">\n",
              "    <g>\n",
              "        <path d=\"M19 3H5c-1.1 0-2 .9-2 2v14c0 1.1.9 2 2 2h14c1.1 0 2-.9 2-2V5c0-1.1-.9-2-2-2zM9 17H7v-7h2v7zm4 0h-2V7h2v10zm4 0h-2v-4h2v4z\"/>\n",
              "    </g>\n",
              "</svg>\n",
              "  </button>\n",
              "\n",
              "<style>\n",
              "  .colab-df-quickchart {\n",
              "      --bg-color: #E8F0FE;\n",
              "      --fill-color: #1967D2;\n",
              "      --hover-bg-color: #E2EBFA;\n",
              "      --hover-fill-color: #174EA6;\n",
              "      --disabled-fill-color: #AAA;\n",
              "      --disabled-bg-color: #DDD;\n",
              "  }\n",
              "\n",
              "  [theme=dark] .colab-df-quickchart {\n",
              "      --bg-color: #3B4455;\n",
              "      --fill-color: #D2E3FC;\n",
              "      --hover-bg-color: #434B5C;\n",
              "      --hover-fill-color: #FFFFFF;\n",
              "      --disabled-bg-color: #3B4455;\n",
              "      --disabled-fill-color: #666;\n",
              "  }\n",
              "\n",
              "  .colab-df-quickchart {\n",
              "    background-color: var(--bg-color);\n",
              "    border: none;\n",
              "    border-radius: 50%;\n",
              "    cursor: pointer;\n",
              "    display: none;\n",
              "    fill: var(--fill-color);\n",
              "    height: 32px;\n",
              "    padding: 0;\n",
              "    width: 32px;\n",
              "  }\n",
              "\n",
              "  .colab-df-quickchart:hover {\n",
              "    background-color: var(--hover-bg-color);\n",
              "    box-shadow: 0 1px 2px rgba(60, 64, 67, 0.3), 0 1px 3px 1px rgba(60, 64, 67, 0.15);\n",
              "    fill: var(--button-hover-fill-color);\n",
              "  }\n",
              "\n",
              "  .colab-df-quickchart-complete:disabled,\n",
              "  .colab-df-quickchart-complete:disabled:hover {\n",
              "    background-color: var(--disabled-bg-color);\n",
              "    fill: var(--disabled-fill-color);\n",
              "    box-shadow: none;\n",
              "  }\n",
              "\n",
              "  .colab-df-spinner {\n",
              "    border: 2px solid var(--fill-color);\n",
              "    border-color: transparent;\n",
              "    border-bottom-color: var(--fill-color);\n",
              "    animation:\n",
              "      spin 1s steps(1) infinite;\n",
              "  }\n",
              "\n",
              "  @keyframes spin {\n",
              "    0% {\n",
              "      border-color: transparent;\n",
              "      border-bottom-color: var(--fill-color);\n",
              "      border-left-color: var(--fill-color);\n",
              "    }\n",
              "    20% {\n",
              "      border-color: transparent;\n",
              "      border-left-color: var(--fill-color);\n",
              "      border-top-color: var(--fill-color);\n",
              "    }\n",
              "    30% {\n",
              "      border-color: transparent;\n",
              "      border-left-color: var(--fill-color);\n",
              "      border-top-color: var(--fill-color);\n",
              "      border-right-color: var(--fill-color);\n",
              "    }\n",
              "    40% {\n",
              "      border-color: transparent;\n",
              "      border-right-color: var(--fill-color);\n",
              "      border-top-color: var(--fill-color);\n",
              "    }\n",
              "    60% {\n",
              "      border-color: transparent;\n",
              "      border-right-color: var(--fill-color);\n",
              "    }\n",
              "    80% {\n",
              "      border-color: transparent;\n",
              "      border-right-color: var(--fill-color);\n",
              "      border-bottom-color: var(--fill-color);\n",
              "    }\n",
              "    90% {\n",
              "      border-color: transparent;\n",
              "      border-bottom-color: var(--fill-color);\n",
              "    }\n",
              "  }\n",
              "</style>\n",
              "\n",
              "  <script>\n",
              "    async function quickchart(key) {\n",
              "      const quickchartButtonEl =\n",
              "        document.querySelector('#' + key + ' button');\n",
              "      quickchartButtonEl.disabled = true;  // To prevent multiple clicks.\n",
              "      quickchartButtonEl.classList.add('colab-df-spinner');\n",
              "      try {\n",
              "        const charts = await google.colab.kernel.invokeFunction(\n",
              "            'suggestCharts', [key], {});\n",
              "      } catch (error) {\n",
              "        console.error('Error during call to suggestCharts:', error);\n",
              "      }\n",
              "      quickchartButtonEl.classList.remove('colab-df-spinner');\n",
              "      quickchartButtonEl.classList.add('colab-df-quickchart-complete');\n",
              "    }\n",
              "    (() => {\n",
              "      let quickchartButtonEl =\n",
              "        document.querySelector('#df-74bffc28-8ece-49bf-b2e2-95d4ccabdbbc button');\n",
              "      quickchartButtonEl.style.display =\n",
              "        google.colab.kernel.accessAllowed ? 'block' : 'none';\n",
              "    })();\n",
              "  </script>\n",
              "</div>\n",
              "    </div>\n",
              "  </div>\n"
            ],
            "application/vnd.google.colaboratory.intrinsic+json": {
              "type": "dataframe",
              "variable_name": "df",
              "summary": "{\n  \"name\": \"df\",\n  \"rows\": 3102,\n  \"fields\": [\n    {\n      \"column\": \"full_name\",\n      \"properties\": {\n        \"dtype\": \"category\",\n        \"num_unique_values\": 96,\n        \"samples\": [\n          \"Kirsten E. Gillibrand\",\n          \"Amy Klobuchar\",\n          \"Jon Tester\"\n        ],\n        \"semantic_type\": \"\",\n        \"description\": \"\"\n      }\n    },\n    {\n      \"column\": \"pct\",\n      \"properties\": {\n        \"dtype\": \"number\",\n        \"std\": 7.4814075011620025,\n        \"min\": 6.2,\n        \"max\": 75.0,\n        \"num_unique_values\": 346,\n        \"samples\": [\n          50.2,\n          35.3,\n          49.59\n        ],\n        \"semantic_type\": \"\",\n        \"description\": \"\"\n      }\n    },\n    {\n      \"column\": \"birthday\",\n      \"properties\": {\n        \"dtype\": \"date\",\n        \"min\": \"1933-06-22 00:00:00\",\n        \"max\": \"1987-02-16 00:00:00\",\n        \"num_unique_values\": 96,\n        \"samples\": [\n          \"1966-12-09 00:00:00\",\n          \"1960-05-25 00:00:00\",\n          \"1956-08-21 00:00:00\"\n        ],\n        \"semantic_type\": \"\",\n        \"description\": \"\"\n      }\n    },\n    {\n      \"column\": \"gender\",\n      \"properties\": {\n        \"dtype\": \"category\",\n        \"num_unique_values\": 2,\n        \"samples\": [\n          \"F\",\n          \"M\"\n        ],\n        \"semantic_type\": \"\",\n        \"description\": \"\"\n      }\n    },\n    {\n      \"column\": \"party\",\n      \"properties\": {\n        \"dtype\": \"category\",\n        \"num_unique_values\": 3,\n        \"samples\": [\n          \"Democrat\",\n          \"Republican\"\n        ],\n        \"semantic_type\": \"\",\n        \"description\": \"\"\n      }\n    },\n    {\n      \"column\": \"senate_class\",\n      \"properties\": {\n        \"dtype\": \"number\",\n        \"std\": 0.860843108790483,\n        \"min\": 1.0,\n        \"max\": 3.0,\n        \"num_unique_values\": 3,\n        \"samples\": [\n          3.0,\n          2.0\n        ],\n        \"semantic_type\": \"\",\n        \"description\": \"\"\n      }\n    },\n    {\n      \"column\": \"stage\",\n      \"properties\": {\n        \"dtype\": \"category\",\n        \"num_unique_values\": 3,\n        \"samples\": [\n          \"runoff\",\n          \"general\"\n        ],\n        \"semantic_type\": \"\",\n        \"description\": \"\"\n      }\n    },\n    {\n      \"column\": \"cycle\",\n      \"properties\": {\n        \"dtype\": \"number\",\n        \"std\": 1,\n        \"min\": 2018,\n        \"max\": 2024,\n        \"num_unique_values\": 4,\n        \"samples\": [\n          2020,\n          2024\n        ],\n        \"semantic_type\": \"\",\n        \"description\": \"\"\n      }\n    },\n    {\n      \"column\": \"start_date\",\n      \"properties\": {\n        \"dtype\": \"date\",\n        \"min\": \"2016-11-16 00:00:00\",\n        \"max\": \"2024-03-13 00:00:00\",\n        \"num_unique_values\": 698,\n        \"samples\": [\n          \"2020-09-28 00:00:00\",\n          \"2018-07-19 00:00:00\"\n        ],\n        \"semantic_type\": \"\",\n        \"description\": \"\"\n      }\n    },\n    {\n      \"column\": \"end_date\",\n      \"properties\": {\n        \"dtype\": \"date\",\n        \"min\": \"2016-11-17 00:00:00\",\n        \"max\": \"2024-03-15 00:00:00\",\n        \"num_unique_values\": 701,\n        \"samples\": [\n          \"2017-10-22 00:00:00\",\n          \"2020-09-08 00:00:00\"\n        ],\n        \"semantic_type\": \"\",\n        \"description\": \"\"\n      }\n    },\n    {\n      \"column\": \"ranked_choice_reallocated\",\n      \"properties\": {\n        \"dtype\": \"boolean\",\n        \"num_unique_values\": 2,\n        \"samples\": [\n          true,\n          false\n        ],\n        \"semantic_type\": \"\",\n        \"description\": \"\"\n      }\n    }\n  ]\n}"
            }
          },
          "metadata": {},
          "execution_count": 168
        }
      ]
    },
    {
      "cell_type": "code",
      "source": [
        "df.to_csv('/content/drive/MyDrive/UMBC Fall 2023/DATA606 - Capstone/senator data/cleaned_data.csv')"
      ],
      "metadata": {
        "id": "X44VWWCxBtpG"
      },
      "execution_count": 169,
      "outputs": []
    },
    {
      "cell_type": "code",
      "source": [],
      "metadata": {
        "id": "droc4MZZBtsF"
      },
      "execution_count": null,
      "outputs": []
    },
    {
      "cell_type": "code",
      "source": [
        "#.groupby('name').count()"
      ],
      "metadata": {
        "id": "SKMlgCw8Mn5u"
      },
      "execution_count": 80,
      "outputs": []
    },
    {
      "cell_type": "markdown",
      "source": [
        "## Pulling Senator data from the 114th (2015) to the 118th (2025) Congress.\n",
        "- Could use this to get which congress number each senator belongs to?\n",
        "- Is there any way to get the biographies programmatically?\n",
        "\n",
        "https://bioguide.congress.gov/"
      ],
      "metadata": {
        "id": "L6ysj4YlPHt0"
      }
    },
    {
      "cell_type": "code",
      "source": [
        "senators2 = pd.read_csv(\"/content/drive/MyDrive/UMBC Fall 2023/DATA606 - Capstone/senator data/senators_114_118_congress.csv\", parse_dates=['birthYear','deathYear'])\n",
        "senators2 = senators2.drop(columns=['unaccentedMiddleName','honorificTitle'])"
      ],
      "metadata": {
        "id": "hUc7uJqCPHbM"
      },
      "execution_count": 26,
      "outputs": []
    },
    {
      "cell_type": "code",
      "source": [
        "senators2.columns"
      ],
      "metadata": {
        "colab": {
          "base_uri": "https://localhost:8080/"
        },
        "id": "2cHMPQkJPHeF",
        "outputId": "042a3636-1474-4d4e-885f-fa4cb8d6a04f"
      },
      "execution_count": 27,
      "outputs": [
        {
          "output_type": "execute_result",
          "data": {
            "text/plain": [
              "Index(['id', 'givenName', 'familyName', 'middleName', 'unaccentedGivenName',\n",
              "       'unaccentedFamilyName', 'nickName', 'honorificPrefix',\n",
              "       'honorificSuffix', 'birthYear', 'deathYear', 'congresses'],\n",
              "      dtype='object')"
            ]
          },
          "metadata": {},
          "execution_count": 27
        }
      ]
    },
    {
      "cell_type": "code",
      "source": [
        "senators2.iloc[0]['congresses']"
      ],
      "metadata": {
        "colab": {
          "base_uri": "https://localhost:8080/",
          "height": 111
        },
        "id": "WKaga-EFppsI",
        "outputId": "6f148a9e-146b-4197-9d89-07a8400b1d73"
      },
      "execution_count": 28,
      "outputs": [
        {
          "output_type": "execute_result",
          "data": {
            "text/plain": [
              "'[{\"position\":\"Senator\",\"congressNumber\":108,\"stateName\":\"TN\",\"parties\":[\"Republican\"]},{\"position\":\"Senator\",\"congressNumber\":109,\"stateName\":\"TN\",\"parties\":[\"Republican\"]},{\"position\":\"Senator\",\"congressNumber\":110,\"stateName\":\"TN\",\"parties\":[\"Republican\"]},{\"position\":\"Senator\",\"congressNumber\":111,\"stateName\":\"TN\",\"parties\":[\"Republican\"]},{\"position\":\"Senator\",\"congressNumber\":112,\"stateName\":\"TN\",\"parties\":[\"Republican\"]},{\"position\":\"Senator\",\"congressNumber\":113,\"stateName\":\"TN\",\"parties\":[\"Republican\"]},{\"position\":\"Senator\",\"congressNumber\":114,\"stateName\":\"TN\",\"parties\":[\"Republican\"]},{\"position\":\"Senator\",\"congressNumber\":115,\"stateName\":\"TN\",\"parties\":[\"Republican\"]},{\"position\":\"Senator\",\"congressNumber\":116,\"stateName\":\"TN\",\"parties\":[\"Republican\"]}]'"
            ],
            "application/vnd.google.colaboratory.intrinsic+json": {
              "type": "string"
            }
          },
          "metadata": {},
          "execution_count": 28
        }
      ]
    },
    {
      "cell_type": "code",
      "source": [
        "# TODO: come up with clever way to iterate through congresses each has been in\n",
        "#senators.join([senators['congresses'].apply(json.loads).apply(pd.Series))"
      ],
      "metadata": {
        "id": "WeX8m_5ApIks"
      },
      "execution_count": 29,
      "outputs": []
    },
    {
      "cell_type": "code",
      "source": [
        "senators2['name'] = senators2['unaccentedGivenName'].str.casefold().str.replace('[^a-zA-Z]', ' ') + ' ' + senators2['unaccentedFamilyName'].str.casefold().str.replace('[^a-zA-Z]', ' ')"
      ],
      "metadata": {
        "colab": {
          "base_uri": "https://localhost:8080/"
        },
        "id": "Ech54jyHpIp3",
        "outputId": "c3991240-05d3-4a84-d6c8-20562f015927"
      },
      "execution_count": 30,
      "outputs": [
        {
          "output_type": "stream",
          "name": "stderr",
          "text": [
            "<ipython-input-30-65f94c304f36>:1: FutureWarning: The default value of regex will change from True to False in a future version.\n",
            "  senators2['name'] = senators2['unaccentedGivenName'].str.casefold().str.replace('[^a-zA-Z]', ' ') + ' ' + senators2['unaccentedFamilyName'].str.casefold().str.replace('[^a-zA-Z]', ' ')\n"
          ]
        }
      ]
    },
    {
      "cell_type": "code",
      "source": [
        "df2 = pd.merge(senators2, senators,  how='inner', left_on=['name'], right_on = ['name'])"
      ],
      "metadata": {
        "id": "aa2Wlb2VlkcG"
      },
      "execution_count": 31,
      "outputs": []
    },
    {
      "cell_type": "code",
      "source": [
        "df2['name']"
      ],
      "metadata": {
        "colab": {
          "base_uri": "https://localhost:8080/"
        },
        "id": "BNosGv9Sq9Us",
        "outputId": "341b7d51-e986-4104-fdb9-75d2e375ef2c"
      },
      "execution_count": 32,
      "outputs": [
        {
          "output_type": "execute_result",
          "data": {
            "text/plain": [
              "Series([], Name: name, dtype: object)"
            ]
          },
          "metadata": {},
          "execution_count": 32
        }
      ]
    },
    {
      "cell_type": "code",
      "source": [
        "len(senators2['name'].unique())"
      ],
      "metadata": {
        "colab": {
          "base_uri": "https://localhost:8080/"
        },
        "outputId": "7e0705a8-0f21-4dc6-bf3c-b3d726c6da15",
        "id": "Ihr4241hq9Uv"
      },
      "execution_count": 33,
      "outputs": [
        {
          "output_type": "execute_result",
          "data": {
            "text/plain": [
              "198"
            ]
          },
          "metadata": {},
          "execution_count": 33
        }
      ]
    },
    {
      "cell_type": "markdown",
      "source": [
        "## Old (1950's - 2009) Job Approval Ratings Data"
      ],
      "metadata": {
        "id": "BxZQecMWRpv7"
      }
    },
    {
      "cell_type": "markdown",
      "source": [
        "### JARS for U.S. Senators 1978-2009\n",
        "\n",
        "https://jmj313.web.lehigh.edu/node/6"
      ],
      "metadata": {
        "id": "wUlnOjJLRpyZ"
      }
    },
    {
      "cell_type": "code",
      "source": [
        "jars = pd.read_excel(\"/content/drive/MyDrive/UMBC Fall 2023/DATA606 - Capstone/senator data/JARs_sen--032910.xls\")"
      ],
      "metadata": {
        "id": "SnIiIaXZTsCv"
      },
      "execution_count": null,
      "outputs": []
    },
    {
      "cell_type": "code",
      "source": [
        "jars = jars.drop(columns=['OFFICE','SOURCED','Unnamed: 24', 'DAYIN', 'MONTHIN', 'YEARIN', 'DAYOUT', 'MONTHOUT', 'YEAROUT'])"
      ],
      "metadata": {
        "id": "fhm3iiMxYLUm"
      },
      "execution_count": null,
      "outputs": []
    },
    {
      "cell_type": "code",
      "source": [
        "jars"
      ],
      "metadata": {
        "id": "nJ2phIl9Y0Zx"
      },
      "execution_count": null,
      "outputs": []
    },
    {
      "cell_type": "code",
      "source": [
        "# Drop all that are not \"1 - Standard Job Performance Question\"\n",
        "jars['QUESTION'].value_counts()"
      ],
      "metadata": {
        "id": "5WAkerL8V3D8"
      },
      "execution_count": null,
      "outputs": []
    },
    {
      "cell_type": "code",
      "source": [
        "jars = jars[jars['QUESTION'] == 1.0] # 5819 rows\n",
        "jars = jars.drop(columns=['QUESTION'])"
      ],
      "metadata": {
        "id": "8GpCZAUfRp4l"
      },
      "execution_count": null,
      "outputs": []
    },
    {
      "cell_type": "code",
      "source": [
        "jars"
      ],
      "metadata": {
        "id": "XmxnzTJwXcEO"
      },
      "execution_count": null,
      "outputs": []
    },
    {
      "cell_type": "code",
      "source": [
        "len(jars['NAME'].unique())"
      ],
      "metadata": {
        "id": "2AHz3OODXcG8"
      },
      "execution_count": null,
      "outputs": []
    },
    {
      "cell_type": "markdown",
      "source": [
        "TODO:\n",
        "* Clean up Senators dataframe\n",
        "* Clean up JARS dataframe\n",
        "* Merge Senators and JARS dataframe"
      ],
      "metadata": {
        "id": "MLxkTcUYXcKJ"
      }
    }
  ]
}
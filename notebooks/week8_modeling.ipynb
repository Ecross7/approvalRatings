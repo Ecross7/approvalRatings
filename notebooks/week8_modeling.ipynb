{
  "nbformat": 4,
  "nbformat_minor": 0,
  "metadata": {
    "colab": {
      "provenance": [],
      "collapsed_sections": [
        "3tavs3ypTLGl"
      ]
    },
    "kernelspec": {
      "name": "python3",
      "display_name": "Python 3"
    },
    "language_info": {
      "name": "python"
    }
  },
  "cells": [
    {
      "cell_type": "markdown",
      "source": [
        "# DATA606 Week 8 - Modeling\n",
        "Team 2 UMBC Spring 2024"
      ],
      "metadata": {
        "id": "5ygQCC2HGjvw"
      }
    },
    {
      "cell_type": "code",
      "source": [
        "import pandas as pd\n",
        "import numpy as np\n",
        "\n",
        "from sklearn.model_selection import train_test_split\n",
        "from sklearn.model_selection import cross_val_score\n",
        "from sklearn.tree import DecisionTreeRegressor\n",
        "from sklearn.neighbors import KNeighborsRegressor\n",
        "from sklearn.cluster import KMeans\n",
        "from sklearn.cluster import AgglomerativeClustering\n"
      ],
      "metadata": {
        "id": "X44VWWCxBtpG"
      },
      "execution_count": null,
      "outputs": []
    },
    {
      "cell_type": "markdown",
      "source": [
        "## Data Transformation and Feature Processing"
      ],
      "metadata": {
        "id": "hW5ZeCETSqok"
      }
    },
    {
      "cell_type": "markdown",
      "source": [
        "### Senator Approval Ratings and Demographic Data"
      ],
      "metadata": {
        "id": "G_E183t8SyA2"
      }
    },
    {
      "cell_type": "code",
      "execution_count": null,
      "metadata": {
        "id": "M6B_O6IoGgPL"
      },
      "outputs": [],
      "source": [
        "df = pd.read_csv('/content/drive/MyDrive/UMBC Fall 2023/DATA606 - Capstone/senator data/cleaned_data.csv',parse_dates=['birthday','start_date','end_date'])"
      ]
    },
    {
      "cell_type": "code",
      "source": [
        "df"
      ],
      "metadata": {
        "id": "pOQlGdy4Gjl6"
      },
      "execution_count": null,
      "outputs": []
    },
    {
      "cell_type": "code",
      "source": [
        "# create age column from birthday\n",
        "df['age'] = df['birthday'].apply(lambda x : (pd.datetime.now().year - x.year))"
      ],
      "metadata": {
        "id": "BX00NIpLWrT6"
      },
      "execution_count": null,
      "outputs": []
    },
    {
      "cell_type": "code",
      "source": [
        "df.groupby('full_name')['age'].max().hist()"
      ],
      "metadata": {
        "id": "keJHRI_QW6-9"
      },
      "execution_count": null,
      "outputs": []
    },
    {
      "cell_type": "code",
      "source": [
        "# todo: start_date & end_date -> How do we want to handle?"
      ],
      "metadata": {
        "id": "EY-oz4dqGjJB"
      },
      "execution_count": null,
      "outputs": []
    },
    {
      "cell_type": "code",
      "source": [],
      "metadata": {
        "id": "JAnTlQHpGjLw"
      },
      "execution_count": null,
      "outputs": []
    },
    {
      "cell_type": "markdown",
      "source": [
        "### Senator Photo Enrichment\n",
        "3 - 20 Photos of senators at various events and points in time"
      ],
      "metadata": {
        "id": "3tavs3ypTLGl"
      }
    },
    {
      "cell_type": "code",
      "source": [],
      "metadata": {
        "id": "JlA4f0HHTLJ0"
      },
      "execution_count": null,
      "outputs": []
    },
    {
      "cell_type": "code",
      "source": [],
      "metadata": {
        "id": "pQNhN950TLgV"
      },
      "execution_count": null,
      "outputs": []
    },
    {
      "cell_type": "markdown",
      "source": [
        "### Emotion Detection\n",
        "Classification and Valence scores"
      ],
      "metadata": {
        "id": "Sy-c4te_GjOw"
      }
    },
    {
      "cell_type": "code",
      "source": [
        "# generating random valence values as a placeholder\n",
        "emotions = ['engagement','happiness','anticipation','excitement','confidence','pleasure','peace','disconnection','affection','esteem','sympathy']\n",
        "df['top_emotion'] = np.random.choice(emotions, size=len(df))\n",
        "\n",
        "df['valence'] = np.random.randint(0,10, size=len(df))"
      ],
      "metadata": {
        "id": "kV1FLa-hXryz"
      },
      "execution_count": null,
      "outputs": []
    },
    {
      "cell_type": "code",
      "source": [
        "df['top_emotion'].value_counts()"
      ],
      "metadata": {
        "id": "w2hPojzOYzoL"
      },
      "execution_count": null,
      "outputs": []
    },
    {
      "cell_type": "code",
      "source": [
        "# todo: update with real inferences"
      ],
      "metadata": {
        "id": "47bOBIjaS_uu"
      },
      "execution_count": null,
      "outputs": []
    },
    {
      "cell_type": "markdown",
      "source": [
        "### Final Feature Selection"
      ],
      "metadata": {
        "id": "dC5qTclCThUz"
      }
    },
    {
      "cell_type": "code",
      "source": [
        "target = ['pct'] # could we do binary classification with positive or negative score?\n",
        "date_features = ['start_date','end_date'] # is cycle really \"date\" or categorical?\n",
        "categorical_features = ['top_emotion','gender','party','senate_class','stage']\n",
        "numeric_features = ['age','valence']"
      ],
      "metadata": {
        "id": "NFlDMB0zThXq"
      },
      "execution_count": null,
      "outputs": []
    },
    {
      "cell_type": "markdown",
      "source": [
        "### Train/Test Split"
      ],
      "metadata": {
        "id": "BDWadmXxaq5E"
      }
    },
    {
      "cell_type": "code",
      "source": [
        "# todo: random vs. stratified sampling for train/test split based on Senator?"
      ],
      "metadata": {
        "id": "d-Fv3nEZThyZ"
      },
      "execution_count": null,
      "outputs": []
    },
    {
      "cell_type": "code",
      "source": [
        "train, test = train_test_split(df, test_size=0.2)"
      ],
      "metadata": {
        "id": "fOulfUA1bKbF"
      },
      "execution_count": null,
      "outputs": []
    },
    {
      "cell_type": "code",
      "source": [
        "X_train = train[]\n",
        "y_train = train[]"
      ],
      "metadata": {
        "id": "f4T4r-gOcUtE"
      },
      "execution_count": null,
      "outputs": []
    },
    {
      "cell_type": "code",
      "source": [
        "X_test = test[]\n",
        "y_test = test[]"
      ],
      "metadata": {
        "id": "52r8iwDEcbQa"
      },
      "execution_count": null,
      "outputs": []
    },
    {
      "cell_type": "markdown",
      "source": [
        "### Normalize Numeric Features"
      ],
      "metadata": {
        "id": "QpA23GySatSp"
      }
    },
    {
      "cell_type": "code",
      "source": [],
      "metadata": {
        "id": "dnz0eom8atXT"
      },
      "execution_count": null,
      "outputs": []
    },
    {
      "cell_type": "markdown",
      "source": [
        "### Encode Categorical Features"
      ],
      "metadata": {
        "id": "va7NkliEWSVx"
      }
    },
    {
      "cell_type": "code",
      "source": [],
      "metadata": {
        "id": "oucbZNRrWSc6"
      },
      "execution_count": null,
      "outputs": []
    },
    {
      "cell_type": "markdown",
      "source": [
        "## Supervised Modeling"
      ],
      "metadata": {
        "id": "o9O2ebW8S_1f"
      }
    },
    {
      "cell_type": "markdown",
      "source": [
        "### Tree Methods\n",
        "Decision Tree (and Random Forest for ensembles week)\n",
        "\n",
        "AKA don't need encoded categorical features"
      ],
      "metadata": {
        "id": "orTqe7-jTDec"
      }
    },
    {
      "cell_type": "code",
      "source": [
        "regressor = DecisionTreeRegressor(random_state=0)\n",
        "cross_val_score(regressor, X, y, cv=10)"
      ],
      "metadata": {
        "id": "1k0aSaWGTDhj"
      },
      "execution_count": null,
      "outputs": []
    },
    {
      "cell_type": "code",
      "source": [],
      "metadata": {
        "id": "fqzUOUfdb1II"
      },
      "execution_count": null,
      "outputs": []
    },
    {
      "cell_type": "code",
      "source": [],
      "metadata": {
        "id": "2O5qJAAcb1LA"
      },
      "execution_count": null,
      "outputs": []
    },
    {
      "cell_type": "code",
      "source": [],
      "metadata": {
        "id": "mP4n7ypMb1Nt"
      },
      "execution_count": null,
      "outputs": []
    },
    {
      "cell_type": "code",
      "source": [],
      "metadata": {
        "id": "ARonYhdyb1Rn"
      },
      "execution_count": null,
      "outputs": []
    },
    {
      "cell_type": "markdown",
      "source": [
        "### Other Methods\n",
        "KNN\n",
        "\n",
        "Requires Encoding"
      ],
      "metadata": {
        "id": "uTGBuDd7ZjYM"
      }
    },
    {
      "cell_type": "code",
      "source": [
        "neigh = KNeighborsRegressor(n_neighbors=2)\n",
        "neigh.fit(X, y)\n",
        "\n",
        "print(neigh.predict([[1.5]]))"
      ],
      "metadata": {
        "id": "2znx0gUSZjbT"
      },
      "execution_count": null,
      "outputs": []
    },
    {
      "cell_type": "code",
      "source": [],
      "metadata": {
        "id": "MqDK3VNKcxJ-"
      },
      "execution_count": null,
      "outputs": []
    },
    {
      "cell_type": "code",
      "source": [],
      "metadata": {
        "id": "70JAL4NHcxMn"
      },
      "execution_count": null,
      "outputs": []
    },
    {
      "cell_type": "code",
      "source": [],
      "metadata": {
        "id": "dsvVTZPbcxPM"
      },
      "execution_count": null,
      "outputs": []
    },
    {
      "cell_type": "markdown",
      "source": [
        "## Unsupervised Modeling"
      ],
      "metadata": {
        "id": "ymiYeNRuTDlT"
      }
    },
    {
      "cell_type": "markdown",
      "source": [
        "### KMeans and Hierarchical Clustering"
      ],
      "metadata": {
        "id": "0B0zBZ5DaWFK"
      }
    },
    {
      "cell_type": "code",
      "source": [
        "X = np.array([[1, 2], [1, 4], [1, 0], [10, 2], [10, 4], [10, 0]])\n",
        "kmeans = KMeans(n_clusters=2, random_state=0, n_init=\"auto\").fit(X)\n",
        "kmeans.labels_\n",
        "kmeans.predict([[0, 0], [12, 3]])\n",
        "kmeans.cluster_centers_"
      ],
      "metadata": {
        "id": "THgLkMSATEGS"
      },
      "execution_count": null,
      "outputs": []
    },
    {
      "cell_type": "code",
      "source": [],
      "metadata": {
        "id": "qY-_uZbHTEIz"
      },
      "execution_count": null,
      "outputs": []
    },
    {
      "cell_type": "code",
      "source": [],
      "metadata": {
        "id": "XN3X0SjGdZnb"
      },
      "execution_count": null,
      "outputs": []
    },
    {
      "cell_type": "code",
      "source": [
        "X = np.array([[1, 2], [1, 4], [1, 0], [4, 2], [4, 4], [4, 0]])\n",
        "clustering = AgglomerativeClustering().fit(X)\n",
        "clustering.labels_"
      ],
      "metadata": {
        "id": "aT4iO0HodZqC"
      },
      "execution_count": null,
      "outputs": []
    },
    {
      "cell_type": "code",
      "source": [],
      "metadata": {
        "id": "nTwAU2fMdZsr"
      },
      "execution_count": null,
      "outputs": []
    }
  ]
}